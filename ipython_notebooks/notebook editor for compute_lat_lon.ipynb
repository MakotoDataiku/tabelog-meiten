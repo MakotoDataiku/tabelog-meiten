{
  "metadata": {
    "kernelspec": {
      "display_name": "Python (env japan-nlp)",
      "name": "py-dku-venv-japan-nlp",
      "language": "python"
    },
    "language_info": {
      "mimetype": "text/x-python",
      "nbconvert_exporter": "python",
      "version": "3.6.8",
      "name": "python",
      "pygments_lexer": "ipython3",
      "file_extension": ".py",
      "codemirror_mode": {
        "version": 3,
        "name": "ipython"
      }
    },
    "tags": [
      "recipe-editor"
    ],
    "associatedRecipe": "compute_lat_lon",
    "createdOn": 1623333726794,
    "hide_input": false,
    "customFields": {},
    "creator": "admin",
    "modifiedBy": "admin"
  },
  "nbformat": 4,
  "nbformat_minor": 1,
  "cells": [
    {
      "execution_count": 51,
      "cell_type": "code",
      "metadata": {},
      "source": [
        "# -*- coding: utf-8 -*-\nimport dataiku\nimport pandas as pd, numpy as np\nfrom dataiku import pandasutils as pdu\nfrom get_lat_lon import get_lat_lon_from_address\n\nimport tqdm\nimport requests\nfrom bs4 import BeautifulSoup\nimport time\nimport geocoder"
      ],
      "outputs": []
    },
    {
      "execution_count": 52,
      "cell_type": "code",
      "metadata": {},
      "source": [
        "# Read recipe inputs\nraw_ramen \u003d dataiku.Dataset(\"ramen_by_store_name\")\ndf \u003d raw_ramen.get_dataframe(limit\u003d100)"
      ],
      "outputs": []
    },
    {
      "execution_count": 53,
      "cell_type": "code",
      "metadata": {},
      "source": [
        "df.head()"
      ],
      "outputs": [
        {
          "output_type": "execute_result",
          "metadata": {},
          "data": {
            "text/plain": "   store_name  score  review_cnt  store_id                           address address_cleaned  ward                                             review\n0      きたかた食堂   3.66         282        79               東京都港区新橋5-9-8永島ビル 1F      東京都港区5-9-8  東京都内  平朝に伺いました。店内には名のお客さん朝ラー需要ありますね。普段見かけない女性の店員さんと名...\n1    つじ田 味噌の章   3.71         418       148  東京都千代田区神田小川町1-1イルヴィアーレ神田小川町ビル 1F      東京都千代田区1-1  東京都内  東京メトロ丸の内線淡路町駅A出口より徒歩約分外堀通り沿いビルFにあるお店つじ田味噌の章。上旬...\n2         ねじ式   3.58         151       142            東京都渋谷区幡ヶ谷2-47-12田口ビル1F   東京都渋谷区2-47-12  東京都内  幡ヶ谷号商店街にあるねじ式さんです。いままで味噌ラーメンラーメンしか食べたことが無かったので...\n3  ぽっぽっ屋 水道橋店   3.57         186       165       東京都千代田区神田三崎町2-21-11ゑびすビル １Ｆ  東京都千代田区2-21-11  東京都内  ぽっぽ屋水道橋店本当に久しぶりにこちらの麺を頂きました。と言っても水道橋店は初。というかこの...\n4  中華そば いしかわや   3.70         186        44                    東京都調布市国領町4-8-1     東京都調布市4-8-1  東京都内  旨い醤油ラーメンが食べれる店があるという事でやって来ました。国領駅どういうことで始めておりま...",
            "text/html": "\n            \u003cbutton style\u003d\"display:none\" \n            class\u003d\"btn btn-default ipython-export-btn\" \n            id\u003d\"btn-df-754e3c8a-d24b-4080-b1c1-1ec13b2c2250\" \n            onclick\u003d\"_export_df(\u0027754e3c8a-d24b-4080-b1c1-1ec13b2c2250\u0027)\"\u003e\n                Export dataframe\n            \u003c/button\u003e\n            \n            \u003cscript\u003e\n                \n                function _check_export_df_possible(dfid,yes_fn,no_fn) {\n                    console.log(\u0027Checking dataframe exportability...\u0027)\n                    if(!IPython || !IPython.notebook || !IPython.notebook.kernel || !IPython.notebook.kernel) {\n                        console.log(\u0027Export is not possible (IPython kernel is not available)\u0027)\n                        if(no_fn) {\n                            no_fn();\n                        }\n                    } else {\n                        var pythonCode \u003d \u0027from dataiku.notebook.export import IPythonExporter;IPythonExporter._check_export_stdout(\"\u0027+dfid+\u0027\")\u0027;\n                        IPython.notebook.kernel.execute(pythonCode,{iopub: {output: function(resp) {\n                            console.info(\"Exportability response\", resp);\n                            var size \u003d /^([0-9]+)x([0-9]+)$/.exec(resp.content.data || resp.content.text)\n                            if(!size) {\n                                console.log(\u0027Export is not possible (dataframe is not in-memory anymore)\u0027)\n                                if(no_fn) {\n                                    no_fn();\n                                }\n                            } else {\n                                console.log(\u0027Export is possible\u0027)\n                                if(yes_fn) {\n                                    yes_fn(1*size[1],1*size[2]);\n                                }\n                            }\n                        }}});\n                    }\n                }\n            \n                function _export_df(dfid) {\n                    \n                    var btn \u003d $(\u0027#btn-df-\u0027+dfid);\n                    var btns \u003d $(\u0027.ipython-export-btn\u0027);\n                    \n                    _check_export_df_possible(dfid,function() {\n                        \n                        window.parent.openExportModalFromIPython(\u0027Pandas dataframe\u0027,function(data) {\n                            btns.prop(\u0027disabled\u0027,true);\n                            btn.text(\u0027Exporting...\u0027);\n                            var command \u003d \u0027from dataiku.notebook.export import IPythonExporter;IPythonExporter._run_export(\"\u0027+dfid+\u0027\",\"\u0027+data.exportId+\u0027\")\u0027;\n                            var callback \u003d {iopub:{output: function(resp) {\n                                console.info(\"CB resp:\", resp);\n                                _check_export_df_possible(dfid,function(rows, cols) {\n                                    $(\u0027#btn-df-\u0027+dfid)\n                                        .css(\u0027display\u0027,\u0027inline-block\u0027)\n                                        .text(\u0027Export this dataframe (\u0027+rows+\u0027 rows, \u0027+cols+\u0027 cols)\u0027)\n                                        .prop(\u0027disabled\u0027,false);\n                                },function() {\n                                    $(\u0027#btn-df-\u0027+dfid).css(\u0027display\u0027,\u0027none\u0027);\n                                });\n                            }}};\n                            IPython.notebook.kernel.execute(command,callback,{silent:false}); // yes, silent now defaults to true. figures.\n                        });\n                    \n                    }, function(){\n                            alert(\u0027Unable to export : the Dataframe object is not loaded in memory\u0027);\n                            btn.css(\u0027display\u0027,\u0027none\u0027);\n                    });\n                    \n                }\n                \n                (function(dfid) {\n                \n                    var retryCount \u003d 10;\n                \n                    function is_valid_websock(s) {\n                        return s \u0026\u0026 s.readyState\u003d\u003d1;\n                    }\n                \n                    function check_conn() {\n                        \n                        if(!IPython || !IPython.notebook) {\n                            // Don\u0027t even try to go further\n                            return;\n                        }\n                        \n                        // Check if IPython is ready\n                        console.info(\"Checking conn ...\")\n                        if(IPython.notebook.kernel\n                        \u0026\u0026 IPython.notebook.kernel\n                        \u0026\u0026 is_valid_websock(IPython.notebook.kernel.ws)\n                        ) {\n                            \n                            _check_export_df_possible(dfid,function(rows, cols) {\n                                $(\u0027#btn-df-\u0027+dfid).css(\u0027display\u0027,\u0027inline-block\u0027);\n                                $(\u0027#btn-df-\u0027+dfid).text(\u0027Export this dataframe (\u0027+rows+\u0027 rows, \u0027+cols+\u0027 cols)\u0027);\n                            });\n                            \n                        } else {\n                            console.info(\"Conditions are not ok\", IPython.notebook.kernel);\n                            \n                            // Retry later\n                            \n                            if(retryCount\u003e0) {\n                                setTimeout(check_conn,500);\n                                retryCount--;\n                            }\n                            \n                        }\n                    };\n                    \n                    setTimeout(check_conn,100);\n                    \n                })(\"754e3c8a-d24b-4080-b1c1-1ec13b2c2250\");\n                \n            \u003c/script\u003e\n            \n        \u003cdiv\u003e\n\u003cstyle scoped\u003e\n    .dataframe tbody tr th:only-of-type {\n        vertical-align: middle;\n    }\n\n    .dataframe tbody tr th {\n        vertical-align: top;\n    }\n\n    .dataframe thead th {\n        text-align: right;\n    }\n\u003c/style\u003e\n\u003ctable border\u003d\"1\" class\u003d\"dataframe\"\u003e\n  \u003cthead\u003e\n    \u003ctr style\u003d\"text-align: right;\"\u003e\n      \u003cth\u003e\u003c/th\u003e\n      \u003cth\u003estore_name\u003c/th\u003e\n      \u003cth\u003escore\u003c/th\u003e\n      \u003cth\u003ereview_cnt\u003c/th\u003e\n      \u003cth\u003estore_id\u003c/th\u003e\n      \u003cth\u003eaddress\u003c/th\u003e\n      \u003cth\u003eaddress_cleaned\u003c/th\u003e\n      \u003cth\u003eward\u003c/th\u003e\n      \u003cth\u003ereview\u003c/th\u003e\n    \u003c/tr\u003e\n  \u003c/thead\u003e\n  \u003ctbody\u003e\n    \u003ctr\u003e\n      \u003cth\u003e0\u003c/th\u003e\n      \u003ctd\u003eきたかた食堂\u003c/td\u003e\n      \u003ctd\u003e3.66\u003c/td\u003e\n      \u003ctd\u003e282\u003c/td\u003e\n      \u003ctd\u003e79\u003c/td\u003e\n      \u003ctd\u003e東京都港区新橋5-9-8永島ビル 1F\u003c/td\u003e\n      \u003ctd\u003e東京都港区5-9-8\u003c/td\u003e\n      \u003ctd\u003e東京都内\u003c/td\u003e\n      \u003ctd\u003e平朝に伺いました。店内には名のお客さん朝ラー需要ありますね。普段見かけない女性の店員さんと名...\u003c/td\u003e\n    \u003c/tr\u003e\n    \u003ctr\u003e\n      \u003cth\u003e1\u003c/th\u003e\n      \u003ctd\u003eつじ田 味噌の章\u003c/td\u003e\n      \u003ctd\u003e3.71\u003c/td\u003e\n      \u003ctd\u003e418\u003c/td\u003e\n      \u003ctd\u003e148\u003c/td\u003e\n      \u003ctd\u003e東京都千代田区神田小川町1-1イルヴィアーレ神田小川町ビル 1F\u003c/td\u003e\n      \u003ctd\u003e東京都千代田区1-1\u003c/td\u003e\n      \u003ctd\u003e東京都内\u003c/td\u003e\n      \u003ctd\u003e東京メトロ丸の内線淡路町駅A出口より徒歩約分外堀通り沿いビルFにあるお店つじ田味噌の章。上旬...\u003c/td\u003e\n    \u003c/tr\u003e\n    \u003ctr\u003e\n      \u003cth\u003e2\u003c/th\u003e\n      \u003ctd\u003eねじ式\u003c/td\u003e\n      \u003ctd\u003e3.58\u003c/td\u003e\n      \u003ctd\u003e151\u003c/td\u003e\n      \u003ctd\u003e142\u003c/td\u003e\n      \u003ctd\u003e東京都渋谷区幡ヶ谷2-47-12田口ビル1F\u003c/td\u003e\n      \u003ctd\u003e東京都渋谷区2-47-12\u003c/td\u003e\n      \u003ctd\u003e東京都内\u003c/td\u003e\n      \u003ctd\u003e幡ヶ谷号商店街にあるねじ式さんです。いままで味噌ラーメンラーメンしか食べたことが無かったので...\u003c/td\u003e\n    \u003c/tr\u003e\n    \u003ctr\u003e\n      \u003cth\u003e3\u003c/th\u003e\n      \u003ctd\u003eぽっぽっ屋 水道橋店\u003c/td\u003e\n      \u003ctd\u003e3.57\u003c/td\u003e\n      \u003ctd\u003e186\u003c/td\u003e\n      \u003ctd\u003e165\u003c/td\u003e\n      \u003ctd\u003e東京都千代田区神田三崎町2-21-11ゑびすビル １Ｆ\u003c/td\u003e\n      \u003ctd\u003e東京都千代田区2-21-11\u003c/td\u003e\n      \u003ctd\u003e東京都内\u003c/td\u003e\n      \u003ctd\u003eぽっぽ屋水道橋店本当に久しぶりにこちらの麺を頂きました。と言っても水道橋店は初。というかこの...\u003c/td\u003e\n    \u003c/tr\u003e\n    \u003ctr\u003e\n      \u003cth\u003e4\u003c/th\u003e\n      \u003ctd\u003e中華そば いしかわや\u003c/td\u003e\n      \u003ctd\u003e3.70\u003c/td\u003e\n      \u003ctd\u003e186\u003c/td\u003e\n      \u003ctd\u003e44\u003c/td\u003e\n      \u003ctd\u003e東京都調布市国領町4-8-1\u003c/td\u003e\n      \u003ctd\u003e東京都調布市4-8-1\u003c/td\u003e\n      \u003ctd\u003e東京都内\u003c/td\u003e\n      \u003ctd\u003e旨い醤油ラーメンが食べれる店があるという事でやって来ました。国領駅どういうことで始めておりま...\u003c/td\u003e\n    \u003c/tr\u003e\n  \u003c/tbody\u003e\n\u003c/table\u003e\n\u003c/div\u003e"
          },
          "execution_count": 53
        }
      ]
    },
    {
      "execution_count": 54,
      "cell_type": "code",
      "metadata": {},
      "source": [
        "addresses \u003d df[\u0027address_cleaned\u0027].tolist()"
      ],
      "outputs": []
    },
    {
      "execution_count": 55,
      "cell_type": "code",
      "metadata": {},
      "source": [
        "def geocoding_lat_lon(address):\n    try:\n        g \u003d geocoder.mapquest(address, key\u003d\u0027eOUDWog4FKpjWQmPZWRCzhiKr3GW0mEr\u0027)\n        latitude \u003d g.json[\u0027raw\u0027][\u0027latLng\u0027][\u0027lat\u0027]\n        longitude \u003d g.json[\u0027raw\u0027][\u0027latLng\u0027][\u0027lng\u0027]\n        return latitude, longitude\n    except:\n        return np.nan, np.nan"
      ],
      "outputs": []
    },
    {
      "execution_count": 56,
      "cell_type": "code",
      "metadata": {},
      "source": [
        "df[\u0027latitude\u0027], df[\u0027longitude\u0027] \u003d zip(*df[\u0027address_cleaned\u0027].map(geocoding_lat_lon))"
      ],
      "outputs": []
    },
    {
      "execution_count": 0,
      "cell_type": "code",
      "metadata": {},
      "source": [
        "lat_lon \u003d dataiku.Dataset(\"lat_lon\")\nlat_lon.write_with_schema(df)"
      ],
      "outputs": []
    }
  ]
}