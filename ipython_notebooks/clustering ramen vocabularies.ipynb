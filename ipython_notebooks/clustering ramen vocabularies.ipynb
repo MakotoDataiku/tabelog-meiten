{
  "metadata": {
    "kernelspec": {
      "display_name": "Python (env japan-nlp)",
      "name": "py-dku-venv-japan-nlp",
      "language": "python"
    },
    "language_info": {
      "mimetype": "text/x-python",
      "nbconvert_exporter": "python",
      "version": "3.6.8",
      "name": "python",
      "pygments_lexer": "ipython3",
      "file_extension": ".py",
      "codemirror_mode": {
        "version": 3,
        "name": "ipython"
      }
    },
    "creator": "admin",
    "createdOn": 1623069651868,
    "hide_input": false,
    "customFields": {},
    "tags": [],
    "modifiedBy": "admin"
  },
  "nbformat": 4,
  "nbformat_minor": 1,
  "cells": [
    {
      "execution_count": 1,
      "cell_type": "code",
      "metadata": {},
      "source": [
        "%pylab inline"
      ],
      "outputs": [
        {
          "output_type": "stream",
          "name": "stdout",
          "text": "Populating the interactive namespace from numpy and matplotlib\n"
        }
      ]
    },
    {
      "execution_count": 2,
      "cell_type": "code",
      "metadata": {},
      "source": [
        "import dataiku\nfrom dataiku import pandasutils as pdu\nimport pandas as pd"
      ],
      "outputs": []
    },
    {
      "execution_count": 3,
      "cell_type": "code",
      "metadata": {},
      "source": [
        "# Example: load a DSS dataset as a Pandas dataframe\nmydataset \u003d dataiku.Dataset(\"ramen_vocab_clustered\")\ndf \u003d mydataset.get_dataframe()"
      ],
      "outputs": []
    },
    {
      "execution_count": 5,
      "cell_type": "code",
      "metadata": {},
      "source": [
        "df.head()"
      ],
      "outputs": [
        {
          "output_type": "execute_result",
          "metadata": {},
          "data": {
            "text/plain": "     words cluster_labels\n0   mormor      cluster_2\n1  twitter      cluster_1\n2       情報      cluster_1\n3   リニューアル      cluster_1\n4     ラーメン      cluster_1",
            "text/html": "\n            \u003cbutton style\u003d\"display:none\" \n            class\u003d\"btn btn-default ipython-export-btn\" \n            id\u003d\"btn-df-a513217d-d34b-4ce1-afbe-4490cf3dfffb\" \n            onclick\u003d\"_export_df(\u0027a513217d-d34b-4ce1-afbe-4490cf3dfffb\u0027)\"\u003e\n                Export dataframe\n            \u003c/button\u003e\n            \n            \u003cscript\u003e\n                \n                function _check_export_df_possible(dfid,yes_fn,no_fn) {\n                    console.log(\u0027Checking dataframe exportability...\u0027)\n                    if(!IPython || !IPython.notebook || !IPython.notebook.kernel || !IPython.notebook.kernel) {\n                        console.log(\u0027Export is not possible (IPython kernel is not available)\u0027)\n                        if(no_fn) {\n                            no_fn();\n                        }\n                    } else {\n                        var pythonCode \u003d \u0027from dataiku.notebook.export import IPythonExporter;IPythonExporter._check_export_stdout(\"\u0027+dfid+\u0027\")\u0027;\n                        IPython.notebook.kernel.execute(pythonCode,{iopub: {output: function(resp) {\n                            console.info(\"Exportability response\", resp);\n                            var size \u003d /^([0-9]+)x([0-9]+)$/.exec(resp.content.data || resp.content.text)\n                            if(!size) {\n                                console.log(\u0027Export is not possible (dataframe is not in-memory anymore)\u0027)\n                                if(no_fn) {\n                                    no_fn();\n                                }\n                            } else {\n                                console.log(\u0027Export is possible\u0027)\n                                if(yes_fn) {\n                                    yes_fn(1*size[1],1*size[2]);\n                                }\n                            }\n                        }}});\n                    }\n                }\n            \n                function _export_df(dfid) {\n                    \n                    var btn \u003d $(\u0027#btn-df-\u0027+dfid);\n                    var btns \u003d $(\u0027.ipython-export-btn\u0027);\n                    \n                    _check_export_df_possible(dfid,function() {\n                        \n                        window.parent.openExportModalFromIPython(\u0027Pandas dataframe\u0027,function(data) {\n                            btns.prop(\u0027disabled\u0027,true);\n                            btn.text(\u0027Exporting...\u0027);\n                            var command \u003d \u0027from dataiku.notebook.export import IPythonExporter;IPythonExporter._run_export(\"\u0027+dfid+\u0027\",\"\u0027+data.exportId+\u0027\")\u0027;\n                            var callback \u003d {iopub:{output: function(resp) {\n                                console.info(\"CB resp:\", resp);\n                                _check_export_df_possible(dfid,function(rows, cols) {\n                                    $(\u0027#btn-df-\u0027+dfid)\n                                        .css(\u0027display\u0027,\u0027inline-block\u0027)\n                                        .text(\u0027Export this dataframe (\u0027+rows+\u0027 rows, \u0027+cols+\u0027 cols)\u0027)\n                                        .prop(\u0027disabled\u0027,false);\n                                },function() {\n                                    $(\u0027#btn-df-\u0027+dfid).css(\u0027display\u0027,\u0027none\u0027);\n                                });\n                            }}};\n                            IPython.notebook.kernel.execute(command,callback,{silent:false}); // yes, silent now defaults to true. figures.\n                        });\n                    \n                    }, function(){\n                            alert(\u0027Unable to export : the Dataframe object is not loaded in memory\u0027);\n                            btn.css(\u0027display\u0027,\u0027none\u0027);\n                    });\n                    \n                }\n                \n                (function(dfid) {\n                \n                    var retryCount \u003d 10;\n                \n                    function is_valid_websock(s) {\n                        return s \u0026\u0026 s.readyState\u003d\u003d1;\n                    }\n                \n                    function check_conn() {\n                        \n                        if(!IPython || !IPython.notebook) {\n                            // Don\u0027t even try to go further\n                            return;\n                        }\n                        \n                        // Check if IPython is ready\n                        console.info(\"Checking conn ...\")\n                        if(IPython.notebook.kernel\n                        \u0026\u0026 IPython.notebook.kernel\n                        \u0026\u0026 is_valid_websock(IPython.notebook.kernel.ws)\n                        ) {\n                            \n                            _check_export_df_possible(dfid,function(rows, cols) {\n                                $(\u0027#btn-df-\u0027+dfid).css(\u0027display\u0027,\u0027inline-block\u0027);\n                                $(\u0027#btn-df-\u0027+dfid).text(\u0027Export this dataframe (\u0027+rows+\u0027 rows, \u0027+cols+\u0027 cols)\u0027);\n                            });\n                            \n                        } else {\n                            console.info(\"Conditions are not ok\", IPython.notebook.kernel);\n                            \n                            // Retry later\n                            \n                            if(retryCount\u003e0) {\n                                setTimeout(check_conn,500);\n                                retryCount--;\n                            }\n                            \n                        }\n                    };\n                    \n                    setTimeout(check_conn,100);\n                    \n                })(\"a513217d-d34b-4ce1-afbe-4490cf3dfffb\");\n                \n            \u003c/script\u003e\n            \n        \u003cdiv\u003e\n\u003cstyle scoped\u003e\n    .dataframe tbody tr th:only-of-type {\n        vertical-align: middle;\n    }\n\n    .dataframe tbody tr th {\n        vertical-align: top;\n    }\n\n    .dataframe thead th {\n        text-align: right;\n    }\n\u003c/style\u003e\n\u003ctable border\u003d\"1\" class\u003d\"dataframe\"\u003e\n  \u003cthead\u003e\n    \u003ctr style\u003d\"text-align: right;\"\u003e\n      \u003cth\u003e\u003c/th\u003e\n      \u003cth\u003ewords\u003c/th\u003e\n      \u003cth\u003ecluster_labels\u003c/th\u003e\n    \u003c/tr\u003e\n  \u003c/thead\u003e\n  \u003ctbody\u003e\n    \u003ctr\u003e\n      \u003cth\u003e0\u003c/th\u003e\n      \u003ctd\u003emormor\u003c/td\u003e\n      \u003ctd\u003ecluster_2\u003c/td\u003e\n    \u003c/tr\u003e\n    \u003ctr\u003e\n      \u003cth\u003e1\u003c/th\u003e\n      \u003ctd\u003etwitter\u003c/td\u003e\n      \u003ctd\u003ecluster_1\u003c/td\u003e\n    \u003c/tr\u003e\n    \u003ctr\u003e\n      \u003cth\u003e2\u003c/th\u003e\n      \u003ctd\u003e情報\u003c/td\u003e\n      \u003ctd\u003ecluster_1\u003c/td\u003e\n    \u003c/tr\u003e\n    \u003ctr\u003e\n      \u003cth\u003e3\u003c/th\u003e\n      \u003ctd\u003eリニューアル\u003c/td\u003e\n      \u003ctd\u003ecluster_1\u003c/td\u003e\n    \u003c/tr\u003e\n    \u003ctr\u003e\n      \u003cth\u003e4\u003c/th\u003e\n      \u003ctd\u003eラーメン\u003c/td\u003e\n      \u003ctd\u003ecluster_1\u003c/td\u003e\n    \u003c/tr\u003e\n  \u003c/tbody\u003e\n\u003c/table\u003e\n\u003c/div\u003e"
          },
          "execution_count": 5
        }
      ]
    },
    {
      "execution_count": 14,
      "cell_type": "code",
      "metadata": {},
      "source": [
        "sort(df.cluster_labels.unique())"
      ],
      "outputs": [
        {
          "output_type": "execute_result",
          "metadata": {},
          "data": {
            "text/plain": "array([\u0027cluster_0\u0027, \u0027cluster_1\u0027, \u0027cluster_2\u0027, \u0027cluster_3\u0027,\n       \u0027cluster_outliers\u0027], dtype\u003dobject)"
          },
          "execution_count": 14
        }
      ]
    },
    {
      "execution_count": 15,
      "cell_type": "code",
      "metadata": {},
      "source": [
        "for cluster in sort(df.cluster_labels.unique()):\n    words \u003d df[df[\u0027cluster_labels\u0027]\u003d\u003dcluster].words.values[:30]\n    print(cluster)\n    print(words)\n    print(\"\\n\")"
      ],
      "outputs": [
        {
          "output_type": "stream",
          "name": "stdout",
          "text": "cluster_0\n[\u0027提供\u0027 \u0027丹念\u0027 \u0027今回\u0027 \u0027入口\u0027 \u0027左手\u0027 \u0027券売機\u0027 \u0027食券\u0027 \u0027購入\u0027 \u0027一番\u0027 \u0027右上\u0027 \u0027店員\u0027 \u0027さん\u0027 \u0027好感\u0027 \u0027ありがたい\u0027\n \u0027こと\u0027 \u0027食事\u0027 \u0027時間\u0027 \u0027着席\u0027 \u0027お客さん\u0027 \u0027経過\u0027 \u0027塩そ\u0027 \u0027回収\u0027 \u0027選択\u0027 \u0027そば\u0027 \u0027なかっ\u0027 \u0027落ち着き\u0027 \u0027一択\u0027\n \u0027皆さん\u0027 \u0027場合\u0027 \u0027問題\u0027]\n\n\ncluster_1\n[\u0027twitter\u0027 \u0027情報\u0027 \u0027リニューアル\u0027 \u0027ラーメン\u0027 \u0027限定\u0027 \u0027唯一無二\u0027 \u0027japanesesobanoodles\u0027 \u0027くろ\u0027\n \u0027監修\u0027 \u0027拉麺\u0027 \u0027リスペクト\u0027 \u0027詳細\u0027 \u0027再訪\u0027 \u0027以前\u0027 \u0027最近\u0027 \u0027限り\u0027 \u0027どこ\u0027 \u0027移転\u0027 \u0027進化\u0027 \u0027レビュー\u0027 \u0027クラクラ\u0027\n \u0027業界\u0027 \u0027継続\u0027 \u0027思しき\u0027 \u0027レシピ\u0027 \u0027先述\u0027 \u0027当初\u0027 \u0027以外\u0027 \u0027勝負\u0027 \u0027ビューアー\u0027]\n\n\ncluster_2\n[\u0027mormor\u0027 \u0027イメージ\u0027 \u0027種類\u0027 \u0027野菜\u0027 \u0027スープ\u0027 \u0027出汁\u0027 \u0027トマト\u0027 \u0027うま味\u0027 \u0027ドライトマト\u0027 \u0027アクセント\u0027 \u0027洋風\u0027\n \u0027醤油ラーメン\u0027 \u0027もの\u0027 \u0027旨味\u0027 \u0027一杯\u0027 \u0027使用\u0027 \u0027黄金\u0027 \u0027おかげ\u0027 \u0027ロースト\u0027 \u0027プラス\u0027 \u0027そう\u0027 \u0027中太\u0027 \u0027確か\u0027 \u0027見た目\u0027\n \u0027っぽい\u0027 \u0027した\u0027 \u0027派手\u0027 \u0027旨い\u0027 \u0027タイプ\u0027 \u0027個人的\u0027]\n\n\ncluster_3\n[\u0027こちら\u0027 \u0027町田\u0027 \u0027買い物\u0027 \u0027昼飯\u0027 \u0027機会\u0027 \u0027町田駅\u0027 \u0027仲見世通り\u0027 \u0027昼休み\u0027 \u0027人気\u0027 \u0027近く\u0027 \u0027激しい\u0027 \u0027ラーメン店\u0027\n \u0027開店\u0027 \u0027ラーメン屋\u0027 \u0027基準\u0027 \u0027lunch\u0027 \u0027仲見世商店街\u0027 \u0027タイル\u0027 \u0027姉妹\u0027 \u0027訪問\u0027 \u0027金曜\u0027 \u0027時分\u0027 \u0027営業時間\u0027 \u0027飲み会\u0027\n \u0027閉店\u0027 \u0027看板\u0027 \u0027ごちそうさま\u0027 \u0027このは\u0027 \u0027裏手\u0027 \u0027駐車場\u0027]\n\n\ncluster_outliers\n[\u0027de\u0027 \u0027th\u0027 \u0027蘭州\u0027 \u0027牛肉麺\u0027]\n\n\n"
        }
      ]
    },
    {
      "execution_count": 0,
      "cell_type": "code",
      "metadata": {},
      "source": [
        "Twitter,Information,Renewal,Ramen,Limited,One and only,japanesesobanoodles,Kuro,\n  ,Supervision,Ramen,Respect,Details,Revisit,Before,Recent,As long as,Where,Relocation,Evolution,Review,Kurakura,\n  ,Industry,Continued,Thoughtful,Recipe,Previous,Initial, Other than ,Game,Viewer,"
      ],
      "outputs": []
    }
  ]
}