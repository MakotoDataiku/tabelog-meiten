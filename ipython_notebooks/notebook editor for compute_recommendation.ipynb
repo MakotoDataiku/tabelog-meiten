{
  "nbformat": 4,
  "nbformat_minor": 0,
  "metadata": {
    "kernelspec": {
      "display_name": "Python (env japan-nlp)",
      "language": "python",
      "name": "py-dku-venv-japan-nlp"
    },
    "associatedRecipe": "compute_recommendation",
    "creator": "admin",
    "createdOn": 1623429585049,
    "tags": [
      "recipe-editor"
    ],
    "customFields": {}
  },
  "cells": [
    {
      "cell_type": "code",
      "metadata": {},
      "outputs": [],
      "execution_count": 0,
      "source": [
        "# -*- coding: utf-8 -*-\n",
        "import dataiku\n",
        "import pandas as pd, numpy as np\n",
        "from dataiku import pandasutils as pdu\n",
        "from gensim.models import word2vec\n",
        "import itertools\n",
        "from itertools import product"
      ]
    },
    {
      "cell_type": "code",
      "metadata": {},
      "outputs": [],
      "execution_count": 0,
      "source": [
        "def cos_sim(v1, v2):\n",
        "    return np.dot(v1, v2) / (np.linalg.norm(v1) * np.linalg.norm(v2))"
      ]
    },
    {
      "cell_type": "code",
      "metadata": {},
      "outputs": [],
      "execution_count": 0,
      "source": [
        "# Read recipe inputs\n",
        "model_folder_path \u003d dataiku.Folder(\"m9JZdV7b\").get_path()\n",
        "model_path \u003d model_folder_path + \"/word2vec_ramen_model.model\"\n",
        "ramen_model \u003d word2vec.Word2Vec.load(model_path)"
      ]
    },
    {
      "cell_type": "code",
      "metadata": {},
      "outputs": [],
      "execution_count": 0,
      "source": [
        "reviews_TF_IDF \u003d dataiku.Dataset(\"reviews_TF_IDF\")\n",
        "df \u003d reviews_TF_IDF.get_dataframe()"
      ]
    },
    {
      "cell_type": "code",
      "metadata": {},
      "outputs": [],
      "execution_count": 0,
      "source": [
        "tripAdvisor_path \u003d dataiku.Folder(\"FXMfF0DU\").get_path() + \"/TripAdvisor_top_TFIDF_words.txt\"\n",
        "f \u003d open(tripAdvisor_path,\u0027r\u0027,encoding\u003d\"utf-8\")"
      ]
    },
    {
      "cell_type": "code",
      "metadata": {},
      "outputs": [],
      "execution_count": 0,
      "source": [
        "words_ta \u003d []\n",
        "for i,data in enumerate(f):\n",
        "    word \u003d data.replace(\"\u0027\",\u0027\u0027).replace(\u0027[\u0027,\u0027\u0027).replace(\u0027]\u0027,\u0027\u0027).replace(\u0027 \u0027,\u0027\u0027).replace(\u0027\\n\u0027,\u0027\u0027)\n",
        "    words_ta.append(word)"
      ]
    },
    {
      "cell_type": "code",
      "metadata": {},
      "outputs": [],
      "execution_count": 0,
      "source": [
        "words_ta"
      ]
    },
    {
      "cell_type": "code",
      "metadata": {},
      "outputs": [],
      "execution_count": 0,
      "source": [
        "word_ta_vectors \u003d [ramen_model.wv[w] for w in words_ta]"
      ]
    },
    {
      "cell_type": "code",
      "metadata": {},
      "outputs": [],
      "execution_count": 0,
      "source": [
        "word_list \u003d []\n",
        "arr \u003d df[\u0027texts_tfidf_sorted_top20\u0027].values\n",
        "for a in arr:\n",
        "    l \u003d a.replace(\"\u0027\", \"\").replace(\"[\", \"\").replace(\"]\", \"\").replace(\" \", \"\").split(\",\")\n",
        "    word_list.append(l)"
      ]
    },
    {
      "cell_type": "code",
      "metadata": {},
      "outputs": [],
      "execution_count": 0,
      "source": [
        "word_list.append(words_ta)"
      ]
    },
    {
      "cell_type": "code",
      "metadata": {},
      "outputs": [],
      "execution_count": 0,
      "source": [
        "uniq_words \u003d list(set(itertools.chain.from_iterable(word_list)))\n",
        "scores \u003d {}\n",
        "for word1, word2 in product(uniq_words, repeat\u003d2):\n",
        "    # print(word1, word2)\n",
        "    scores[(word1, word2)] \u003d  cos_sim(ramen_model.wv[word1], ramen_model.wv[word2])"
      ]
    },
    {
      "cell_type": "code",
      "metadata": {},
      "outputs": [],
      "execution_count": 0,
      "source": [
        "scores"
      ]
    },
    {
      "cell_type": "code",
      "metadata": {},
      "outputs": [],
      "execution_count": 0,
      "source": [
        "df"
      ]
    },
    {
      "cell_type": "code",
      "metadata": {},
      "outputs": [],
      "execution_count": 0,
      "source": [
        "avg_avg_scores \u003d []\n",
        "for word_2 in words_ta:\n",
        "    avg_scores \u003d []\n",
        "    for review in df[\"texts_tfidf_sorted_top20\"].values:\n",
        "        review \u003d review.replace(\"\u0027\", \"\").replace(\"[\", \"\").replace(\"]\", \"\").replace(\" \", \"\").split(\",\")\n",
        "        word_cross_scores \u003d []\n",
        "        for word_1 in review:\n",
        "            score \u003d scores[(word_1, word_2)]\n",
        "            word_cross_scores.append(score)\n",
        "        avg_scores.append(np.mean(word_cross_scores))\n",
        "    avg_avg_scores.append(np.mean(avg_scores))"
      ]
    },
    {
      "cell_type": "code",
      "metadata": {},
      "outputs": [],
      "execution_count": 0,
      "source": [
        "avg_avg_scores \u003d []\n",
        "for review in df[\"texts_tfidf_sorted_top20\"].values:\n",
        "    review \u003d review.replace(\"\u0027\", \"\").replace(\"[\", \"\").replace(\"]\", \"\").replace(\" \", \"\").split(\",\")\n",
        "    avg_scores \u003d []\n",
        "    for word_1 in review:\n",
        "        word_cross_scores \u003d []\n",
        "        for word_2 in words_ta:\n",
        "            score \u003d scores[(word_1, word_2)]\n",
        "            word_cross_scores.append(score)\n",
        "        avg_scores.append(np.mean(word_cross_scores))\n",
        "    avg_avg_scores.append(np.mean(avg_scores))"
      ]
    },
    {
      "cell_type": "code",
      "metadata": {},
      "outputs": [],
      "execution_count": 0,
      "source": [
        "len(avg_avg_scores)"
      ]
    },
    {
      "cell_type": "code",
      "metadata": {},
      "outputs": [],
      "execution_count": 0,
      "source": [
        "df[\u0027similarity_score\u0027] \u003d avg_avg_scores"
      ]
    },
    {
      "cell_type": "code",
      "metadata": {},
      "outputs": [],
      "execution_count": 0,
      "source": [
        "recommendation \u003d dataiku.Dataset(\"recommendation\")\n",
        "recommendation.write_with_schema(df)"
      ]
    }
  ]
}