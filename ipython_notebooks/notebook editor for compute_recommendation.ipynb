{
  "metadata": {
    "kernelspec": {
      "display_name": "Python (env japan-nlp)",
      "name": "py-dku-venv-japan-nlp",
      "language": "python"
    },
    "language_info": {
      "mimetype": "text/x-python",
      "nbconvert_exporter": "python",
      "version": "3.6.8",
      "name": "python",
      "pygments_lexer": "ipython3",
      "file_extension": ".py",
      "codemirror_mode": {
        "version": 3,
        "name": "ipython"
      }
    },
    "tags": [
      "recipe-editor"
    ],
    "associatedRecipe": "compute_recommendation",
    "createdOn": 1623429585049,
    "hide_input": false,
    "customFields": {},
    "creator": "admin",
    "modifiedBy": "admin"
  },
  "nbformat": 4,
  "nbformat_minor": 1,
  "cells": [
    {
      "execution_count": 49,
      "cell_type": "code",
      "metadata": {},
      "source": [
        "# -*- coding: utf-8 -*-\nimport dataiku\nimport pandas as pd, numpy as np\nfrom dataiku import pandasutils as pdu\nfrom gensim.models import word2vec\nimport itertools\nfrom itertools import product\nfrom itertools import combinations \nfrom tqdm import tqdm"
      ],
      "outputs": []
    },
    {
      "execution_count": 2,
      "cell_type": "code",
      "metadata": {},
      "source": [
        "def cos_sim(v1, v2):\n    return np.dot(v1, v2) / (np.linalg.norm(v1) * np.linalg.norm(v2))"
      ],
      "outputs": []
    },
    {
      "execution_count": 3,
      "cell_type": "code",
      "metadata": {},
      "source": [
        "# Read recipe inputs\nmodel_folder_path \u003d dataiku.Folder(\"m9JZdV7b\").get_path()\nmodel_path \u003d model_folder_path + \"/word2vec_ramen_model.model\"\nramen_model \u003d word2vec.Word2Vec.load(model_path)"
      ],
      "outputs": []
    },
    {
      "execution_count": 4,
      "cell_type": "code",
      "metadata": {},
      "source": [
        "reviews_TF_IDF \u003d dataiku.Dataset(\"reviews_TF_IDF\")\ndf \u003d reviews_TF_IDF.get_dataframe()"
      ],
      "outputs": []
    },
    {
      "execution_count": 6,
      "cell_type": "code",
      "metadata": {},
      "source": [
        "tripAdvisor_path \u003d dataiku.Folder(\"FXMfF0DU\").get_path() + \"/TripAdvisor_top_TFIDF_words.txt\"\nf \u003d open(tripAdvisor_path,\u0027r\u0027,encoding\u003d\"utf-8\")"
      ],
      "outputs": []
    },
    {
      "execution_count": 7,
      "cell_type": "code",
      "metadata": {},
      "source": [
        "words_ta \u003d []\nfor i,data in enumerate(f):\n    word \u003d data.replace(\"\u0027\",\u0027\u0027).replace(\u0027[\u0027,\u0027\u0027).replace(\u0027]\u0027,\u0027\u0027).replace(\u0027 \u0027,\u0027\u0027).replace(\u0027\\n\u0027,\u0027\u0027)\n    words_ta.append(word)"
      ],
      "outputs": []
    },
    {
      "execution_count": 9,
      "cell_type": "code",
      "metadata": {},
      "source": [
        "word_ta_vectors \u003d [ramen_model.wv[w] for w in words_ta]"
      ],
      "outputs": []
    },
    {
      "execution_count": 11,
      "cell_type": "code",
      "metadata": {},
      "source": [
        "word_list \u003d []\narr \u003d df[\u0027texts_tfidf_sorted_top20\u0027].values\nfor a in arr:\n    l \u003d a.replace(\"\u0027\", \"\").replace(\"[\", \"\").replace(\"]\", \"\").replace(\" \", \"\").split(\",\")\n    word_list.append(l)"
      ],
      "outputs": []
    },
    {
      "execution_count": 13,
      "cell_type": "code",
      "metadata": {},
      "source": [
        "word_list.append(words_ta)"
      ],
      "outputs": []
    },
    {
      "execution_count": 18,
      "cell_type": "code",
      "metadata": {},
      "source": [
        "i \u003d 0\nfor l in word_list:\n    for w in l:\n        i +\u003d 1"
      ],
      "outputs": []
    },
    {
      "execution_count": 21,
      "cell_type": "code",
      "metadata": {},
      "source": [
        "print(\"{} words detected before removing duplicates\".format(i))"
      ],
      "outputs": [
        {
          "output_type": "stream",
          "name": "stdout",
          "text": "14740 words detected before removing duplicates\n"
        }
      ]
    },
    {
      "execution_count": 22,
      "cell_type": "code",
      "metadata": {},
      "source": [
        "uniq_words \u003d list(set(itertools.chain.from_iterable(word_list)))"
      ],
      "outputs": []
    },
    {
      "execution_count": 63,
      "cell_type": "code",
      "metadata": {},
      "source": [
        "print(\"{} words detected after removing duplicates\".format(len(uniq_words)))"
      ],
      "outputs": [
        {
          "output_type": "stream",
          "name": "stdout",
          "text": "5435 words detected after removing duplicates\n"
        }
      ]
    },
    {
      "execution_count": 26,
      "cell_type": "code",
      "metadata": {},
      "source": [
        "def combine(arr, s): \n    return list(combinations(arr, s)) "
      ],
      "outputs": []
    },
    {
      "execution_count": 28,
      "cell_type": "code",
      "metadata": {},
      "source": [
        "len(combine(uniq_words, 2))"
      ],
      "outputs": [
        {
          "output_type": "execute_result",
          "metadata": {},
          "data": {
            "text/plain": "14766895"
          },
          "execution_count": 28
        }
      ]
    },
    {
      "execution_count": 0,
      "cell_type": "code",
      "metadata": {},
      "source": [
        "#scores \u003d {}\n#for word1, word2 in product(uniq_words, repeat\u003d2):\n#    # print(word1, word2)\n#    scores[(word1, word2)] \u003d  cos_sim(ramen_model.wv[word1], ramen_model.wv[word2])"
      ],
      "outputs": []
    },
    {
      "execution_count": 50,
      "cell_type": "code",
      "metadata": {},
      "source": [
        "scores \u003d {}\nfor touple in tqdm(combine(uniq_words, 2)):\n    # print(word1, word2)\n    similarity \u003d cos_sim(ramen_model.wv[touple[0]], ramen_model.wv[touple[1]])\n    scores[(touple[0], touple[1])] \u003d similarity\n    scores[(touple[1], touple[0])] \u003d similarity"
      ],
      "outputs": [
        {
          "output_type": "stream",
          "name": "stderr",
          "text": "100%|██████████| 14766895/14766895 [06:58\u003c00:00, 35257.01it/s]\n"
        }
      ]
    },
    {
      "execution_count": 52,
      "cell_type": "code",
      "metadata": {},
      "source": [
        "# score of the same words is 1\nfor w in tqdm(uniq_words):\n    scores[(w, w)] \u003d 1"
      ],
      "outputs": [
        {
          "output_type": "stream",
          "name": "stderr",
          "text": "100%|██████████| 5435/5435 [00:00\u003c00:00, 43393.92it/s]\n"
        }
      ]
    },
    {
      "execution_count": 55,
      "cell_type": "code",
      "metadata": {},
      "source": [
        "\"\"\"\navg_avg_scores \u003d []\nfor word_2 in tqdm(words_ta):\n    avg_scores \u003d []\n    for review in df[\"texts_tfidf_sorted_top20\"].values:\n        review \u003d review.replace(\"\u0027\", \"\").replace(\"[\", \"\").replace(\"]\", \"\").replace(\" \", \"\").split(\",\")\n        word_cross_scores \u003d []\n        for word_1 in review:\n            score \u003d scores[(word_1, word_2)]\n            word_cross_scores.append(score)\n        avg_scores.append(np.mean(word_cross_scores))\n    avg_avg_scores.append(np.mean(avg_scores))\n\"\"\""
      ],
      "outputs": [
        {
          "output_type": "stream",
          "name": "stderr",
          "text": "100%|██████████| 20/20 [00:04\u003c00:00,  4.80it/s]\n"
        }
      ]
    },
    {
      "execution_count": 59,
      "cell_type": "code",
      "metadata": {},
      "source": [
        "avg_avg_scores \u003d []\nfor review in tqdm(df[\"texts_tfidf_sorted_top20\"].values):\n    review \u003d review.replace(\"\u0027\", \"\").replace(\"[\", \"\").replace(\"]\", \"\").replace(\" \", \"\").split(\",\")\n    avg_scores \u003d []\n    for word_1 in review:\n        word_cross_scores \u003d []\n        for word_2 in words_ta:\n            score \u003d scores[(word_1, word_2)]\n            word_cross_scores.append(score)\n        avg_scores.append(np.mean(word_cross_scores))\n    avg_avg_scores.append(np.mean(avg_scores))"
      ],
      "outputs": [
        {
          "output_type": "stream",
          "name": "stderr",
          "text": "100%|██████████| 736/736 [00:00\u003c00:00, 1253.93it/s]\n"
        }
      ]
    },
    {
      "execution_count": 60,
      "cell_type": "code",
      "metadata": {},
      "source": [
        "len(avg_avg_scores)"
      ],
      "outputs": [
        {
          "output_type": "execute_result",
          "metadata": {},
          "data": {
            "text/plain": "736"
          },
          "execution_count": 60
        }
      ]
    },
    {
      "execution_count": 61,
      "cell_type": "code",
      "metadata": {},
      "source": [
        "df[\u0027similarity_score\u0027] \u003d avg_avg_scores"
      ],
      "outputs": []
    },
    {
      "execution_count": 62,
      "cell_type": "code",
      "metadata": {},
      "source": [
        "recommendation \u003d dataiku.Dataset(\"recommendation\")\nrecommendation.write_with_schema(df)"
      ],
      "outputs": [
        {
          "output_type": "stream",
          "name": "stdout",
          "text": "736 rows successfully written (9ZONIfSr8f)\n"
        }
      ]
    },
    {
      "execution_count": 0,
      "cell_type": "code",
      "metadata": {},
      "source": [
        ""
      ],
      "outputs": []
    }
  ]
}