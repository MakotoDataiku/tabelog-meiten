{
  "metadata": {
    "kernelspec": {
      "display_name": "Python (env japan-nlp)",
      "name": "py-dku-venv-japan-nlp",
      "language": "python"
    },
    "language_info": {
      "mimetype": "text/x-python",
      "nbconvert_exporter": "python",
      "version": "3.6.8",
      "name": "python",
      "pygments_lexer": "ipython3",
      "file_extension": ".py",
      "codemirror_mode": {
        "version": 3,
        "name": "ipython"
      }
    },
    "tags": [
      "recipe-editor"
    ],
    "associatedRecipe": "compute_recommendation",
    "createdOn": 1622736611191,
    "hide_input": false,
    "customFields": {},
    "creator": "admin",
    "modifiedBy": "admin"
  },
  "nbformat": 4,
  "nbformat_minor": 1,
  "cells": [
    {
      "execution_count": 6,
      "cell_type": "code",
      "metadata": {},
      "source": [
        "# -*- coding: utf-8 -*-\nimport dataiku\nimport pandas as pd, numpy as np\nfrom dataiku import pandasutils as pdu\nfrom gensim.models import word2vec"
      ],
      "outputs": [
        {
          "output_type": "stream",
          "name": "stderr",
          "text": "/Users/mmiyazaki/dataiku/Design/DATA_DIR/code-envs/python/japan-nlp/lib/python3.6/site-packages/scipy/sparse/sparsetools.py:21: DeprecationWarning: `scipy.sparse.sparsetools` is deprecated!\nscipy.sparse.sparsetools is a private module for scipy.sparse, and should not be used.\n  _deprecated()\n"
        }
      ]
    },
    {
      "execution_count": 22,
      "cell_type": "code",
      "metadata": {},
      "source": [
        "# Read recipe inputs\nmodel_folder_path \u003d dataiku.Folder(\"m9JZdV7b\").get_path()\nmodel_path \u003d model_folder_path + \"/word2vec_ramen_model.model\"\nramen_model \u003d word2vec.Word2Vec.load(model_path)"
      ],
      "outputs": []
    },
    {
      "execution_count": 23,
      "cell_type": "code",
      "metadata": {},
      "source": [
        "reviews_TF_IDF \u003d dataiku.Dataset(\"reviews_TF_IDF\")\nreviews_TF_IDF_df \u003d reviews_TF_IDF.get_dataframe()"
      ],
      "outputs": []
    },
    {
      "execution_count": 24,
      "cell_type": "code",
      "metadata": {},
      "source": [
        "tripAdvisor_path \u003d dataiku.Folder(\"FXMfF0DU\").get_path() + \"/TripAdvisor_top_TFIDF_words.txt\"\nf \u003d open(tripAdvisor_path,\u0027r\u0027,encoding\u003d\"utf-8\")"
      ],
      "outputs": []
    },
    {
      "execution_count": 25,
      "cell_type": "code",
      "metadata": {},
      "source": [
        "words_ta \u003d []\nfor i,data in enumerate(f):\n    print(data)\n    word \u003d data.replace(\"\u0027\",\u0027\u0027).replace(\u0027[\u0027,\u0027\u0027).replace(\u0027]\u0027,\u0027\u0027).replace(\u0027 \u0027,\u0027\u0027).replace(\u0027\\n\u0027,\u0027\u0027).split(\",\")\n    print(word)\n    words_ta.append(word)"
      ],
      "outputs": [
        {
          "output_type": "stream",
          "name": "stdout",
          "text": "レストラン\n\n[\u0027レストラン\u0027]\n私たち\n\n[\u0027私たち\u0027]\nあなた\n\n[\u0027あなた\u0027]\n彼ら\n\n[\u0027彼ら\u0027]\nパリ\n\n[\u0027パリ\u0027]\n待ち行列\n\n[\u0027待ち行列\u0027]\nクール\n\n[\u0027クール\u0027]\n快適\n\n[\u0027快適\u0027]\n窮屈\n\n[\u0027窮屈\u0027]\n事項\n\n[\u0027事項\u0027]\nキリン\n\n[\u0027キリン\u0027]\n共有\n\n[\u0027共有\u0027]\nパイ\n\n[\u0027パイ\u0027]\n宣伝\n\n[\u0027宣伝\u0027]\n提案\n\n[\u0027提案\u0027]\nバー\n\n[\u0027バー\u0027]\nインテリア\n\n[\u0027インテリア\u0027]\nコンパクト\n\n[\u0027コンパクト\u0027]\nストック\n\n[\u0027ストック\u0027]\n親切\n\n[\u0027親切\u0027]\n"
        }
      ]
    },
    {
      "execution_count": 26,
      "cell_type": "code",
      "metadata": {},
      "source": [
        "words_ta"
      ],
      "outputs": [
        {
          "output_type": "execute_result",
          "metadata": {},
          "data": {
            "text/plain": "[[\u0027レストラン\u0027],\n [\u0027私たち\u0027],\n [\u0027あなた\u0027],\n [\u0027彼ら\u0027],\n [\u0027パリ\u0027],\n [\u0027待ち行列\u0027],\n [\u0027クール\u0027],\n [\u0027快適\u0027],\n [\u0027窮屈\u0027],\n [\u0027事項\u0027],\n [\u0027キリン\u0027],\n [\u0027共有\u0027],\n [\u0027パイ\u0027],\n [\u0027宣伝\u0027],\n [\u0027提案\u0027],\n [\u0027バー\u0027],\n [\u0027インテリア\u0027],\n [\u0027コンパクト\u0027],\n [\u0027ストック\u0027],\n [\u0027親切\u0027]]"
          },
          "execution_count": 26
        }
      ]
    },
    {
      "execution_count": 0,
      "cell_type": "code",
      "metadata": {},
      "source": [
        "# Compute recipe outputs from inputs\n# TODO: Replace this part by your actual code that computes the output, as a Pandas dataframe\n# NB: DSS also supports other kinds of APIs for reading and writing data. Please see doc.\n\nrecommendation_df \u003d reviews_TF_IDF_df # For this sample code, simply copy input to output\n\n\n# Write recipe outputs\nrecommendation \u003d dataiku.Dataset(\"recommendation\")\nrecommendation.write_with_schema(recommendation_df)"
      ],
      "outputs": []
    }
  ]
}