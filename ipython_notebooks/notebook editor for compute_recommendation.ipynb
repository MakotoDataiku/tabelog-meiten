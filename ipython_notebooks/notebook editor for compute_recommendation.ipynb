{
  "metadata": {
    "kernelspec": {
      "display_name": "Python (env japan-nlp)",
      "name": "py-dku-venv-japan-nlp",
      "language": "python"
    },
    "language_info": {
      "mimetype": "text/x-python",
      "nbconvert_exporter": "python",
      "version": "3.6.8",
      "name": "python",
      "pygments_lexer": "ipython3",
      "file_extension": ".py",
      "codemirror_mode": {
        "version": 3,
        "name": "ipython"
      }
    },
    "tags": [
      "recipe-editor"
    ],
    "associatedRecipe": "compute_recommendation",
    "createdOn": 1622736611191,
    "hide_input": false,
    "customFields": {},
    "creator": "admin",
    "modifiedBy": "admin"
  },
  "nbformat": 4,
  "nbformat_minor": 1,
  "cells": [
    {
      "execution_count": 6,
      "cell_type": "code",
      "metadata": {},
      "source": [
        "# -*- coding: utf-8 -*-\nimport dataiku\nimport pandas as pd, numpy as np\nfrom dataiku import pandasutils as pdu\nfrom gensim.models import word2vec"
      ],
      "outputs": [
        {
          "output_type": "stream",
          "name": "stderr",
          "text": "/Users/mmiyazaki/dataiku/Design/DATA_DIR/code-envs/python/japan-nlp/lib/python3.6/site-packages/scipy/sparse/sparsetools.py:21: DeprecationWarning: `scipy.sparse.sparsetools` is deprecated!\nscipy.sparse.sparsetools is a private module for scipy.sparse, and should not be used.\n  _deprecated()\n"
        }
      ]
    },
    {
      "execution_count": 7,
      "cell_type": "code",
      "metadata": {},
      "source": [
        "# Read recipe inputs\nmodel_folder_path \u003d dataiku.Folder(\"m9JZdV7b\").get_path()\nmodel_path \u003d model_folder_path + \"/word2vec_ramen_model.model\"\nramen_model \u003d word2vec.Word2Vec.load(model_path)"
      ],
      "outputs": []
    },
    {
      "execution_count": 8,
      "cell_type": "code",
      "metadata": {},
      "source": [
        "reviews_TF_IDF \u003d dataiku.Dataset(\"reviews_TF_IDF\")\nreviews_TF_IDF_df \u003d reviews_TF_IDF.get_dataframe()"
      ],
      "outputs": []
    },
    {
      "execution_count": 9,
      "cell_type": "code",
      "metadata": {},
      "source": [
        "tripAdvisor_path \u003d dataiku.Folder(\"FXMfF0DU\").get_path() + \"/TripAdvisor_top_TFIDF_words.txt\"\nf \u003d open(tripAdvisor_path,\u0027r\u0027,encoding\u003d\"utf-8\")"
      ],
      "outputs": []
    },
    {
      "execution_count": 11,
      "cell_type": "code",
      "metadata": {},
      "source": [
        "\nfor i,data in enumerate(f):\n    print(data)"
      ],
      "outputs": [
        {
          "output_type": "stream",
          "name": "stdout",
          "text": "レストラン\n\n私たち\n\nあなた\n\n彼ら\n\nパリ\n\n待ち行列\n\nクール\n\n快適\n\n窮屈\n\n事項\n\nキリン\n\n共有\n\nパイ\n\n宣伝\n\n提案\n\nバー\n\nインテリア\n\nコンパクト\n\nストック\n\n親切\n\n"
        }
      ]
    },
    {
      "execution_count": 0,
      "cell_type": "code",
      "metadata": {},
      "source": [
        "# Compute recipe outputs from inputs\n# TODO: Replace this part by your actual code that computes the output, as a Pandas dataframe\n# NB: DSS also supports other kinds of APIs for reading and writing data. Please see doc.\n\nrecommendation_df \u003d reviews_TF_IDF_df # For this sample code, simply copy input to output\n\n\n# Write recipe outputs\nrecommendation \u003d dataiku.Dataset(\"recommendation\")\nrecommendation.write_with_schema(recommendation_df)"
      ],
      "outputs": []
    }
  ]
}