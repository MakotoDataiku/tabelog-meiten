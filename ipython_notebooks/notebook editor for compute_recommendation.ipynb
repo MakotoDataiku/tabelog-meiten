{
  "metadata": {
    "kernelspec": {
      "display_name": "Python (env japan-nlp)",
      "name": "py-dku-venv-japan-nlp",
      "language": "python"
    },
    "language_info": {
      "mimetype": "text/x-python",
      "nbconvert_exporter": "python",
      "version": "3.6.8",
      "name": "python",
      "pygments_lexer": "ipython3",
      "file_extension": ".py",
      "codemirror_mode": {
        "version": 3,
        "name": "ipython"
      }
    },
    "tags": [
      "recipe-editor"
    ],
    "associatedRecipe": "compute_recommendation",
    "createdOn": 1622736611191,
    "hide_input": false,
    "customFields": {},
    "creator": "admin",
    "modifiedBy": "admin"
  },
  "nbformat": 4,
  "nbformat_minor": 1,
  "cells": [
    {
      "execution_count": 6,
      "cell_type": "code",
      "metadata": {},
      "source": [
        "# -*- coding: utf-8 -*-\nimport dataiku\nimport pandas as pd, numpy as np\nfrom dataiku import pandasutils as pdu\nfrom gensim.models import word2vec"
      ],
      "outputs": [
        {
          "output_type": "stream",
          "name": "stderr",
          "text": "/Users/mmiyazaki/dataiku/Design/DATA_DIR/code-envs/python/japan-nlp/lib/python3.6/site-packages/scipy/sparse/sparsetools.py:21: DeprecationWarning: `scipy.sparse.sparsetools` is deprecated!\nscipy.sparse.sparsetools is a private module for scipy.sparse, and should not be used.\n  _deprecated()\n"
        }
      ]
    },
    {
      "execution_count": 22,
      "cell_type": "code",
      "metadata": {},
      "source": [
        "# Read recipe inputs\nmodel_folder_path \u003d dataiku.Folder(\"m9JZdV7b\").get_path()\nmodel_path \u003d model_folder_path + \"/word2vec_ramen_model.model\"\nramen_model \u003d word2vec.Word2Vec.load(model_path)"
      ],
      "outputs": []
    },
    {
      "execution_count": 39,
      "cell_type": "code",
      "metadata": {},
      "source": [
        "reviews_TF_IDF \u003d dataiku.Dataset(\"reviews_TF_IDF\")\ndf \u003d reviews_TF_IDF.get_dataframe()"
      ],
      "outputs": []
    },
    {
      "execution_count": 36,
      "cell_type": "code",
      "metadata": {},
      "source": [
        "tripAdvisor_path \u003d dataiku.Folder(\"FXMfF0DU\").get_path() + \"/TripAdvisor_top_TFIDF_words.txt\"\nf \u003d open(tripAdvisor_path,\u0027r\u0027,encoding\u003d\"utf-8\")"
      ],
      "outputs": []
    },
    {
      "execution_count": 37,
      "cell_type": "code",
      "metadata": {},
      "source": [
        "words_ta \u003d []\nfor i,data in enumerate(f):\n    word \u003d data.replace(\"\u0027\",\u0027\u0027).replace(\u0027[\u0027,\u0027\u0027).replace(\u0027]\u0027,\u0027\u0027).replace(\u0027 \u0027,\u0027\u0027).replace(\u0027\\n\u0027,\u0027\u0027)\n    words_ta.append(word)"
      ],
      "outputs": []
    },
    {
      "execution_count": 38,
      "cell_type": "code",
      "metadata": {},
      "source": [
        "words_ta"
      ],
      "outputs": [
        {
          "output_type": "execute_result",
          "metadata": {},
          "data": {
            "text/plain": "[\u0027レストラン\u0027,\n \u0027私たち\u0027,\n \u0027あなた\u0027,\n \u0027彼ら\u0027,\n \u0027パリ\u0027,\n \u0027待ち行列\u0027,\n \u0027クール\u0027,\n \u0027快適\u0027,\n \u0027窮屈\u0027,\n \u0027事項\u0027,\n \u0027キリン\u0027,\n \u0027共有\u0027,\n \u0027パイ\u0027,\n \u0027宣伝\u0027,\n \u0027提案\u0027,\n \u0027バー\u0027,\n \u0027インテリア\u0027,\n \u0027コンパクト\u0027,\n \u0027ストック\u0027,\n \u0027親切\u0027]"
          },
          "execution_count": 38
        }
      ]
    },
    {
      "execution_count": 40,
      "cell_type": "code",
      "metadata": {},
      "source": [
        "df"
      ],
      "outputs": [
        {
          "output_type": "execute_result",
          "metadata": {},
          "data": {
            "text/plain": "            store_name                           address  ward  score  review_cnt                                             review                           texts_tfidf_sorted_top20         id\n0        手打式超多加水麺 ののくら       東京都葛飾区亀有3-11-11マーベラス大協ビル 1F  東京都内   3.98         479  2020年、ラーメン103杯目(^^)本日、朝イチで営業を済ませ、次の打ち合わせまで時間が空...  [\u0027ワンタン\u0027, \u0027ストーブ\u0027, \u0027予約\u0027, \u00272時間\u0027, \u00271時間\u0027, \u0027記帳\u0027, \u00272時...  ID-000001\n1    Homemade Ramen 麦苗                  東京都品川区南大井6-11-10  東京都内   3.97         731  2020/08/03(月)5度目の訪問！現在は蜜を避けるために、事前記帳(予約)式になってい...  [\u0027記帳\u0027, \u0027ボード\u0027, \u0027ウェイティング\u0027, \u0027深谷\u0027, \u00279時\u0027, \u0027記名\u0027, \u0027ワン...  ID-000002\n2              麺尊 RAGE         東京都杉並区松庵3-37-22レンツェン松庵 1F  東京都内   3.96         723  5年連続で「ミシュランガイド東京」のビブグルマンに掲載され、「The Tabelog Awa...  [\u0027金華\u0027, \u0027ハム\u0027, \u0027ロック\u0027, \u0027穂先\u0027, \u0027燻製\u0027, \u0027レモン\u0027, \u0027豚バラ\u0027, ...  ID-000003\n3        宍道湖しじみ中華蕎麦 琥珀                    東京都大田区西六郷2-1-3  東京都内   3.95         296  本日は貴重な平日のお休みだった為、普段は中々足を運ぶ事の出来ない蒲田方面へ。11時40分に蒲...  [\u0027シジミ\u0027, \u0027バラ\u0027, \u0027焼き\u0027, \u0027紫玉ねぎ\u0027, \u0027吊し\u0027, \u0027菅野\u0027, \u0027ワンタン\u0027...  ID-000004\n4               らぁ麺や 嶋                   東京都渋谷区本町3-41-12  東京都内   3.95         177  今年、西新宿五丁目に新しいラーメン屋が出来た。まだ1年も経っていないだろうにすでに期待度が非...  [\u0027記帳\u0027, \u00274点\u0027, \u0027細切り\u0027, \u0027記入\u0027, \u0027炭火焼き\u0027, \u0027昆布\u0027, \u0027燻製\u0027, ...  ID-000005\n..                 ...                               ...   ...    ...         ...                                                ...                                                ...        ...\n206            麺屋はやしまる               東京都杉並区高円寺北2-22-111F  東京都内   3.71         297  東京都高円寺駅北口から徒歩5分の麺屋 はやしまるにて、わんたん2コと煮玉子入りつけめん塩99...  [\u0027ワンタン\u0027, \u0027なめこ\u0027, \u0027きゅうり\u0027, \u0027炸醤\u0027, \u0027先払い\u0027, \u0027搾菜\u0027, \u0027冷や...  ID-000207\n207             らーめん紬麦            東京都千代田区神田平河町1第三東ビル B1F  東京都内   3.71         327  初訪問です。前から行きたかったのですが、なかなか行く機会がなく、今日は近くに行く予定があった...  [\u0027蒸し鶏\u0027, \u0027階段\u0027, \u0027おば\u0027, \u0027ナルト\u0027, \u0027ピリ辛\u0027, \u0027ゲンコツ\u0027, \u0027和風\u0027...  ID-000208\n208             づゅる麺池田                    東京都目黒区目黒1-6-12  東京都内   3.71         452  http://wineninja.net/tabearuki-0443/ようやく落ち着いてき...  [\u0027レモン\u0027, \u0027キャベツ\u0027, \u0027つけ出\u0027, \u0027国産\u0027, \u0027秋刀魚\u0027, \u0027宣言\u0027, \u0027サラ\u0027...  ID-000209\n209           つじ田 味噌の章  東京都千代田区神田小川町1-1イルヴィアーレ神田小川町ビル 1F  東京都内   3.71         418  神田小川町で午前中の打ち合わせを終え、小川町の交差点付近にあるつじ田さんへ。つけ麺で有名なつ...  [\u0027青のり\u0027, \u0027白味噌\u0027, \u0027青海苔\u0027, \u0027七味\u0027, \u0027ドロ\u0027, \u0027ちぢれ麺\u0027, \u0027挽肉\u0027...  ID-000210\n210         神田ラーメン わいず            東京都千代田区内神田3-9-6大熊ビル 1Ｆ  東京都内   3.71         644  今日は土曜日！ちょっと用事があって東京へ行ったので、そのついでに思い出のこちらのお店へなぜ、...  [\u0027外人\u0027, \u0027ほうれん草\u0027, \u0027スモーキー\u0027, \u0027ホウレンソウ\u0027, \u0027ニンニク\u0027, \u0027豚骨...  ID-000211\n\n[211 rows x 8 columns]",
            "text/html": "\n            \u003cbutton style\u003d\"display:none\" \n            class\u003d\"btn btn-default ipython-export-btn\" \n            id\u003d\"btn-df-f40ad339-f037-493a-aa10-9b7e2815bb43\" \n            onclick\u003d\"_export_df(\u0027f40ad339-f037-493a-aa10-9b7e2815bb43\u0027)\"\u003e\n                Export dataframe\n            \u003c/button\u003e\n            \n            \u003cscript\u003e\n                \n                function _check_export_df_possible(dfid,yes_fn,no_fn) {\n                    console.log(\u0027Checking dataframe exportability...\u0027)\n                    if(!IPython || !IPython.notebook || !IPython.notebook.kernel || !IPython.notebook.kernel) {\n                        console.log(\u0027Export is not possible (IPython kernel is not available)\u0027)\n                        if(no_fn) {\n                            no_fn();\n                        }\n                    } else {\n                        var pythonCode \u003d \u0027from dataiku.notebook.export import IPythonExporter;IPythonExporter._check_export_stdout(\"\u0027+dfid+\u0027\")\u0027;\n                        IPython.notebook.kernel.execute(pythonCode,{iopub: {output: function(resp) {\n                            console.info(\"Exportability response\", resp);\n                            var size \u003d /^([0-9]+)x([0-9]+)$/.exec(resp.content.data || resp.content.text)\n                            if(!size) {\n                                console.log(\u0027Export is not possible (dataframe is not in-memory anymore)\u0027)\n                                if(no_fn) {\n                                    no_fn();\n                                }\n                            } else {\n                                console.log(\u0027Export is possible\u0027)\n                                if(yes_fn) {\n                                    yes_fn(1*size[1],1*size[2]);\n                                }\n                            }\n                        }}});\n                    }\n                }\n            \n                function _export_df(dfid) {\n                    \n                    var btn \u003d $(\u0027#btn-df-\u0027+dfid);\n                    var btns \u003d $(\u0027.ipython-export-btn\u0027);\n                    \n                    _check_export_df_possible(dfid,function() {\n                        \n                        window.parent.openExportModalFromIPython(\u0027Pandas dataframe\u0027,function(data) {\n                            btns.prop(\u0027disabled\u0027,true);\n                            btn.text(\u0027Exporting...\u0027);\n                            var command \u003d \u0027from dataiku.notebook.export import IPythonExporter;IPythonExporter._run_export(\"\u0027+dfid+\u0027\",\"\u0027+data.exportId+\u0027\")\u0027;\n                            var callback \u003d {iopub:{output: function(resp) {\n                                console.info(\"CB resp:\", resp);\n                                _check_export_df_possible(dfid,function(rows, cols) {\n                                    $(\u0027#btn-df-\u0027+dfid)\n                                        .css(\u0027display\u0027,\u0027inline-block\u0027)\n                                        .text(\u0027Export this dataframe (\u0027+rows+\u0027 rows, \u0027+cols+\u0027 cols)\u0027)\n                                        .prop(\u0027disabled\u0027,false);\n                                },function() {\n                                    $(\u0027#btn-df-\u0027+dfid).css(\u0027display\u0027,\u0027none\u0027);\n                                });\n                            }}};\n                            IPython.notebook.kernel.execute(command,callback,{silent:false}); // yes, silent now defaults to true. figures.\n                        });\n                    \n                    }, function(){\n                            alert(\u0027Unable to export : the Dataframe object is not loaded in memory\u0027);\n                            btn.css(\u0027display\u0027,\u0027none\u0027);\n                    });\n                    \n                }\n                \n                (function(dfid) {\n                \n                    var retryCount \u003d 10;\n                \n                    function is_valid_websock(s) {\n                        return s \u0026\u0026 s.readyState\u003d\u003d1;\n                    }\n                \n                    function check_conn() {\n                        \n                        if(!IPython || !IPython.notebook) {\n                            // Don\u0027t even try to go further\n                            return;\n                        }\n                        \n                        // Check if IPython is ready\n                        console.info(\"Checking conn ...\")\n                        if(IPython.notebook.kernel\n                        \u0026\u0026 IPython.notebook.kernel\n                        \u0026\u0026 is_valid_websock(IPython.notebook.kernel.ws)\n                        ) {\n                            \n                            _check_export_df_possible(dfid,function(rows, cols) {\n                                $(\u0027#btn-df-\u0027+dfid).css(\u0027display\u0027,\u0027inline-block\u0027);\n                                $(\u0027#btn-df-\u0027+dfid).text(\u0027Export this dataframe (\u0027+rows+\u0027 rows, \u0027+cols+\u0027 cols)\u0027);\n                            });\n                            \n                        } else {\n                            console.info(\"Conditions are not ok\", IPython.notebook.kernel);\n                            \n                            // Retry later\n                            \n                            if(retryCount\u003e0) {\n                                setTimeout(check_conn,500);\n                                retryCount--;\n                            }\n                            \n                        }\n                    };\n                    \n                    setTimeout(check_conn,100);\n                    \n                })(\"f40ad339-f037-493a-aa10-9b7e2815bb43\");\n                \n            \u003c/script\u003e\n            \n        \u003cdiv\u003e\n\u003cstyle scoped\u003e\n    .dataframe tbody tr th:only-of-type {\n        vertical-align: middle;\n    }\n\n    .dataframe tbody tr th {\n        vertical-align: top;\n    }\n\n    .dataframe thead th {\n        text-align: right;\n    }\n\u003c/style\u003e\n\u003ctable border\u003d\"1\" class\u003d\"dataframe\"\u003e\n  \u003cthead\u003e\n    \u003ctr style\u003d\"text-align: right;\"\u003e\n      \u003cth\u003e\u003c/th\u003e\n      \u003cth\u003estore_name\u003c/th\u003e\n      \u003cth\u003eaddress\u003c/th\u003e\n      \u003cth\u003eward\u003c/th\u003e\n      \u003cth\u003escore\u003c/th\u003e\n      \u003cth\u003ereview_cnt\u003c/th\u003e\n      \u003cth\u003ereview\u003c/th\u003e\n      \u003cth\u003etexts_tfidf_sorted_top20\u003c/th\u003e\n      \u003cth\u003eid\u003c/th\u003e\n    \u003c/tr\u003e\n  \u003c/thead\u003e\n  \u003ctbody\u003e\n    \u003ctr\u003e\n      \u003cth\u003e0\u003c/th\u003e\n      \u003ctd\u003e手打式超多加水麺 ののくら\u003c/td\u003e\n      \u003ctd\u003e東京都葛飾区亀有3-11-11マーベラス大協ビル 1F\u003c/td\u003e\n      \u003ctd\u003e東京都内\u003c/td\u003e\n      \u003ctd\u003e3.98\u003c/td\u003e\n      \u003ctd\u003e479\u003c/td\u003e\n      \u003ctd\u003e2020年、ラーメン103杯目(^^)本日、朝イチで営業を済ませ、次の打ち合わせまで時間が空...\u003c/td\u003e\n      \u003ctd\u003e[\u0027ワンタン\u0027, \u0027ストーブ\u0027, \u0027予約\u0027, \u00272時間\u0027, \u00271時間\u0027, \u0027記帳\u0027, \u00272時...\u003c/td\u003e\n      \u003ctd\u003eID-000001\u003c/td\u003e\n    \u003c/tr\u003e\n    \u003ctr\u003e\n      \u003cth\u003e1\u003c/th\u003e\n      \u003ctd\u003eHomemade Ramen 麦苗\u003c/td\u003e\n      \u003ctd\u003e東京都品川区南大井6-11-10\u003c/td\u003e\n      \u003ctd\u003e東京都内\u003c/td\u003e\n      \u003ctd\u003e3.97\u003c/td\u003e\n      \u003ctd\u003e731\u003c/td\u003e\n      \u003ctd\u003e2020/08/03(月)5度目の訪問！現在は蜜を避けるために、事前記帳(予約)式になってい...\u003c/td\u003e\n      \u003ctd\u003e[\u0027記帳\u0027, \u0027ボード\u0027, \u0027ウェイティング\u0027, \u0027深谷\u0027, \u00279時\u0027, \u0027記名\u0027, \u0027ワン...\u003c/td\u003e\n      \u003ctd\u003eID-000002\u003c/td\u003e\n    \u003c/tr\u003e\n    \u003ctr\u003e\n      \u003cth\u003e2\u003c/th\u003e\n      \u003ctd\u003e麺尊 RAGE\u003c/td\u003e\n      \u003ctd\u003e東京都杉並区松庵3-37-22レンツェン松庵 1F\u003c/td\u003e\n      \u003ctd\u003e東京都内\u003c/td\u003e\n      \u003ctd\u003e3.96\u003c/td\u003e\n      \u003ctd\u003e723\u003c/td\u003e\n      \u003ctd\u003e5年連続で「ミシュランガイド東京」のビブグルマンに掲載され、「The Tabelog Awa...\u003c/td\u003e\n      \u003ctd\u003e[\u0027金華\u0027, \u0027ハム\u0027, \u0027ロック\u0027, \u0027穂先\u0027, \u0027燻製\u0027, \u0027レモン\u0027, \u0027豚バラ\u0027, ...\u003c/td\u003e\n      \u003ctd\u003eID-000003\u003c/td\u003e\n    \u003c/tr\u003e\n    \u003ctr\u003e\n      \u003cth\u003e3\u003c/th\u003e\n      \u003ctd\u003e宍道湖しじみ中華蕎麦 琥珀\u003c/td\u003e\n      \u003ctd\u003e東京都大田区西六郷2-1-3\u003c/td\u003e\n      \u003ctd\u003e東京都内\u003c/td\u003e\n      \u003ctd\u003e3.95\u003c/td\u003e\n      \u003ctd\u003e296\u003c/td\u003e\n      \u003ctd\u003e本日は貴重な平日のお休みだった為、普段は中々足を運ぶ事の出来ない蒲田方面へ。11時40分に蒲...\u003c/td\u003e\n      \u003ctd\u003e[\u0027シジミ\u0027, \u0027バラ\u0027, \u0027焼き\u0027, \u0027紫玉ねぎ\u0027, \u0027吊し\u0027, \u0027菅野\u0027, \u0027ワンタン\u0027...\u003c/td\u003e\n      \u003ctd\u003eID-000004\u003c/td\u003e\n    \u003c/tr\u003e\n    \u003ctr\u003e\n      \u003cth\u003e4\u003c/th\u003e\n      \u003ctd\u003eらぁ麺や 嶋\u003c/td\u003e\n      \u003ctd\u003e東京都渋谷区本町3-41-12\u003c/td\u003e\n      \u003ctd\u003e東京都内\u003c/td\u003e\n      \u003ctd\u003e3.95\u003c/td\u003e\n      \u003ctd\u003e177\u003c/td\u003e\n      \u003ctd\u003e今年、西新宿五丁目に新しいラーメン屋が出来た。まだ1年も経っていないだろうにすでに期待度が非...\u003c/td\u003e\n      \u003ctd\u003e[\u0027記帳\u0027, \u00274点\u0027, \u0027細切り\u0027, \u0027記入\u0027, \u0027炭火焼き\u0027, \u0027昆布\u0027, \u0027燻製\u0027, ...\u003c/td\u003e\n      \u003ctd\u003eID-000005\u003c/td\u003e\n    \u003c/tr\u003e\n    \u003ctr\u003e\n      \u003cth\u003e...\u003c/th\u003e\n      \u003ctd\u003e...\u003c/td\u003e\n      \u003ctd\u003e...\u003c/td\u003e\n      \u003ctd\u003e...\u003c/td\u003e\n      \u003ctd\u003e...\u003c/td\u003e\n      \u003ctd\u003e...\u003c/td\u003e\n      \u003ctd\u003e...\u003c/td\u003e\n      \u003ctd\u003e...\u003c/td\u003e\n      \u003ctd\u003e...\u003c/td\u003e\n    \u003c/tr\u003e\n    \u003ctr\u003e\n      \u003cth\u003e206\u003c/th\u003e\n      \u003ctd\u003e麺屋はやしまる\u003c/td\u003e\n      \u003ctd\u003e東京都杉並区高円寺北2-22-111F\u003c/td\u003e\n      \u003ctd\u003e東京都内\u003c/td\u003e\n      \u003ctd\u003e3.71\u003c/td\u003e\n      \u003ctd\u003e297\u003c/td\u003e\n      \u003ctd\u003e東京都高円寺駅北口から徒歩5分の麺屋 はやしまるにて、わんたん2コと煮玉子入りつけめん塩99...\u003c/td\u003e\n      \u003ctd\u003e[\u0027ワンタン\u0027, \u0027なめこ\u0027, \u0027きゅうり\u0027, \u0027炸醤\u0027, \u0027先払い\u0027, \u0027搾菜\u0027, \u0027冷や...\u003c/td\u003e\n      \u003ctd\u003eID-000207\u003c/td\u003e\n    \u003c/tr\u003e\n    \u003ctr\u003e\n      \u003cth\u003e207\u003c/th\u003e\n      \u003ctd\u003eらーめん紬麦\u003c/td\u003e\n      \u003ctd\u003e東京都千代田区神田平河町1第三東ビル B1F\u003c/td\u003e\n      \u003ctd\u003e東京都内\u003c/td\u003e\n      \u003ctd\u003e3.71\u003c/td\u003e\n      \u003ctd\u003e327\u003c/td\u003e\n      \u003ctd\u003e初訪問です。前から行きたかったのですが、なかなか行く機会がなく、今日は近くに行く予定があった...\u003c/td\u003e\n      \u003ctd\u003e[\u0027蒸し鶏\u0027, \u0027階段\u0027, \u0027おば\u0027, \u0027ナルト\u0027, \u0027ピリ辛\u0027, \u0027ゲンコツ\u0027, \u0027和風\u0027...\u003c/td\u003e\n      \u003ctd\u003eID-000208\u003c/td\u003e\n    \u003c/tr\u003e\n    \u003ctr\u003e\n      \u003cth\u003e208\u003c/th\u003e\n      \u003ctd\u003eづゅる麺池田\u003c/td\u003e\n      \u003ctd\u003e東京都目黒区目黒1-6-12\u003c/td\u003e\n      \u003ctd\u003e東京都内\u003c/td\u003e\n      \u003ctd\u003e3.71\u003c/td\u003e\n      \u003ctd\u003e452\u003c/td\u003e\n      \u003ctd\u003ehttp://wineninja.net/tabearuki-0443/ようやく落ち着いてき...\u003c/td\u003e\n      \u003ctd\u003e[\u0027レモン\u0027, \u0027キャベツ\u0027, \u0027つけ出\u0027, \u0027国産\u0027, \u0027秋刀魚\u0027, \u0027宣言\u0027, \u0027サラ\u0027...\u003c/td\u003e\n      \u003ctd\u003eID-000209\u003c/td\u003e\n    \u003c/tr\u003e\n    \u003ctr\u003e\n      \u003cth\u003e209\u003c/th\u003e\n      \u003ctd\u003eつじ田 味噌の章\u003c/td\u003e\n      \u003ctd\u003e東京都千代田区神田小川町1-1イルヴィアーレ神田小川町ビル 1F\u003c/td\u003e\n      \u003ctd\u003e東京都内\u003c/td\u003e\n      \u003ctd\u003e3.71\u003c/td\u003e\n      \u003ctd\u003e418\u003c/td\u003e\n      \u003ctd\u003e神田小川町で午前中の打ち合わせを終え、小川町の交差点付近にあるつじ田さんへ。つけ麺で有名なつ...\u003c/td\u003e\n      \u003ctd\u003e[\u0027青のり\u0027, \u0027白味噌\u0027, \u0027青海苔\u0027, \u0027七味\u0027, \u0027ドロ\u0027, \u0027ちぢれ麺\u0027, \u0027挽肉\u0027...\u003c/td\u003e\n      \u003ctd\u003eID-000210\u003c/td\u003e\n    \u003c/tr\u003e\n    \u003ctr\u003e\n      \u003cth\u003e210\u003c/th\u003e\n      \u003ctd\u003e神田ラーメン わいず\u003c/td\u003e\n      \u003ctd\u003e東京都千代田区内神田3-9-6大熊ビル 1Ｆ\u003c/td\u003e\n      \u003ctd\u003e東京都内\u003c/td\u003e\n      \u003ctd\u003e3.71\u003c/td\u003e\n      \u003ctd\u003e644\u003c/td\u003e\n      \u003ctd\u003e今日は土曜日！ちょっと用事があって東京へ行ったので、そのついでに思い出のこちらのお店へなぜ、...\u003c/td\u003e\n      \u003ctd\u003e[\u0027外人\u0027, \u0027ほうれん草\u0027, \u0027スモーキー\u0027, \u0027ホウレンソウ\u0027, \u0027ニンニク\u0027, \u0027豚骨...\u003c/td\u003e\n      \u003ctd\u003eID-000211\u003c/td\u003e\n    \u003c/tr\u003e\n  \u003c/tbody\u003e\n\u003c/table\u003e\n\u003cp\u003e211 rows × 8 columns\u003c/p\u003e\n\u003c/div\u003e"
          },
          "execution_count": 40
        }
      ]
    },
    {
      "execution_count": 0,
      "cell_type": "code",
      "metadata": {},
      "source": [
        "# Compute recipe outputs from inputs\n# TODO: Replace this part by your actual code that computes the output, as a Pandas dataframe\n# NB: DSS also supports other kinds of APIs for reading and writing data. Please see doc.\n\nrecommendation_df \u003d reviews_TF_IDF_df # For this sample code, simply copy input to output\n\n\n# Write recipe outputs\nrecommendation \u003d dataiku.Dataset(\"recommendation\")\nrecommendation.write_with_schema(recommendation_df)"
      ],
      "outputs": []
    }
  ]
}