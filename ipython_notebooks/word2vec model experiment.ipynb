{
  "metadata": {
    "kernelspec": {
      "display_name": "Python (env japan-nlp)",
      "name": "py-dku-venv-japan-nlp",
      "language": "python"
    },
    "language_info": {
      "mimetype": "text/x-python",
      "nbconvert_exporter": "python",
      "version": "3.6.8",
      "name": "python",
      "pygments_lexer": "ipython3",
      "file_extension": ".py",
      "codemirror_mode": {
        "version": 3,
        "name": "ipython"
      }
    },
    "creator": "admin",
    "createdOn": 1622549495462,
    "hide_input": false,
    "customFields": {},
    "tags": [],
    "modifiedBy": "admin"
  },
  "nbformat": 4,
  "nbformat_minor": 1,
  "cells": [
    {
      "execution_count": 1,
      "cell_type": "code",
      "metadata": {},
      "source": [
        "%pylab inline"
      ],
      "outputs": [
        {
          "output_type": "stream",
          "name": "stdout",
          "text": "Populating the interactive namespace from numpy and matplotlib\n"
        }
      ]
    },
    {
      "execution_count": 5,
      "cell_type": "code",
      "metadata": {},
      "source": [
        "import dataiku\nfrom dataiku import pandasutils as pdu\nimport pandas as pd\nfrom gensim.models import word2vec"
      ],
      "outputs": [
        {
          "output_type": "stream",
          "name": "stderr",
          "text": "/Users/mmiyazaki/dataiku/Design/DATA_DIR/code-envs/python/japan-nlp/lib/python3.6/site-packages/scipy/sparse/sparsetools.py:21: DeprecationWarning: `scipy.sparse.sparsetools` is deprecated!\nscipy.sparse.sparsetools is a private module for scipy.sparse, and should not be used.\n  _deprecated()\n"
        }
      ]
    },
    {
      "execution_count": 3,
      "cell_type": "code",
      "metadata": {},
      "source": [
        "folder_path \u003d dataiku.Folder(\"m9JZdV7b\").get_path()\nmodel_path \u003d folder_path + \"/word2vec_ramen_model.model\""
      ],
      "outputs": []
    },
    {
      "execution_count": 7,
      "cell_type": "code",
      "metadata": {},
      "source": [
        "ramen_model \u003d word2vec.Word2Vec.load(model_path)\nramen_model.most_similar(\"山岸\")"
      ],
      "outputs": [
        {
          "output_type": "stream",
          "name": "stderr",
          "text": "/Users/mmiyazaki/dataiku/Design/DATA_DIR/code-envs/python/japan-nlp/lib/python3.6/site-packages/ipykernel_launcher.py:2: DeprecationWarning: Call to deprecated `most_similar` (Method will be removed in 4.0.0, use self.wv.most_similar() instead).\n  \n"
        },
        {
          "output_type": "execute_result",
          "metadata": {},
          "data": {
            "text/plain": "[(\u0027東池袋大勝軒\u0027, 0.6485525965690613),\n (\u0027嶋崎\u0027, 0.5011197924613953),\n (\u0027讃岐うどん\u0027, 0.4812335968017578),\n (\u0027大勝軒\u0027, 0.46381115913391113),\n (\u0027想い\u0027, 0.4560370445251465),\n (\u0027天神下\u0027, 0.4560181498527527),\n (\u0027もりそば\u0027, 0.4542378783226013),\n (\u0027山岸一雄\u0027, 0.452822744846344),\n (\u0027孤高\u0027, 0.4432274103164673),\n (\u0027丸長\u0027, 0.44157731533050537)]"
          },
          "execution_count": 7
        }
      ]
    },
    {
      "execution_count": 8,
      "cell_type": "code",
      "metadata": {},
      "source": [
        "ramen_model \u003d word2vec.Word2Vec.load(model_path)\nramen_model.most_similar(\"ラーメン\")"
      ],
      "outputs": [
        {
          "output_type": "stream",
          "name": "stderr",
          "text": "/Users/mmiyazaki/dataiku/Design/DATA_DIR/code-envs/python/japan-nlp/lib/python3.6/site-packages/ipykernel_launcher.py:2: DeprecationWarning: Call to deprecated `most_similar` (Method will be removed in 4.0.0, use self.wv.most_similar() instead).\n  \n"
        },
        {
          "output_type": "execute_result",
          "metadata": {},
          "data": {
            "text/plain": "[(\u0027ラーメンインスタク\u0027, 0.6030106544494629),\n (\u0027インスタグラマー\u0027, 0.6028460264205933),\n (\u0027018\u0027, 0.5905249118804932),\n (\u0027名店\u0027, 0.573836088180542),\n (\u0027゙りたい\u0027, 0.5657198429107666),\n (\u0027たぐ\u0027, 0.5636146068572998),\n (\u0027ラーメン部\u0027, 0.555148720741272),\n (\u0027らむ\u0027, 0.5528707504272461),\n (\u0027権威\u0027, 0.545261025428772),\n (\u0027倶楽部\u0027, 0.5324455499649048)]"
          },
          "execution_count": 8
        }
      ]
    },
    {
      "execution_count": 0,
      "cell_type": "code",
      "metadata": {},
      "source": [
        ""
      ],
      "outputs": []
    }
  ]
}