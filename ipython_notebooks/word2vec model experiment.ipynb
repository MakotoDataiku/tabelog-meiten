{
  "metadata": {
    "kernelspec": {
      "display_name": "Python (env japan-nlp)",
      "name": "py-dku-venv-japan-nlp",
      "language": "python"
    },
    "language_info": {
      "mimetype": "text/x-python",
      "nbconvert_exporter": "python",
      "version": "3.6.8",
      "name": "python",
      "pygments_lexer": "ipython3",
      "file_extension": ".py",
      "codemirror_mode": {
        "version": 3,
        "name": "ipython"
      }
    },
    "creator": "admin",
    "createdOn": 1622549495462,
    "hide_input": false,
    "customFields": {},
    "tags": [],
    "modifiedBy": "admin"
  },
  "nbformat": 4,
  "nbformat_minor": 1,
  "cells": [
    {
      "execution_count": 1,
      "cell_type": "code",
      "metadata": {},
      "source": [
        "%pylab inline"
      ],
      "outputs": [
        {
          "output_type": "stream",
          "name": "stdout",
          "text": "Populating the interactive namespace from numpy and matplotlib\n"
        }
      ]
    },
    {
      "execution_count": 5,
      "cell_type": "code",
      "metadata": {},
      "source": [
        "import dataiku\nfrom dataiku import pandasutils as pdu\nimport pandas as pd\nfrom gensim.models import word2vec"
      ],
      "outputs": [
        {
          "output_type": "stream",
          "name": "stderr",
          "text": "/Users/mmiyazaki/dataiku/Design/DATA_DIR/code-envs/python/japan-nlp/lib/python3.6/site-packages/scipy/sparse/sparsetools.py:21: DeprecationWarning: `scipy.sparse.sparsetools` is deprecated!\nscipy.sparse.sparsetools is a private module for scipy.sparse, and should not be used.\n  _deprecated()\n"
        }
      ]
    },
    {
      "execution_count": 3,
      "cell_type": "code",
      "metadata": {},
      "source": [
        "folder_path \u003d dataiku.Folder(\"m9JZdV7b\").get_path()\nmodel_path \u003d folder_path + \"/word2vec_ramen_model.model\""
      ],
      "outputs": []
    },
    {
      "execution_count": 7,
      "cell_type": "code",
      "metadata": {},
      "source": [
        "ramen_model \u003d word2vec.Word2Vec.load(model_path)\nramen_model.most_similar(\"山岸\")"
      ],
      "outputs": [
        {
          "output_type": "stream",
          "name": "stderr",
          "text": "/Users/mmiyazaki/dataiku/Design/DATA_DIR/code-envs/python/japan-nlp/lib/python3.6/site-packages/ipykernel_launcher.py:2: DeprecationWarning: Call to deprecated `most_similar` (Method will be removed in 4.0.0, use self.wv.most_similar() instead).\n  \n"
        },
        {
          "output_type": "execute_result",
          "metadata": {},
          "data": {
            "text/plain": "[(\u0027東池袋大勝軒\u0027, 0.6485525965690613),\n (\u0027嶋崎\u0027, 0.5011197924613953),\n (\u0027讃岐うどん\u0027, 0.4812335968017578),\n (\u0027大勝軒\u0027, 0.46381115913391113),\n (\u0027想い\u0027, 0.4560370445251465),\n (\u0027天神下\u0027, 0.4560181498527527),\n (\u0027もりそば\u0027, 0.4542378783226013),\n (\u0027山岸一雄\u0027, 0.452822744846344),\n (\u0027孤高\u0027, 0.4432274103164673),\n (\u0027丸長\u0027, 0.44157731533050537)]"
          },
          "execution_count": 7
        }
      ]
    },
    {
      "execution_count": 10,
      "cell_type": "code",
      "metadata": {},
      "source": [
        "ramen_model \u003d word2vec.Word2Vec.load(model_path)\nramen_model.most_similar(\"二郎\")"
      ],
      "outputs": [
        {
          "output_type": "stream",
          "name": "stderr",
          "text": "/Users/mmiyazaki/dataiku/Design/DATA_DIR/code-envs/python/japan-nlp/lib/python3.6/site-packages/ipykernel_launcher.py:2: DeprecationWarning: Call to deprecated `most_similar` (Method will be removed in 4.0.0, use self.wv.most_similar() instead).\n  \n"
        },
        {
          "output_type": "execute_result",
          "metadata": {},
          "data": {
            "text/plain": "[(\u0027三田\u0027, 0.6412408351898193),\n (\u0027ヤサイ\u0027, 0.6326698064804077),\n (\u0027神田神保町\u0027, 0.6167937517166138),\n (\u0027乳化\u0027, 0.614478349685669),\n (\u0027総帥\u0027, 0.5871599316596985),\n (\u0027ラーメン二郎\u0027, 0.5717422366142273),\n (\u0027アブラ\u0027, 0.5665613412857056),\n (\u0027ジロリアン\u0027, 0.5495834946632385),\n (\u0027直系\u0027, 0.5493595600128174),\n (\u0027ワシワシ\u0027, 0.5487449169158936)]"
          },
          "execution_count": 10
        }
      ]
    },
    {
      "execution_count": 11,
      "cell_type": "code",
      "metadata": {},
      "source": [
        "ramen_model.most_similar(positive\u003d[u\"ラーメン\",u\"北海道\"])"
      ],
      "outputs": [
        {
          "output_type": "stream",
          "name": "stderr",
          "text": "/Users/mmiyazaki/dataiku/Design/DATA_DIR/code-envs/python/japan-nlp/lib/python3.6/site-packages/ipykernel_launcher.py:1: DeprecationWarning: Call to deprecated `most_similar` (Method will be removed in 4.0.0, use self.wv.most_similar() instead).\n  \"\"\"Entry point for launching an IPython kernel.\n"
        },
        {
          "output_type": "execute_result",
          "metadata": {},
          "data": {
            "text/plain": "[(\u0027有名\u0027, 0.5490806102752686),\n (\u0027ラーメンインスタク\u0027, 0.5431714057922363),\n (\u0027aldesuga\u0027, 0.5395625829696655),\n (\u0027゙りたい\u0027, 0.5387316942214966),\n (\u0027ラーメン部\u0027, 0.5370221734046936),\n (\u0027名店\u0027, 0.5328366756439209),\n (\u0027nanika\u0027, 0.5308840274810791),\n (\u0027スタグラマー\u0027, 0.5273999571800232),\n (\u0027non\u0027, 0.5255368947982788),\n (\u0027人気\u0027, 0.5184783935546875)]"
          },
          "execution_count": 11
        }
      ]
    },
    {
      "execution_count": 15,
      "cell_type": "code",
      "metadata": {},
      "source": [
        "ramen_model.most_similar(positive\u003d[u\"六厘舎\",u\"松戸\"], negative\u003d[u\"東京ラーメンストリート\"])"
      ],
      "outputs": [
        {
          "output_type": "stream",
          "name": "stderr",
          "text": "/Users/mmiyazaki/dataiku/Design/DATA_DIR/code-envs/python/japan-nlp/lib/python3.6/site-packages/ipykernel_launcher.py:1: DeprecationWarning: Call to deprecated `most_similar` (Method will be removed in 4.0.0, use self.wv.most_similar() instead).\n  \"\"\"Entry point for launching an IPython kernel.\n"
        },
        {
          "output_type": "execute_result",
          "metadata": {},
          "data": {
            "text/plain": "[(\u0027丹念\u0027, 0.4707927107810974),\n (\u0027premium\u0027, 0.4630582630634308),\n (\u0027誤算\u0027, 0.42375513911247253),\n (\u0027ゆで卵\u0027, 0.3952205181121826),\n (\u0027もっともっと\u0027, 0.3889691233634949),\n (\u00274年連続\u0027, 0.36908817291259766),\n (\u0027勢い\u0027, 0.36142757534980774),\n (\u0027かん\u0027, 0.3590412139892578),\n (\u0027先日\u0027, 0.3553462028503418),\n (\u0027魚粉\u0027, 0.3545647859573364)]"
          },
          "execution_count": 15
        }
      ]
    },
    {
      "execution_count": 0,
      "cell_type": "code",
      "metadata": {},
      "source": [
        ""
      ],
      "outputs": []
    }
  ]
}