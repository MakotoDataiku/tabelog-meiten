{
  "metadata": {
    "kernelspec": {
      "display_name": "Python (env japan-nlp)",
      "name": "py-dku-venv-japan-nlp",
      "language": "python"
    },
    "language_info": {
      "mimetype": "text/x-python",
      "nbconvert_exporter": "python",
      "version": "3.6.8",
      "name": "python",
      "pygments_lexer": "ipython3",
      "file_extension": ".py",
      "codemirror_mode": {
        "version": 3,
        "name": "ipython"
      }
    },
    "tags": [
      "recipe-editor"
    ],
    "associatedRecipe": "compute_similarity_scores",
    "createdOn": 1622567195205,
    "hide_input": false,
    "customFields": {},
    "creator": "admin",
    "modifiedBy": "admin"
  },
  "nbformat": 4,
  "nbformat_minor": 1,
  "cells": [
    {
      "execution_count": 1,
      "cell_type": "code",
      "metadata": {},
      "source": [
        "# -*- coding: utf-8 -*-\nimport dataiku\nimport pandas as pd, numpy as np\nfrom dataiku import pandasutils as pdu\nfrom itertools import product"
      ],
      "outputs": []
    },
    {
      "execution_count": 2,
      "cell_type": "code",
      "metadata": {},
      "source": [
        "# Read recipe inputs\nreviews_TF_IDF \u003d dataiku.Dataset(\"reviews_TF_IDF\")\ndf \u003d reviews_TF_IDF.get_dataframe()"
      ],
      "outputs": []
    },
    {
      "execution_count": 7,
      "cell_type": "code",
      "metadata": {},
      "source": [
        "store_cross \u003d []\nfor ids in product(df[\u0027id\u0027], repeat\u003d2):\n    store_cross.append(ids)"
      ],
      "outputs": []
    },
    {
      "execution_count": 9,
      "cell_type": "code",
      "metadata": {},
      "source": [
        "store_cross_df \u003d pd.DataFrame(store_cross, columns\u003d[\u0027id_x\u0027, \u0027id_y\u0027])"
      ],
      "outputs": []
    },
    {
      "execution_count": 0,
      "cell_type": "code",
      "metadata": {},
      "source": [
        "store_cross_detail \u003d store_cross_df.merge(df[[\u0027id\u0027,\u0027store_name\u0027,\u0027score\u0027,\u0027review_cnt\u0027,\u0027texts_tfidf_sorted_top20\u0027]], \n                                          how\u003d\u0027inner\u0027, \n                                          left_on\u003d\u0027id_x\u0027, \n                                          right_on\u003d\u0027id\u0027).drop(columns\u003d\u0027id\u0027).merge(df[[\u0027id\u0027,\u0027store_name\u0027,\u0027score\u0027,\u0027review_cnt\u0027,\u0027texts_tfidf_sorted_top20\u0027]], \n                                                                                  how\u003d\u0027inner\u0027, \n                                                                                  left_on\u003d\u0027id_y\u0027, \n                                                                                  right_on\u003d\u0027id\u0027).drop(columns\u003d\u0027id\u0027)\nstore_cross_detail \u003d store_cross_detail[store_cross_detail[\u0027id_x\u0027].isin(df[\u0027id\u0027].loc[0:50])]\nstore_cross_detail \u003d store_cross_detail.reset_index(drop\u003dTrue).sort_values([\u0027id_x\u0027])"
      ],
      "outputs": []
    },
    {
      "execution_count": 0,
      "cell_type": "code",
      "metadata": {},
      "source": [
        "# Compute recipe outputs from inputs\n# TODO: Replace this part by your actual code that computes the output, as a Pandas dataframe\n# NB: DSS also supports other kinds of APIs for reading and writing data. Please see doc.\n\nsimilarity_scores_df \u003d reviews_TF_IDF_df # For this sample code, simply copy input to output\n\n\n# Write recipe outputs\nsimilarity_scores \u003d dataiku.Dataset(\"similarity_scores\")\nsimilarity_scores.write_with_schema(similarity_scores_df)"
      ],
      "outputs": []
    }
  ]
}