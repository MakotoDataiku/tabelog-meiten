{
  "metadata": {
    "kernelspec": {
      "display_name": "Python (env japan-nlp)",
      "name": "py-dku-venv-japan-nlp",
      "language": "python"
    },
    "language_info": {
      "mimetype": "text/x-python",
      "nbconvert_exporter": "python",
      "version": "3.6.8",
      "name": "python",
      "pygments_lexer": "ipython3",
      "file_extension": ".py",
      "codemirror_mode": {
        "version": 3,
        "name": "ipython"
      }
    },
    "tags": [
      "recipe-editor"
    ],
    "associatedRecipe": "compute_similarity_scores",
    "createdOn": 1622567195205,
    "hide_input": false,
    "customFields": {},
    "creator": "admin",
    "modifiedBy": "admin"
  },
  "nbformat": 4,
  "nbformat_minor": 1,
  "cells": [
    {
      "execution_count": 1,
      "cell_type": "code",
      "metadata": {},
      "source": [
        "# -*- coding: utf-8 -*-\nimport dataiku\nimport pandas as pd, numpy as np\nfrom dataiku import pandasutils as pdu\nfrom itertools import product"
      ],
      "outputs": []
    },
    {
      "execution_count": 2,
      "cell_type": "code",
      "metadata": {},
      "source": [
        "# Read recipe inputs\nreviews_TF_IDF \u003d dataiku.Dataset(\"reviews_TF_IDF\")\ndf \u003d reviews_TF_IDF.get_dataframe()"
      ],
      "outputs": []
    },
    {
      "execution_count": 7,
      "cell_type": "code",
      "metadata": {},
      "source": [
        "store_cross \u003d []\nfor ids in product(df[\u0027id\u0027], repeat\u003d2):\n    store_cross.append(ids)"
      ],
      "outputs": []
    },
    {
      "execution_count": 9,
      "cell_type": "code",
      "metadata": {},
      "source": [
        "store_cross_df \u003d pd.DataFrame(store_cross, columns\u003d[\u0027id_x\u0027, \u0027id_y\u0027])"
      ],
      "outputs": []
    },
    {
      "execution_count": 10,
      "cell_type": "code",
      "metadata": {},
      "source": [
        "store_cross_detail \u003d store_cross_df.merge(df[[\u0027id\u0027,\u0027store_name\u0027,\u0027score\u0027,\u0027review_cnt\u0027,\u0027texts_tfidf_sorted_top20\u0027]], \n                                          how\u003d\u0027inner\u0027, \n                                          left_on\u003d\u0027id_x\u0027, \n                                          right_on\u003d\u0027id\u0027).drop(columns\u003d\u0027id\u0027).merge(df[[\u0027id\u0027,\u0027store_name\u0027,\u0027score\u0027,\u0027review_cnt\u0027,\u0027texts_tfidf_sorted_top20\u0027]], \n                                                                                  how\u003d\u0027inner\u0027, \n                                                                                  left_on\u003d\u0027id_y\u0027, \n                                                                                  right_on\u003d\u0027id\u0027).drop(columns\u003d\u0027id\u0027)"
      ],
      "outputs": []
    },
    {
      "execution_count": 12,
      "cell_type": "code",
      "metadata": {},
      "source": [
        "store_cross_detail.head()"
      ],
      "outputs": [
        {
          "output_type": "execute_result",
          "metadata": {},
          "data": {
            "text/plain": "        id_x       id_y       store_name_x  score_x  review_cnt_x                         texts_tfidf_sorted_top20_x   store_name_y  score_y  review_cnt_y                         texts_tfidf_sorted_top20_y\n0  ID-000001  ID-000001      手打式超多加水麺 ののくら     3.98           479  [\u0027ワンタン\u0027, \u0027ストーブ\u0027, \u0027予約\u0027, \u00272時間\u0027, \u00271時間\u0027, \u0027記帳\u0027, \u00272時...  手打式超多加水麺 ののくら     3.98           479  [\u0027ワンタン\u0027, \u0027ストーブ\u0027, \u0027予約\u0027, \u00272時間\u0027, \u00271時間\u0027, \u0027記帳\u0027, \u00272時...\n1  ID-000002  ID-000001  Homemade Ramen 麦苗     3.97           731  [\u0027記帳\u0027, \u0027ボード\u0027, \u0027ウェイティング\u0027, \u0027深谷\u0027, \u00279時\u0027, \u0027記名\u0027, \u0027ワン...  手打式超多加水麺 ののくら     3.98           479  [\u0027ワンタン\u0027, \u0027ストーブ\u0027, \u0027予約\u0027, \u00272時間\u0027, \u00271時間\u0027, \u0027記帳\u0027, \u00272時...\n2  ID-000003  ID-000001            麺尊 RAGE     3.96           723  [\u0027金華\u0027, \u0027ハム\u0027, \u0027ロック\u0027, \u0027穂先\u0027, \u0027燻製\u0027, \u0027レモン\u0027, \u0027豚バラ\u0027, ...  手打式超多加水麺 ののくら     3.98           479  [\u0027ワンタン\u0027, \u0027ストーブ\u0027, \u0027予約\u0027, \u00272時間\u0027, \u00271時間\u0027, \u0027記帳\u0027, \u00272時...\n3  ID-000004  ID-000001      宍道湖しじみ中華蕎麦 琥珀     3.95           296  [\u0027シジミ\u0027, \u0027バラ\u0027, \u0027焼き\u0027, \u0027紫玉ねぎ\u0027, \u0027吊し\u0027, \u0027菅野\u0027, \u0027ワンタン\u0027...  手打式超多加水麺 ののくら     3.98           479  [\u0027ワンタン\u0027, \u0027ストーブ\u0027, \u0027予約\u0027, \u00272時間\u0027, \u00271時間\u0027, \u0027記帳\u0027, \u00272時...\n4  ID-000005  ID-000001             らぁ麺や 嶋     3.95           177  [\u0027記帳\u0027, \u00274点\u0027, \u0027細切り\u0027, \u0027記入\u0027, \u0027炭火焼き\u0027, \u0027昆布\u0027, \u0027燻製\u0027, ...  手打式超多加水麺 ののくら     3.98           479  [\u0027ワンタン\u0027, \u0027ストーブ\u0027, \u0027予約\u0027, \u00272時間\u0027, \u00271時間\u0027, \u0027記帳\u0027, \u00272時...",
            "text/html": "\n            \u003cbutton style\u003d\"display:none\" \n            class\u003d\"btn btn-default ipython-export-btn\" \n            id\u003d\"btn-df-68727d2f-d5b0-4101-9a0e-2f2d450edeef\" \n            onclick\u003d\"_export_df(\u002768727d2f-d5b0-4101-9a0e-2f2d450edeef\u0027)\"\u003e\n                Export dataframe\n            \u003c/button\u003e\n            \n            \u003cscript\u003e\n                \n                function _check_export_df_possible(dfid,yes_fn,no_fn) {\n                    console.log(\u0027Checking dataframe exportability...\u0027)\n                    if(!IPython || !IPython.notebook || !IPython.notebook.kernel || !IPython.notebook.kernel) {\n                        console.log(\u0027Export is not possible (IPython kernel is not available)\u0027)\n                        if(no_fn) {\n                            no_fn();\n                        }\n                    } else {\n                        var pythonCode \u003d \u0027from dataiku.notebook.export import IPythonExporter;IPythonExporter._check_export_stdout(\"\u0027+dfid+\u0027\")\u0027;\n                        IPython.notebook.kernel.execute(pythonCode,{iopub: {output: function(resp) {\n                            console.info(\"Exportability response\", resp);\n                            var size \u003d /^([0-9]+)x([0-9]+)$/.exec(resp.content.data || resp.content.text)\n                            if(!size) {\n                                console.log(\u0027Export is not possible (dataframe is not in-memory anymore)\u0027)\n                                if(no_fn) {\n                                    no_fn();\n                                }\n                            } else {\n                                console.log(\u0027Export is possible\u0027)\n                                if(yes_fn) {\n                                    yes_fn(1*size[1],1*size[2]);\n                                }\n                            }\n                        }}});\n                    }\n                }\n            \n                function _export_df(dfid) {\n                    \n                    var btn \u003d $(\u0027#btn-df-\u0027+dfid);\n                    var btns \u003d $(\u0027.ipython-export-btn\u0027);\n                    \n                    _check_export_df_possible(dfid,function() {\n                        \n                        window.parent.openExportModalFromIPython(\u0027Pandas dataframe\u0027,function(data) {\n                            btns.prop(\u0027disabled\u0027,true);\n                            btn.text(\u0027Exporting...\u0027);\n                            var command \u003d \u0027from dataiku.notebook.export import IPythonExporter;IPythonExporter._run_export(\"\u0027+dfid+\u0027\",\"\u0027+data.exportId+\u0027\")\u0027;\n                            var callback \u003d {iopub:{output: function(resp) {\n                                console.info(\"CB resp:\", resp);\n                                _check_export_df_possible(dfid,function(rows, cols) {\n                                    $(\u0027#btn-df-\u0027+dfid)\n                                        .css(\u0027display\u0027,\u0027inline-block\u0027)\n                                        .text(\u0027Export this dataframe (\u0027+rows+\u0027 rows, \u0027+cols+\u0027 cols)\u0027)\n                                        .prop(\u0027disabled\u0027,false);\n                                },function() {\n                                    $(\u0027#btn-df-\u0027+dfid).css(\u0027display\u0027,\u0027none\u0027);\n                                });\n                            }}};\n                            IPython.notebook.kernel.execute(command,callback,{silent:false}); // yes, silent now defaults to true. figures.\n                        });\n                    \n                    }, function(){\n                            alert(\u0027Unable to export : the Dataframe object is not loaded in memory\u0027);\n                            btn.css(\u0027display\u0027,\u0027none\u0027);\n                    });\n                    \n                }\n                \n                (function(dfid) {\n                \n                    var retryCount \u003d 10;\n                \n                    function is_valid_websock(s) {\n                        return s \u0026\u0026 s.readyState\u003d\u003d1;\n                    }\n                \n                    function check_conn() {\n                        \n                        if(!IPython || !IPython.notebook) {\n                            // Don\u0027t even try to go further\n                            return;\n                        }\n                        \n                        // Check if IPython is ready\n                        console.info(\"Checking conn ...\")\n                        if(IPython.notebook.kernel\n                        \u0026\u0026 IPython.notebook.kernel\n                        \u0026\u0026 is_valid_websock(IPython.notebook.kernel.ws)\n                        ) {\n                            \n                            _check_export_df_possible(dfid,function(rows, cols) {\n                                $(\u0027#btn-df-\u0027+dfid).css(\u0027display\u0027,\u0027inline-block\u0027);\n                                $(\u0027#btn-df-\u0027+dfid).text(\u0027Export this dataframe (\u0027+rows+\u0027 rows, \u0027+cols+\u0027 cols)\u0027);\n                            });\n                            \n                        } else {\n                            console.info(\"Conditions are not ok\", IPython.notebook.kernel);\n                            \n                            // Retry later\n                            \n                            if(retryCount\u003e0) {\n                                setTimeout(check_conn,500);\n                                retryCount--;\n                            }\n                            \n                        }\n                    };\n                    \n                    setTimeout(check_conn,100);\n                    \n                })(\"68727d2f-d5b0-4101-9a0e-2f2d450edeef\");\n                \n            \u003c/script\u003e\n            \n        \u003cdiv\u003e\n\u003cstyle scoped\u003e\n    .dataframe tbody tr th:only-of-type {\n        vertical-align: middle;\n    }\n\n    .dataframe tbody tr th {\n        vertical-align: top;\n    }\n\n    .dataframe thead th {\n        text-align: right;\n    }\n\u003c/style\u003e\n\u003ctable border\u003d\"1\" class\u003d\"dataframe\"\u003e\n  \u003cthead\u003e\n    \u003ctr style\u003d\"text-align: right;\"\u003e\n      \u003cth\u003e\u003c/th\u003e\n      \u003cth\u003eid_x\u003c/th\u003e\n      \u003cth\u003eid_y\u003c/th\u003e\n      \u003cth\u003estore_name_x\u003c/th\u003e\n      \u003cth\u003escore_x\u003c/th\u003e\n      \u003cth\u003ereview_cnt_x\u003c/th\u003e\n      \u003cth\u003etexts_tfidf_sorted_top20_x\u003c/th\u003e\n      \u003cth\u003estore_name_y\u003c/th\u003e\n      \u003cth\u003escore_y\u003c/th\u003e\n      \u003cth\u003ereview_cnt_y\u003c/th\u003e\n      \u003cth\u003etexts_tfidf_sorted_top20_y\u003c/th\u003e\n    \u003c/tr\u003e\n  \u003c/thead\u003e\n  \u003ctbody\u003e\n    \u003ctr\u003e\n      \u003cth\u003e0\u003c/th\u003e\n      \u003ctd\u003eID-000001\u003c/td\u003e\n      \u003ctd\u003eID-000001\u003c/td\u003e\n      \u003ctd\u003e手打式超多加水麺 ののくら\u003c/td\u003e\n      \u003ctd\u003e3.98\u003c/td\u003e\n      \u003ctd\u003e479\u003c/td\u003e\n      \u003ctd\u003e[\u0027ワンタン\u0027, \u0027ストーブ\u0027, \u0027予約\u0027, \u00272時間\u0027, \u00271時間\u0027, \u0027記帳\u0027, \u00272時...\u003c/td\u003e\n      \u003ctd\u003e手打式超多加水麺 ののくら\u003c/td\u003e\n      \u003ctd\u003e3.98\u003c/td\u003e\n      \u003ctd\u003e479\u003c/td\u003e\n      \u003ctd\u003e[\u0027ワンタン\u0027, \u0027ストーブ\u0027, \u0027予約\u0027, \u00272時間\u0027, \u00271時間\u0027, \u0027記帳\u0027, \u00272時...\u003c/td\u003e\n    \u003c/tr\u003e\n    \u003ctr\u003e\n      \u003cth\u003e1\u003c/th\u003e\n      \u003ctd\u003eID-000002\u003c/td\u003e\n      \u003ctd\u003eID-000001\u003c/td\u003e\n      \u003ctd\u003eHomemade Ramen 麦苗\u003c/td\u003e\n      \u003ctd\u003e3.97\u003c/td\u003e\n      \u003ctd\u003e731\u003c/td\u003e\n      \u003ctd\u003e[\u0027記帳\u0027, \u0027ボード\u0027, \u0027ウェイティング\u0027, \u0027深谷\u0027, \u00279時\u0027, \u0027記名\u0027, \u0027ワン...\u003c/td\u003e\n      \u003ctd\u003e手打式超多加水麺 ののくら\u003c/td\u003e\n      \u003ctd\u003e3.98\u003c/td\u003e\n      \u003ctd\u003e479\u003c/td\u003e\n      \u003ctd\u003e[\u0027ワンタン\u0027, \u0027ストーブ\u0027, \u0027予約\u0027, \u00272時間\u0027, \u00271時間\u0027, \u0027記帳\u0027, \u00272時...\u003c/td\u003e\n    \u003c/tr\u003e\n    \u003ctr\u003e\n      \u003cth\u003e2\u003c/th\u003e\n      \u003ctd\u003eID-000003\u003c/td\u003e\n      \u003ctd\u003eID-000001\u003c/td\u003e\n      \u003ctd\u003e麺尊 RAGE\u003c/td\u003e\n      \u003ctd\u003e3.96\u003c/td\u003e\n      \u003ctd\u003e723\u003c/td\u003e\n      \u003ctd\u003e[\u0027金華\u0027, \u0027ハム\u0027, \u0027ロック\u0027, \u0027穂先\u0027, \u0027燻製\u0027, \u0027レモン\u0027, \u0027豚バラ\u0027, ...\u003c/td\u003e\n      \u003ctd\u003e手打式超多加水麺 ののくら\u003c/td\u003e\n      \u003ctd\u003e3.98\u003c/td\u003e\n      \u003ctd\u003e479\u003c/td\u003e\n      \u003ctd\u003e[\u0027ワンタン\u0027, \u0027ストーブ\u0027, \u0027予約\u0027, \u00272時間\u0027, \u00271時間\u0027, \u0027記帳\u0027, \u00272時...\u003c/td\u003e\n    \u003c/tr\u003e\n    \u003ctr\u003e\n      \u003cth\u003e3\u003c/th\u003e\n      \u003ctd\u003eID-000004\u003c/td\u003e\n      \u003ctd\u003eID-000001\u003c/td\u003e\n      \u003ctd\u003e宍道湖しじみ中華蕎麦 琥珀\u003c/td\u003e\n      \u003ctd\u003e3.95\u003c/td\u003e\n      \u003ctd\u003e296\u003c/td\u003e\n      \u003ctd\u003e[\u0027シジミ\u0027, \u0027バラ\u0027, \u0027焼き\u0027, \u0027紫玉ねぎ\u0027, \u0027吊し\u0027, \u0027菅野\u0027, \u0027ワンタン\u0027...\u003c/td\u003e\n      \u003ctd\u003e手打式超多加水麺 ののくら\u003c/td\u003e\n      \u003ctd\u003e3.98\u003c/td\u003e\n      \u003ctd\u003e479\u003c/td\u003e\n      \u003ctd\u003e[\u0027ワンタン\u0027, \u0027ストーブ\u0027, \u0027予約\u0027, \u00272時間\u0027, \u00271時間\u0027, \u0027記帳\u0027, \u00272時...\u003c/td\u003e\n    \u003c/tr\u003e\n    \u003ctr\u003e\n      \u003cth\u003e4\u003c/th\u003e\n      \u003ctd\u003eID-000005\u003c/td\u003e\n      \u003ctd\u003eID-000001\u003c/td\u003e\n      \u003ctd\u003eらぁ麺や 嶋\u003c/td\u003e\n      \u003ctd\u003e3.95\u003c/td\u003e\n      \u003ctd\u003e177\u003c/td\u003e\n      \u003ctd\u003e[\u0027記帳\u0027, \u00274点\u0027, \u0027細切り\u0027, \u0027記入\u0027, \u0027炭火焼き\u0027, \u0027昆布\u0027, \u0027燻製\u0027, ...\u003c/td\u003e\n      \u003ctd\u003e手打式超多加水麺 ののくら\u003c/td\u003e\n      \u003ctd\u003e3.98\u003c/td\u003e\n      \u003ctd\u003e479\u003c/td\u003e\n      \u003ctd\u003e[\u0027ワンタン\u0027, \u0027ストーブ\u0027, \u0027予約\u0027, \u00272時間\u0027, \u00271時間\u0027, \u0027記帳\u0027, \u00272時...\u003c/td\u003e\n    \u003c/tr\u003e\n  \u003c/tbody\u003e\n\u003c/table\u003e\n\u003c/div\u003e"
          },
          "execution_count": 12
        }
      ]
    },
    {
      "execution_count": 0,
      "cell_type": "code",
      "metadata": {},
      "source": [
        "store_cross_detail \u003d store_cross_detail[store_cross_detail[\u0027id_x\u0027].isin(df[\u0027id\u0027].loc[0:50])]\nstore_cross_detail \u003d store_cross_detail.reset_index(drop\u003dTrue).sort_values([\u0027id_x\u0027])"
      ],
      "outputs": []
    },
    {
      "execution_count": 0,
      "cell_type": "code",
      "metadata": {},
      "source": [
        "# Compute recipe outputs from inputs\n# TODO: Replace this part by your actual code that computes the output, as a Pandas dataframe\n# NB: DSS also supports other kinds of APIs for reading and writing data. Please see doc.\n\nsimilarity_scores_df \u003d reviews_TF_IDF_df # For this sample code, simply copy input to output\n\n\n# Write recipe outputs\nsimilarity_scores \u003d dataiku.Dataset(\"similarity_scores\")\nsimilarity_scores.write_with_schema(similarity_scores_df)"
      ],
      "outputs": []
    }
  ]
}