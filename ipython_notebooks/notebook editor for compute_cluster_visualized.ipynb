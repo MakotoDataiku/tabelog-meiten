{
  "metadata": {
    "kernelspec": {
      "display_name": "Python (env japan-nlp)",
      "name": "py-dku-venv-japan-nlp",
      "language": "python"
    },
    "language_info": {
      "mimetype": "text/x-python",
      "nbconvert_exporter": "python",
      "version": "3.6.8",
      "name": "python",
      "pygments_lexer": "ipython3",
      "file_extension": ".py",
      "codemirror_mode": {
        "version": 3,
        "name": "ipython"
      }
    },
    "tags": [
      "recipe-editor"
    ],
    "associatedRecipe": "compute_cluster_visualized",
    "createdOn": 1622808370326,
    "hide_input": false,
    "customFields": {},
    "creator": "admin",
    "modifiedBy": "admin"
  },
  "nbformat": 4,
  "nbformat_minor": 1,
  "cells": [
    {
      "execution_count": 1,
      "cell_type": "code",
      "metadata": {},
      "source": [
        "# -*- coding: utf-8 -*-\nimport dataiku\nimport pandas as pd, numpy as np\nfrom dataiku import pandasutils as pdu\nimport matplotlib.pyplot as plt"
      ],
      "outputs": []
    },
    {
      "execution_count": 2,
      "cell_type": "code",
      "metadata": {},
      "source": [
        "# Read recipe inputs\nramen_vocab_clustered \u003d dataiku.Dataset(\"ramen_vocab_clustered\")\ndf \u003d ramen_vocab_clustered.get_dataframe()"
      ],
      "outputs": []
    },
    {
      "execution_count": 3,
      "cell_type": "code",
      "metadata": {},
      "source": [
        "df.head()"
      ],
      "outputs": [
        {
          "output_type": "execute_result",
          "metadata": {},
          "data": {
            "text/plain": "     words cluster_labels\n0   mormor      cluster_5\n1  twitter      cluster_5\n2       情報      cluster_5\n3   リニューアル      cluster_5\n4     ラーメン      cluster_5",
            "text/html": "\n            \u003cbutton style\u003d\"display:none\" \n            class\u003d\"btn btn-default ipython-export-btn\" \n            id\u003d\"btn-df-eba8145f-f374-46ea-9666-a300f75b3f12\" \n            onclick\u003d\"_export_df(\u0027eba8145f-f374-46ea-9666-a300f75b3f12\u0027)\"\u003e\n                Export dataframe\n            \u003c/button\u003e\n            \n            \u003cscript\u003e\n                \n                function _check_export_df_possible(dfid,yes_fn,no_fn) {\n                    console.log(\u0027Checking dataframe exportability...\u0027)\n                    if(!IPython || !IPython.notebook || !IPython.notebook.kernel || !IPython.notebook.kernel) {\n                        console.log(\u0027Export is not possible (IPython kernel is not available)\u0027)\n                        if(no_fn) {\n                            no_fn();\n                        }\n                    } else {\n                        var pythonCode \u003d \u0027from dataiku.notebook.export import IPythonExporter;IPythonExporter._check_export_stdout(\"\u0027+dfid+\u0027\")\u0027;\n                        IPython.notebook.kernel.execute(pythonCode,{iopub: {output: function(resp) {\n                            console.info(\"Exportability response\", resp);\n                            var size \u003d /^([0-9]+)x([0-9]+)$/.exec(resp.content.data || resp.content.text)\n                            if(!size) {\n                                console.log(\u0027Export is not possible (dataframe is not in-memory anymore)\u0027)\n                                if(no_fn) {\n                                    no_fn();\n                                }\n                            } else {\n                                console.log(\u0027Export is possible\u0027)\n                                if(yes_fn) {\n                                    yes_fn(1*size[1],1*size[2]);\n                                }\n                            }\n                        }}});\n                    }\n                }\n            \n                function _export_df(dfid) {\n                    \n                    var btn \u003d $(\u0027#btn-df-\u0027+dfid);\n                    var btns \u003d $(\u0027.ipython-export-btn\u0027);\n                    \n                    _check_export_df_possible(dfid,function() {\n                        \n                        window.parent.openExportModalFromIPython(\u0027Pandas dataframe\u0027,function(data) {\n                            btns.prop(\u0027disabled\u0027,true);\n                            btn.text(\u0027Exporting...\u0027);\n                            var command \u003d \u0027from dataiku.notebook.export import IPythonExporter;IPythonExporter._run_export(\"\u0027+dfid+\u0027\",\"\u0027+data.exportId+\u0027\")\u0027;\n                            var callback \u003d {iopub:{output: function(resp) {\n                                console.info(\"CB resp:\", resp);\n                                _check_export_df_possible(dfid,function(rows, cols) {\n                                    $(\u0027#btn-df-\u0027+dfid)\n                                        .css(\u0027display\u0027,\u0027inline-block\u0027)\n                                        .text(\u0027Export this dataframe (\u0027+rows+\u0027 rows, \u0027+cols+\u0027 cols)\u0027)\n                                        .prop(\u0027disabled\u0027,false);\n                                },function() {\n                                    $(\u0027#btn-df-\u0027+dfid).css(\u0027display\u0027,\u0027none\u0027);\n                                });\n                            }}};\n                            IPython.notebook.kernel.execute(command,callback,{silent:false}); // yes, silent now defaults to true. figures.\n                        });\n                    \n                    }, function(){\n                            alert(\u0027Unable to export : the Dataframe object is not loaded in memory\u0027);\n                            btn.css(\u0027display\u0027,\u0027none\u0027);\n                    });\n                    \n                }\n                \n                (function(dfid) {\n                \n                    var retryCount \u003d 10;\n                \n                    function is_valid_websock(s) {\n                        return s \u0026\u0026 s.readyState\u003d\u003d1;\n                    }\n                \n                    function check_conn() {\n                        \n                        if(!IPython || !IPython.notebook) {\n                            // Don\u0027t even try to go further\n                            return;\n                        }\n                        \n                        // Check if IPython is ready\n                        console.info(\"Checking conn ...\")\n                        if(IPython.notebook.kernel\n                        \u0026\u0026 IPython.notebook.kernel\n                        \u0026\u0026 is_valid_websock(IPython.notebook.kernel.ws)\n                        ) {\n                            \n                            _check_export_df_possible(dfid,function(rows, cols) {\n                                $(\u0027#btn-df-\u0027+dfid).css(\u0027display\u0027,\u0027inline-block\u0027);\n                                $(\u0027#btn-df-\u0027+dfid).text(\u0027Export this dataframe (\u0027+rows+\u0027 rows, \u0027+cols+\u0027 cols)\u0027);\n                            });\n                            \n                        } else {\n                            console.info(\"Conditions are not ok\", IPython.notebook.kernel);\n                            \n                            // Retry later\n                            \n                            if(retryCount\u003e0) {\n                                setTimeout(check_conn,500);\n                                retryCount--;\n                            }\n                            \n                        }\n                    };\n                    \n                    setTimeout(check_conn,100);\n                    \n                })(\"eba8145f-f374-46ea-9666-a300f75b3f12\");\n                \n            \u003c/script\u003e\n            \n        \u003cdiv\u003e\n\u003cstyle scoped\u003e\n    .dataframe tbody tr th:only-of-type {\n        vertical-align: middle;\n    }\n\n    .dataframe tbody tr th {\n        vertical-align: top;\n    }\n\n    .dataframe thead th {\n        text-align: right;\n    }\n\u003c/style\u003e\n\u003ctable border\u003d\"1\" class\u003d\"dataframe\"\u003e\n  \u003cthead\u003e\n    \u003ctr style\u003d\"text-align: right;\"\u003e\n      \u003cth\u003e\u003c/th\u003e\n      \u003cth\u003ewords\u003c/th\u003e\n      \u003cth\u003ecluster_labels\u003c/th\u003e\n    \u003c/tr\u003e\n  \u003c/thead\u003e\n  \u003ctbody\u003e\n    \u003ctr\u003e\n      \u003cth\u003e0\u003c/th\u003e\n      \u003ctd\u003emormor\u003c/td\u003e\n      \u003ctd\u003ecluster_5\u003c/td\u003e\n    \u003c/tr\u003e\n    \u003ctr\u003e\n      \u003cth\u003e1\u003c/th\u003e\n      \u003ctd\u003etwitter\u003c/td\u003e\n      \u003ctd\u003ecluster_5\u003c/td\u003e\n    \u003c/tr\u003e\n    \u003ctr\u003e\n      \u003cth\u003e2\u003c/th\u003e\n      \u003ctd\u003e情報\u003c/td\u003e\n      \u003ctd\u003ecluster_5\u003c/td\u003e\n    \u003c/tr\u003e\n    \u003ctr\u003e\n      \u003cth\u003e3\u003c/th\u003e\n      \u003ctd\u003eリニューアル\u003c/td\u003e\n      \u003ctd\u003ecluster_5\u003c/td\u003e\n    \u003c/tr\u003e\n    \u003ctr\u003e\n      \u003cth\u003e4\u003c/th\u003e\n      \u003ctd\u003eラーメン\u003c/td\u003e\n      \u003ctd\u003ecluster_5\u003c/td\u003e\n    \u003c/tr\u003e\n  \u003c/tbody\u003e\n\u003c/table\u003e\n\u003c/div\u003e"
          },
          "execution_count": 3
        }
      ]
    },
    {
      "execution_count": 5,
      "cell_type": "code",
      "metadata": {},
      "source": [
        "df[df[\u0027cluster_labels\u0027]\u003d\u003d\"cluster_0\"].words.values"
      ],
      "outputs": [
        {
          "output_type": "execute_result",
          "metadata": {},
          "data": {
            "text/plain": "array([\u0027監修\u0027, \u0027評価\u0027, \u0027ノー\u0027, \u0027芳しい\u0027, \u0027匂い\u0027, \u0027鮮魚\u0027, \u0027ノーゲス\u0027, \u0027素早い\u0027, \u0027集客\u0027, \u0027zma\u0027,\n       \u0027豪快\u0027, \u0027玉のり\u0027, \u0027カツオ\u0027, \u0027力強い\u0027, \u0027スープ麺\u0027, \u0027とんでも\u0027, \u0027記入\u0027, \u0027スゴ\u0027, \u0027アットホーム\u0027,\n       \u0027イトーヨーカドー\u0027, \u0027死角\u0027, \u0027気合い\u0027, \u0027薄かっ\u0027, \u0027そば屋\u0027, \u0027ヒット\u0027, \u0027チン\u0027, \u0027青森シャモロック\u0027,\n       \u0027意識高い\u0027, \u0027wagyu\u0027, \u0027試し\u0027, \u0027ノックアウト\u0027, \u0027ドライ\u0027, \u0027チック\u0027, \u0027地位\u0027, \u0027出来立て\u0027, \u0027隣接\u0027,\n       \u0027映え\u0027, \u0027一角\u0027, \u0027無数\u0027, \u0027立派\u0027, \u0027鹿児島\u0027, \u0027ぶっちぎり\u0027, \u0027乱切り\u0027, \u0027魅力的\u0027, \u0027賢明\u0027, \u0027沸騰\u0027,\n       \u0027二つ\u0027, \u0027満点\u0027, \u0027通りな\u0027, \u0027賑やか\u0027, \u0027ガチャガチャ\u0027, \u0027あとがき\u0027, \u0027勉強\u0027, \u0027db\u0027, \u0027引用\u0027,\n       \u0027度外視\u0027, \u0027把握\u0027, \u0027臭い\u0027, \u0027薩摩\u0027, \u0027羅臼\u0027, \u0027阿佐ヶ谷\u0027, \u0027野球\u0027, \u0027脂っこ\u0027, \u0027番号\u0027, \u0027いとこ\u0027,\n       \u0027ジュース\u0027, \u0027お伝え\u0027, \u0027荒川区\u0027, \u0027尾久\u0027, \u0027誕生\u0027, \u0027やばい\u0027, \u0027jr中央線\u0027, \u0027中野\u0027, \u0027豚ばら肉\u0027,\n       \u0027出で立ち\u0027, \u0027ものすごい\u0027, \u0027外回り\u0027, \u0027シーズン\u0027, \u0027crab\u0027, \u0027上の\u0027, \u0027丿貫\u0027, \u0027巨大\u0027, \u0027komug\u0027,\n       \u0027再登場\u0027, \u0027地区\u0027, \u0027家で\u0027, \u0027白い粉\u0027, \u0027カモ\u0027, \u0027ホロッホロ\u0027, \u0027国道\u0027, \u0027アプリ\u0027, \u0027長岡\u0027, \u0027途端\u0027,\n       \u0027お前\u0027, \u0027その頃\u0027, \u0027ギトギト\u0027, \u0027沢山\u0027, \u0027青葉\u0027, \u0027にこにこ\u0027, \u0027冷蔵庫\u0027, \u0027トナリ\u0027, \u0027くさく\u0027,\n       \u0027ご存知\u0027, \u0027オフ会\u0027, \u0027完全禁煙\u0027, \u0027ターボ\u0027, \u0027ゴチ\u0027, \u0027はこん\u0027, \u0027操作\u0027, \u0027スタミナ\u0027, \u0027宗田\u0027, \u0027汁麺\u0027,\n       \u0027フレーバー\u0027, \u0027短評\u0027, \u0027合点\u0027, \u0027臭く\u0027, \u0027有効\u0027, \u0027青山墓地\u0027, \u0027根強い\u0027, \u0027表層\u0027, \u0027フィルター\u0027,\n       \u0027麻布\u0027, \u0027ホープ軒\u0027, \u0027大型\u0027, \u0027メチャクチャ\u0027, \u0027びや\u0027, \u0027スタグラム\u0027, \u0027マリアージュ\u0027, \u0027いっか\u0027, \u0027河辺\u0027,\n       \u0027バラエティ\u0027, \u0027よだれ鶏\u0027, \u0027視覚\u0027, \u0027イラスト\u0027, \u0027きしめん\u0027, \u0027ちいく\u0027, \u0027釣り\u0027, \u0027長葱\u0027, \u0027すく\u0027,\n       \u0027西本\u0027, \u0027るし\u0027, \u0027もみじ\u0027, \u0027文責\u0027, \u0027京夏\u0027, \u0027まわり\u0027, \u0027白ご飯\u0027, \u0027使い勝手\u0027, \u0027アワビ\u0027, \u0027一苦労\u0027,\n       \u0027ふり\u0027, \u0027世界一\u0027, \u0027四谷\u0027, \u0027台湾ラーメン\u0027, \u0027元祖\u0027, \u0027ゴールデン街\u0027, \u0027ディープ\u0027, \u0027スケール\u0027, \u0027湯煎\u0027,\n       \u0027premium\u0027, \u0027うつ\u0027, \u0027クーポン\u0027, \u0027連発\u0027, \u0027イヤ\u0027, \u0027調布駅\u0027, \u0027フォローレビュアー\u0027, \u0027ペーパー\u0027,\n       \u0027ちゃんぽん\u0027, \u0027奇麗\u0027, \u0027デメリット\u0027, \u0027たい人\u0027, \u0027メジ\u0027, \u0027チャッチャ\u0027, \u0027田町\u0027, \u0027奨励\u0027, \u0027十条駅\u0027,\n       \u0027オリーブオイル\u0027, \u0027よし\u0027, \u0027豚足\u0027, \u0027提供開始\u0027, \u0027ニンニク醤油\u0027, \u0027棒状\u0027, \u0027ごちそう\u0027, \u0027眩しい\u0027, \u0027機械\u0027,\n       \u0027フードコート\u0027, \u0027代名詞\u0027, \u0027流儀\u0027, \u0027引き算\u0027, \u0027のりを\u0027, \u0027リラックス\u0027, \u0027うってつけ\u0027, \u0027カラフル\u0027,\n       \u0027金属\u0027, \u0027東京グルメ\u0027, \u0027カップ麺\u0027, \u0027くも\u0027, \u0027難しかっ\u0027, \u0027港区\u0027, \u0027丹精\u0027, \u0027タモリ\u0027, \u0027強火\u0027, \u0027安価\u0027,\n       \u0027メインディッシュ\u0027, \u0027げんこつ\u0027, \u0027かつお\u0027, \u0027生臭い\u0027, \u0027独自性\u0027, \u0027パワフル\u0027, \u0027コイン\u0027, \u0027申し訳な\u0027,\n       \u0027クリスマス\u0027, \u0027チキン\u0027, \u0027相場\u0027, \u0027牛脂\u0027, \u0027こん\u0027, \u0027東銀座\u0027, \u0027浮遊\u0027, \u0027心なし\u0027, \u0027きめ細かく\u0027,\n       \u0027三色\u0027, \u0027三茶\u0027, \u0027三軒茶屋駅\u0027, \u0027名残り\u0027, \u0027クルトン\u0027, \u0027石神\u0027, \u0027ぜひ\u0027, \u0027二つ目\u0027, \u0027パストラミ\u0027,\n       \u0027ぐるめ\u0027, \u0027美食\u0027, \u0027濃い茶\u0027, \u0027五丁目\u0027, \u0027くたくた\u0027, \u0027脅威\u0027, \u0027白身魚\u0027, \u0027きざみネギ\u0027, \u0027鯛のアラ\u0027,\n       \u0027灯花\u0027, \u0027注射\u0027, \u0027レアチャーシューメンマ\u0027, \u0027制度\u0027, \u0027高知県\u0027, \u0027オブジェ\u0027, \u0027精肉店\u0027, \u0027豪華絢爛\u0027,\n       \u0027顔文字\u0027, \u0027文章\u0027, \u0027さん家\u0027, \u0027お越し\u0027, \u0027背徳\u0027, \u0027ご存じ\u0027, \u0027エソ\u0027, \u0027熱烈\u0027, \u0027ねこまんま\u0027,\n       \u0027個人的意見\u0027, \u0027熱狂\u0027, \u0027盛り合わせ\u0027, \u0027海の幸\u0027, \u0027インターネット\u0027, \u0027データベース\u0027, \u0027角度\u0027, \u0027ホッピー\u0027,\n       \u0027拝借\u0027, \u0027用心棒\u0027, \u0027てっぺん\u0027, \u0027トリュフ塩\u0027, \u0027オニオン\u0027, \u0027含有量\u0027, \u0027武蔵小山駅\u0027, \u0027四ツ谷\u0027,\n       \u0027カニカマ\u0027, \u0027点こ\u0027, \u0027言語\u0027, \u0027有数\u0027, \u0027真下\u0027, \u0027凶暴\u0027, \u0027トップランク\u0027, \u0027背骨\u0027, \u0027くれは\u0027, \u0027田無駅\u0027,\n       \u0027独身\u0027, \u0027平和島\u0027, \u0027分かり易く\u0027, \u0027忙しかっ\u0027, \u0027こうや系\u0027, \u0027こうや\u0027, \u0027支那そば屋こうや\u0027, \u0027みと\u0027,\n       \u0027マット\u0027, \u0027一条流がんこラーメン総本家\u0027, \u0027アラカルト\u0027, \u0027オサレ\u0027, \u0027ばい\u0027, \u0027谷中\u0027, \u0027鷄油\u0027, \u0027指標\u0027,\n       \u0027真イワシ\u0027, \u0027ウルメイワシ\u0027, \u0027上物\u0027, \u0027gotoeat\u0027, \u0027小島\u0027, \u0027東京ドーム\u0027, \u0027竹岡式ラーメン\u0027, \u0027千里眼\u0027,\n       \u0027ガリマヨ\u0027, \u0027なんつっ亭\u0027, \u0027ubereats\u0027, \u0027鹿児島県産\u0027, \u0027teriyaki\u0027, \u0027テリヤキ\u0027, \u0027ガスバーナー\u0027,\n       \u0027永楽町\u0027, \u0027コシヒカリ\u0027, \u0027鶏手羽先\u0027, \u0027広尾\u0027, \u0027広尾駅\u0027, \u0027宿志\u0027, \u0027豆類\u0027], dtype\u003dobject)"
          },
          "execution_count": 5
        }
      ]
    },
    {
      "execution_count": 0,
      "cell_type": "code",
      "metadata": {},
      "source": [
        "# Compute recipe outputs from inputs\n# TODO: Replace this part by your actual code that computes the output, as a Pandas dataframe\n# NB: DSS also supports other kinds of APIs for reading and writing data. Please see doc.\n\ncluster_visualized_df \u003d ramen_vocab_clustered_df # For this sample code, simply copy input to output\n\n\n# Write recipe outputs\ncluster_visualized \u003d dataiku.Dataset(\"cluster_visualized\")\ncluster_visualized.write_with_schema(cluster_visualized_df)"
      ],
      "outputs": []
    }
  ]
}