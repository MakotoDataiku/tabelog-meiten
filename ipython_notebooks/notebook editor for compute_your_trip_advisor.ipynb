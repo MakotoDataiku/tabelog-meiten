{
  "metadata": {
    "kernelspec": {
      "display_name": "Python (env japan-nlp)",
      "name": "py-dku-venv-japan-nlp",
      "language": "python"
    },
    "language_info": {
      "mimetype": "text/x-python",
      "nbconvert_exporter": "python",
      "version": "3.6.8",
      "name": "python",
      "pygments_lexer": "ipython3",
      "file_extension": ".py",
      "codemirror_mode": {
        "version": 3,
        "name": "ipython"
      }
    },
    "tags": [
      "recipe-editor"
    ],
    "associatedRecipe": "compute_your_trip_advisor",
    "createdOn": 1622722394413,
    "hide_input": false,
    "customFields": {},
    "creator": "admin",
    "modifiedBy": "admin"
  },
  "nbformat": 4,
  "nbformat_minor": 1,
  "cells": [
    {
      "execution_count": 1,
      "cell_type": "code",
      "metadata": {},
      "source": [
        "# -*- coding: utf-8 -*-\nimport dataiku\nimport pandas as pd, numpy as np\nfrom dataiku import pandasutils as pdu\nfrom bs4 import BeautifulSoup\nimport requests\nimport time\nfrom googletrans import Translator"
      ],
      "outputs": []
    },
    {
      "execution_count": 2,
      "cell_type": "code",
      "metadata": {},
      "source": [
        "def connect_url(target_url):\n    \"\"\"\n    対象のURLにアクセスする関数\n    アクセスできない等のエラーが発生したら例外を投げる\n    \"\"\"\n    # 接続確立の待機時間、応答待機時間を10秒とし、それぞれの値を超えた場合は例外が発生（ConnectTimeout）\n    data \u003d requests.get(target_url, timeout\u003d10)\n    data.encoding \u003d data.apparent_encoding\n    # アクセス過多を避けるため、2秒スリープ\n    time.sleep(2)\n\n    # レスポンスのステータスコードが正常(200番台)以外の場合は、例外を発生させる(HTTPError)\n    if data.status_code \u003d\u003d requests.codes.ok:\n        return data\n    else:\n        data.raise_for_status()"
      ],
      "outputs": []
    },
    {
      "execution_count": 3,
      "cell_type": "code",
      "metadata": {},
      "source": [
        "url \u003d \u0027https://www.tripadvisor.com/Restaurant_Review-g187147-d10085290-Reviews-Kodawari_Ramen_Yokocho-Paris_Ile_de_France.html\u0027\n      \u0027https://www.tripadvisor.com/Restaurant_Review-g187147-d10085290-Reviews-or10-Kodawari_Ramen_Yokocho-Paris_Ile_de_France.html\u0027\nresponse \u003d connect_url(url)\n"
      ],
      "outputs": []
    },
    {
      "execution_count": 4,
      "cell_type": "code",
      "metadata": {},
      "source": [
        "soup \u003d BeautifulSoup(response.text, \u0027lxml\u0027)"
      ],
      "outputs": []
    },
    {
      "execution_count": 5,
      "cell_type": "code",
      "metadata": {},
      "source": [
        "reviews \u003d []\nreview_container \u003d soup.find_all(class_\u003d\u0027review-container\u0027)\nfor i in range(len(review_container)):\n    review \u003d review_container[i].find_all(\"p\", class_\u003d\u0027partial_entry\u0027)[0].text\n    reviews.append(review)"
      ],
      "outputs": []
    },
    {
      "execution_count": 8,
      "cell_type": "code",
      "metadata": {},
      "source": [
        "translator \u003d Translator(service_urls\u003d[\u0027translate.googleapis.com\u0027])"
      ],
      "outputs": []
    },
    {
      "execution_count": 9,
      "cell_type": "code",
      "metadata": {},
      "source": [
        "reviews_translated \u003d []\ntranslations \u003d translator.translate(reviews, dest\u003d\u0027ja\u0027)\nfor translation in translations:\n    reviews_translated.append(translation.text)"
      ],
      "outputs": []
    },
    {
      "execution_count": 10,
      "cell_type": "code",
      "metadata": {},
      "source": [
        "zipped \u003d zip(reviews, reviews_translated)"
      ],
      "outputs": []
    },
    {
      "execution_count": 11,
      "cell_type": "code",
      "metadata": {},
      "source": [
        "trip_advisor_reviews_df \u003d pd.DataFrame(set(zipped), columns\u003d[\"en\", \"jp\"])"
      ],
      "outputs": []
    },
    {
      "execution_count": 12,
      "cell_type": "code",
      "metadata": {},
      "source": [
        "# Write recipe outputs\nyour_trip_advisor \u003d dataiku.Dataset(\"your_trip_advisor\")\nyour_trip_advisor.write_with_schema(trip_advisor_reviews_df)"
      ],
      "outputs": [
        {
          "output_type": "stream",
          "name": "stdout",
          "text": "10 rows successfully written (6VdZp2MatJ)\n"
        }
      ]
    },
    {
      "execution_count": 13,
      "cell_type": "code",
      "metadata": {},
      "source": [
        "trip_advisor_reviews_df"
      ],
      "outputs": [
        {
          "output_type": "execute_result",
          "metadata": {},
          "data": {
            "text/plain": "                                                  en                                                 jp\n0  We arrived for the opening time of 12h00, wait...  We arrived for the opening time of 12h00, wait...\n1  Really excellent food, and fab service. Also r...  Really excellent food, and fab service. Also r...\n2  We decided to try due to the long queue we saw...  We decided to try due to the long queue we saw...\n3  This is a small ramen restaurant. I waited so ...  This is a small ramen restaurant. I waited so ...\n4  Ambiance is great. The food however, needs som...  Ambiance is great. The food however, needs som...\n5  Worth the wait! Had to queue for about 1 hour ...  Worth the wait! Had to queue for about 1 hour ...\n6  The atmosphere of this restaurant was great an...  The atmosphere of this restaurant was great an...\n7  We didn\u0027t get to go to Japan like we usually d...  We didn\u0027t get to go to Japan like we usually d...\n8  The best ramen I’ve ever had. Tender meat, fre...  The best ramen I’ve ever had. Tender meat, fre...\n9  I’ve been there many time, I tried pretty much...  I’ve been there many time, I tried pretty much...",
            "text/html": "\n            \u003cbutton style\u003d\"display:none\" \n            class\u003d\"btn btn-default ipython-export-btn\" \n            id\u003d\"btn-df-dc02902b-9c93-479b-8eb8-337f177fe412\" \n            onclick\u003d\"_export_df(\u0027dc02902b-9c93-479b-8eb8-337f177fe412\u0027)\"\u003e\n                Export dataframe\n            \u003c/button\u003e\n            \n            \u003cscript\u003e\n                \n                function _check_export_df_possible(dfid,yes_fn,no_fn) {\n                    console.log(\u0027Checking dataframe exportability...\u0027)\n                    if(!IPython || !IPython.notebook || !IPython.notebook.kernel || !IPython.notebook.kernel) {\n                        console.log(\u0027Export is not possible (IPython kernel is not available)\u0027)\n                        if(no_fn) {\n                            no_fn();\n                        }\n                    } else {\n                        var pythonCode \u003d \u0027from dataiku.notebook.export import IPythonExporter;IPythonExporter._check_export_stdout(\"\u0027+dfid+\u0027\")\u0027;\n                        IPython.notebook.kernel.execute(pythonCode,{iopub: {output: function(resp) {\n                            console.info(\"Exportability response\", resp);\n                            var size \u003d /^([0-9]+)x([0-9]+)$/.exec(resp.content.data || resp.content.text)\n                            if(!size) {\n                                console.log(\u0027Export is not possible (dataframe is not in-memory anymore)\u0027)\n                                if(no_fn) {\n                                    no_fn();\n                                }\n                            } else {\n                                console.log(\u0027Export is possible\u0027)\n                                if(yes_fn) {\n                                    yes_fn(1*size[1],1*size[2]);\n                                }\n                            }\n                        }}});\n                    }\n                }\n            \n                function _export_df(dfid) {\n                    \n                    var btn \u003d $(\u0027#btn-df-\u0027+dfid);\n                    var btns \u003d $(\u0027.ipython-export-btn\u0027);\n                    \n                    _check_export_df_possible(dfid,function() {\n                        \n                        window.parent.openExportModalFromIPython(\u0027Pandas dataframe\u0027,function(data) {\n                            btns.prop(\u0027disabled\u0027,true);\n                            btn.text(\u0027Exporting...\u0027);\n                            var command \u003d \u0027from dataiku.notebook.export import IPythonExporter;IPythonExporter._run_export(\"\u0027+dfid+\u0027\",\"\u0027+data.exportId+\u0027\")\u0027;\n                            var callback \u003d {iopub:{output: function(resp) {\n                                console.info(\"CB resp:\", resp);\n                                _check_export_df_possible(dfid,function(rows, cols) {\n                                    $(\u0027#btn-df-\u0027+dfid)\n                                        .css(\u0027display\u0027,\u0027inline-block\u0027)\n                                        .text(\u0027Export this dataframe (\u0027+rows+\u0027 rows, \u0027+cols+\u0027 cols)\u0027)\n                                        .prop(\u0027disabled\u0027,false);\n                                },function() {\n                                    $(\u0027#btn-df-\u0027+dfid).css(\u0027display\u0027,\u0027none\u0027);\n                                });\n                            }}};\n                            IPython.notebook.kernel.execute(command,callback,{silent:false}); // yes, silent now defaults to true. figures.\n                        });\n                    \n                    }, function(){\n                            alert(\u0027Unable to export : the Dataframe object is not loaded in memory\u0027);\n                            btn.css(\u0027display\u0027,\u0027none\u0027);\n                    });\n                    \n                }\n                \n                (function(dfid) {\n                \n                    var retryCount \u003d 10;\n                \n                    function is_valid_websock(s) {\n                        return s \u0026\u0026 s.readyState\u003d\u003d1;\n                    }\n                \n                    function check_conn() {\n                        \n                        if(!IPython || !IPython.notebook) {\n                            // Don\u0027t even try to go further\n                            return;\n                        }\n                        \n                        // Check if IPython is ready\n                        console.info(\"Checking conn ...\")\n                        if(IPython.notebook.kernel\n                        \u0026\u0026 IPython.notebook.kernel\n                        \u0026\u0026 is_valid_websock(IPython.notebook.kernel.ws)\n                        ) {\n                            \n                            _check_export_df_possible(dfid,function(rows, cols) {\n                                $(\u0027#btn-df-\u0027+dfid).css(\u0027display\u0027,\u0027inline-block\u0027);\n                                $(\u0027#btn-df-\u0027+dfid).text(\u0027Export this dataframe (\u0027+rows+\u0027 rows, \u0027+cols+\u0027 cols)\u0027);\n                            });\n                            \n                        } else {\n                            console.info(\"Conditions are not ok\", IPython.notebook.kernel);\n                            \n                            // Retry later\n                            \n                            if(retryCount\u003e0) {\n                                setTimeout(check_conn,500);\n                                retryCount--;\n                            }\n                            \n                        }\n                    };\n                    \n                    setTimeout(check_conn,100);\n                    \n                })(\"dc02902b-9c93-479b-8eb8-337f177fe412\");\n                \n            \u003c/script\u003e\n            \n        \u003cdiv\u003e\n\u003cstyle scoped\u003e\n    .dataframe tbody tr th:only-of-type {\n        vertical-align: middle;\n    }\n\n    .dataframe tbody tr th {\n        vertical-align: top;\n    }\n\n    .dataframe thead th {\n        text-align: right;\n    }\n\u003c/style\u003e\n\u003ctable border\u003d\"1\" class\u003d\"dataframe\"\u003e\n  \u003cthead\u003e\n    \u003ctr style\u003d\"text-align: right;\"\u003e\n      \u003cth\u003e\u003c/th\u003e\n      \u003cth\u003een\u003c/th\u003e\n      \u003cth\u003ejp\u003c/th\u003e\n    \u003c/tr\u003e\n  \u003c/thead\u003e\n  \u003ctbody\u003e\n    \u003ctr\u003e\n      \u003cth\u003e0\u003c/th\u003e\n      \u003ctd\u003eWe arrived for the opening time of 12h00, wait...\u003c/td\u003e\n      \u003ctd\u003eWe arrived for the opening time of 12h00, wait...\u003c/td\u003e\n    \u003c/tr\u003e\n    \u003ctr\u003e\n      \u003cth\u003e1\u003c/th\u003e\n      \u003ctd\u003eReally excellent food, and fab service. Also r...\u003c/td\u003e\n      \u003ctd\u003eReally excellent food, and fab service. Also r...\u003c/td\u003e\n    \u003c/tr\u003e\n    \u003ctr\u003e\n      \u003cth\u003e2\u003c/th\u003e\n      \u003ctd\u003eWe decided to try due to the long queue we saw...\u003c/td\u003e\n      \u003ctd\u003eWe decided to try due to the long queue we saw...\u003c/td\u003e\n    \u003c/tr\u003e\n    \u003ctr\u003e\n      \u003cth\u003e3\u003c/th\u003e\n      \u003ctd\u003eThis is a small ramen restaurant. I waited so ...\u003c/td\u003e\n      \u003ctd\u003eThis is a small ramen restaurant. I waited so ...\u003c/td\u003e\n    \u003c/tr\u003e\n    \u003ctr\u003e\n      \u003cth\u003e4\u003c/th\u003e\n      \u003ctd\u003eAmbiance is great. The food however, needs som...\u003c/td\u003e\n      \u003ctd\u003eAmbiance is great. The food however, needs som...\u003c/td\u003e\n    \u003c/tr\u003e\n    \u003ctr\u003e\n      \u003cth\u003e5\u003c/th\u003e\n      \u003ctd\u003eWorth the wait! Had to queue for about 1 hour ...\u003c/td\u003e\n      \u003ctd\u003eWorth the wait! Had to queue for about 1 hour ...\u003c/td\u003e\n    \u003c/tr\u003e\n    \u003ctr\u003e\n      \u003cth\u003e6\u003c/th\u003e\n      \u003ctd\u003eThe atmosphere of this restaurant was great an...\u003c/td\u003e\n      \u003ctd\u003eThe atmosphere of this restaurant was great an...\u003c/td\u003e\n    \u003c/tr\u003e\n    \u003ctr\u003e\n      \u003cth\u003e7\u003c/th\u003e\n      \u003ctd\u003eWe didn\u0027t get to go to Japan like we usually d...\u003c/td\u003e\n      \u003ctd\u003eWe didn\u0027t get to go to Japan like we usually d...\u003c/td\u003e\n    \u003c/tr\u003e\n    \u003ctr\u003e\n      \u003cth\u003e8\u003c/th\u003e\n      \u003ctd\u003eThe best ramen I’ve ever had. Tender meat, fre...\u003c/td\u003e\n      \u003ctd\u003eThe best ramen I’ve ever had. Tender meat, fre...\u003c/td\u003e\n    \u003c/tr\u003e\n    \u003ctr\u003e\n      \u003cth\u003e9\u003c/th\u003e\n      \u003ctd\u003eI’ve been there many time, I tried pretty much...\u003c/td\u003e\n      \u003ctd\u003eI’ve been there many time, I tried pretty much...\u003c/td\u003e\n    \u003c/tr\u003e\n  \u003c/tbody\u003e\n\u003c/table\u003e\n\u003c/div\u003e"
          },
          "execution_count": 13
        }
      ]
    },
    {
      "execution_count": 0,
      "cell_type": "code",
      "metadata": {},
      "source": [
        ""
      ],
      "outputs": []
    }
  ]
}