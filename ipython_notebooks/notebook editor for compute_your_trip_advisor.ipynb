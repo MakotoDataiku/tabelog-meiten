{
  "metadata": {
    "kernelspec": {
      "display_name": "Python (env japan-nlp)",
      "name": "py-dku-venv-japan-nlp",
      "language": "python"
    },
    "language_info": {
      "mimetype": "text/x-python",
      "nbconvert_exporter": "python",
      "version": "3.6.8",
      "name": "python",
      "pygments_lexer": "ipython3",
      "file_extension": ".py",
      "codemirror_mode": {
        "version": 3,
        "name": "ipython"
      }
    },
    "tags": [
      "recipe-editor"
    ],
    "associatedRecipe": "compute_your_trip_advisor",
    "createdOn": 1622722394413,
    "hide_input": false,
    "customFields": {},
    "creator": "admin",
    "modifiedBy": "admin"
  },
  "nbformat": 4,
  "nbformat_minor": 1,
  "cells": [
    {
      "execution_count": 1,
      "cell_type": "code",
      "metadata": {},
      "source": [
        "# -*- coding: utf-8 -*-\nimport dataiku\nimport pandas as pd, numpy as np\nfrom dataiku import pandasutils as pdu\nfrom bs4 import BeautifulSoup\nimport requests\nimport time\nfrom googletrans import Translator"
      ],
      "outputs": []
    },
    {
      "execution_count": 2,
      "cell_type": "code",
      "metadata": {},
      "source": [
        "def connect_url(target_url):\n    \"\"\"\n    対象のURLにアクセスする関数\n    アクセスできない等のエラーが発生したら例外を投げる\n    \"\"\"\n    # 接続確立の待機時間、応答待機時間を10秒とし、それぞれの値を超えた場合は例外が発生（ConnectTimeout）\n    data \u003d requests.get(target_url, timeout\u003d10)\n    data.encoding \u003d data.apparent_encoding\n    # アクセス過多を避けるため、2秒スリープ\n    time.sleep(2)\n\n    # レスポンスのステータスコードが正常(200番台)以外の場合は、例外を発生させる(HTTPError)\n    if data.status_code \u003d\u003d requests.codes.ok:\n        return data\n    else:\n        data.raise_for_status()"
      ],
      "outputs": []
    },
    {
      "execution_count": 3,
      "cell_type": "code",
      "metadata": {},
      "source": [
        "url \u003d \u0027https://www.tripadvisor.com/Restaurant_Review-g187147-d10085290-Reviews-Kodawari_Ramen_Yokocho-Paris_Ile_de_France.html\u0027\nresponse \u003d connect_url(url)\n"
      ],
      "outputs": []
    },
    {
      "execution_count": 4,
      "cell_type": "code",
      "metadata": {},
      "source": [
        "soup \u003d BeautifulSoup(response.text, \u0027lxml\u0027)"
      ],
      "outputs": []
    },
    {
      "execution_count": 5,
      "cell_type": "code",
      "metadata": {},
      "source": [
        "reviews \u003d []\nreview_container \u003d soup.find_all(class_\u003d\u0027review-container\u0027)\nfor i in range(len(review_container)):\n    review \u003d review_container[i].find_all(\"p\", class_\u003d\u0027partial_entry\u0027)[0].text\n    reviews.append(review)"
      ],
      "outputs": []
    },
    {
      "execution_count": 6,
      "cell_type": "code",
      "metadata": {},
      "source": [
        "translator \u003d Translator()\ntranslator.translate(\"Hello\", dest\u003d\u0027ja\u0027)"
      ],
      "outputs": [
        {
          "output_type": "execute_result",
          "metadata": {},
          "data": {
            "text/plain": "\u003cgoogletrans.models.Translated at 0x7fdd42a27860\u003e"
          },
          "execution_count": 6
        }
      ]
    },
    {
      "execution_count": 9,
      "cell_type": "code",
      "metadata": {},
      "source": [
        "translator \u003d Translator(service_urls\u003d[\u0027translate.googleapis.com\u0027])\ntranslated \u003d translator.translate(\"Der Himmel ist blau und ich mag Bananen\", dest\u003d\u0027en\u0027)\nprint(translated.text)"
      ],
      "outputs": [
        {
          "output_type": "stream",
          "name": "stdout",
          "text": "The sky is blue and I like bananas\n"
        }
      ]
    },
    {
      "execution_count": 13,
      "cell_type": "code",
      "metadata": {},
      "source": [
        "reviews_translated \u003d []\ntranslations \u003d translator.translate(reviews, dest\u003d\u0027ja\u0027)\nfor translation in translations:\n    reviews_translated.append(translation.text)"
      ],
      "outputs": []
    },
    {
      "execution_count": 14,
      "cell_type": "code",
      "metadata": {},
      "source": [
        "reviews_translated"
      ],
      "outputs": [
        {
          "output_type": "execute_result",
          "metadata": {},
          "data": {
            "text/plain": "[\u0027毎年のように日本に行くことができなかったので、超高品質の日本食を見逃していました。お正月にパリを散歩していると、たまたまコダワリを見かけました。アパートに戻って、2 つのラーメンを注文しました。ポチマロン パイタンとしょうゆシナソバです。品質も味もまさに私たちが望んでいたものでした。ベジタリアンのスープは、とても豊かな風味を持っていたので、特にユニークでした.パリに戻ったら、必ずまた注文します。\u0027,\n \u0027雰囲気は素晴らしいです。ただし、料理には調味料が必要です。ラーメンは実際に嫌なほど当たり障りのないものでした。いくつかの奇妙な麺のために45分間列に並んで待った.スープはただ奇妙でした。本物のラーメンを食べたことがありますが、こんなものではありませんでした。この場所は...あなたがすでにアジアに住んでいるなら、誇大宣伝に値するものではありません。あなたがヨーロッパ人なら、おそらく辛いものや味付けされたものは食べないでしょうから、これは良い経験になるでしょう。\u0027,\n \u0027小さなラーメン屋です。冬の間、私は長い間家族と並んで待っていたので、実際に通りの反対側にある別の日本食レストランに行って、弁当と寿司を以前に食べました.私がそれをした主な理由は、私が凍っていたからです....こだわりは、かなり美味しいラーメンを提供する小さな小さなレストランですが、私が持っていた最高のものではありません。私はめちゃくちゃにしてオリジナルのラーメンを食べたので、自慢することはあまりありませんでした。甥っ子は名物の黒ごまラーメンを食べていて、美味しいと言ってくれました。私たちは 2 階の大きなテーブルで食事をしました。このテーブルは 5 人掛けの唯一のテーブルだったので、スペースを共有しています。全体として、待つ必要がない場合は良い場所です。価格はラーメン平均以上です。\u0027,\n \u0027私はそこに何度も行っており、さまざまな種類のラーメンを試しました。\\n全部好き。場所は本当にいいです、私はスタッフの振る舞いが好きです、あなたはあなたの食べ物を素早く注文して手に入れ、誰もあなたを押し出しません.それは本当に...私の最高のラーメン体験です。\u0027,\n \u0027私たちは 12 時の開店時間に到着し、待ち行列で 25 分待ってから入りました。最終的に入るまでにさらに25分以上の待ち時間がありました。食べ物は本当に例外的ではありませんでした。それは...フランスの食材でできているはずです（放し飼いの鶏、私はこれが食べ物の味に交差していると思います）.私が見つけることができた唯一の肯定的な側面は、本物の経験を与えようとしている雰囲気でした.さらに表示\u0027,\n \u0027ある夜、オンラインで良いレビューを見て長い列ができていたので、試してみることにしました。食べ物は大丈夫で、私が食べた中で最高のラーメンではありませんでしたが、最悪でもありませんでした。ハイライトは間違いなく柚子のソルベで、とても美味しかったです！私は...戻ってきます。そのためだけに。\\n\\nメニューはフランス語ですが、ウェイトレスは素敵で、翻訳して説明してくれました。レストランの内装はクールで、とても良い雰囲気でした。ただし、しばらく待ち行列に入れる準備をしてください-私たちは開店30分前にそこに着きましたが、そこにいたのは私たちが最初ではありませんでした。\u0027,\n \u0027待つ価値あり！土曜日の夜に約 1 時間待ち行列に入れなければなりませんでした。本物の日本の雰囲気と、私が日本国外で試したより良いラーメンボウルの 1 つで、トッピングに関していくつかのフュージョンを行っています。\u0027,\n \u0027本当に素晴らしい料理と素晴らしいサービス。また、他のパリのレストランと比較して比較的安価です。パリに住んでいたとき、私のお気に入りのレストランの 1 つでした。混雑を避けたいなら閉店直前がおすすめ！\u0027,\n \u0027このレストランの雰囲気は素晴らしく、すべての従業員はとても快適でした。唯一の問題は、彼らのラーメンに使用されている麺が間違いなくスパゲッティであり、ラーメンの麺ではないということです。スープはあまり風味がなく、チョークのような味がしました。本格的な日本のラーメンが好きなら、ここはあなたのための場所ではありません。\u0027,\n \u0027私が今まで食べた中で最高のラーメン。柔らかい肉、新鮮な食材、素晴らしいスープ、まともなバリエーション、私の妻のスープは驚くほど私のものとは異なり、どちらも美味しかったです.日本の市場通りにいるような、窮屈ではありますが不快ではありません。\u0027]"
          },
          "execution_count": 14
        }
      ]
    },
    {
      "execution_count": 0,
      "cell_type": "code",
      "metadata": {},
      "source": [
        "# Compute recipe outputs\n# TODO: Write here your actual code that computes the outputs\n# NB: DSS supports several kinds of APIs for reading and writing data. Please see doc.\n\nyour_trip_advisor_df \u003d ... # Compute a Pandas dataframe to write into your_trip_advisor\n\n\n# Write recipe outputs\nyour_trip_advisor \u003d dataiku.Dataset(\"your_trip_advisor\")\nyour_trip_advisor.write_with_schema(your_trip_advisor_df)"
      ],
      "outputs": []
    }
  ]
}