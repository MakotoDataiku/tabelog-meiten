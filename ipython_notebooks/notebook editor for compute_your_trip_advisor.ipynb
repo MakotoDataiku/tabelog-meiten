{
  "nbformat": 4,
  "nbformat_minor": 0,
  "metadata": {
    "kernelspec": {
      "display_name": "Python (env japan-nlp)",
      "language": "python",
      "name": "py-dku-venv-japan-nlp"
    },
    "associatedRecipe": "compute_your_trip_advisor",
    "creator": "admin",
    "createdOn": 1623342002751,
    "tags": [
      "recipe-editor"
    ],
    "customFields": {}
  },
  "cells": [
    {
      "cell_type": "code",
      "metadata": {},
      "outputs": [],
      "execution_count": 0,
      "source": [
        "# -*- coding: utf-8 -*-\n",
        "import dataiku\n",
        "import pandas as pd, numpy as np\n",
        "from dataiku import pandasutils as pdu\n",
        "from bs4 import BeautifulSoup\n",
        "import requests\n",
        "import time\n",
        "from googletrans import Translator\n",
        "from deep_translator import GoogleTranslator"
      ]
    },
    {
      "cell_type": "code",
      "metadata": {},
      "outputs": [],
      "execution_count": 0,
      "source": [
        "def get_reviews(response):\n",
        "    soup \u003d BeautifulSoup(response.text, \u0027lxml\u0027)\n",
        "    reviews \u003d []\n",
        "    review_container \u003d soup.find_all(class_\u003d\u0027review-container\u0027)\n",
        "    for i in range(len(review_container)):\n",
        "        review \u003d review_container[i].find_all(\"p\", class_\u003d\u0027partial_entry\u0027)[0].text\n",
        "        reviews.append(review)\n",
        "    return reviews"
      ]
    },
    {
      "cell_type": "code",
      "metadata": {},
      "outputs": [],
      "execution_count": 0,
      "source": [
        "def translate_reviews(reviews):\n",
        "    translator \u003d GoogleTranslator(source\u003d\u0027english\u0027, target\u003d\u0027japanese\u0027)  # output -\u003e Weiter so, du bist großartig\n",
        "\n",
        "    #translator \u003d Translator(service_urls\u003d[\u0027translate.googleapis.com\u0027])\n",
        "    reviews_translated \u003d []\n",
        "    for review in reviews:\n",
        "        translated \u003d translator.translate(review)\n",
        "        reviews_translated.append(translated)\n",
        "    #translations \u003d translator.translate(reviews, dest\u003d\u0027ja\u0027)\n",
        "    #for translation in translations:\n",
        "    #    reviews_translated.append(translation.text)\n",
        "    return reviews_translated"
      ]
    },
    {
      "cell_type": "code",
      "metadata": {},
      "outputs": [],
      "execution_count": 0,
      "source": [
        "def get_translated_reviews(url, max_page \u003d 10):\n",
        "    \"\"\"\n",
        "    対象のURLにアクセスする関数\n",
        "    アクセスできない等のエラーが発生したら例外を投げる\n",
        "    \"\"\"\n",
        "    # 接続確立の待機時間、応答待機時間を10秒とし、それぞれの値を超えた場合は例外が発生（ConnectTimeout）\n",
        "    url_split \u003d url.split(\u0027-Reviews-\u0027)\n",
        "    reviews_all \u003d []\n",
        "    for i in range(max_page):\n",
        "        page \u003d i*10\n",
        "        if page \u003d\u003d 0:\n",
        "            url_page \u003d url\n",
        "        else:\n",
        "            url_page \u003d url_split[0] + \u0027-Reviews-or{}-\u0027.format(page) + url_split[1]\n",
        "        print(url_page)\n",
        "        data \u003d requests.get(url_page, timeout\u003d10)\n",
        "        data.encoding \u003d data.apparent_encoding\n",
        "        # アクセス過多を避けるため、2秒スリープ\n",
        "        time.sleep(2)\n",
        "\n",
        "        # レスポンスのステータスコードが正常(200番台)以外の場合は、例外を発生させる(HTTPError)\n",
        "        if data.status_code !\u003d requests.codes.ok:\n",
        "            break\n",
        "        else:\n",
        "            reviews \u003d get_reviews(data)\n",
        "            reviews_all.append(reviews)\n",
        "    reviews_all \u003d [item for sublist in reviews_all for item in sublist]\n",
        "    reviews_translated \u003d translate_reviews(reviews_all)\n",
        "    zipped \u003d zip(reviews_all, reviews_translated)\n",
        "    trip_advisor_reviews_df \u003d pd.DataFrame(set(zipped), columns\u003d[\"en\", \"jp\"])\n",
        "    return trip_advisor_reviews_df"
      ]
    },
    {
      "cell_type": "code",
      "metadata": {},
      "outputs": [],
      "execution_count": 0,
      "source": [
        "#url \u003d \u0027https://www.tripadvisor.com/Restaurant_Review-g187147-d10085290-Reviews-Kodawari_Ramen_Yokocho-Paris_Ile_de_France.html\u0027\n",
        "#url \u003d \u0027https://www.tripadvisor.com.sg/Restaurant_Review-g294265-d8507071-Reviews-The_Ramen_Stall-Singapore.html\u0027\n",
        "#url \u003d \u0027https://www.tripadvisor.com/Restaurant_Review-g294265-d5421132-Reviews-MENYA_SANJI_Singapore-Singapore.html\u0027\n",
        "\n",
        "client \u003d dataiku.api_client()\n",
        "project \u003d client.get_project(dataiku.get_custom_variables()[\u0027projectKey\u0027])\n",
        "project_variables \u003d project.get_variables()\n",
        "url \u003d project_variables[\u0027standard\u0027][\u0027url\u0027]"
      ]
    },
    {
      "cell_type": "code",
      "metadata": {},
      "outputs": [],
      "execution_count": 0,
      "source": [
        "trip_advisor_reviews_df \u003d get_translated_reviews(url, max_page \u003d 1)"
      ]
    },
    {
      "cell_type": "code",
      "metadata": {},
      "outputs": [],
      "execution_count": 0,
      "source": [
        "# Write recipe outputs\n",
        "your_trip_advisor \u003d dataiku.Dataset(\"your_trip_advisor\")\n",
        "your_trip_advisor.write_with_schema(trip_advisor_reviews_df)"
      ]
    }
  ]
}