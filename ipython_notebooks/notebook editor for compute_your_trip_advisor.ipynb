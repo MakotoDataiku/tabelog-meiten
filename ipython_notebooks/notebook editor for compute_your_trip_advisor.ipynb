{
  "metadata": {
    "kernelspec": {
      "display_name": "Python (env japan-nlp)",
      "name": "py-dku-venv-japan-nlp",
      "language": "python"
    },
    "language_info": {
      "mimetype": "text/x-python",
      "nbconvert_exporter": "python",
      "version": "3.6.8",
      "name": "python",
      "pygments_lexer": "ipython3",
      "file_extension": ".py",
      "codemirror_mode": {
        "version": 3,
        "name": "ipython"
      }
    },
    "tags": [
      "recipe-editor"
    ],
    "associatedRecipe": "compute_your_trip_advisor",
    "createdOn": 1622722394413,
    "hide_input": false,
    "customFields": {},
    "creator": "admin",
    "modifiedBy": "admin"
  },
  "nbformat": 4,
  "nbformat_minor": 1,
  "cells": [
    {
      "execution_count": 1,
      "cell_type": "code",
      "metadata": {},
      "source": [
        "# -*- coding: utf-8 -*-\nimport dataiku\nimport pandas as pd, numpy as np\nfrom dataiku import pandasutils as pdu\nfrom bs4 import BeautifulSoup\nimport requests\nimport time\nfrom googletrans import Translator"
      ],
      "outputs": []
    },
    {
      "execution_count": 0,
      "cell_type": "code",
      "metadata": {},
      "source": [
        "def get_url(url):\n    url_split \u003d url.split(\u0027-Reviews-\u0027)\n    for i in range(max_page):\n        page \u003d i*10\n        if page \u003d\u003d 0:\n            url_page \u003d url\n        else:\n            url_page \u003d url_split[0] + \u0027-Reviews-or{}-\u0027.format(page) + url_split[1]\n            "
      ],
      "outputs": []
    },
    {
      "execution_count": 31,
      "cell_type": "code",
      "metadata": {},
      "source": [
        "def get_reviews(response):\n    soup \u003d BeautifulSoup(response.text, \u0027lxml\u0027)\n    reviews \u003d []\n    review_container \u003d soup.find_all(class_\u003d\u0027review-container\u0027)\n    for i in range(len(review_container)):\n        review \u003d review_container[i].find_all(\"p\", class_\u003d\u0027partial_entry\u0027)[0].text\n        reviews.append(review)\n    return reviews"
      ],
      "outputs": []
    },
    {
      "execution_count": 32,
      "cell_type": "code",
      "metadata": {},
      "source": [
        "def translate_reviews(reviews):\n    translator \u003d Translator(service_urls\u003d[\u0027translate.googleapis.com\u0027])\n    reviews_translated \u003d []\n    translations \u003d translator.translate(reviews, dest\u003d\u0027ja\u0027)\n    for translation in translations:\n        reviews_translated.append(translation.text)\n    return reviews_translated"
      ],
      "outputs": []
    },
    {
      "execution_count": 42,
      "cell_type": "code",
      "metadata": {},
      "source": [
        "def get_translated_reviews(url, max_page \u003d 10):\n    \"\"\"\n    対象のURLにアクセスする関数\n    アクセスできない等のエラーが発生したら例外を投げる\n    \"\"\"\n    # 接続確立の待機時間、応答待機時間を10秒とし、それぞれの値を超えた場合は例外が発生（ConnectTimeout）\n    url_split \u003d url.split(\u0027-Reviews-\u0027)\n    reviews_all \u003d []\n    for i in range(max_page):\n        page \u003d i*10\n        if page \u003d\u003d 0:\n            url_page \u003d url\n        else:\n            url_page \u003d url_split[0] + \u0027-Reviews-or{}-\u0027.format(page) + url_split[1]\n        print(url_page)\n        data \u003d requests.get(url_page, timeout\u003d10)\n        data.encoding \u003d data.apparent_encoding\n        # アクセス過多を避けるため、2秒スリープ\n        time.sleep(2)\n\n        # レスポンスのステータスコードが正常(200番台)以外の場合は、例外を発生させる(HTTPError)\n        if data.status_code !\u003d requests.codes.ok:\n            break\n        else:\n            reviews \u003d get_reviews(data)\n            reviews_all.append(reviews)\n    reviews_all \u003d [item for sublist in reviews_all for item in sublist]\n    reviews_translated \u003d translate_reviews(reviews_all)\n    zipped \u003d zip(reviews_all, reviews_translated)\n    trip_advisor_reviews_df \u003d pd.DataFrame(set(zipped), columns\u003d[\"en\", \"jp\"])\n    return trip_advisor_reviews_df"
      ],
      "outputs": []
    },
    {
      "execution_count": 43,
      "cell_type": "code",
      "metadata": {},
      "source": [
        "url \u003d \u0027https://www.tripadvisor.com/Restaurant_Review-g187147-d10085290-Reviews-Kodawari_Ramen_Yokocho-Paris_Ile_de_France.html\u0027"
      ],
      "outputs": []
    },
    {
      "execution_count": 44,
      "cell_type": "code",
      "metadata": {},
      "source": [
        "trip_advisor_reviews_df \u003d get_translated_reviews(url, max_page \u003d 2)"
      ],
      "outputs": [
        {
          "output_type": "stream",
          "name": "stdout",
          "text": "https://www.tripadvisor.com/Restaurant_Review-g187147-d10085290-Reviews-Kodawari_Ramen_Yokocho-Paris_Ile_de_France.html\nhttps://www.tripadvisor.com/Restaurant_Review-g187147-d10085290-Reviews-or10-Kodawari_Ramen_Yokocho-Paris_Ile_de_France.html\n"
        }
      ]
    },
    {
      "execution_count": 45,
      "cell_type": "code",
      "metadata": {},
      "source": [
        "trip_advisor_reviews_df"
      ],
      "outputs": [
        {
          "output_type": "execute_result",
          "metadata": {},
          "data": {
            "text/plain": "                                                   en                                                 jp\n0   I’ve been there many time, I tried pretty much...  私はそこに何度も行っており、さまざまな種類のラーメンを試しました。\\n全部好き。場所は本当に...\n1   We decided to try due to the long queue we saw...  ある夜、オンラインで良いレビューを見て長い列ができていたので、試してみることにしました。食べ...\n2   We arrived for the opening time of 12h00, wait...  私たちは 12 時の開店時間に到着し、待ち行列で 25 分待ってから入りました。最終的に入る...\n3   The ramens are really good. Its all about FISH...  ラーメンは本当にうまい。それはすべて FISH についてです。彼らは魚のスープを使用します。...\n4   Very good food, close to a real Japanese exper...  本物の日本体験に近い、とてもおいしい料理。長期滞在にはあまり快適ではありませんが、雰囲気は良...\n5   Real dissappointment total tourist trap. Food ...  本当の失望の総観光客の罠。食べ物は本当に塩辛く、味がしませんでした。他の 5 つ星のレビュー...\n6   The atmosphere of this restaurant was great an...  このレストランの雰囲気は素晴らしく、すべての従業員はとても快適でした。唯一の問題は、彼らのラ...\n7   Worth the wait! Had to queue for about 1 hour ...  待つ価値あり！土曜日の夜に約 1 時間待ち行列に入れなければなりませんでした。本物の日本の雰...\n8   Definitely ramen worth putting on a bucket lis...  バケツリストに載せる価値のあるラーメン。すべての素材の組み合わせによる味と香りの完璧さは、神...\n9   This is a small ramen restaurant. I waited so ...  小さなラーメン屋です。冬の間、私は長い間家族と並んで待っていたので、実際に通りの反対側にある...\n10  Really excellent food, and fab service. Also r...  本当に素晴らしい料理と素晴らしいサービス。また、他のパリのレストランと比較して比較的安価です...\n11  Kodawari YokochÅ�, a sure bet for these ramens...  コダワリ横丁、これらのラメンの間違いない、東京のストリートフードを連想させる非定型的な雰囲気...\n12  We waited for an hour in the street from 8:45p...  私たちは午後 8 時 45 分から午後 9 時 45 分まで通りで 1 時間待ち、静かな月曜...\n13  Ambiance is great. The food however, needs som...  雰囲気は素晴らしいです。ただし、料理には調味料が必要です。ラーメンは実際に嫌なほど当たり障り...\n14  Or worth the half hour wait.  Noodles were don...  または、30 分待つ価値があります。麺は完璧に仕上げられており、在庫は日本で典型的なものから...\n15  We didn\u0027t get to go to Japan like we usually d...  毎年のように日本に行くことができなかったので、超高品質の日本食を見逃していました。お正月にパ...\n16  We went to Kodawari because as we passed by it...  通り過ぎると東京を思い出したので、小田渡に行きました。入ってみると、レストラン全体が東京の横...\n17  If you see a queue from a mile away, it must b...  1マイル離れたところに行列ができているなら、それはコダワリラーメンに違いない。私は列に並ぶの...\n18  The best ramen I’ve ever had. Tender meat, fre...  私が今まで食べた中で最高のラーメン。柔らかい肉、新鮮な食材、素晴らしいスープ、まともなバリエ...\n19  If you\u0027re not sure - or if you want to be sure...  よくわからない場合、または何か素晴らしいものを食べたい場合は、提案された noddle を注...",
            "text/html": "\n            \u003cbutton style\u003d\"display:none\" \n            class\u003d\"btn btn-default ipython-export-btn\" \n            id\u003d\"btn-df-f331ab9c-279a-45d1-b1a7-8ac2080d61c6\" \n            onclick\u003d\"_export_df(\u0027f331ab9c-279a-45d1-b1a7-8ac2080d61c6\u0027)\"\u003e\n                Export dataframe\n            \u003c/button\u003e\n            \n            \u003cscript\u003e\n                \n                function _check_export_df_possible(dfid,yes_fn,no_fn) {\n                    console.log(\u0027Checking dataframe exportability...\u0027)\n                    if(!IPython || !IPython.notebook || !IPython.notebook.kernel || !IPython.notebook.kernel) {\n                        console.log(\u0027Export is not possible (IPython kernel is not available)\u0027)\n                        if(no_fn) {\n                            no_fn();\n                        }\n                    } else {\n                        var pythonCode \u003d \u0027from dataiku.notebook.export import IPythonExporter;IPythonExporter._check_export_stdout(\"\u0027+dfid+\u0027\")\u0027;\n                        IPython.notebook.kernel.execute(pythonCode,{iopub: {output: function(resp) {\n                            console.info(\"Exportability response\", resp);\n                            var size \u003d /^([0-9]+)x([0-9]+)$/.exec(resp.content.data || resp.content.text)\n                            if(!size) {\n                                console.log(\u0027Export is not possible (dataframe is not in-memory anymore)\u0027)\n                                if(no_fn) {\n                                    no_fn();\n                                }\n                            } else {\n                                console.log(\u0027Export is possible\u0027)\n                                if(yes_fn) {\n                                    yes_fn(1*size[1],1*size[2]);\n                                }\n                            }\n                        }}});\n                    }\n                }\n            \n                function _export_df(dfid) {\n                    \n                    var btn \u003d $(\u0027#btn-df-\u0027+dfid);\n                    var btns \u003d $(\u0027.ipython-export-btn\u0027);\n                    \n                    _check_export_df_possible(dfid,function() {\n                        \n                        window.parent.openExportModalFromIPython(\u0027Pandas dataframe\u0027,function(data) {\n                            btns.prop(\u0027disabled\u0027,true);\n                            btn.text(\u0027Exporting...\u0027);\n                            var command \u003d \u0027from dataiku.notebook.export import IPythonExporter;IPythonExporter._run_export(\"\u0027+dfid+\u0027\",\"\u0027+data.exportId+\u0027\")\u0027;\n                            var callback \u003d {iopub:{output: function(resp) {\n                                console.info(\"CB resp:\", resp);\n                                _check_export_df_possible(dfid,function(rows, cols) {\n                                    $(\u0027#btn-df-\u0027+dfid)\n                                        .css(\u0027display\u0027,\u0027inline-block\u0027)\n                                        .text(\u0027Export this dataframe (\u0027+rows+\u0027 rows, \u0027+cols+\u0027 cols)\u0027)\n                                        .prop(\u0027disabled\u0027,false);\n                                },function() {\n                                    $(\u0027#btn-df-\u0027+dfid).css(\u0027display\u0027,\u0027none\u0027);\n                                });\n                            }}};\n                            IPython.notebook.kernel.execute(command,callback,{silent:false}); // yes, silent now defaults to true. figures.\n                        });\n                    \n                    }, function(){\n                            alert(\u0027Unable to export : the Dataframe object is not loaded in memory\u0027);\n                            btn.css(\u0027display\u0027,\u0027none\u0027);\n                    });\n                    \n                }\n                \n                (function(dfid) {\n                \n                    var retryCount \u003d 10;\n                \n                    function is_valid_websock(s) {\n                        return s \u0026\u0026 s.readyState\u003d\u003d1;\n                    }\n                \n                    function check_conn() {\n                        \n                        if(!IPython || !IPython.notebook) {\n                            // Don\u0027t even try to go further\n                            return;\n                        }\n                        \n                        // Check if IPython is ready\n                        console.info(\"Checking conn ...\")\n                        if(IPython.notebook.kernel\n                        \u0026\u0026 IPython.notebook.kernel\n                        \u0026\u0026 is_valid_websock(IPython.notebook.kernel.ws)\n                        ) {\n                            \n                            _check_export_df_possible(dfid,function(rows, cols) {\n                                $(\u0027#btn-df-\u0027+dfid).css(\u0027display\u0027,\u0027inline-block\u0027);\n                                $(\u0027#btn-df-\u0027+dfid).text(\u0027Export this dataframe (\u0027+rows+\u0027 rows, \u0027+cols+\u0027 cols)\u0027);\n                            });\n                            \n                        } else {\n                            console.info(\"Conditions are not ok\", IPython.notebook.kernel);\n                            \n                            // Retry later\n                            \n                            if(retryCount\u003e0) {\n                                setTimeout(check_conn,500);\n                                retryCount--;\n                            }\n                            \n                        }\n                    };\n                    \n                    setTimeout(check_conn,100);\n                    \n                })(\"f331ab9c-279a-45d1-b1a7-8ac2080d61c6\");\n                \n            \u003c/script\u003e\n            \n        \u003cdiv\u003e\n\u003cstyle scoped\u003e\n    .dataframe tbody tr th:only-of-type {\n        vertical-align: middle;\n    }\n\n    .dataframe tbody tr th {\n        vertical-align: top;\n    }\n\n    .dataframe thead th {\n        text-align: right;\n    }\n\u003c/style\u003e\n\u003ctable border\u003d\"1\" class\u003d\"dataframe\"\u003e\n  \u003cthead\u003e\n    \u003ctr style\u003d\"text-align: right;\"\u003e\n      \u003cth\u003e\u003c/th\u003e\n      \u003cth\u003een\u003c/th\u003e\n      \u003cth\u003ejp\u003c/th\u003e\n    \u003c/tr\u003e\n  \u003c/thead\u003e\n  \u003ctbody\u003e\n    \u003ctr\u003e\n      \u003cth\u003e0\u003c/th\u003e\n      \u003ctd\u003eI’ve been there many time, I tried pretty much...\u003c/td\u003e\n      \u003ctd\u003e私はそこに何度も行っており、さまざまな種類のラーメンを試しました。\\n全部好き。場所は本当に...\u003c/td\u003e\n    \u003c/tr\u003e\n    \u003ctr\u003e\n      \u003cth\u003e1\u003c/th\u003e\n      \u003ctd\u003eWe decided to try due to the long queue we saw...\u003c/td\u003e\n      \u003ctd\u003eある夜、オンラインで良いレビューを見て長い列ができていたので、試してみることにしました。食べ...\u003c/td\u003e\n    \u003c/tr\u003e\n    \u003ctr\u003e\n      \u003cth\u003e2\u003c/th\u003e\n      \u003ctd\u003eWe arrived for the opening time of 12h00, wait...\u003c/td\u003e\n      \u003ctd\u003e私たちは 12 時の開店時間に到着し、待ち行列で 25 分待ってから入りました。最終的に入る...\u003c/td\u003e\n    \u003c/tr\u003e\n    \u003ctr\u003e\n      \u003cth\u003e3\u003c/th\u003e\n      \u003ctd\u003eThe ramens are really good. Its all about FISH...\u003c/td\u003e\n      \u003ctd\u003eラーメンは本当にうまい。それはすべて FISH についてです。彼らは魚のスープを使用します。...\u003c/td\u003e\n    \u003c/tr\u003e\n    \u003ctr\u003e\n      \u003cth\u003e4\u003c/th\u003e\n      \u003ctd\u003eVery good food, close to a real Japanese exper...\u003c/td\u003e\n      \u003ctd\u003e本物の日本体験に近い、とてもおいしい料理。長期滞在にはあまり快適ではありませんが、雰囲気は良...\u003c/td\u003e\n    \u003c/tr\u003e\n    \u003ctr\u003e\n      \u003cth\u003e5\u003c/th\u003e\n      \u003ctd\u003eReal dissappointment total tourist trap. Food ...\u003c/td\u003e\n      \u003ctd\u003e本当の失望の総観光客の罠。食べ物は本当に塩辛く、味がしませんでした。他の 5 つ星のレビュー...\u003c/td\u003e\n    \u003c/tr\u003e\n    \u003ctr\u003e\n      \u003cth\u003e6\u003c/th\u003e\n      \u003ctd\u003eThe atmosphere of this restaurant was great an...\u003c/td\u003e\n      \u003ctd\u003eこのレストランの雰囲気は素晴らしく、すべての従業員はとても快適でした。唯一の問題は、彼らのラ...\u003c/td\u003e\n    \u003c/tr\u003e\n    \u003ctr\u003e\n      \u003cth\u003e7\u003c/th\u003e\n      \u003ctd\u003eWorth the wait! Had to queue for about 1 hour ...\u003c/td\u003e\n      \u003ctd\u003e待つ価値あり！土曜日の夜に約 1 時間待ち行列に入れなければなりませんでした。本物の日本の雰...\u003c/td\u003e\n    \u003c/tr\u003e\n    \u003ctr\u003e\n      \u003cth\u003e8\u003c/th\u003e\n      \u003ctd\u003eDefinitely ramen worth putting on a bucket lis...\u003c/td\u003e\n      \u003ctd\u003eバケツリストに載せる価値のあるラーメン。すべての素材の組み合わせによる味と香りの完璧さは、神...\u003c/td\u003e\n    \u003c/tr\u003e\n    \u003ctr\u003e\n      \u003cth\u003e9\u003c/th\u003e\n      \u003ctd\u003eThis is a small ramen restaurant. I waited so ...\u003c/td\u003e\n      \u003ctd\u003e小さなラーメン屋です。冬の間、私は長い間家族と並んで待っていたので、実際に通りの反対側にある...\u003c/td\u003e\n    \u003c/tr\u003e\n    \u003ctr\u003e\n      \u003cth\u003e10\u003c/th\u003e\n      \u003ctd\u003eReally excellent food, and fab service. Also r...\u003c/td\u003e\n      \u003ctd\u003e本当に素晴らしい料理と素晴らしいサービス。また、他のパリのレストランと比較して比較的安価です...\u003c/td\u003e\n    \u003c/tr\u003e\n    \u003ctr\u003e\n      \u003cth\u003e11\u003c/th\u003e\n      \u003ctd\u003eKodawari YokochÅ�, a sure bet for these ramens...\u003c/td\u003e\n      \u003ctd\u003eコダワリ横丁、これらのラメンの間違いない、東京のストリートフードを連想させる非定型的な雰囲気...\u003c/td\u003e\n    \u003c/tr\u003e\n    \u003ctr\u003e\n      \u003cth\u003e12\u003c/th\u003e\n      \u003ctd\u003eWe waited for an hour in the street from 8:45p...\u003c/td\u003e\n      \u003ctd\u003e私たちは午後 8 時 45 分から午後 9 時 45 分まで通りで 1 時間待ち、静かな月曜...\u003c/td\u003e\n    \u003c/tr\u003e\n    \u003ctr\u003e\n      \u003cth\u003e13\u003c/th\u003e\n      \u003ctd\u003eAmbiance is great. The food however, needs som...\u003c/td\u003e\n      \u003ctd\u003e雰囲気は素晴らしいです。ただし、料理には調味料が必要です。ラーメンは実際に嫌なほど当たり障り...\u003c/td\u003e\n    \u003c/tr\u003e\n    \u003ctr\u003e\n      \u003cth\u003e14\u003c/th\u003e\n      \u003ctd\u003eOr worth the half hour wait.  Noodles were don...\u003c/td\u003e\n      \u003ctd\u003eまたは、30 分待つ価値があります。麺は完璧に仕上げられており、在庫は日本で典型的なものから...\u003c/td\u003e\n    \u003c/tr\u003e\n    \u003ctr\u003e\n      \u003cth\u003e15\u003c/th\u003e\n      \u003ctd\u003eWe didn\u0027t get to go to Japan like we usually d...\u003c/td\u003e\n      \u003ctd\u003e毎年のように日本に行くことができなかったので、超高品質の日本食を見逃していました。お正月にパ...\u003c/td\u003e\n    \u003c/tr\u003e\n    \u003ctr\u003e\n      \u003cth\u003e16\u003c/th\u003e\n      \u003ctd\u003eWe went to Kodawari because as we passed by it...\u003c/td\u003e\n      \u003ctd\u003e通り過ぎると東京を思い出したので、小田渡に行きました。入ってみると、レストラン全体が東京の横...\u003c/td\u003e\n    \u003c/tr\u003e\n    \u003ctr\u003e\n      \u003cth\u003e17\u003c/th\u003e\n      \u003ctd\u003eIf you see a queue from a mile away, it must b...\u003c/td\u003e\n      \u003ctd\u003e1マイル離れたところに行列ができているなら、それはコダワリラーメンに違いない。私は列に並ぶの...\u003c/td\u003e\n    \u003c/tr\u003e\n    \u003ctr\u003e\n      \u003cth\u003e18\u003c/th\u003e\n      \u003ctd\u003eThe best ramen I’ve ever had. Tender meat, fre...\u003c/td\u003e\n      \u003ctd\u003e私が今まで食べた中で最高のラーメン。柔らかい肉、新鮮な食材、素晴らしいスープ、まともなバリエ...\u003c/td\u003e\n    \u003c/tr\u003e\n    \u003ctr\u003e\n      \u003cth\u003e19\u003c/th\u003e\n      \u003ctd\u003eIf you\u0027re not sure - or if you want to be sure...\u003c/td\u003e\n      \u003ctd\u003eよくわからない場合、または何か素晴らしいものを食べたい場合は、提案された noddle を注...\u003c/td\u003e\n    \u003c/tr\u003e\n  \u003c/tbody\u003e\n\u003c/table\u003e\n\u003c/div\u003e"
          },
          "execution_count": 45
        }
      ]
    },
    {
      "execution_count": 3,
      "cell_type": "code",
      "metadata": {},
      "source": [
        "response \u003d connect_url(url)"
      ],
      "outputs": []
    },
    {
      "execution_count": 14,
      "cell_type": "code",
      "metadata": {},
      "source": [
        "url_split \u003d url.split(\u0027-Reviews-\u0027)"
      ],
      "outputs": []
    },
    {
      "execution_count": 17,
      "cell_type": "code",
      "metadata": {},
      "source": [
        "url_split[0] + \"-Reviews-or10-\" + url_split[1]\n\"-Reviews-or10-\""
      ],
      "outputs": [
        {
          "output_type": "execute_result",
          "metadata": {},
          "data": {
            "text/plain": "\u0027https://www.tripadvisor.com/Restaurant_Review-g187147-d10085290-Reviews-or10-Kodawari_Ramen_Yokocho-Paris_Ile_de_France.html\u0027"
          },
          "execution_count": 17
        }
      ]
    },
    {
      "execution_count": 27,
      "cell_type": "code",
      "metadata": {},
      "source": [
        "for i in range(10):\n    page \u003d i*10\n    if page \u003d\u003d 0:\n        url_page \u003d url\n    url_page \u003d url_split[0] + \u0027-Reviews-or{}-\u0027.format(page) + url_split[1]\n    print(url_page)"
      ],
      "outputs": [
        {
          "output_type": "stream",
          "name": "stdout",
          "text": "https://www.tripadvisor.com/Restaurant_Review-g187147-d10085290-Reviews-or0-Kodawari_Ramen_Yokocho-Paris_Ile_de_France.html\nhttps://www.tripadvisor.com/Restaurant_Review-g187147-d10085290-Reviews-or10-Kodawari_Ramen_Yokocho-Paris_Ile_de_France.html\nhttps://www.tripadvisor.com/Restaurant_Review-g187147-d10085290-Reviews-or20-Kodawari_Ramen_Yokocho-Paris_Ile_de_France.html\nhttps://www.tripadvisor.com/Restaurant_Review-g187147-d10085290-Reviews-or30-Kodawari_Ramen_Yokocho-Paris_Ile_de_France.html\nhttps://www.tripadvisor.com/Restaurant_Review-g187147-d10085290-Reviews-or40-Kodawari_Ramen_Yokocho-Paris_Ile_de_France.html\nhttps://www.tripadvisor.com/Restaurant_Review-g187147-d10085290-Reviews-or50-Kodawari_Ramen_Yokocho-Paris_Ile_de_France.html\nhttps://www.tripadvisor.com/Restaurant_Review-g187147-d10085290-Reviews-or60-Kodawari_Ramen_Yokocho-Paris_Ile_de_France.html\nhttps://www.tripadvisor.com/Restaurant_Review-g187147-d10085290-Reviews-or70-Kodawari_Ramen_Yokocho-Paris_Ile_de_France.html\nhttps://www.tripadvisor.com/Restaurant_Review-g187147-d10085290-Reviews-or80-Kodawari_Ramen_Yokocho-Paris_Ile_de_France.html\nhttps://www.tripadvisor.com/Restaurant_Review-g187147-d10085290-Reviews-or90-Kodawari_Ramen_Yokocho-Paris_Ile_de_France.html\n"
        }
      ]
    },
    {
      "execution_count": 21,
      "cell_type": "code",
      "metadata": {},
      "source": [
        "\u0027-Reviews-or{}-\u0027.format(\"10\")"
      ],
      "outputs": [
        {
          "output_type": "execute_result",
          "metadata": {},
          "data": {
            "text/plain": "\u0027-Reviews-or10-\u0027"
          },
          "execution_count": 21
        }
      ]
    },
    {
      "execution_count": 4,
      "cell_type": "code",
      "metadata": {},
      "source": [
        "soup \u003d BeautifulSoup(response.text, \u0027lxml\u0027)"
      ],
      "outputs": []
    },
    {
      "execution_count": 5,
      "cell_type": "code",
      "metadata": {},
      "source": [
        "reviews \u003d []\nreview_container \u003d soup.find_all(class_\u003d\u0027review-container\u0027)\nfor i in range(len(review_container)):\n    review \u003d review_container[i].find_all(\"p\", class_\u003d\u0027partial_entry\u0027)[0].text\n    reviews.append(review)"
      ],
      "outputs": []
    },
    {
      "execution_count": 8,
      "cell_type": "code",
      "metadata": {},
      "source": [
        "translator \u003d Translator(service_urls\u003d[\u0027translate.googleapis.com\u0027])"
      ],
      "outputs": []
    },
    {
      "execution_count": 9,
      "cell_type": "code",
      "metadata": {},
      "source": [
        "reviews_translated \u003d []\ntranslations \u003d translator.translate(reviews, dest\u003d\u0027ja\u0027)\nfor translation in translations:\n    reviews_translated.append(translation.text)"
      ],
      "outputs": []
    },
    {
      "execution_count": 10,
      "cell_type": "code",
      "metadata": {},
      "source": [
        "zipped \u003d zip(reviews, reviews_translated)"
      ],
      "outputs": []
    },
    {
      "execution_count": 11,
      "cell_type": "code",
      "metadata": {},
      "source": [
        "trip_advisor_reviews_df \u003d pd.DataFrame(set(zipped), columns\u003d[\"en\", \"jp\"])"
      ],
      "outputs": []
    },
    {
      "execution_count": 12,
      "cell_type": "code",
      "metadata": {},
      "source": [
        "# Write recipe outputs\nyour_trip_advisor \u003d dataiku.Dataset(\"your_trip_advisor\")\nyour_trip_advisor.write_with_schema(trip_advisor_reviews_df)"
      ],
      "outputs": [
        {
          "output_type": "stream",
          "name": "stdout",
          "text": "10 rows successfully written (6VdZp2MatJ)\n"
        }
      ]
    },
    {
      "execution_count": 13,
      "cell_type": "code",
      "metadata": {},
      "source": [
        "trip_advisor_reviews_df"
      ],
      "outputs": [
        {
          "output_type": "execute_result",
          "metadata": {},
          "data": {
            "text/plain": "                                                  en                                                 jp\n0  We arrived for the opening time of 12h00, wait...  We arrived for the opening time of 12h00, wait...\n1  Really excellent food, and fab service. Also r...  Really excellent food, and fab service. Also r...\n2  We decided to try due to the long queue we saw...  We decided to try due to the long queue we saw...\n3  This is a small ramen restaurant. I waited so ...  This is a small ramen restaurant. I waited so ...\n4  Ambiance is great. The food however, needs som...  Ambiance is great. The food however, needs som...\n5  Worth the wait! Had to queue for about 1 hour ...  Worth the wait! Had to queue for about 1 hour ...\n6  The atmosphere of this restaurant was great an...  The atmosphere of this restaurant was great an...\n7  We didn\u0027t get to go to Japan like we usually d...  We didn\u0027t get to go to Japan like we usually d...\n8  The best ramen I’ve ever had. Tender meat, fre...  The best ramen I’ve ever had. Tender meat, fre...\n9  I’ve been there many time, I tried pretty much...  I’ve been there many time, I tried pretty much...",
            "text/html": "\n            \u003cbutton style\u003d\"display:none\" \n            class\u003d\"btn btn-default ipython-export-btn\" \n            id\u003d\"btn-df-dc02902b-9c93-479b-8eb8-337f177fe412\" \n            onclick\u003d\"_export_df(\u0027dc02902b-9c93-479b-8eb8-337f177fe412\u0027)\"\u003e\n                Export dataframe\n            \u003c/button\u003e\n            \n            \u003cscript\u003e\n                \n                function _check_export_df_possible(dfid,yes_fn,no_fn) {\n                    console.log(\u0027Checking dataframe exportability...\u0027)\n                    if(!IPython || !IPython.notebook || !IPython.notebook.kernel || !IPython.notebook.kernel) {\n                        console.log(\u0027Export is not possible (IPython kernel is not available)\u0027)\n                        if(no_fn) {\n                            no_fn();\n                        }\n                    } else {\n                        var pythonCode \u003d \u0027from dataiku.notebook.export import IPythonExporter;IPythonExporter._check_export_stdout(\"\u0027+dfid+\u0027\")\u0027;\n                        IPython.notebook.kernel.execute(pythonCode,{iopub: {output: function(resp) {\n                            console.info(\"Exportability response\", resp);\n                            var size \u003d /^([0-9]+)x([0-9]+)$/.exec(resp.content.data || resp.content.text)\n                            if(!size) {\n                                console.log(\u0027Export is not possible (dataframe is not in-memory anymore)\u0027)\n                                if(no_fn) {\n                                    no_fn();\n                                }\n                            } else {\n                                console.log(\u0027Export is possible\u0027)\n                                if(yes_fn) {\n                                    yes_fn(1*size[1],1*size[2]);\n                                }\n                            }\n                        }}});\n                    }\n                }\n            \n                function _export_df(dfid) {\n                    \n                    var btn \u003d $(\u0027#btn-df-\u0027+dfid);\n                    var btns \u003d $(\u0027.ipython-export-btn\u0027);\n                    \n                    _check_export_df_possible(dfid,function() {\n                        \n                        window.parent.openExportModalFromIPython(\u0027Pandas dataframe\u0027,function(data) {\n                            btns.prop(\u0027disabled\u0027,true);\n                            btn.text(\u0027Exporting...\u0027);\n                            var command \u003d \u0027from dataiku.notebook.export import IPythonExporter;IPythonExporter._run_export(\"\u0027+dfid+\u0027\",\"\u0027+data.exportId+\u0027\")\u0027;\n                            var callback \u003d {iopub:{output: function(resp) {\n                                console.info(\"CB resp:\", resp);\n                                _check_export_df_possible(dfid,function(rows, cols) {\n                                    $(\u0027#btn-df-\u0027+dfid)\n                                        .css(\u0027display\u0027,\u0027inline-block\u0027)\n                                        .text(\u0027Export this dataframe (\u0027+rows+\u0027 rows, \u0027+cols+\u0027 cols)\u0027)\n                                        .prop(\u0027disabled\u0027,false);\n                                },function() {\n                                    $(\u0027#btn-df-\u0027+dfid).css(\u0027display\u0027,\u0027none\u0027);\n                                });\n                            }}};\n                            IPython.notebook.kernel.execute(command,callback,{silent:false}); // yes, silent now defaults to true. figures.\n                        });\n                    \n                    }, function(){\n                            alert(\u0027Unable to export : the Dataframe object is not loaded in memory\u0027);\n                            btn.css(\u0027display\u0027,\u0027none\u0027);\n                    });\n                    \n                }\n                \n                (function(dfid) {\n                \n                    var retryCount \u003d 10;\n                \n                    function is_valid_websock(s) {\n                        return s \u0026\u0026 s.readyState\u003d\u003d1;\n                    }\n                \n                    function check_conn() {\n                        \n                        if(!IPython || !IPython.notebook) {\n                            // Don\u0027t even try to go further\n                            return;\n                        }\n                        \n                        // Check if IPython is ready\n                        console.info(\"Checking conn ...\")\n                        if(IPython.notebook.kernel\n                        \u0026\u0026 IPython.notebook.kernel\n                        \u0026\u0026 is_valid_websock(IPython.notebook.kernel.ws)\n                        ) {\n                            \n                            _check_export_df_possible(dfid,function(rows, cols) {\n                                $(\u0027#btn-df-\u0027+dfid).css(\u0027display\u0027,\u0027inline-block\u0027);\n                                $(\u0027#btn-df-\u0027+dfid).text(\u0027Export this dataframe (\u0027+rows+\u0027 rows, \u0027+cols+\u0027 cols)\u0027);\n                            });\n                            \n                        } else {\n                            console.info(\"Conditions are not ok\", IPython.notebook.kernel);\n                            \n                            // Retry later\n                            \n                            if(retryCount\u003e0) {\n                                setTimeout(check_conn,500);\n                                retryCount--;\n                            }\n                            \n                        }\n                    };\n                    \n                    setTimeout(check_conn,100);\n                    \n                })(\"dc02902b-9c93-479b-8eb8-337f177fe412\");\n                \n            \u003c/script\u003e\n            \n        \u003cdiv\u003e\n\u003cstyle scoped\u003e\n    .dataframe tbody tr th:only-of-type {\n        vertical-align: middle;\n    }\n\n    .dataframe tbody tr th {\n        vertical-align: top;\n    }\n\n    .dataframe thead th {\n        text-align: right;\n    }\n\u003c/style\u003e\n\u003ctable border\u003d\"1\" class\u003d\"dataframe\"\u003e\n  \u003cthead\u003e\n    \u003ctr style\u003d\"text-align: right;\"\u003e\n      \u003cth\u003e\u003c/th\u003e\n      \u003cth\u003een\u003c/th\u003e\n      \u003cth\u003ejp\u003c/th\u003e\n    \u003c/tr\u003e\n  \u003c/thead\u003e\n  \u003ctbody\u003e\n    \u003ctr\u003e\n      \u003cth\u003e0\u003c/th\u003e\n      \u003ctd\u003eWe arrived for the opening time of 12h00, wait...\u003c/td\u003e\n      \u003ctd\u003eWe arrived for the opening time of 12h00, wait...\u003c/td\u003e\n    \u003c/tr\u003e\n    \u003ctr\u003e\n      \u003cth\u003e1\u003c/th\u003e\n      \u003ctd\u003eReally excellent food, and fab service. Also r...\u003c/td\u003e\n      \u003ctd\u003eReally excellent food, and fab service. Also r...\u003c/td\u003e\n    \u003c/tr\u003e\n    \u003ctr\u003e\n      \u003cth\u003e2\u003c/th\u003e\n      \u003ctd\u003eWe decided to try due to the long queue we saw...\u003c/td\u003e\n      \u003ctd\u003eWe decided to try due to the long queue we saw...\u003c/td\u003e\n    \u003c/tr\u003e\n    \u003ctr\u003e\n      \u003cth\u003e3\u003c/th\u003e\n      \u003ctd\u003eThis is a small ramen restaurant. I waited so ...\u003c/td\u003e\n      \u003ctd\u003eThis is a small ramen restaurant. I waited so ...\u003c/td\u003e\n    \u003c/tr\u003e\n    \u003ctr\u003e\n      \u003cth\u003e4\u003c/th\u003e\n      \u003ctd\u003eAmbiance is great. The food however, needs som...\u003c/td\u003e\n      \u003ctd\u003eAmbiance is great. The food however, needs som...\u003c/td\u003e\n    \u003c/tr\u003e\n    \u003ctr\u003e\n      \u003cth\u003e5\u003c/th\u003e\n      \u003ctd\u003eWorth the wait! Had to queue for about 1 hour ...\u003c/td\u003e\n      \u003ctd\u003eWorth the wait! Had to queue for about 1 hour ...\u003c/td\u003e\n    \u003c/tr\u003e\n    \u003ctr\u003e\n      \u003cth\u003e6\u003c/th\u003e\n      \u003ctd\u003eThe atmosphere of this restaurant was great an...\u003c/td\u003e\n      \u003ctd\u003eThe atmosphere of this restaurant was great an...\u003c/td\u003e\n    \u003c/tr\u003e\n    \u003ctr\u003e\n      \u003cth\u003e7\u003c/th\u003e\n      \u003ctd\u003eWe didn\u0027t get to go to Japan like we usually d...\u003c/td\u003e\n      \u003ctd\u003eWe didn\u0027t get to go to Japan like we usually d...\u003c/td\u003e\n    \u003c/tr\u003e\n    \u003ctr\u003e\n      \u003cth\u003e8\u003c/th\u003e\n      \u003ctd\u003eThe best ramen I’ve ever had. Tender meat, fre...\u003c/td\u003e\n      \u003ctd\u003eThe best ramen I’ve ever had. Tender meat, fre...\u003c/td\u003e\n    \u003c/tr\u003e\n    \u003ctr\u003e\n      \u003cth\u003e9\u003c/th\u003e\n      \u003ctd\u003eI’ve been there many time, I tried pretty much...\u003c/td\u003e\n      \u003ctd\u003eI’ve been there many time, I tried pretty much...\u003c/td\u003e\n    \u003c/tr\u003e\n  \u003c/tbody\u003e\n\u003c/table\u003e\n\u003c/div\u003e"
          },
          "execution_count": 13
        }
      ]
    },
    {
      "execution_count": 0,
      "cell_type": "code",
      "metadata": {},
      "source": [
        ""
      ],
      "outputs": []
    }
  ]
}