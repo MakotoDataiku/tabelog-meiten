{
  "metadata": {
    "kernelspec": {
      "display_name": "Python (env japan-nlp)",
      "name": "py-dku-venv-japan-nlp",
      "language": "python"
    },
    "language_info": {
      "mimetype": "text/x-python",
      "nbconvert_exporter": "python",
      "version": "3.6.8",
      "name": "python",
      "pygments_lexer": "ipython3",
      "file_extension": ".py",
      "codemirror_mode": {
        "version": 3,
        "name": "ipython"
      }
    },
    "tags": [
      "recipe-editor"
    ],
    "associatedRecipe": "compute_your_trip_advisor",
    "createdOn": 1622722394413,
    "hide_input": false,
    "customFields": {},
    "creator": "admin",
    "modifiedBy": "admin"
  },
  "nbformat": 4,
  "nbformat_minor": 1,
  "cells": [
    {
      "execution_count": 44,
      "cell_type": "code",
      "metadata": {},
      "source": [
        "# -*- coding: utf-8 -*-\nimport dataiku\nimport pandas as pd, numpy as np\nfrom dataiku import pandasutils as pdu\nfrom bs4 import BeautifulSoup\nimport requests\nimport time\nfrom googletrans import Translator"
      ],
      "outputs": []
    },
    {
      "execution_count": 10,
      "cell_type": "code",
      "metadata": {},
      "source": [
        "def connect_url(target_url):\n    \"\"\"\n    対象のURLにアクセスする関数\n    アクセスできない等のエラーが発生したら例外を投げる\n    \"\"\"\n    # 接続確立の待機時間、応答待機時間を10秒とし、それぞれの値を超えた場合は例外が発生（ConnectTimeout）\n    data \u003d requests.get(target_url, timeout\u003d10)\n    data.encoding \u003d data.apparent_encoding\n    # アクセス過多を避けるため、2秒スリープ\n    time.sleep(2)\n\n    # レスポンスのステータスコードが正常(200番台)以外の場合は、例外を発生させる(HTTPError)\n    if data.status_code \u003d\u003d requests.codes.ok:\n        return data\n    else:\n        data.raise_for_status()"
      ],
      "outputs": []
    },
    {
      "execution_count": 11,
      "cell_type": "code",
      "metadata": {},
      "source": [
        "url \u003d \u0027https://www.tripadvisor.com/Restaurant_Review-g187147-d10085290-Reviews-Kodawari_Ramen_Yokocho-Paris_Ile_de_France.html\u0027\nresponse \u003d connect_url(url)\n"
      ],
      "outputs": []
    },
    {
      "execution_count": 12,
      "cell_type": "code",
      "metadata": {},
      "source": [
        "soup \u003d BeautifulSoup(response.text, \u0027lxml\u0027)"
      ],
      "outputs": []
    },
    {
      "execution_count": 35,
      "cell_type": "code",
      "metadata": {},
      "source": [
        "reviews \u003d []\nreview_container \u003d soup.find_all(class_\u003d\u0027review-container\u0027)\nfor i in range(len(review_container)):\n    review \u003d review_container[i].find_all(\"p\", class_\u003d\u0027partial_entry\u0027)[0].text\n    reviews.append(review)"
      ],
      "outputs": []
    },
    {
      "execution_count": 42,
      "cell_type": "code",
      "metadata": {},
      "source": [
        ""
      ],
      "outputs": [
        {
          "output_type": "execute_result",
          "metadata": {},
          "data": {
            "text/plain": "\u0027We arrived for the opening time of 12h00, waited for 25min in the queue, got in to then realised they made a mistake and had us go out again. Another waiting time over 25min to finally get in. The food was not really exceptional. It...is supposed to be made of french ingredient (free range chicken, i dt think this came accross in the taste of the food). It is fairly pricey for what it is.The only positive aspect i could find was the atmosphere, trying to give some authenthic experience.More\u0027"
          },
          "execution_count": 42
        }
      ]
    },
    {
      "execution_count": 0,
      "cell_type": "code",
      "metadata": {},
      "source": [
        "translator \u003d Translator()\n"
      ],
      "outputs": []
    },
    {
      "execution_count": 0,
      "cell_type": "code",
      "metadata": {},
      "source": [
        "# Compute recipe outputs\n# TODO: Write here your actual code that computes the outputs\n# NB: DSS supports several kinds of APIs for reading and writing data. Please see doc.\n\nyour_trip_advisor_df \u003d ... # Compute a Pandas dataframe to write into your_trip_advisor\n\n\n# Write recipe outputs\nyour_trip_advisor \u003d dataiku.Dataset(\"your_trip_advisor\")\nyour_trip_advisor.write_with_schema(your_trip_advisor_df)"
      ],
      "outputs": []
    }
  ]
}