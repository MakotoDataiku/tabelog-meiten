{
  "nbformat": 4,
  "nbformat_minor": 0,
  "metadata": {
    "kernelspec": {
      "display_name": "Python (env japan-nlp)",
      "language": "python",
      "name": "py-dku-venv-japan-nlp"
    },
    "associatedRecipe": "compute_m9JZdV7b",
    "creator": "admin",
    "createdOn": 1622485642198,
    "tags": [
      "recipe-editor"
    ],
    "customFields": {}
  },
  "cells": [
    {
      "cell_type": "code",
      "metadata": {},
      "outputs": [],
      "execution_count": 0,
      "source": [
        "# -*- coding: utf-8 -*-\n",
        "import dataiku\n",
        "import pandas as pd, numpy as np\n",
        "from dataiku import pandasutils as pdu\n",
        "\n",
        "# Read recipe inputs\n",
        "raw_ramen \u003d dataiku.Dataset(\"raw_ramen\")\n",
        "raw_ramen_df \u003d raw_ramen.get_dataframe()\n",
        "\n",
        "\n",
        "\n",
        "\n",
        "# Write recipe outputs\n",
        "word2vec \u003d dataiku.Folder(\"m9JZdV7b\")\n",
        "word2vec_info \u003d word2vec.get_info()"
      ]
    }
  ]
}