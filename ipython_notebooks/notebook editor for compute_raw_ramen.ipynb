{
  "metadata": {
    "kernelspec": {
      "display_name": "Python (env japan-nlp)",
      "name": "py-dku-venv-japan-nlp",
      "language": "python"
    },
    "language_info": {
      "mimetype": "text/x-python",
      "nbconvert_exporter": "python",
      "version": "3.6.8",
      "name": "python",
      "pygments_lexer": "ipython3",
      "file_extension": ".py",
      "codemirror_mode": {
        "version": 3,
        "name": "ipython"
      }
    },
    "tags": [
      "recipe-editor"
    ],
    "associatedRecipe": "compute_raw_ramen",
    "createdOn": 1622465913341,
    "hide_input": false,
    "customFields": {},
    "creator": "admin",
    "modifiedBy": "admin"
  },
  "nbformat": 4,
  "nbformat_minor": 1,
  "cells": [
    {
      "execution_count": 8,
      "cell_type": "code",
      "metadata": {},
      "source": [
        "# -*- coding: utf-8 -*-\nimport dataiku\nimport pandas as pd, numpy as np\nfrom dataiku import pandasutils as pdu\nfrom tabelog import Tabelog"
      ],
      "outputs": []
    },
    {
      "execution_count": 0,
      "cell_type": "code",
      "metadata": {},
      "source": [
        "raw_ramen_df \u003d Tabelog(base_url\u003d\"https://tabelog.com/tokyo/rstLst/ramen/\", test_mode\u003dTrue, p_ward\u003d\u0027東京都内\u0027)"
      ],
      "outputs": [
        {
          "output_type": "stream",
          "name": "stdout",
          "text": "1→店名：手打式超多加水麺 ののくら  評価点数：3.98点  レビュー件数：479 .   取得時間：70.09095501899719\n2→店名：Homemade Ramen 麦苗  評価点数：3.97点  レビュー件数：731 . "
        }
      ]
    },
    {
      "execution_count": 0,
      "cell_type": "code",
      "metadata": {},
      "source": [
        "raw_ramen_df.df"
      ],
      "outputs": []
    },
    {
      "execution_count": 0,
      "cell_type": "code",
      "metadata": {},
      "source": [
        "# Write recipe outputs\nraw_ramen \u003d dataiku.Dataset(\"raw_ramen\")\nraw_ramen.write_with_schema(raw_ramen_df)"
      ],
      "outputs": []
    }
  ]
}