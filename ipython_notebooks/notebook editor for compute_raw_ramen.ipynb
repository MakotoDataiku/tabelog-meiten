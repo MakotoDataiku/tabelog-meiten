{
  "nbformat": 4,
  "nbformat_minor": 0,
  "metadata": {
    "kernelspec": {
      "display_name": "Python (env japan-nlp)",
      "language": "python",
      "name": "py-dku-venv-japan-nlp"
    },
    "associatedRecipe": "compute_raw_ramen",
    "creator": "admin",
    "createdOn": 1622465913341,
    "tags": [
      "recipe-editor"
    ],
    "customFields": {}
  },
  "cells": [
    {
      "cell_type": "code",
      "metadata": {},
      "outputs": [],
      "execution_count": 0,
      "source": [
        "# -*- coding: utf-8 -*-\n",
        "import dataiku\n",
        "import pandas as pd, numpy as np\n",
        "from dataiku import pandasutils as pdu\n",
        "from tabelog import Tabelog\n",
        "\n",
        "raw_ramen_df \u003d Tabelog(base_url\u003d\"https://tabelog.com/tokyo/rstLst/ramen/\", test_mode\u003dTrue, p_ward\u003d\u0027東京都内\u0027)\n",
        "\n",
        "# Write recipe outputs\n",
        "raw_ramen \u003d dataiku.Dataset(\"raw_ramen\")\n",
        "raw_ramen.write_with_schema(raw_ramen_df)"
      ]
    }
  ]
}