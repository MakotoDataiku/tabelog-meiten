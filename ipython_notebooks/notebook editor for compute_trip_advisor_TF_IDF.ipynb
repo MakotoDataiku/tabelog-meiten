{
  "nbformat": 4,
  "nbformat_minor": 0,
  "metadata": {
    "kernelspec": {
      "display_name": "Python (env japan-nlp)",
      "language": "python",
      "name": "py-dku-venv-japan-nlp"
    },
    "associatedRecipe": "compute_trip_advisor_TF_IDF",
    "creator": "admin",
    "createdOn": 1622734648273,
    "tags": [
      "recipe-editor"
    ],
    "customFields": {}
  },
  "cells": [
    {
      "cell_type": "code",
      "metadata": {},
      "outputs": [],
      "execution_count": 0,
      "source": [
        "# -*- coding: utf-8 -*-\n",
        "import dataiku\n",
        "import pandas as pd, numpy as np\n",
        "from dataiku import pandasutils as pdu\n",
        "from gensim import corpora\n",
        "from gensim import models\n",
        "import MeCab\n",
        "from gensim.models import word2vec"
      ]
    },
    {
      "cell_type": "code",
      "metadata": {},
      "outputs": [],
      "execution_count": 0,
      "source": [
        "# Read recipe inputs\n",
        "your_trip_advisor \u003d dataiku.Dataset(\"your_trip_advisor\")\n",
        "df \u003d your_trip_advisor.get_dataframe()"
      ]
    },
    {
      "cell_type": "code",
      "metadata": {},
      "outputs": [],
      "execution_count": 0,
      "source": [
        "folder_path \u003d dataiku.Folder(\"m9JZdV7b\").get_path()\n",
        "model_path \u003d folder_path + \"/word2vec_ramen_model.model\"\n",
        "ramen_model \u003d word2vec.Word2Vec.load(model_path)"
      ]
    },
    {
      "cell_type": "code",
      "metadata": {},
      "outputs": [],
      "execution_count": 0,
      "source": [
        "wakati_folder \u003d dataiku.Folder(\"0kM5kXKs\").get_path()\n",
        "tagger_path \u003d \u0027-Owakati -d \u0027 + wakati_folder"
      ]
    },
    {
      "cell_type": "code",
      "metadata": {},
      "outputs": [],
      "execution_count": 0,
      "source": [
        "tagger \u003d MeCab.Tagger(tagger_path)#タグはMeCab.Tagger（neologd辞書）を使用\n",
        "tagger.parse(\u0027\u0027)"
      ]
    },
    {
      "cell_type": "code",
      "metadata": {},
      "outputs": [],
      "execution_count": 0,
      "source": [
        "def tokenize_ja(text, lower):\n",
        "    node \u003d tagger.parseToNode(str(text))\n",
        "    while node:\n",
        "        if lower and node.feature.split(\u0027,\u0027)[0] in [\"名詞\",\"形容詞\"]:#分かち書きで取得する品詞を指定\n",
        "            yield node.surface.lower()\n",
        "        node \u003d node.next\n",
        "def tokenize(content, token_min_len, token_max_len, lower):\n",
        "    return [\n",
        "        str(token) for token in tokenize_ja(content, lower)\n",
        "        if token_min_len \u003c\u003d len(token) \u003c\u003d token_max_len and not token.startswith(\u0027_\u0027)\n",
        "    ]"
      ]
    },
    {
      "cell_type": "code",
      "metadata": {},
      "outputs": [],
      "execution_count": 0,
      "source": [
        "wakati_ramen_text \u003d []\n",
        "for i in df[\u0027jp\u0027]:\n",
        "    txt \u003d tokenize(i, 2, 10000, True)\n",
        "    wakati_ramen_text.append(txt)"
      ]
    },
    {
      "cell_type": "code",
      "metadata": {},
      "outputs": [],
      "execution_count": 0,
      "source": [
        "#[w for w in sublist in wakati_ramen_text]\n",
        "vocab \u003d [w for sublist in wakati_ramen_text for w in sublist]"
      ]
    },
    {
      "cell_type": "code",
      "metadata": {},
      "outputs": [],
      "execution_count": 0,
      "source": [
        "words \u003d []\n",
        "vectors \u003d []\n",
        "for word in vocab:\n",
        "    try:\n",
        "        vector \u003d ramen_model.wv[word]\n",
        "        words.append(word)\n",
        "        vectors.append(vector)\n",
        "    except KeyError:\n",
        "        None"
      ]
    },
    {
      "cell_type": "code",
      "metadata": {},
      "outputs": [],
      "execution_count": 0,
      "source": [
        "vocab_df \u003d pd.DataFrame(vectors)\n",
        "vocab_df[\u0027words\u0027] \u003d words"
      ]
    },
    {
      "cell_type": "code",
      "metadata": {},
      "outputs": [],
      "execution_count": 0,
      "source": [
        "trip_advisor_tf_idf \u003d dataiku.Dataset(\"trip_advisor_vocabs\")\n",
        "trip_advisor_tf_idf.write_with_schema(vocab_df)"
      ]
    },
    {
      "cell_type": "code",
      "metadata": {},
      "outputs": [],
      "execution_count": 0,
      "source": [
        "#ramen_dictionary_path \u003d dataiku.Folder(\"POe5uF4H\").get_path() + \"/ramen_dictionary\"\n",
        "#dictionary \u003d corpora.Dictionary.load(ramen_dictionary_path)\n",
        "#corpus \u003d list(map(dictionary.doc2bow, reviews_concat))"
      ]
    }
  ]
}