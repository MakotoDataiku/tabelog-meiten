{
  "metadata": {
    "kernelspec": {
      "display_name": "Python (env japan-nlp)",
      "name": "py-dku-venv-japan-nlp",
      "language": "python"
    },
    "language_info": {
      "mimetype": "text/x-python",
      "nbconvert_exporter": "python",
      "version": "3.6.8",
      "name": "python",
      "pygments_lexer": "ipython3",
      "file_extension": ".py",
      "codemirror_mode": {
        "version": 3,
        "name": "ipython"
      }
    },
    "tags": [
      "recipe-editor"
    ],
    "associatedRecipe": "compute_trip_advisor_TF_IDF",
    "createdOn": 1622734648273,
    "hide_input": false,
    "customFields": {},
    "creator": "admin",
    "modifiedBy": "admin"
  },
  "nbformat": 4,
  "nbformat_minor": 1,
  "cells": [
    {
      "execution_count": 28,
      "cell_type": "code",
      "metadata": {},
      "source": [
        "# -*- coding: utf-8 -*-\nimport dataiku\nimport pandas as pd, numpy as np\nfrom dataiku import pandasutils as pdu\nfrom gensim import corpora\nfrom gensim import models\nimport MeCab\nfrom gensim.models import word2vec\nfrom gensim.models import TfidfModel\nfrom operator import itemgetter"
      ],
      "outputs": []
    },
    {
      "execution_count": 4,
      "cell_type": "code",
      "metadata": {},
      "source": [
        "# Read recipe inputs\nyour_trip_advisor \u003d dataiku.Dataset(\"trip_advisor_clustered_prepared\")\ndf \u003d your_trip_advisor.get_dataframe()"
      ],
      "outputs": []
    },
    {
      "execution_count": 19,
      "cell_type": "code",
      "metadata": {},
      "source": [
        "tfidf_path \u003d dataiku.Folder(\"tMMk2S0T\").get_path() + \"/tf_idf\""
      ],
      "outputs": []
    },
    {
      "execution_count": 8,
      "cell_type": "code",
      "metadata": {},
      "source": [
        "list_vocabs \u003d df[df[\u0027cluster_labels\u0027].isin([\u0027接客などのサービス\u0027, \u0027具材・素材・味\u0027])][\u0027words_concat\u0027].values"
      ],
      "outputs": []
    },
    {
      "execution_count": 11,
      "cell_type": "code",
      "metadata": {},
      "source": [
        "ramen_word \u003d list_vocabs[0].split(\",\") + list_vocabs[1].split(\",\")"
      ],
      "outputs": []
    },
    {
      "execution_count": 17,
      "cell_type": "code",
      "metadata": {},
      "source": [
        "ramen_dictionary_path \u003d dataiku.Folder(\"POe5uF4H\").get_path() + \"/ramen_dictionary\"\ndictionary \u003d corpora.Dictionary.load(ramen_dictionary_path)\ncorpus \u003d list(map(dictionary.doc2bow, [ramen_word]))"
      ],
      "outputs": []
    },
    {
      "execution_count": 23,
      "cell_type": "code",
      "metadata": {},
      "source": [
        "tfidf_model \u003d TfidfModel.load(tfidf_path)"
      ],
      "outputs": []
    },
    {
      "execution_count": 24,
      "cell_type": "code",
      "metadata": {},
      "source": [
        "corpus_tfidf \u003d tfidf_model[corpus]"
      ],
      "outputs": []
    },
    {
      "execution_count": 25,
      "cell_type": "code",
      "metadata": {},
      "source": [
        "corpus_tfidf"
      ],
      "outputs": [
        {
          "output_type": "execute_result",
          "metadata": {},
          "data": {
            "text/plain": "\u003cgensim.interfaces.TransformedCorpus at 0x7f8b3a6b0828\u003e"
          },
          "execution_count": 25
        }
      ]
    },
    {
      "execution_count": 26,
      "cell_type": "code",
      "metadata": {},
      "source": [
        "# id-\u003e単語へ変換\ntexts_tfidf \u003d [] # id -\u003e 単語表示に変えた文書ごとのTF-IDF\nfor doc in corpus_tfidf:\n    text_tfidf \u003d []\n    for word in doc:\n        text_tfidf.append([dictionary[word[0]],word[1]])\n    texts_tfidf.append(text_tfidf)"
      ],
      "outputs": []
    },
    {
      "execution_count": 27,
      "cell_type": "code",
      "metadata": {},
      "source": [
        "texts_tfidf"
      ],
      "outputs": [
        {
          "output_type": "execute_result",
          "metadata": {},
          "data": {
            "text/plain": "[[[\u002710\u0027, 0.004334910083146761],\n  [\u002710分\u0027, 0.0005285872455867774],\n  [\u002712\u0027, 0.006766371415655174],\n  [\u002715\u0027, 0.018210897677701232],\n  [\u002720人\u0027, 0.022558401048155173],\n  [\u002725\u0027, 0.025290056606975],\n  [\u002730\u0027, 0.0141947191343707],\n  [\u002730分\u0027, 0.004433138305269084],\n  [\u002745\u0027, 0.03940381077145201],\n  [\u0027いい\u0027, 0.0002984279720377294],\n  [\u0027うまい\u0027, 0.013993555551083062],\n  [\u0027こだわり\u0027, 0.012668045107411523],\n  [\u0027これら\u0027, 0.022874923936817417],\n  [\u0027どちら\u0027, 0.01007160598866056],\n  [\u0027めちゃくちゃ\u0027, 0.010785702110361322],\n  [\u0027スタッフ\u0027, 0.013304853097998276],\n  [\u0027タイミング\u0027, 0.004933735205932772],\n  [\u0027チャーシュー\u0027, 7.442935664044637e-05],\n  [\u0027レストラン\u0027, 0.565768181189836],\n  [\u0027両方\u0027, 0.021065143092355267],\n  [\u0027予約\u0027, 0.014617912231222056],\n  [\u0027使用\u0027, 0.009463146089580467],\n  [\u0027全体\u0027, 0.013299414915807254],\n  [\u0027処理\u0027, 0.030047955305432167],\n  [\u0027出汁\u0027, 0.0005285872455867774],\n  [\u0027到着\u0027, 7.442935664044637e-05],\n  [\u0027味付け\u0027, 0.0017251494429547857],\n  [\u0027大きく\u0027, 0.013701431681182593],\n  [\u0027大丈夫\u0027, 0.01641614040210622],\n  [\u0027座席\u0027, 0.012835611946504188],\n  [\u0027待ち時間\u0027, 0.010348445355855992],\n  [\u0027待ち行列\u0027, 0.12750719989770895],\n  [\u0027早く\u0027, 0.007588068707219399],\n  [\u0027時間\u0027, 0.001346143776280362],\n  [\u0027暖かい\u0027, 0.04250239996590298],\n  [\u0027最後\u0027, 0.0006829466233219834],\n  [\u0027最高\u0027, 0.012884227700261557],\n  [\u0027柔らかい\u0027, 0.006539304396135796],\n  [\u0027深み\u0027, 0.010934208910476188],\n  [\u0027直前\u0027, 0.017740930604514756],\n  [\u0027着席\u0027, 0.0019926081419962367],\n  [\u0027美味し\u0027, 0.001155364829145935],\n  [\u0027自体\u0027, 0.006094810751419491],\n  [\u0027良く\u0027, 0.000224357296046727],\n  [\u0027途中\u0027, 0.0031110114858006617],\n  [\u0027開店\u0027, 0.005175448328864357],\n  [\u0027非常\u0027, 0.00825865510127514],\n  [\u0027風味\u0027, 0.00180789653584925],\n  [\u0027香り\u0027, 0.000224357296046727],\n  [\u002725分\u0027, 0.021352625472040344],\n  [\u0027おいしい\u0027, 0.014697735752180707],\n  [\u0027スペース\u0027, 0.03457354543113685],\n  [\u0027待った\u0027, 0.025290056606975],\n  [\u0027心配\u0027, 0.021065143092355267],\n  [\u0027準備\u0027, 0.026054469190818243],\n  [\u0027素晴らしく\u0027, 0.021065143092355267],\n  [\u0027素材\u0027, 0.011542726177157726],\n  [\u0027雰囲気\u0027, 0.016482341644859264],\n  [\u0027インテリア\u0027, 0.05127009644115279],\n  [\u0027テーブル\u0027, 0.029769183913187263],\n  [\u0027内装\u0027, 0.039930456785372714],\n  [\u0027掛け\u0027, 0.02386476990792712],\n  [\u0027混雑\u0027, 0.024921396065846663],\n  [\u0027豊か\u0027, 0.0359460874807654],\n  [\u0027新鮮\u0027, 0.02420912113446951],\n  [\u0027注意\u0027, 0.015194689636982504],\n  [\u0027特筆\u0027, 0.022558401048155173],\n  [\u0027コンパクト\u0027, 0.05127009644115279],\n  [\u0027ベスト\u0027, 0.024921396065846663],\n  [\u0027組み合わせ\u0027, 0.014617912231222056],\n  [\u0027静か\u0027, 0.022558401048155173],\n  [\u0027周囲\u0027, 0.028600710158350494],\n  [\u0027日中\u0027, 0.041421464493397495],\n  [\u0027用意\u0027, 0.015998319638317587],\n  [\u0027食事\u0027, 0.02812323302402184],\n  [\u0027柚子\u0027, 0.02194391640371821],\n  [\u0027調味料\u0027, 0.014807821830461126],\n  [\u0027パリ\u0027, 0.2530488531256752],\n  [\u0027あなた\u0027, 0.3144227284524239],\n  [\u0027事項\u0027, 0.062129875994988544],\n  [\u0027キリン\u0027, 0.05863380785232547],\n  [\u0027塩辛く\u0027, 0.03691424874465398],\n  [\u0027連想\u0027, 0.03856496883096832],\n  [\u0027オリジナル\u0027, 0.030047955305432167],\n  [\u0027シャッター\u0027, 0.03856496883096832],\n  [\u0027魚の\u0027, 0.031092832418851007],\n  [\u0027親切\u0027, 0.04491753263606057],\n  [\u0027提案\u0027, 0.05336217951973872],\n  [\u0027最適\u0027, 0.03164262041206724],\n  [\u0027最終的\u0027, 0.041421464493397495],\n  [\u0027そのため\u0027, 0.041421464493397495],\n  [\u0027バー\u0027, 0.05336217951973872],\n  [\u0027快適\u0027, 0.09256154068537964],\n  [\u0027クール\u0027, 0.10672435903947744],\n  [\u0027彼ら\u0027, 0.3106493799749427],\n  [\u0027窮屈\u0027, 0.08082063377463411],\n  [\u0027パイ\u0027, 0.055777312189896296],\n  [\u0027ストック\u0027, 0.05127009644115279],\n  [\u0027従業員\u0027, 0.03946048971218624],\n  [\u0027私たち\u0027, 0.5525311995567387],\n  [\u0027共有\u0027, 0.05863380785232547],\n  [\u0027小さく\u0027, 0.03856496883096832],\n  [\u0027宣伝\u0027, 0.055777312189896296]]]"
          },
          "execution_count": 27
        }
      ]
    },
    {
      "execution_count": 29,
      "cell_type": "code",
      "metadata": {},
      "source": [
        "texts_tfidf_sorted_top20 \u003d []\n\n# TF-IDF値を高い順に並び替え上位単語20個に絞る。\n# 各ラーメン店のレビューにおいて、TF-IDF値の高い20単語だけが残る。\nfor i in range(len(texts_tfidf)):\n    soted \u003d sorted(texts_tfidf[i], key\u003ditemgetter(1), reverse\u003dTrue)\n    soted_top20 \u003d soted[:20]\n    word_list \u003d []\n    for k in range(len(soted_top20)):\n        word \u003d soted_top20[k][0]\n        word_list.append(word)\n    texts_tfidf_sorted_top20.append(word_list)"
      ],
      "outputs": []
    },
    {
      "execution_count": 30,
      "cell_type": "code",
      "metadata": {},
      "source": [
        "texts_tfidf_sorted_top20"
      ],
      "outputs": [
        {
          "output_type": "execute_result",
          "metadata": {},
          "data": {
            "text/plain": "[[\u0027レストラン\u0027,\n  \u0027私たち\u0027,\n  \u0027あなた\u0027,\n  \u0027彼ら\u0027,\n  \u0027パリ\u0027,\n  \u0027待ち行列\u0027,\n  \u0027クール\u0027,\n  \u0027快適\u0027,\n  \u0027窮屈\u0027,\n  \u0027事項\u0027,\n  \u0027キリン\u0027,\n  \u0027共有\u0027,\n  \u0027パイ\u0027,\n  \u0027宣伝\u0027,\n  \u0027提案\u0027,\n  \u0027バー\u0027,\n  \u0027インテリア\u0027,\n  \u0027コンパクト\u0027,\n  \u0027ストック\u0027,\n  \u0027親切\u0027]]"
          },
          "execution_count": 30
        }
      ]
    },
    {
      "execution_count": 0,
      "cell_type": "code",
      "metadata": {},
      "source": [
        "wakati_folder \u003d dataiku.Folder(\"0kM5kXKs\").get_path()\ntagger_path \u003d \u0027-Owakati -d \u0027 + wakati_folder"
      ],
      "outputs": []
    },
    {
      "execution_count": 0,
      "cell_type": "code",
      "metadata": {},
      "source": [
        "tagger \u003d MeCab.Tagger(tagger_path)#タグはMeCab.Tagger（neologd辞書）を使用\ntagger.parse(\u0027\u0027)"
      ],
      "outputs": []
    },
    {
      "execution_count": 0,
      "cell_type": "code",
      "metadata": {},
      "source": [
        "def tokenize_ja(text, lower):\n    node \u003d tagger.parseToNode(str(text))\n    while node:\n        if lower and node.feature.split(\u0027,\u0027)[0] in [\"名詞\",\"形容詞\"]:#分かち書きで取得する品詞を指定\n            yield node.surface.lower()\n        node \u003d node.next\ndef tokenize(content, token_min_len, token_max_len, lower):\n    return [\n        str(token) for token in tokenize_ja(content, lower)\n        if token_min_len \u003c\u003d len(token) \u003c\u003d token_max_len and not token.startswith(\u0027_\u0027)\n    ]"
      ],
      "outputs": []
    },
    {
      "execution_count": 0,
      "cell_type": "code",
      "metadata": {},
      "source": [
        "wakati_ramen_text \u003d []\nfor i in df[\u0027jp\u0027]:\n    txt \u003d tokenize(i, 2, 10000, True)\n    wakati_ramen_text.append(txt)"
      ],
      "outputs": []
    },
    {
      "execution_count": 0,
      "cell_type": "code",
      "metadata": {},
      "source": [
        "#[w for w in sublist in wakati_ramen_text]\nvocab \u003d [w for sublist in wakati_ramen_text for w in sublist]"
      ],
      "outputs": []
    },
    {
      "execution_count": 0,
      "cell_type": "code",
      "metadata": {},
      "source": [
        "words \u003d []\nvectors \u003d []\nfor word in vocab:\n    try:\n        vector \u003d ramen_model.wv[word]\n        words.append(word)\n        vectors.append(vector)\n    except KeyError:\n        None"
      ],
      "outputs": []
    },
    {
      "execution_count": 0,
      "cell_type": "code",
      "metadata": {},
      "source": [
        "vocab_df \u003d pd.DataFrame(vectors)\nvocab_df[\u0027words\u0027] \u003d words"
      ],
      "outputs": []
    },
    {
      "execution_count": 0,
      "cell_type": "code",
      "metadata": {},
      "source": [
        "trip_advisor_tf_idf \u003d dataiku.Dataset(\"trip_advisor_vocabs\")\ntrip_advisor_tf_idf.write_with_schema(vocab_df)"
      ],
      "outputs": []
    },
    {
      "execution_count": 0,
      "cell_type": "code",
      "metadata": {},
      "source": [
        "#ramen_dictionary_path \u003d dataiku.Folder(\"POe5uF4H\").get_path() + \"/ramen_dictionary\"\n#dictionary \u003d corpora.Dictionary.load(ramen_dictionary_path)\n#corpus \u003d list(map(dictionary.doc2bow, reviews_concat))"
      ],
      "outputs": []
    }
  ]
}