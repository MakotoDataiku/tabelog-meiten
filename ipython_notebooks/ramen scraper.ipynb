{
  "metadata": {
    "kernelspec": {
      "display_name": "Python (env japan-nlp)",
      "name": "py-dku-venv-japan-nlp",
      "language": "python"
    },
    "language_info": {
      "mimetype": "text/x-python",
      "nbconvert_exporter": "python",
      "version": "3.6.8",
      "name": "python",
      "pygments_lexer": "ipython3",
      "file_extension": ".py",
      "codemirror_mode": {
        "version": 3,
        "name": "ipython"
      }
    },
    "creator": "admin",
    "createdOn": 1622467294682,
    "hide_input": false,
    "customFields": {},
    "tags": [],
    "modifiedBy": "admin"
  },
  "nbformat": 4,
  "nbformat_minor": 1,
  "cells": [
    {
      "execution_count": 0,
      "cell_type": "code",
      "metadata": {},
      "source": [
        "%pylab inline"
      ],
      "outputs": []
    },
    {
      "execution_count": 1,
      "cell_type": "code",
      "metadata": {},
      "source": [
        "import dataiku\nfrom dataiku import pandasutils as pdu\nimport pandas as pd\nfrom bs4 import BeautifulSoup\nimport re\nimport pandas as pd\nimport time\nimport requests"
      ],
      "outputs": []
    },
    {
      "execution_count": 2,
      "cell_type": "code",
      "metadata": {},
      "source": [
        "class Tabelog:\n    \"\"\"\n    食べログスクレイピングクラス\n    test_mode\u003dTrueで動作させると、最初のページの３店舗のデータのみを取得できる\n    \"\"\"\n    def __init__(self, base_url, test_mode\u003dFalse, p_ward\u003d\u0027東京都内\u0027, begin_page\u003d1, end_page\u003d30):\n\n        # 変数宣言\n        self.store_id \u003d \u0027\u0027\n        self.store_id_num \u003d 0\n        self.store_name \u003d \u0027\u0027\n        self.score \u003d 0\n        self.ward \u003d p_ward\n        self.review_cnt \u003d 0\n        self.review \u003d \u0027\u0027\n        self.review_star \u003d \u0027\u0027\n        self.columns \u003d [\u0027store_id\u0027, \u0027store_name\u0027, \u0027score\u0027, \u0027ward\u0027, \u0027review_cnt\u0027, \u0027review\u0027, \u0027review_star\u0027]\n        self.df \u003d pd.DataFrame(columns\u003dself.columns)\n        self.__regexcomp \u003d re.compile(r\u0027\\n|\\s\u0027) # \\nは改行、\\sは空白\n\n        page_num \u003d begin_page # 店舗一覧ページ番号\n\n        if test_mode:\n            list_url \u003d base_url + str(page_num) +  \u0027/?Srt\u003dD\u0026SrtT\u003drt\u0026sort_mode\u003d1\u0027 #食べログの点数ランキングでソートする際に必要な処理\n            self.scrape_list(list_url, mode\u003dtest_mode)\n        else:\n            while True:\n                list_url \u003d base_url + str(page_num) +  \u0027/?Srt\u003dD\u0026SrtT\u003drt\u0026sort_mode\u003d1\u0027 #食べログの点数ランキングでソートする際に必要な処理\n                if self.scrape_list(list_url, mode\u003dtest_mode) !\u003d True:\n                    break\n\n                # INパラメータまでのページ数データを取得する\n                if page_num \u003e\u003d end_page:\n                    break\n                page_num +\u003d 1\n        return\n\n    def scrape_list(self, list_url, mode):\n        \"\"\"\n        店舗一覧ページのパーシング\n        \"\"\"\n        r \u003d requests.get(list_url)\n        if r.status_code !\u003d requests.codes.ok:\n            return False\n\n        soup \u003d BeautifulSoup(r.content, \u0027html.parser\u0027)\n        soup_a_list \u003d soup.find_all(\u0027a\u0027, class_\u003d\u0027list-rst__rst-name-target\u0027) # 店名一覧\n\n        if len(soup_a_list) \u003d\u003d 0:\n            return False\n\n        if mode:\n            for soup_a in soup_a_list[:2]:\n                item_url \u003d soup_a.get(\u0027href\u0027) # 店の個別ページURLを取得\n                self.store_id_num +\u003d 1\n                self.scrape_item(item_url, mode)\n        else:\n            for soup_a in soup_a_list:\n                item_url \u003d soup_a.get(\u0027href\u0027) # 店の個別ページURLを取得\n                self.store_id_num +\u003d 1\n                self.scrape_item(item_url, mode)\n\n        return True\n\n    def scrape_item(self, item_url, mode):\n        \"\"\"\n        個別店舗情報ページのパーシング\n        \"\"\"\n        start \u003d time.time()\n\n        r \u003d requests.get(item_url)\n        if r.status_code !\u003d requests.codes.ok:\n            print(f\u0027error:not found{ item_url }\u0027)\n            return\n\n        soup \u003d BeautifulSoup(r.content, \u0027html.parser\u0027)\n\n        # 店舗名称取得\n        # \u003ch2 class\u003d\"display-name\"\u003e\n        #     \u003cspan\u003e\n        #         麺匠　竹虎 新宿店\n        #     \u003c/span\u003e\n        # \u003c/h2\u003e\n        store_name_tag \u003d soup.find(\u0027h2\u0027, class_\u003d\u0027display-name\u0027)\n        store_name \u003d store_name_tag.span.string\n        print(\u0027{}→店名：{}\u0027.format(self.store_id_num, store_name.strip()), end\u003d\u0027\u0027)\n        self.store_name \u003d store_name.strip()\n\n        # ラーメン屋、つけ麺屋以外の店舗は除外\n        store_head \u003d soup.find(\u0027div\u0027, class_\u003d\u0027rdheader-subinfo\u0027) # 店舗情報のヘッダー枠データ取得\n        store_head_list \u003d store_head.find_all(\u0027dl\u0027)\n        store_head_list \u003d store_head_list[1].find_all(\u0027span\u0027)\n        #print(\u0027ターゲット：\u0027, store_head_list[0].text)\n\n        if store_head_list[0].text not in {\u0027ラーメン\u0027, \u0027つけ麺\u0027}:\n            print(\u0027ラーメンorつけ麺のお店ではないので処理対象外\u0027)\n            self.store_id_num -\u003d 1\n            return\n\n        # 評価点数取得\n        #\u003cb class\u003d\"c-rating__val rdheader-rating__score-val\" rel\u003d\"v:rating\"\u003e\n        #    \u003cspan class\u003d\"rdheader-rating__score-val-dtl\"\u003e3.58\u003c/span\u003e\n        #\u003c/b\u003e\n        rating_score_tag \u003d soup.find(\u0027b\u0027, class_\u003d\u0027c-rating__val\u0027)\n        rating_score \u003d rating_score_tag.span.string\n        print(\u0027  評価点数：{}点\u0027.format(rating_score), end\u003d\u0027\u0027)\n        self.score \u003d rating_score\n\n        # 評価点数が存在しない店舗は除外\n        if rating_score \u003d\u003d \u0027-\u0027:\n            print(\u0027  評価がないため処理対象外\u0027)\n            self.store_id_num -\u003d 1\n            return\n       # 評価が3.5未満店舗は除外\n        if float(rating_score) \u003c 3.5:\n            print(\u0027  食べログ評価が3.5未満のため処理対象外\u0027)\n            self.store_id_num -\u003d 1\n            return\n\n        # レビュー一覧URL取得\n        #\u003ca class\u003d\"mainnavi\" href\u003d\"https://tabelog.com/tokyo/A1304/A130401/13143442/dtlrvwlst/\"\u003e\u003cspan\u003e口コミ\u003c/span\u003e\u003cspan class\u003d\"rstdtl-navi__total-count\"\u003e\u003cem\u003e60\u003c/em\u003e\u003c/span\u003e\u003c/a\u003e\n        review_tag_id \u003d soup.find(\u0027li\u0027, id\u003d\"rdnavi-review\")\n        review_tag \u003d review_tag_id.a.get(\u0027href\u0027)\n\n        # レビュー件数取得\n        print(\u0027  レビュー件数：{}\u0027.format(review_tag_id.find(\u0027span\u0027, class_\u003d\u0027rstdtl-navi__total-count\u0027).em.string), end\u003d\u0027\u0027)\n        self.review_cnt \u003d review_tag_id.find(\u0027span\u0027, class_\u003d\u0027rstdtl-navi__total-count\u0027).em.string\n\n        # レビュー一覧ページ番号\n        page_num \u003d 1 #1ページ*20 \u003d 20レビュー 。この数字を変えて取得するレビュー数を調整。\n\n        # レビュー一覧ページから個別レビューページを読み込み、パーシング\n        # 店舗の全レビューを取得すると、食べログの評価ごとにデータ件数の濃淡が発生してしまうため、\n        # 取得するレビュー数は１ページ分としている（件数としては１ページ*20\u003d２0レビュー）\n        while True:\n            review_url \u003d review_tag + \u0027COND-0/smp1/?lc\u003d0\u0026rvw_part\u003dall\u0026PG\u003d\u0027 + str(page_num)\n            #print(\u0027\\t口コミ一覧リンク：{}\u0027.format(review_url))\n            print(\u0027 . \u0027 , end\u003d\u0027\u0027) #LOG\n            if self.scrape_review(review_url) !\u003d True:\n                break\n            if page_num \u003e\u003d 1:\n                break\n            page_num +\u003d 1\n\n        process_time \u003d time.time() - start\n        print(\u0027  取得時間：{}\u0027.format(process_time))\n\n        return\n\n    def scrape_review(self, review_url):\n        \"\"\"\n        レビュー一覧ページのパーシング\n        \"\"\"\n        r \u003d requests.get(review_url)\n        if r.status_code !\u003d requests.codes.ok:\n            print(f\u0027error:not found{ review_url }\u0027)\n            return False\n\n        # 各個人の口コミページ詳細へのリンクを取得する\n        #\u003cdiv class\u003d\"rvw-item js-rvw-item-clickable-area\" data-detail-url\u003d\"/tokyo/A1304/A130401/13141542/dtlrvwlst/B408082636/?use_type\u003d0\u0026amp;smp\u003d1\"\u003e\n        #\u003c/div\u003e\n        soup \u003d BeautifulSoup(r.content, \u0027html.parser\u0027)\n        review_url_list \u003d soup.find_all(\u0027div\u0027, class_\u003d\u0027rvw-item\u0027) # 口コミ詳細ページURL一覧\n\n        if len(review_url_list) \u003d\u003d 0:\n            return False\n\n        for url in review_url_list:\n            review_detail_url \u003d \u0027https://tabelog.com\u0027 + url.get(\u0027data-detail-url\u0027)\n            #print(\u0027\\t口コミURL：\u0027, review_detail_url)\n\n            # 口コミのテキストを取得\n            self.get_review_text(review_detail_url)\n\n        return True\n\n    def get_review_text(self, review_detail_url):\n        \"\"\"\n        口コミ詳細ページをパーシング\n        \"\"\"\n        r \u003d requests.get(review_detail_url)\n        if r.status_code !\u003d requests.codes.ok:\n            print(f\u0027error:not found{ review_detail_url }\u0027)\n            return\n\n        # ２回以上来訪してコメントしているユーザは最新の1件のみを採用\n        #\u003cdiv class\u003d\"rvw-item__rvw-comment\" property\u003d\"v:description\"\u003e\n        #  \u003cp\u003e\n        #    \u003cbr\u003eすごい煮干しラーメン凪 新宿ゴールデン街本館\u003cbr\u003eスーパーゴールデン1600円（20食限定）を喰らう\u003cbr\u003e大盛り無料です\u003cbr\u003eスーパーゴールデンは、新宿ゴールデン街にちなんで、ココ本店だけの特別メニューだそうです\u003cbr\u003e相方と歌舞伎町のtohoシネマズの映画館でドラゴンボール超ブロリー を観てきた\u003cbr\u003eブロリー 強すぎるね(^^)面白かったです\u003cbr\u003e凪の煮干しラーメンも激ウマ\u003cbr\u003eいったん麺ちゅるちゅる感に、レアチャーと大トロチャーシューのトロけ具合もうめえ\u003cbr\u003e煮干しスープもさすが！と言うほど完成度が高い\u003cbr\u003eさすが食べログラーメン百名店\u003cbr\u003eと言うか\u003cbr\u003e2日連チャンで、近場の食べログラーメン百名店のうちの2店舗、昨日の中華そば葉山さんと今日の凪\u003cbr\u003e静岡では考えられん笑笑\u003cbr\u003eごちそうさまでした\n        #  \u003c/p\u003e\n        #\u003c/div\u003e\n        soup \u003d BeautifulSoup(r.content, \u0027html.parser\u0027)\n        review \u003d soup.find_all(\u0027div\u0027, class_\u003d\u0027rvw-item__rvw-comment\u0027)#reviewが含まれているタグの中身をすべて取得\n        if len(review) \u003d\u003d 0:\n            review \u003d \u0027\u0027\n        else:\n            review \u003d review[0].p.text.strip() # strip()は改行コードを除外する関数\n        \n        # 各レビューの★の数を取得\n        review_star \u003d soup.find_all(\u0027b\u0027, class_\u003d\u0027c-rating-v2__val c-rating-v2__val--strong rvw-item__ratings--val\u0027)\n        if len(review_star) \u003d\u003d 0:\n            review_star \u003d \u0027\u0027\n        else:\n            review_star \u003d review_star[0].string\n\n        #print(\u0027\\t\\t口コミテキスト：\u0027, review)\n        self.review \u003d review\n        self.review_star \u003d review_star\n\n        # データフレームの生成\n        self.make_df()\n        return\n\n    def make_df(self):\n        self.store_id \u003d str(self.store_id_num).zfill(8) #0パディング\n        se \u003d pd.Series([self.store_id, self.store_name, self.score, self.ward, self.review_cnt, self.review], self.columns) # 行を作成\n        self.df \u003d self.df.append(se, self.columns) # データフレームに行を追加\n        return"
      ],
      "outputs": []
    },
    {
      "execution_count": 3,
      "cell_type": "code",
      "metadata": {},
      "source": [
        "base_url\u003d\"https://tabelog.com/tokyo/rstLst/ramen/\"\npage_num \u003d 1\nlist_url \u003d base_url + str(page_num) + \u0027/?Srt\u003dD\u0026SrtT\u003drt\u0026sort_mode\u003d1\u0027\nlist_url"
      ],
      "outputs": [
        {
          "output_type": "execute_result",
          "metadata": {},
          "data": {
            "text/plain": "\u0027https://tabelog.com/tokyo/rstLst/ramen/1/?Srt\u003dD\u0026SrtT\u003drt\u0026sort_mode\u003d1\u0027"
          },
          "execution_count": 3
        }
      ]
    },
    {
      "execution_count": 4,
      "cell_type": "code",
      "metadata": {},
      "source": [
        "r \u003d requests.get(list_url)"
      ],
      "outputs": []
    },
    {
      "execution_count": 6,
      "cell_type": "code",
      "metadata": {},
      "source": [
        "soup \u003d BeautifulSoup(r.content, \u0027html.parser\u0027)\nsoup_a_list \u003d soup.find_all(\u0027a\u0027, class_\u003d\u0027list-rst__rst-name-target\u0027) # 店名一覧"
      ],
      "outputs": []
    },
    {
      "execution_count": 7,
      "cell_type": "code",
      "metadata": {},
      "source": [
        "soup_a \u003d soup_a_list[0]\nitem_url \u003d soup_a.get(\u0027href\u0027) # 店の個別ページURLを取得\nitem_url"
      ],
      "outputs": [
        {
          "output_type": "execute_result",
          "metadata": {},
          "data": {
            "text/plain": "\u0027https://tabelog.com/tokyo/A1324/A132403/13215713/\u0027"
          },
          "execution_count": 7
        }
      ]
    },
    {
      "execution_count": 8,
      "cell_type": "code",
      "metadata": {},
      "source": [
        "r \u003d requests.get(item_url)"
      ],
      "outputs": []
    },
    {
      "execution_count": 9,
      "cell_type": "code",
      "metadata": {},
      "source": [
        "soup \u003d BeautifulSoup(r.content, \u0027html.parser\u0027)"
      ],
      "outputs": []
    },
    {
      "execution_count": 11,
      "cell_type": "code",
      "metadata": {},
      "source": [
        "store_name_tag \u003d soup.find(\u0027h2\u0027, class_\u003d\u0027display-name\u0027)\nstore_name_tag"
      ],
      "outputs": [
        {
          "output_type": "execute_result",
          "metadata": {},
          "data": {
            "text/plain": "\u003ch2 class\u003d\"display-name\"\u003e\n\u003cspan\u003e\n                手打式超多加水麺 ののくら\n              \u003c/span\u003e\n\u003c/h2\u003e"
          },
          "execution_count": 11
        }
      ]
    },
    {
      "execution_count": 12,
      "cell_type": "code",
      "metadata": {},
      "source": [
        "store_name \u003d store_name_tag.span.string\nstore_name"
      ],
      "outputs": [
        {
          "output_type": "execute_result",
          "metadata": {},
          "data": {
            "text/plain": "\u0027\\n                手打式超多加水麺 ののくら\\n              \u0027"
          },
          "execution_count": 12
        }
      ]
    },
    {
      "execution_count": 14,
      "cell_type": "code",
      "metadata": {},
      "source": [
        "store_name \u003d store_name.strip()\nstore_name"
      ],
      "outputs": [
        {
          "output_type": "execute_result",
          "metadata": {},
          "data": {
            "text/plain": "\u0027手打式超多加水麺 ののくら\u0027"
          },
          "execution_count": 14
        }
      ]
    },
    {
      "execution_count": 17,
      "cell_type": "code",
      "metadata": {},
      "source": [
        "store_head \u003d soup.find(\u0027div\u0027, class_\u003d\u0027rdheader-subinfo\u0027) # 店舗情報のヘッダー枠データ取得"
      ],
      "outputs": []
    },
    {
      "execution_count": 18,
      "cell_type": "code",
      "metadata": {},
      "source": [
        "store_head_list \u003d store_head.find_all(\u0027dl\u0027)"
      ],
      "outputs": []
    },
    {
      "execution_count": 19,
      "cell_type": "code",
      "metadata": {},
      "source": [
        "store_head_list \u003d store_head_list[1].find_all(\u0027span\u0027)\nstore_head_list"
      ],
      "outputs": [
        {
          "output_type": "execute_result",
          "metadata": {},
          "data": {
            "text/plain": "[\u003cspan class\u003d\"linktree__parent-target-text\"\u003eラーメン\u003c/span\u003e,\n \u003cspan class\u003d\"linktree__parent-target-text\"\u003eつけ麺\u003c/span\u003e]"
          },
          "execution_count": 19
        }
      ]
    },
    {
      "execution_count": 22,
      "cell_type": "code",
      "metadata": {},
      "source": [
        "rating_score_tag \u003d soup.find(\u0027b\u0027, class_\u003d\u0027c-rating__val\u0027)\nrating_score \u003d rating_score_tag.span.string\nrating_score"
      ],
      "outputs": [
        {
          "output_type": "execute_result",
          "metadata": {},
          "data": {
            "text/plain": "\u00273.98\u0027"
          },
          "execution_count": 22
        }
      ]
    },
    {
      "execution_count": 23,
      "cell_type": "code",
      "metadata": {},
      "source": [
        "review_tag_id \u003d soup.find(\u0027li\u0027, id\u003d\"rdnavi-review\")\nreview_tag \u003d review_tag_id.a.get(\u0027href\u0027)\nreview_tag"
      ],
      "outputs": [
        {
          "output_type": "execute_result",
          "metadata": {},
          "data": {
            "text/plain": "\u0027https://tabelog.com/tokyo/A1324/A132403/13215713/dtlrvwlst/\u0027"
          },
          "execution_count": 23
        }
      ]
    },
    {
      "execution_count": 24,
      "cell_type": "code",
      "metadata": {},
      "source": [
        "print(\u0027  レビュー件数：{}\u0027.format(review_tag_id.find(\u0027span\u0027, class_\u003d\u0027rstdtl-navi__total-count\u0027).em.string), end\u003d\u0027\u0027)"
      ],
      "outputs": [
        {
          "output_type": "stream",
          "name": "stdout",
          "text": "  レビュー件数：479"
        }
      ]
    },
    {
      "execution_count": 25,
      "cell_type": "code",
      "metadata": {},
      "source": [
        "review_cnt \u003d review_tag_id.find(\u0027span\u0027, class_\u003d\u0027rstdtl-navi__total-count\u0027).em.string\nreview_cnt"
      ],
      "outputs": [
        {
          "output_type": "execute_result",
          "metadata": {},
          "data": {
            "text/plain": "\u0027479\u0027"
          },
          "execution_count": 25
        }
      ]
    },
    {
      "execution_count": 26,
      "cell_type": "code",
      "metadata": {},
      "source": [
        "review_url \u003d review_tag + \u0027COND-0/smp1/?lc\u003d0\u0026rvw_part\u003dall\u0026PG\u003d\u0027 + str(1)\nreview_url"
      ],
      "outputs": [
        {
          "output_type": "execute_result",
          "metadata": {},
          "data": {
            "text/plain": "\u0027https://tabelog.com/tokyo/A1324/A132403/13215713/dtlrvwlst/COND-0/smp1/?lc\u003d0\u0026rvw_part\u003dall\u0026PG\u003d1\u0027"
          },
          "execution_count": 26
        }
      ]
    },
    {
      "execution_count": 27,
      "cell_type": "code",
      "metadata": {},
      "source": [
        "r \u003d requests.get(review_url)"
      ],
      "outputs": []
    },
    {
      "execution_count": 30,
      "cell_type": "code",
      "metadata": {},
      "source": [
        "soup \u003d BeautifulSoup(r.content, \u0027html.parser\u0027)\nreview_url_list \u003d soup.find_all(\u0027div\u0027, class_\u003d\u0027rvw-item\u0027)\nurl \u003d review_url_list[0]\nreview_detail_url \u003d \u0027https://tabelog.com\u0027 + url.get(\u0027data-detail-url\u0027)\nreview_detail_url"
      ],
      "outputs": [
        {
          "output_type": "execute_result",
          "metadata": {},
          "data": {
            "text/plain": "\u0027https://tabelog.com/tokyo/A1324/A132403/13215713/dtlrvwlst/B429676367/?use_type\u003d0\u0026rvw_part\u003dall\u0026lc\u003d0\u0026smp\u003d1\u0027"
          },
          "execution_count": 30
        }
      ]
    },
    {
      "execution_count": 35,
      "cell_type": "code",
      "metadata": {},
      "source": [
        "r \u003d requests.get(review_detail_url)\nsoup \u003d BeautifulSoup(r.content, \u0027html.parser\u0027)\nreview \u003d soup.find_all(\u0027div\u0027, class_\u003d\u0027rvw-item__rvw-comment\u0027)\nreview"
      ],
      "outputs": [
        {
          "output_type": "execute_result",
          "metadata": {},
          "data": {
            "text/plain": "[\u003cdiv class\u003d\"rvw-item__rvw-comment\"\u003e\n \u003cp\u003e\n           2020年、ラーメン103杯目(^^)\u003cbr/\u003e本日、朝イチで営業を済ませ、次の打ち合わせまで時間が空いたので、脚を伸ばして亀有に行ってみた。\u003cbr/\u003e\u003cbr/\u003e言わずと知れた名店「ののくら」さんに行く為だ(^^)\u003cbr/\u003e食べログでは2020.08.27現在4.09と、都内No.1の高評価のお店。\u003cbr/\u003e\u003cbr/\u003e亀有駅で下りると、まずは両津・中川・麗子がお出迎え〜(^^)\u003cbr/\u003eいよっ！皆さん！暑い中ご苦労様です(^^;\u003cbr/\u003e\u003cbr/\u003eOPEN30分前の到着で、お店の前には15人の列(\u0026gt;_\u0026lt;)\u003cbr/\u003eいやぁ…さすが人気店だわさ(°o°)\u003cbr/\u003eもうここまで来て、諦めると言う選択肢はないもんなぁ！\u003cbr/\u003e\u003cbr/\u003e11時にOPENし、途中、券売機で「特製中華そば(醤油)1,200円」をポチッとし、再度列に戻って並ぶ。\u003cbr/\u003e次はいつ来られるか分からないし、これだけ並んだんだからと奮発しちゃったよ(^^;\u003cbr/\u003e\u003cbr/\u003eお店に入れたのが11時45分(^^;\u003cbr/\u003e75分待ちかぁ…こんなに並んだのも久しぶりだわぃ(\u0026gt;_\u0026lt;)\u003cbr/\u003e\u003cbr/\u003e10分弱で着丼〜♪\u003cbr/\u003eおぉ！綺麗で豪華なお顔の丼だわさ(^^)\u003cbr/\u003eこれだけ待って、不味かったらシャレにならんけどね。\u003cbr/\u003e早速スープからいただきやす！\u003cbr/\u003e\u003cbr/\u003eへぇ…醤油がふわっと来るんだね！\u003cbr/\u003e丸鶏、昆布、煮干し…色は濃いのに、なんつー優しい味なんだろう。\u003cbr/\u003eしかもキリッと引き締まっていて、これは旨しだよ！\u003cbr/\u003e\u003cbr/\u003e鶏油は若干多めだが、クドさがないので最後まで飽きずに、同じ美味しさを保ったまま味わえるとは素晴らしい(´∀｀*)\u003cbr/\u003e\u003cbr/\u003e麺は自家製で、多加水の中太の縮れ麺。\u003cbr/\u003eもっちもちで、麺そのものが旨いわ〜(^^)\u003cbr/\u003e\u003cbr/\u003eローストポークもワンタンも、メンマも味玉も、全てに細かい手が加えられており、文句なしの旨さだったよ！\u003cbr/\u003e\u003cbr/\u003e久しぶりに完食完飲だわさ〜(^^)\u003cbr/\u003e\u003cbr/\u003e確かにもうチト安いと嬉しいけど、まぁこれだけの具材、これだけの旨さがあれば致し方ないところかね。\u003cbr/\u003eだけどこれで980円位だったら、満点付けちゃう所だったな〜(^^;\u003cbr/\u003e\u003cbr/\u003e久しぶりに突き抜ける一杯だったよ！\u003cbr/\u003e本当に美味しかったわぃ(´∀｀*)\u003cbr/\u003e\u003cbr/\u003eごちそうさま。\n         \u003c/p\u003e\n \u003c/div\u003e]"
          },
          "execution_count": 35
        }
      ]
    },
    {
      "execution_count": 34,
      "cell_type": "code",
      "metadata": {},
      "source": [
        "review_star \u003d soup.find_all(\u0027b\u0027, class_\u003d\u0027c-rating-v2__val c-rating-v2__val--strong rvw-item__ratings--val\u0027)\nreview_star"
      ],
      "outputs": [
        {
          "output_type": "execute_result",
          "metadata": {},
          "data": {
            "text/plain": "[\u003cb class\u003d\"c-rating-v2__val c-rating-v2__val--strong rvw-item__ratings--val\"\u003e4.8\u003c/b\u003e]"
          },
          "execution_count": 34
        }
      ]
    },
    {
      "execution_count": 0,
      "cell_type": "code",
      "metadata": {},
      "source": [
        "tokyo_ramen_review \u003d Tabelog(base_url\u003d\"https://tabelog.com/tokyo/rstLst/ramen/\",test_mode\u003dFalse, p_ward\u003d\u0027東京都内\u0027)"
      ],
      "outputs": []
    }
  ]
}