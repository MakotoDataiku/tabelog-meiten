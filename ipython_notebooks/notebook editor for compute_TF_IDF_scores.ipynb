{
  "metadata": {
    "kernelspec": {
      "display_name": "Python (env japan-nlp)",
      "name": "py-dku-venv-japan-nlp",
      "language": "python"
    },
    "language_info": {
      "mimetype": "text/x-python",
      "nbconvert_exporter": "python",
      "version": "3.6.8",
      "name": "python",
      "pygments_lexer": "ipython3",
      "file_extension": ".py",
      "codemirror_mode": {
        "version": 3,
        "name": "ipython"
      }
    },
    "tags": [
      "recipe-editor"
    ],
    "associatedRecipe": "compute_TF_IDF_scores",
    "createdOn": 1622729790695,
    "hide_input": false,
    "customFields": {},
    "creator": "admin",
    "modifiedBy": "admin"
  },
  "nbformat": 4,
  "nbformat_minor": 1,
  "cells": [
    {
      "execution_count": 83,
      "cell_type": "code",
      "metadata": {},
      "source": [
        "# -*- coding: utf-8 -*-\nimport dataiku\nimport pandas as pd, numpy as np\nfrom dataiku import pandasutils as pdu\nfrom sklearn.feature_extraction.text import TfidfVectorizer\nfrom gensim import corpora\nfrom gensim import models"
      ],
      "outputs": []
    },
    {
      "execution_count": 84,
      "cell_type": "code",
      "metadata": {},
      "source": [
        "# Read recipe inputs\ndf \u003d dataiku.Dataset(\"ramen_clusters_named\").get_dataframe()\nraw_ramen_df \u003d dataiku.Dataset(\"raw_ramen\").get_dataframe()"
      ],
      "outputs": []
    },
    {
      "execution_count": 85,
      "cell_type": "code",
      "metadata": {},
      "source": [
        "list_vocabs \u003d df[df[\u0027cluster_labels\u0027].isin([\u0027接客などのサービス\u0027, \u0027具材・素材・味\u0027])][\u0027words_concat\u0027].values"
      ],
      "outputs": []
    },
    {
      "execution_count": 86,
      "cell_type": "code",
      "metadata": {},
      "source": [
        "ramen_word \u003d list_vocabs[0].split(\",\") + list_vocabs[1].split(\",\")"
      ],
      "outputs": []
    },
    {
      "execution_count": 87,
      "cell_type": "code",
      "metadata": {},
      "source": [
        "folder_path \u003d dataiku.Folder(\"aLTWBozg\").get_path()\ntext_path \u003d folder_path + \"/ramen_corpus.txt\""
      ],
      "outputs": []
    },
    {
      "execution_count": 88,
      "cell_type": "code",
      "metadata": {},
      "source": [
        "f \u003d open(text_path,\u0027r\u0027,encoding\u003d\"utf-8\")\ntrainings \u003d []"
      ],
      "outputs": []
    },
    {
      "execution_count": 89,
      "cell_type": "code",
      "metadata": {},
      "source": [
        "for i,data in enumerate(f):\n    word \u003d data.replace(\"\u0027\",\u0027\u0027).replace(\u0027[\u0027,\u0027\u0027).replace(\u0027]\u0027,\u0027\u0027).replace(\u0027 \u0027,\u0027\u0027).replace(\u0027\\n\u0027,\u0027\u0027).split(\",\")\n    trainings.append([i for i in word if i in ramen_word])"
      ],
      "outputs": []
    },
    {
      "execution_count": 90,
      "cell_type": "code",
      "metadata": {},
      "source": [
        "len(trainings)"
      ],
      "outputs": [
        {
          "output_type": "execute_result",
          "metadata": {},
          "data": {
            "text/plain": "211"
          },
          "execution_count": 90
        }
      ]
    },
    {
      "execution_count": 91,
      "cell_type": "code",
      "metadata": {},
      "source": [
        "dictionary \u003d corpora.Dictionary(trainings)"
      ],
      "outputs": []
    },
    {
      "execution_count": 92,
      "cell_type": "code",
      "metadata": {},
      "source": [
        "dictionary.num_docs, dictionary.num_pos"
      ],
      "outputs": [
        {
          "output_type": "execute_result",
          "metadata": {},
          "data": {
            "text/plain": "(211, 251395)"
          },
          "execution_count": 92
        }
      ]
    },
    {
      "execution_count": 97,
      "cell_type": "code",
      "metadata": {},
      "source": [
        "# saving the dictionary in a folder\n# for later use\nfolder_path \u003d dataiku.Folder(\"POe5uF4H\").get_path()\nfilename \u003d folder_path + \"/ramen_dictionary\"\ndictionary.save(filename)"
      ],
      "outputs": []
    },
    {
      "execution_count": 93,
      "cell_type": "code",
      "metadata": {},
      "source": [
        "corpus \u003d list(map(dictionary.doc2bow, trainings))"
      ],
      "outputs": []
    },
    {
      "execution_count": 94,
      "cell_type": "code",
      "metadata": {},
      "source": [
        "test_model \u003d models.TfidfModel(corpus) # fit tfidf model"
      ],
      "outputs": []
    },
    {
      "execution_count": 0,
      "cell_type": "code",
      "metadata": {},
      "source": [
        "corpus_tfidf \u003d test_model[corpus] # apply model to the corpus (just like \u0027transform\u0027 in scikit-learn)"
      ],
      "outputs": []
    },
    {
      "execution_count": 0,
      "cell_type": "code",
      "metadata": {},
      "source": [
        "# id-\u003e単語へ変換\ntexts_tfidf \u003d [] # id -\u003e 単語表示に変えた文書ごとのTF-IDF\nfor doc in corpus_tfidf:\n    text_tfidf \u003d []\n    for word in doc:\n        text_tfidf.append([dictionary[word[0]],word[1]])\n    texts_tfidf.append(text_tfidf)\n\nfrom operator import itemgetter\n\ntexts_tfidf_sorted_top20 \u003d []\n\n# TF-IDF値を高い順に並び替え上位単語20個に絞る。\n# 各ラーメン店のレビューにおいて、TF-IDF値の高い20単語だけが残る。\nfor i in range(len(texts_tfidf)):\n    soted \u003d sorted(texts_tfidf[i], key\u003ditemgetter(1), reverse\u003dTrue)\n    soted_top20 \u003d soted[:20]\n    word_list \u003d []\n    for k in range(len(soted_top20)):\n        word \u003d soted_top20[k][0]\n        word_list.append(word)\n    texts_tfidf_sorted_top20.append(word_list)"
      ],
      "outputs": []
    },
    {
      "execution_count": 0,
      "cell_type": "code",
      "metadata": {},
      "source": [
        "ramen_by_restaurant \u003d raw_ramen_df.groupby([\u0027store_name\u0027, \u0027address\u0027, \u0027ward\u0027, \u0027score\u0027, \u0027review_cnt\u0027])[\u0027review\u0027].apply(list).apply(\u0027 \u0027.join).reset_index().sort_values(\u0027score\u0027, ascending\u003dFalse)"
      ],
      "outputs": []
    },
    {
      "execution_count": 0,
      "cell_type": "code",
      "metadata": {},
      "source": [
        "ramen_by_restaurant.shape"
      ],
      "outputs": []
    },
    {
      "execution_count": 0,
      "cell_type": "code",
      "metadata": {},
      "source": [
        "ramen_by_restaurant.head()"
      ],
      "outputs": []
    },
    {
      "execution_count": 0,
      "cell_type": "code",
      "metadata": {},
      "source": [
        "ramen_by_restaurant[\u0027texts_tfidf_sorted_top20\u0027] \u003d texts_tfidf_sorted_top20"
      ],
      "outputs": []
    },
    {
      "execution_count": 0,
      "cell_type": "code",
      "metadata": {},
      "source": [
        "ramen_by_restaurant[\u0027id\u0027] \u003d [\u0027ID-\u0027 + str(i + 1).zfill(6) for i in range(len(ramen_by_restaurant.index))]"
      ],
      "outputs": []
    },
    {
      "execution_count": 0,
      "cell_type": "code",
      "metadata": {},
      "source": [
        "ramen_by_restaurant \u003d ramen_by_restaurant.reset_index(drop\u003dTrue)\n\n\npy_recipe_output \u003d dataiku.Dataset(\"reviews_TF_IDF\")\npy_recipe_output.write_with_schema(ramen_by_restaurant)"
      ],
      "outputs": []
    }
  ]
}