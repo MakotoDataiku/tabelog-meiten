{
  "metadata": {
    "kernelspec": {
      "display_name": "Python (env japan-nlp)",
      "name": "py-dku-venv-japan-nlp",
      "language": "python"
    },
    "language_info": {
      "mimetype": "text/x-python",
      "nbconvert_exporter": "python",
      "version": "3.6.8",
      "name": "python",
      "pygments_lexer": "ipython3",
      "file_extension": ".py",
      "codemirror_mode": {
        "version": 3,
        "name": "ipython"
      }
    },
    "tags": [
      "recipe-editor"
    ],
    "associatedRecipe": "compute_TF_IDF_scores",
    "createdOn": 1622559061978,
    "hide_input": false,
    "modifiedBy": "admin",
    "customFields": {},
    "creator": "admin"
  },
  "nbformat": 4,
  "nbformat_minor": 1,
  "cells": [
    {
      "execution_count": 12,
      "cell_type": "code",
      "metadata": {},
      "source": [
        "# -*- coding: utf-8 -*-\nimport dataiku\nimport pandas as pd, numpy as np\nfrom dataiku import pandasutils as pdu\nfrom sklearn.feature_extraction.text import TfidfVectorizer\nfrom gensim import corpora\nfrom gensim import models"
      ],
      "outputs": [
        {
          "output_type": "stream",
          "name": "stderr",
          "text": "/Users/mmiyazaki/dataiku/Design/DATA_DIR/code-envs/python/japan-nlp/lib/python3.6/site-packages/scipy/sparse/sparsetools.py:21: DeprecationWarning: `scipy.sparse.sparsetools` is deprecated!\nscipy.sparse.sparsetools is a private module for scipy.sparse, and should not be used.\n  _deprecated()\n"
        }
      ]
    },
    {
      "execution_count": 2,
      "cell_type": "code",
      "metadata": {},
      "source": [
        "# Read recipe inputs\nramen_clusters_named \u003d dataiku.Dataset(\"ramen_clusters_named\")\ndf \u003d ramen_clusters_named.get_dataframe()"
      ],
      "outputs": []
    },
    {
      "execution_count": 3,
      "cell_type": "code",
      "metadata": {},
      "source": [
        "list_vocabs \u003d df[df[\u0027cluster_labels\u0027].isin([\u0027接客などのサービス\u0027, \u0027具材・素材・味\u0027])][\u0027words_concat\u0027].values"
      ],
      "outputs": []
    },
    {
      "execution_count": 4,
      "cell_type": "code",
      "metadata": {},
      "source": [
        "ramen_word \u003d list_vocabs[0].split(\",\") + list_vocabs[1].split(\",\")"
      ],
      "outputs": []
    },
    {
      "execution_count": 7,
      "cell_type": "code",
      "metadata": {},
      "source": [
        "folder_path \u003d dataiku.Folder(\"aLTWBozg\").get_path()\ntext_path \u003d folder_path + \"/ramen_corpus.txt\""
      ],
      "outputs": []
    },
    {
      "execution_count": 9,
      "cell_type": "code",
      "metadata": {},
      "source": [
        "f \u003d open(text_path,\u0027r\u0027,encoding\u003d\"utf-8\")\ntrainings \u003d []"
      ],
      "outputs": []
    },
    {
      "execution_count": 10,
      "cell_type": "code",
      "metadata": {},
      "source": [
        "for i,data in enumerate(f):\n    word \u003d data.replace(\"\u0027\",\u0027\u0027).replace(\u0027[\u0027,\u0027\u0027).replace(\u0027]\u0027,\u0027\u0027).replace(\u0027 \u0027,\u0027\u0027).replace(\u0027\\n\u0027,\u0027\u0027).split(\",\")\n    trainings.append([i for i in word if i in ramen_word])"
      ],
      "outputs": []
    },
    {
      "execution_count": 31,
      "cell_type": "code",
      "metadata": {},
      "source": [
        "len(trainings)"
      ],
      "outputs": [
        {
          "output_type": "execute_result",
          "metadata": {},
          "data": {
            "text/plain": "211"
          },
          "execution_count": 31
        }
      ]
    },
    {
      "execution_count": 13,
      "cell_type": "code",
      "metadata": {},
      "source": [
        "dictionary \u003d corpora.Dictionary(trainings)"
      ],
      "outputs": []
    },
    {
      "execution_count": 50,
      "cell_type": "code",
      "metadata": {},
      "source": [
        "len(dictionary)"
      ],
      "outputs": [
        {
          "output_type": "execute_result",
          "metadata": {},
          "data": {
            "text/plain": "2"
          },
          "execution_count": 50
        }
      ]
    },
    {
      "execution_count": 15,
      "cell_type": "code",
      "metadata": {},
      "source": [
        "corpus \u003d list(map(dictionary.doc2bow, trainings))"
      ],
      "outputs": []
    },
    {
      "execution_count": 16,
      "cell_type": "code",
      "metadata": {},
      "source": [
        "test_model \u003d models.TfidfModel(corpus)"
      ],
      "outputs": []
    },
    {
      "execution_count": 17,
      "cell_type": "code",
      "metadata": {},
      "source": [
        "corpus_tfidf \u003d test_model[corpus]"
      ],
      "outputs": []
    },
    {
      "execution_count": 19,
      "cell_type": "code",
      "metadata": {},
      "source": [
        "# id-\u003e単語へ変換\ntexts_tfidf \u003d [] # id -\u003e 単語表示に変えた文書ごとのTF-IDF\nfor doc in corpus_tfidf:\n    text_tfidf \u003d []\n    for word in doc:\n        text_tfidf.append([dictionary[word[0]],word[1]])\n    texts_tfidf.append(text_tfidf)"
      ],
      "outputs": []
    },
    {
      "execution_count": 28,
      "cell_type": "code",
      "metadata": {},
      "source": [
        "from operator import itemgetter\n\ntexts_tfidf_sorted_top20 \u003d [] \n\n#TF-IDF値を高い順に並び替え上位単語20個に絞る。\nfor i in range(len(texts_tfidf)):\n    soted \u003d sorted(texts_tfidf[i], key\u003ditemgetter(1),reverse\u003dTrue)\n    soted_top20 \u003d soted[:20]\n    word_list \u003d []\n    for k in range(len(soted_top20)):\n        word \u003d soted_top20[k][0]\n        word_list.append(word)\n    texts_tfidf_sorted_top20.append(word_list)"
      ],
      "outputs": []
    },
    {
      "execution_count": 37,
      "cell_type": "code",
      "metadata": {},
      "source": [
        "raw_ramen_df \u003d dataiku.Dataset(\"raw_ramen\").get_dataframe()"
      ],
      "outputs": []
    },
    {
      "execution_count": 38,
      "cell_type": "code",
      "metadata": {},
      "source": [
        "raw_ramen_df.head()"
      ],
      "outputs": [
        {
          "output_type": "execute_result",
          "metadata": {},
          "data": {
            "text/plain": "   store_id     store_name                      address  score  ward  review_cnt                                             review review_star\n0         1  手打式超多加水麺 ののくら  東京都葛飾区亀有3-11-11マーベラス大協ビル 1F   3.98  東京都内         479  2020年、ラーメン103杯目(^^)本日、朝イチで営業を済ませ、次の打ち合わせまで時間が空...         4.8\n1         1  手打式超多加水麺 ののくら  東京都葛飾区亀有3-11-11マーベラス大協ビル 1F   3.98  東京都内         479  ミシュラン東京2019　ビルグルマン受賞店の「手打式超多加水麺　ののくら」さんに伺いました。...         3.8\n2         1  手打式超多加水麺 ののくら  東京都葛飾区亀有3-11-11マーベラス大協ビル 1F   3.98  東京都内         479  平日の13時過ぎに伺いました＼(^o^)／駅から少し歩いた通り沿いにあり、外観はシンプル落ち...         3.8\n3         1  手打式超多加水麺 ののくら  東京都葛飾区亀有3-11-11マーベラス大協ビル 1F   3.98  東京都内         479  食べログ100名店簡単にお店の場所:亀有駅に着いて、両さんがお出迎え、南口から徒歩5分くらい...         3.8\n4         1  手打式超多加水麺 ののくら  東京都葛飾区亀有3-11-11マーベラス大協ビル 1F   3.98  東京都内         479  エグい行列が嫌でしばらく行ってませんでしたが、土曜日の「記帳予約制」なる制度が始まったので久...         4.5",
            "text/html": "\n            \u003cbutton style\u003d\"display:none\" \n            class\u003d\"btn btn-default ipython-export-btn\" \n            id\u003d\"btn-df-cb464d14-b229-4528-b362-fc5eb4b6a355\" \n            onclick\u003d\"_export_df(\u0027cb464d14-b229-4528-b362-fc5eb4b6a355\u0027)\"\u003e\n                Export dataframe\n            \u003c/button\u003e\n            \n            \u003cscript\u003e\n                \n                function _check_export_df_possible(dfid,yes_fn,no_fn) {\n                    console.log(\u0027Checking dataframe exportability...\u0027)\n                    if(!IPython || !IPython.notebook || !IPython.notebook.kernel || !IPython.notebook.kernel) {\n                        console.log(\u0027Export is not possible (IPython kernel is not available)\u0027)\n                        if(no_fn) {\n                            no_fn();\n                        }\n                    } else {\n                        var pythonCode \u003d \u0027from dataiku.notebook.export import IPythonExporter;IPythonExporter._check_export_stdout(\"\u0027+dfid+\u0027\")\u0027;\n                        IPython.notebook.kernel.execute(pythonCode,{iopub: {output: function(resp) {\n                            console.info(\"Exportability response\", resp);\n                            var size \u003d /^([0-9]+)x([0-9]+)$/.exec(resp.content.data || resp.content.text)\n                            if(!size) {\n                                console.log(\u0027Export is not possible (dataframe is not in-memory anymore)\u0027)\n                                if(no_fn) {\n                                    no_fn();\n                                }\n                            } else {\n                                console.log(\u0027Export is possible\u0027)\n                                if(yes_fn) {\n                                    yes_fn(1*size[1],1*size[2]);\n                                }\n                            }\n                        }}});\n                    }\n                }\n            \n                function _export_df(dfid) {\n                    \n                    var btn \u003d $(\u0027#btn-df-\u0027+dfid);\n                    var btns \u003d $(\u0027.ipython-export-btn\u0027);\n                    \n                    _check_export_df_possible(dfid,function() {\n                        \n                        window.parent.openExportModalFromIPython(\u0027Pandas dataframe\u0027,function(data) {\n                            btns.prop(\u0027disabled\u0027,true);\n                            btn.text(\u0027Exporting...\u0027);\n                            var command \u003d \u0027from dataiku.notebook.export import IPythonExporter;IPythonExporter._run_export(\"\u0027+dfid+\u0027\",\"\u0027+data.exportId+\u0027\")\u0027;\n                            var callback \u003d {iopub:{output: function(resp) {\n                                console.info(\"CB resp:\", resp);\n                                _check_export_df_possible(dfid,function(rows, cols) {\n                                    $(\u0027#btn-df-\u0027+dfid)\n                                        .css(\u0027display\u0027,\u0027inline-block\u0027)\n                                        .text(\u0027Export this dataframe (\u0027+rows+\u0027 rows, \u0027+cols+\u0027 cols)\u0027)\n                                        .prop(\u0027disabled\u0027,false);\n                                },function() {\n                                    $(\u0027#btn-df-\u0027+dfid).css(\u0027display\u0027,\u0027none\u0027);\n                                });\n                            }}};\n                            IPython.notebook.kernel.execute(command,callback,{silent:false}); // yes, silent now defaults to true. figures.\n                        });\n                    \n                    }, function(){\n                            alert(\u0027Unable to export : the Dataframe object is not loaded in memory\u0027);\n                            btn.css(\u0027display\u0027,\u0027none\u0027);\n                    });\n                    \n                }\n                \n                (function(dfid) {\n                \n                    var retryCount \u003d 10;\n                \n                    function is_valid_websock(s) {\n                        return s \u0026\u0026 s.readyState\u003d\u003d1;\n                    }\n                \n                    function check_conn() {\n                        \n                        if(!IPython || !IPython.notebook) {\n                            // Don\u0027t even try to go further\n                            return;\n                        }\n                        \n                        // Check if IPython is ready\n                        console.info(\"Checking conn ...\")\n                        if(IPython.notebook.kernel\n                        \u0026\u0026 IPython.notebook.kernel\n                        \u0026\u0026 is_valid_websock(IPython.notebook.kernel.ws)\n                        ) {\n                            \n                            _check_export_df_possible(dfid,function(rows, cols) {\n                                $(\u0027#btn-df-\u0027+dfid).css(\u0027display\u0027,\u0027inline-block\u0027);\n                                $(\u0027#btn-df-\u0027+dfid).text(\u0027Export this dataframe (\u0027+rows+\u0027 rows, \u0027+cols+\u0027 cols)\u0027);\n                            });\n                            \n                        } else {\n                            console.info(\"Conditions are not ok\", IPython.notebook.kernel);\n                            \n                            // Retry later\n                            \n                            if(retryCount\u003e0) {\n                                setTimeout(check_conn,500);\n                                retryCount--;\n                            }\n                            \n                        }\n                    };\n                    \n                    setTimeout(check_conn,100);\n                    \n                })(\"cb464d14-b229-4528-b362-fc5eb4b6a355\");\n                \n            \u003c/script\u003e\n            \n        \u003cdiv\u003e\n\u003cstyle scoped\u003e\n    .dataframe tbody tr th:only-of-type {\n        vertical-align: middle;\n    }\n\n    .dataframe tbody tr th {\n        vertical-align: top;\n    }\n\n    .dataframe thead th {\n        text-align: right;\n    }\n\u003c/style\u003e\n\u003ctable border\u003d\"1\" class\u003d\"dataframe\"\u003e\n  \u003cthead\u003e\n    \u003ctr style\u003d\"text-align: right;\"\u003e\n      \u003cth\u003e\u003c/th\u003e\n      \u003cth\u003estore_id\u003c/th\u003e\n      \u003cth\u003estore_name\u003c/th\u003e\n      \u003cth\u003eaddress\u003c/th\u003e\n      \u003cth\u003escore\u003c/th\u003e\n      \u003cth\u003eward\u003c/th\u003e\n      \u003cth\u003ereview_cnt\u003c/th\u003e\n      \u003cth\u003ereview\u003c/th\u003e\n      \u003cth\u003ereview_star\u003c/th\u003e\n    \u003c/tr\u003e\n  \u003c/thead\u003e\n  \u003ctbody\u003e\n    \u003ctr\u003e\n      \u003cth\u003e0\u003c/th\u003e\n      \u003ctd\u003e1\u003c/td\u003e\n      \u003ctd\u003e手打式超多加水麺 ののくら\u003c/td\u003e\n      \u003ctd\u003e東京都葛飾区亀有3-11-11マーベラス大協ビル 1F\u003c/td\u003e\n      \u003ctd\u003e3.98\u003c/td\u003e\n      \u003ctd\u003e東京都内\u003c/td\u003e\n      \u003ctd\u003e479\u003c/td\u003e\n      \u003ctd\u003e2020年、ラーメン103杯目(^^)本日、朝イチで営業を済ませ、次の打ち合わせまで時間が空...\u003c/td\u003e\n      \u003ctd\u003e4.8\u003c/td\u003e\n    \u003c/tr\u003e\n    \u003ctr\u003e\n      \u003cth\u003e1\u003c/th\u003e\n      \u003ctd\u003e1\u003c/td\u003e\n      \u003ctd\u003e手打式超多加水麺 ののくら\u003c/td\u003e\n      \u003ctd\u003e東京都葛飾区亀有3-11-11マーベラス大協ビル 1F\u003c/td\u003e\n      \u003ctd\u003e3.98\u003c/td\u003e\n      \u003ctd\u003e東京都内\u003c/td\u003e\n      \u003ctd\u003e479\u003c/td\u003e\n      \u003ctd\u003eミシュラン東京2019　ビルグルマン受賞店の「手打式超多加水麺　ののくら」さんに伺いました。...\u003c/td\u003e\n      \u003ctd\u003e3.8\u003c/td\u003e\n    \u003c/tr\u003e\n    \u003ctr\u003e\n      \u003cth\u003e2\u003c/th\u003e\n      \u003ctd\u003e1\u003c/td\u003e\n      \u003ctd\u003e手打式超多加水麺 ののくら\u003c/td\u003e\n      \u003ctd\u003e東京都葛飾区亀有3-11-11マーベラス大協ビル 1F\u003c/td\u003e\n      \u003ctd\u003e3.98\u003c/td\u003e\n      \u003ctd\u003e東京都内\u003c/td\u003e\n      \u003ctd\u003e479\u003c/td\u003e\n      \u003ctd\u003e平日の13時過ぎに伺いました＼(^o^)／駅から少し歩いた通り沿いにあり、外観はシンプル落ち...\u003c/td\u003e\n      \u003ctd\u003e3.8\u003c/td\u003e\n    \u003c/tr\u003e\n    \u003ctr\u003e\n      \u003cth\u003e3\u003c/th\u003e\n      \u003ctd\u003e1\u003c/td\u003e\n      \u003ctd\u003e手打式超多加水麺 ののくら\u003c/td\u003e\n      \u003ctd\u003e東京都葛飾区亀有3-11-11マーベラス大協ビル 1F\u003c/td\u003e\n      \u003ctd\u003e3.98\u003c/td\u003e\n      \u003ctd\u003e東京都内\u003c/td\u003e\n      \u003ctd\u003e479\u003c/td\u003e\n      \u003ctd\u003e食べログ100名店簡単にお店の場所:亀有駅に着いて、両さんがお出迎え、南口から徒歩5分くらい...\u003c/td\u003e\n      \u003ctd\u003e3.8\u003c/td\u003e\n    \u003c/tr\u003e\n    \u003ctr\u003e\n      \u003cth\u003e4\u003c/th\u003e\n      \u003ctd\u003e1\u003c/td\u003e\n      \u003ctd\u003e手打式超多加水麺 ののくら\u003c/td\u003e\n      \u003ctd\u003e東京都葛飾区亀有3-11-11マーベラス大協ビル 1F\u003c/td\u003e\n      \u003ctd\u003e3.98\u003c/td\u003e\n      \u003ctd\u003e東京都内\u003c/td\u003e\n      \u003ctd\u003e479\u003c/td\u003e\n      \u003ctd\u003eエグい行列が嫌でしばらく行ってませんでしたが、土曜日の「記帳予約制」なる制度が始まったので久...\u003c/td\u003e\n      \u003ctd\u003e4.5\u003c/td\u003e\n    \u003c/tr\u003e\n  \u003c/tbody\u003e\n\u003c/table\u003e\n\u003c/div\u003e"
          },
          "execution_count": 38
        }
      ]
    },
    {
      "execution_count": 44,
      "cell_type": "code",
      "metadata": {},
      "source": [
        "ramen_by_restaurant \u003d raw_ramen_df.groupby([\u0027store_name\u0027, \u0027address\u0027, \u0027ward\u0027, \u0027score\u0027, \u0027review_cnt\u0027])[\u0027review\u0027].apply(list).apply(\u0027 \u0027.join).reset_index().sort_values(\u0027score\u0027, ascending\u003dFalse)"
      ],
      "outputs": []
    },
    {
      "execution_count": 48,
      "cell_type": "code",
      "metadata": {},
      "source": [
        "ramen_by_restaurant.shape"
      ],
      "outputs": [
        {
          "output_type": "execute_result",
          "metadata": {},
          "data": {
            "text/plain": "(211, 6)"
          },
          "execution_count": 48
        }
      ]
    },
    {
      "execution_count": 47,
      "cell_type": "code",
      "metadata": {},
      "source": [
        "ramen_by_restaurant.head()"
      ],
      "outputs": [
        {
          "output_type": "execute_result",
          "metadata": {},
          "data": {
            "text/plain": "            store_name                      address  ward  score  review_cnt                                             review\n112      手打式超多加水麺 ののくら  東京都葛飾区亀有3-11-11マーベラス大協ビル 1F  東京都内   3.98         479  2020年、ラーメン103杯目(^^)本日、朝イチで営業を済ませ、次の打ち合わせまで時間が空...\n0    Homemade Ramen 麦苗             東京都品川区南大井6-11-10  東京都内   3.97         731  2020/08/03(月)5度目の訪問！現在は蜜を避けるために、事前記帳(予約)式になってい...\n191            麺尊 RAGE    東京都杉並区松庵3-37-22レンツェン松庵 1F  東京都内   3.96         723  5年連続で「ミシュランガイド東京」のビブグルマンに掲載され、「The Tabelog Awa...\n110      宍道湖しじみ中華蕎麦 琥珀               東京都大田区西六郷2-1-3  東京都内   3.95         296  本日は貴重な平日のお休みだった為、普段は中々足を運ぶ事の出来ない蒲田方面へ。11時40分に蒲...\n25              らぁ麺や 嶋              東京都渋谷区本町3-41-12  東京都内   3.95         177  今年、西新宿五丁目に新しいラーメン屋が出来た。まだ1年も経っていないだろうにすでに期待度が非...",
            "text/html": "\n            \u003cbutton style\u003d\"display:none\" \n            class\u003d\"btn btn-default ipython-export-btn\" \n            id\u003d\"btn-df-1dc170c2-12f3-4b4d-af13-e761fed896d6\" \n            onclick\u003d\"_export_df(\u00271dc170c2-12f3-4b4d-af13-e761fed896d6\u0027)\"\u003e\n                Export dataframe\n            \u003c/button\u003e\n            \n            \u003cscript\u003e\n                \n                function _check_export_df_possible(dfid,yes_fn,no_fn) {\n                    console.log(\u0027Checking dataframe exportability...\u0027)\n                    if(!IPython || !IPython.notebook || !IPython.notebook.kernel || !IPython.notebook.kernel) {\n                        console.log(\u0027Export is not possible (IPython kernel is not available)\u0027)\n                        if(no_fn) {\n                            no_fn();\n                        }\n                    } else {\n                        var pythonCode \u003d \u0027from dataiku.notebook.export import IPythonExporter;IPythonExporter._check_export_stdout(\"\u0027+dfid+\u0027\")\u0027;\n                        IPython.notebook.kernel.execute(pythonCode,{iopub: {output: function(resp) {\n                            console.info(\"Exportability response\", resp);\n                            var size \u003d /^([0-9]+)x([0-9]+)$/.exec(resp.content.data || resp.content.text)\n                            if(!size) {\n                                console.log(\u0027Export is not possible (dataframe is not in-memory anymore)\u0027)\n                                if(no_fn) {\n                                    no_fn();\n                                }\n                            } else {\n                                console.log(\u0027Export is possible\u0027)\n                                if(yes_fn) {\n                                    yes_fn(1*size[1],1*size[2]);\n                                }\n                            }\n                        }}});\n                    }\n                }\n            \n                function _export_df(dfid) {\n                    \n                    var btn \u003d $(\u0027#btn-df-\u0027+dfid);\n                    var btns \u003d $(\u0027.ipython-export-btn\u0027);\n                    \n                    _check_export_df_possible(dfid,function() {\n                        \n                        window.parent.openExportModalFromIPython(\u0027Pandas dataframe\u0027,function(data) {\n                            btns.prop(\u0027disabled\u0027,true);\n                            btn.text(\u0027Exporting...\u0027);\n                            var command \u003d \u0027from dataiku.notebook.export import IPythonExporter;IPythonExporter._run_export(\"\u0027+dfid+\u0027\",\"\u0027+data.exportId+\u0027\")\u0027;\n                            var callback \u003d {iopub:{output: function(resp) {\n                                console.info(\"CB resp:\", resp);\n                                _check_export_df_possible(dfid,function(rows, cols) {\n                                    $(\u0027#btn-df-\u0027+dfid)\n                                        .css(\u0027display\u0027,\u0027inline-block\u0027)\n                                        .text(\u0027Export this dataframe (\u0027+rows+\u0027 rows, \u0027+cols+\u0027 cols)\u0027)\n                                        .prop(\u0027disabled\u0027,false);\n                                },function() {\n                                    $(\u0027#btn-df-\u0027+dfid).css(\u0027display\u0027,\u0027none\u0027);\n                                });\n                            }}};\n                            IPython.notebook.kernel.execute(command,callback,{silent:false}); // yes, silent now defaults to true. figures.\n                        });\n                    \n                    }, function(){\n                            alert(\u0027Unable to export : the Dataframe object is not loaded in memory\u0027);\n                            btn.css(\u0027display\u0027,\u0027none\u0027);\n                    });\n                    \n                }\n                \n                (function(dfid) {\n                \n                    var retryCount \u003d 10;\n                \n                    function is_valid_websock(s) {\n                        return s \u0026\u0026 s.readyState\u003d\u003d1;\n                    }\n                \n                    function check_conn() {\n                        \n                        if(!IPython || !IPython.notebook) {\n                            // Don\u0027t even try to go further\n                            return;\n                        }\n                        \n                        // Check if IPython is ready\n                        console.info(\"Checking conn ...\")\n                        if(IPython.notebook.kernel\n                        \u0026\u0026 IPython.notebook.kernel\n                        \u0026\u0026 is_valid_websock(IPython.notebook.kernel.ws)\n                        ) {\n                            \n                            _check_export_df_possible(dfid,function(rows, cols) {\n                                $(\u0027#btn-df-\u0027+dfid).css(\u0027display\u0027,\u0027inline-block\u0027);\n                                $(\u0027#btn-df-\u0027+dfid).text(\u0027Export this dataframe (\u0027+rows+\u0027 rows, \u0027+cols+\u0027 cols)\u0027);\n                            });\n                            \n                        } else {\n                            console.info(\"Conditions are not ok\", IPython.notebook.kernel);\n                            \n                            // Retry later\n                            \n                            if(retryCount\u003e0) {\n                                setTimeout(check_conn,500);\n                                retryCount--;\n                            }\n                            \n                        }\n                    };\n                    \n                    setTimeout(check_conn,100);\n                    \n                })(\"1dc170c2-12f3-4b4d-af13-e761fed896d6\");\n                \n            \u003c/script\u003e\n            \n        \u003cdiv\u003e\n\u003cstyle scoped\u003e\n    .dataframe tbody tr th:only-of-type {\n        vertical-align: middle;\n    }\n\n    .dataframe tbody tr th {\n        vertical-align: top;\n    }\n\n    .dataframe thead th {\n        text-align: right;\n    }\n\u003c/style\u003e\n\u003ctable border\u003d\"1\" class\u003d\"dataframe\"\u003e\n  \u003cthead\u003e\n    \u003ctr style\u003d\"text-align: right;\"\u003e\n      \u003cth\u003e\u003c/th\u003e\n      \u003cth\u003estore_name\u003c/th\u003e\n      \u003cth\u003eaddress\u003c/th\u003e\n      \u003cth\u003eward\u003c/th\u003e\n      \u003cth\u003escore\u003c/th\u003e\n      \u003cth\u003ereview_cnt\u003c/th\u003e\n      \u003cth\u003ereview\u003c/th\u003e\n    \u003c/tr\u003e\n  \u003c/thead\u003e\n  \u003ctbody\u003e\n    \u003ctr\u003e\n      \u003cth\u003e112\u003c/th\u003e\n      \u003ctd\u003e手打式超多加水麺 ののくら\u003c/td\u003e\n      \u003ctd\u003e東京都葛飾区亀有3-11-11マーベラス大協ビル 1F\u003c/td\u003e\n      \u003ctd\u003e東京都内\u003c/td\u003e\n      \u003ctd\u003e3.98\u003c/td\u003e\n      \u003ctd\u003e479\u003c/td\u003e\n      \u003ctd\u003e2020年、ラーメン103杯目(^^)本日、朝イチで営業を済ませ、次の打ち合わせまで時間が空...\u003c/td\u003e\n    \u003c/tr\u003e\n    \u003ctr\u003e\n      \u003cth\u003e0\u003c/th\u003e\n      \u003ctd\u003eHomemade Ramen 麦苗\u003c/td\u003e\n      \u003ctd\u003e東京都品川区南大井6-11-10\u003c/td\u003e\n      \u003ctd\u003e東京都内\u003c/td\u003e\n      \u003ctd\u003e3.97\u003c/td\u003e\n      \u003ctd\u003e731\u003c/td\u003e\n      \u003ctd\u003e2020/08/03(月)5度目の訪問！現在は蜜を避けるために、事前記帳(予約)式になってい...\u003c/td\u003e\n    \u003c/tr\u003e\n    \u003ctr\u003e\n      \u003cth\u003e191\u003c/th\u003e\n      \u003ctd\u003e麺尊 RAGE\u003c/td\u003e\n      \u003ctd\u003e東京都杉並区松庵3-37-22レンツェン松庵 1F\u003c/td\u003e\n      \u003ctd\u003e東京都内\u003c/td\u003e\n      \u003ctd\u003e3.96\u003c/td\u003e\n      \u003ctd\u003e723\u003c/td\u003e\n      \u003ctd\u003e5年連続で「ミシュランガイド東京」のビブグルマンに掲載され、「The Tabelog Awa...\u003c/td\u003e\n    \u003c/tr\u003e\n    \u003ctr\u003e\n      \u003cth\u003e110\u003c/th\u003e\n      \u003ctd\u003e宍道湖しじみ中華蕎麦 琥珀\u003c/td\u003e\n      \u003ctd\u003e東京都大田区西六郷2-1-3\u003c/td\u003e\n      \u003ctd\u003e東京都内\u003c/td\u003e\n      \u003ctd\u003e3.95\u003c/td\u003e\n      \u003ctd\u003e296\u003c/td\u003e\n      \u003ctd\u003e本日は貴重な平日のお休みだった為、普段は中々足を運ぶ事の出来ない蒲田方面へ。11時40分に蒲...\u003c/td\u003e\n    \u003c/tr\u003e\n    \u003ctr\u003e\n      \u003cth\u003e25\u003c/th\u003e\n      \u003ctd\u003eらぁ麺や 嶋\u003c/td\u003e\n      \u003ctd\u003e東京都渋谷区本町3-41-12\u003c/td\u003e\n      \u003ctd\u003e東京都内\u003c/td\u003e\n      \u003ctd\u003e3.95\u003c/td\u003e\n      \u003ctd\u003e177\u003c/td\u003e\n      \u003ctd\u003e今年、西新宿五丁目に新しいラーメン屋が出来た。まだ1年も経っていないだろうにすでに期待度が非...\u003c/td\u003e\n    \u003c/tr\u003e\n  \u003c/tbody\u003e\n\u003c/table\u003e\n\u003c/div\u003e"
          },
          "execution_count": 47
        }
      ]
    },
    {
      "execution_count": 0,
      "cell_type": "code",
      "metadata": {},
      "source": [
        "ramen_by_restaurant[\u0027texts_tfidf_sorted_top20\u0027] \u003d texts_tfidf_sorted_top20"
      ],
      "outputs": []
    }
  ]
}