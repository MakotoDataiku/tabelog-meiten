{
  "nbformat": 4,
  "nbformat_minor": 0,
  "metadata": {
    "kernelspec": {
      "display_name": "Python (env japan-nlp)",
      "language": "python",
      "name": "py-dku-venv-japan-nlp"
    },
    "associatedRecipe": "compute_TF_IDF_scores",
    "creator": "admin",
    "createdOn": 1622559061978,
    "tags": [
      "recipe-editor"
    ],
    "customFields": {}
  },
  "cells": [
    {
      "cell_type": "code",
      "metadata": {},
      "outputs": [],
      "execution_count": 0,
      "source": [
        "# -*- coding: utf-8 -*-\n",
        "import dataiku\n",
        "import pandas as pd, numpy as np\n",
        "from dataiku import pandasutils as pdu\n",
        "\n",
        "# Read recipe inputs\n",
        "ramen_clusters_named \u003d dataiku.Dataset(\"ramen_clusters_named\")\n",
        "ramen_clusters_named_df \u003d ramen_clusters_named.get_dataframe()\n",
        "\n",
        "\n",
        "# Compute recipe outputs from inputs\n",
        "# TODO: Replace this part by your actual code that computes the output, as a Pandas dataframe\n",
        "# NB: DSS also supports other kinds of APIs for reading and writing data. Please see doc.\n",
        "\n",
        "tf_IDF_scores_df \u003d ramen_clusters_named_df # For this sample code, simply copy input to output\n",
        "\n",
        "\n",
        "# Write recipe outputs\n",
        "tf_IDF_scores \u003d dataiku.Dataset(\"TF_IDF_scores\")\n",
        "tf_IDF_scores.write_with_schema(tf_IDF_scores_df)"
      ]
    }
  ]
}