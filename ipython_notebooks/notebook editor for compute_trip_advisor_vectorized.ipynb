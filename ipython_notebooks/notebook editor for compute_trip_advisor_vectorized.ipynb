{
  "metadata": {
    "kernelspec": {
      "display_name": "Python (env japan-nlp)",
      "name": "py-dku-venv-japan-nlp",
      "language": "python"
    },
    "language_info": {
      "mimetype": "text/x-python",
      "nbconvert_exporter": "python",
      "version": "3.6.8",
      "name": "python",
      "pygments_lexer": "ipython3",
      "file_extension": ".py",
      "codemirror_mode": {
        "version": 3,
        "name": "ipython"
      }
    },
    "tags": [
      "recipe-editor"
    ],
    "associatedRecipe": "compute_trip_advisor_vectorized",
    "createdOn": 1622806297805,
    "hide_input": false,
    "customFields": {},
    "creator": "admin",
    "modifiedBy": "admin"
  },
  "nbformat": 4,
  "nbformat_minor": 1,
  "cells": [
    {
      "execution_count": 0,
      "cell_type": "code",
      "metadata": {},
      "source": [
        "# -*- coding: utf-8 -*-\nimport dataiku\nimport pandas as pd, numpy as np\nfrom dataiku import pandasutils as pdu\nfrom gensim import corpora\nfrom gensim import models\nimport MeCab\nfrom gensim.models import word2vec\nfrom gensim.models import TfidfModel\nfrom operator import itemgetter"
      ],
      "outputs": []
    },
    {
      "execution_count": 0,
      "cell_type": "code",
      "metadata": {},
      "source": [
        "# Read recipe inputs\nclean_trip_advisor \u003d dataiku.Dataset(\"clean_trip_advisor\")\ndf \u003d clean_trip_advisor.get_dataframe()\nword2vec \u003d dataiku.Folder(\"m9JZdV7b\")\nword2vec_info \u003d word2vec.get_info()"
      ],
      "outputs": []
    },
    {
      "execution_count": 0,
      "cell_type": "code",
      "metadata": {},
      "source": [
        "# Compute recipe outputs from inputs\n# TODO: Replace this part by your actual code that computes the output, as a Pandas dataframe\n# NB: DSS also supports other kinds of APIs for reading and writing data. Please see doc.\n\ntrip_advisor_vectorized_df \u003d clean_trip_advisor_df # For this sample code, simply copy input to output\n\n\n# Write recipe outputs\ntrip_advisor_vectorized \u003d dataiku.Dataset(\"trip_advisor_vectorized\")\ntrip_advisor_vectorized.write_with_schema(trip_advisor_vectorized_df)"
      ],
      "outputs": []
    }
  ]
}