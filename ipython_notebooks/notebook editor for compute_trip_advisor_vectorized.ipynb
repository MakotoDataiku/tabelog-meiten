{
  "metadata": {
    "kernelspec": {
      "display_name": "Python (env japan-nlp)",
      "name": "py-dku-venv-japan-nlp",
      "language": "python"
    },
    "language_info": {
      "mimetype": "text/x-python",
      "nbconvert_exporter": "python",
      "version": "3.6.8",
      "name": "python",
      "pygments_lexer": "ipython3",
      "file_extension": ".py",
      "codemirror_mode": {
        "version": 3,
        "name": "ipython"
      }
    },
    "tags": [
      "recipe-editor"
    ],
    "associatedRecipe": "compute_trip_advisor_vectorized",
    "createdOn": 1622806297805,
    "hide_input": false,
    "customFields": {},
    "creator": "admin",
    "modifiedBy": "admin"
  },
  "nbformat": 4,
  "nbformat_minor": 1,
  "cells": [
    {
      "execution_count": 1,
      "cell_type": "code",
      "metadata": {},
      "source": [
        "# -*- coding: utf-8 -*-\nimport dataiku\nimport pandas as pd, numpy as np\nfrom dataiku import pandasutils as pdu\nfrom gensim import corpora\nfrom gensim import models\nimport MeCab\nfrom gensim.models import word2vec\nfrom gensim.models import TfidfModel\nfrom operator import itemgetter"
      ],
      "outputs": [
        {
          "output_type": "stream",
          "name": "stderr",
          "text": "/Users/mmiyazaki/dataiku/Design/DATA_DIR/code-envs/python/japan-nlp/lib/python3.6/site-packages/scipy/sparse/sparsetools.py:21: DeprecationWarning: `scipy.sparse.sparsetools` is deprecated!\nscipy.sparse.sparsetools is a private module for scipy.sparse, and should not be used.\n  _deprecated()\n"
        }
      ]
    },
    {
      "execution_count": 2,
      "cell_type": "code",
      "metadata": {},
      "source": [
        "# Read recipe inputs\nclean_trip_advisor \u003d dataiku.Dataset(\"clean_trip_advisor\")\ndf \u003d clean_trip_advisor.get_dataframe()\n\nmodel_folder_path \u003d dataiku.Folder(\"m9JZdV7b\").get_path()\nmodel_path \u003d model_folder_path + \"/word2vec_ramen_model.model\"\nramen_model \u003d word2vec.Word2Vec.load(model_path)\n\nwakati_folder \u003d dataiku.Folder(\"0kM5kXKs\").get_path()\ntagger_path \u003d \u0027-Owakati -d \u0027 + wakati_folder"
      ],
      "outputs": []
    },
    {
      "execution_count": 4,
      "cell_type": "code",
      "metadata": {
        "scrolled": true
      },
      "source": [
        "df.head()"
      ],
      "outputs": [
        {
          "output_type": "execute_result",
          "metadata": {},
          "data": {
            "text/plain": "                                                  en                                                 jp                                             review\n0  We arrived for the opening time of 12h00, wait...  私たちは 12 時の開店時間に到着し、待ち行列で 25 分待ってから入りました。最終的に入る...  私たちは時の開店時間に到着し待ち行列で分待ってから入りました。最終的に入るまでにさらに分以上...\n1  Real dissappointment total tourist trap. Food ...  本当の失望の総観光客の罠。食べ物は本当に塩辛く、味がしませんでした。他の 5 つ星のレビュー...  本当の失望の総観光客の罠。食べ物は本当に塩辛く味がしませんでした。他のつ星のレビューを購入し...\n2  The best ramen I’ve ever had. Tender meat, fre...  私が今まで食べた中で最高のラーメン。柔らかい肉、新鮮な食材、素晴らしいスープ、まともなバリエ...  私が今まで食べた中で最高のラーメン。柔らかい肉新鮮な食材素晴らしいスープまともなバリエーショ...\n3  Really excellent food, and fab service. Also r...  本当に素晴らしい料理と素晴らしいサービス。また、他のパリのレストランと比較して比較的安価です...  本当に素晴らしい料理と素晴らしいサービス。また他のパリのレストランと比較して比較的安価です。...\n4  Definitely ramen worth putting on a bucket lis...  バケツリストに載せる価値のあるラーメン。すべての素材の組み合わせによる味と香りの完璧さは、神...  バケツリストに載せる価値のあるラーメン。すべての素材の組み合わせによる味と香りの完璧さは神体...",
            "text/html": "\n            \u003cbutton style\u003d\"display:none\" \n            class\u003d\"btn btn-default ipython-export-btn\" \n            id\u003d\"btn-df-f66dfd05-7fc7-418c-8145-1d43048e6c4d\" \n            onclick\u003d\"_export_df(\u0027f66dfd05-7fc7-418c-8145-1d43048e6c4d\u0027)\"\u003e\n                Export dataframe\n            \u003c/button\u003e\n            \n            \u003cscript\u003e\n                \n                function _check_export_df_possible(dfid,yes_fn,no_fn) {\n                    console.log(\u0027Checking dataframe exportability...\u0027)\n                    if(!IPython || !IPython.notebook || !IPython.notebook.kernel || !IPython.notebook.kernel) {\n                        console.log(\u0027Export is not possible (IPython kernel is not available)\u0027)\n                        if(no_fn) {\n                            no_fn();\n                        }\n                    } else {\n                        var pythonCode \u003d \u0027from dataiku.notebook.export import IPythonExporter;IPythonExporter._check_export_stdout(\"\u0027+dfid+\u0027\")\u0027;\n                        IPython.notebook.kernel.execute(pythonCode,{iopub: {output: function(resp) {\n                            console.info(\"Exportability response\", resp);\n                            var size \u003d /^([0-9]+)x([0-9]+)$/.exec(resp.content.data || resp.content.text)\n                            if(!size) {\n                                console.log(\u0027Export is not possible (dataframe is not in-memory anymore)\u0027)\n                                if(no_fn) {\n                                    no_fn();\n                                }\n                            } else {\n                                console.log(\u0027Export is possible\u0027)\n                                if(yes_fn) {\n                                    yes_fn(1*size[1],1*size[2]);\n                                }\n                            }\n                        }}});\n                    }\n                }\n            \n                function _export_df(dfid) {\n                    \n                    var btn \u003d $(\u0027#btn-df-\u0027+dfid);\n                    var btns \u003d $(\u0027.ipython-export-btn\u0027);\n                    \n                    _check_export_df_possible(dfid,function() {\n                        \n                        window.parent.openExportModalFromIPython(\u0027Pandas dataframe\u0027,function(data) {\n                            btns.prop(\u0027disabled\u0027,true);\n                            btn.text(\u0027Exporting...\u0027);\n                            var command \u003d \u0027from dataiku.notebook.export import IPythonExporter;IPythonExporter._run_export(\"\u0027+dfid+\u0027\",\"\u0027+data.exportId+\u0027\")\u0027;\n                            var callback \u003d {iopub:{output: function(resp) {\n                                console.info(\"CB resp:\", resp);\n                                _check_export_df_possible(dfid,function(rows, cols) {\n                                    $(\u0027#btn-df-\u0027+dfid)\n                                        .css(\u0027display\u0027,\u0027inline-block\u0027)\n                                        .text(\u0027Export this dataframe (\u0027+rows+\u0027 rows, \u0027+cols+\u0027 cols)\u0027)\n                                        .prop(\u0027disabled\u0027,false);\n                                },function() {\n                                    $(\u0027#btn-df-\u0027+dfid).css(\u0027display\u0027,\u0027none\u0027);\n                                });\n                            }}};\n                            IPython.notebook.kernel.execute(command,callback,{silent:false}); // yes, silent now defaults to true. figures.\n                        });\n                    \n                    }, function(){\n                            alert(\u0027Unable to export : the Dataframe object is not loaded in memory\u0027);\n                            btn.css(\u0027display\u0027,\u0027none\u0027);\n                    });\n                    \n                }\n                \n                (function(dfid) {\n                \n                    var retryCount \u003d 10;\n                \n                    function is_valid_websock(s) {\n                        return s \u0026\u0026 s.readyState\u003d\u003d1;\n                    }\n                \n                    function check_conn() {\n                        \n                        if(!IPython || !IPython.notebook) {\n                            // Don\u0027t even try to go further\n                            return;\n                        }\n                        \n                        // Check if IPython is ready\n                        console.info(\"Checking conn ...\")\n                        if(IPython.notebook.kernel\n                        \u0026\u0026 IPython.notebook.kernel\n                        \u0026\u0026 is_valid_websock(IPython.notebook.kernel.ws)\n                        ) {\n                            \n                            _check_export_df_possible(dfid,function(rows, cols) {\n                                $(\u0027#btn-df-\u0027+dfid).css(\u0027display\u0027,\u0027inline-block\u0027);\n                                $(\u0027#btn-df-\u0027+dfid).text(\u0027Export this dataframe (\u0027+rows+\u0027 rows, \u0027+cols+\u0027 cols)\u0027);\n                            });\n                            \n                        } else {\n                            console.info(\"Conditions are not ok\", IPython.notebook.kernel);\n                            \n                            // Retry later\n                            \n                            if(retryCount\u003e0) {\n                                setTimeout(check_conn,500);\n                                retryCount--;\n                            }\n                            \n                        }\n                    };\n                    \n                    setTimeout(check_conn,100);\n                    \n                })(\"f66dfd05-7fc7-418c-8145-1d43048e6c4d\");\n                \n            \u003c/script\u003e\n            \n        \u003cdiv\u003e\n\u003cstyle scoped\u003e\n    .dataframe tbody tr th:only-of-type {\n        vertical-align: middle;\n    }\n\n    .dataframe tbody tr th {\n        vertical-align: top;\n    }\n\n    .dataframe thead th {\n        text-align: right;\n    }\n\u003c/style\u003e\n\u003ctable border\u003d\"1\" class\u003d\"dataframe\"\u003e\n  \u003cthead\u003e\n    \u003ctr style\u003d\"text-align: right;\"\u003e\n      \u003cth\u003e\u003c/th\u003e\n      \u003cth\u003een\u003c/th\u003e\n      \u003cth\u003ejp\u003c/th\u003e\n      \u003cth\u003ereview\u003c/th\u003e\n    \u003c/tr\u003e\n  \u003c/thead\u003e\n  \u003ctbody\u003e\n    \u003ctr\u003e\n      \u003cth\u003e0\u003c/th\u003e\n      \u003ctd\u003eWe arrived for the opening time of 12h00, wait...\u003c/td\u003e\n      \u003ctd\u003e私たちは 12 時の開店時間に到着し、待ち行列で 25 分待ってから入りました。最終的に入る...\u003c/td\u003e\n      \u003ctd\u003e私たちは時の開店時間に到着し待ち行列で分待ってから入りました。最終的に入るまでにさらに分以上...\u003c/td\u003e\n    \u003c/tr\u003e\n    \u003ctr\u003e\n      \u003cth\u003e1\u003c/th\u003e\n      \u003ctd\u003eReal dissappointment total tourist trap. Food ...\u003c/td\u003e\n      \u003ctd\u003e本当の失望の総観光客の罠。食べ物は本当に塩辛く、味がしませんでした。他の 5 つ星のレビュー...\u003c/td\u003e\n      \u003ctd\u003e本当の失望の総観光客の罠。食べ物は本当に塩辛く味がしませんでした。他のつ星のレビューを購入し...\u003c/td\u003e\n    \u003c/tr\u003e\n    \u003ctr\u003e\n      \u003cth\u003e2\u003c/th\u003e\n      \u003ctd\u003eThe best ramen I’ve ever had. Tender meat, fre...\u003c/td\u003e\n      \u003ctd\u003e私が今まで食べた中で最高のラーメン。柔らかい肉、新鮮な食材、素晴らしいスープ、まともなバリエ...\u003c/td\u003e\n      \u003ctd\u003e私が今まで食べた中で最高のラーメン。柔らかい肉新鮮な食材素晴らしいスープまともなバリエーショ...\u003c/td\u003e\n    \u003c/tr\u003e\n    \u003ctr\u003e\n      \u003cth\u003e3\u003c/th\u003e\n      \u003ctd\u003eReally excellent food, and fab service. Also r...\u003c/td\u003e\n      \u003ctd\u003e本当に素晴らしい料理と素晴らしいサービス。また、他のパリのレストランと比較して比較的安価です...\u003c/td\u003e\n      \u003ctd\u003e本当に素晴らしい料理と素晴らしいサービス。また他のパリのレストランと比較して比較的安価です。...\u003c/td\u003e\n    \u003c/tr\u003e\n    \u003ctr\u003e\n      \u003cth\u003e4\u003c/th\u003e\n      \u003ctd\u003eDefinitely ramen worth putting on a bucket lis...\u003c/td\u003e\n      \u003ctd\u003eバケツリストに載せる価値のあるラーメン。すべての素材の組み合わせによる味と香りの完璧さは、神...\u003c/td\u003e\n      \u003ctd\u003eバケツリストに載せる価値のあるラーメン。すべての素材の組み合わせによる味と香りの完璧さは神体...\u003c/td\u003e\n    \u003c/tr\u003e\n  \u003c/tbody\u003e\n\u003c/table\u003e\n\u003c/div\u003e"
          },
          "execution_count": 4
        }
      ]
    },
    {
      "execution_count": 6,
      "cell_type": "code",
      "metadata": {},
      "source": [
        "tagger \u003d MeCab.Tagger(tagger_path)#タグはMeCab.Tagger（neologd辞書）を使用\ntagger.parse(\u0027\u0027)"
      ],
      "outputs": [
        {
          "output_type": "execute_result",
          "metadata": {},
          "data": {
            "text/plain": "\u0027\\n\u0027"
          },
          "execution_count": 6
        }
      ]
    },
    {
      "execution_count": 7,
      "cell_type": "code",
      "metadata": {},
      "source": [
        "def tokenize_ja(text, lower):\n    node \u003d tagger.parseToNode(str(text))\n    while node:\n        if lower and node.feature.split(\u0027,\u0027)[0] in [\"名詞\",\"形容詞\"]:#分かち書きで取得する品詞を指定\n            yield node.surface.lower()\n        node \u003d node.next\ndef tokenize(content, token_min_len, token_max_len, lower):\n    return [\n        str(token) for token in tokenize_ja(content, lower)\n        if token_min_len \u003c\u003d len(token) \u003c\u003d token_max_len and not token.startswith(\u0027_\u0027)\n    ]"
      ],
      "outputs": []
    },
    {
      "execution_count": 8,
      "cell_type": "code",
      "metadata": {},
      "source": [
        "#コーパス作成\nwakati_ramen_text \u003d []\nfor i in df[\u0027review\u0027]:\n    txt \u003d tokenize(i, 2, 10000, True)\n    wakati_ramen_text.append(txt)"
      ],
      "outputs": []
    },
    {
      "execution_count": 9,
      "cell_type": "code",
      "metadata": {},
      "source": [
        "wakati_ramen_text"
      ],
      "outputs": [
        {
          "output_type": "execute_result",
          "metadata": {},
          "data": {
            "text/plain": "[[\u0027私たち\u0027,\n  \u0027開店\u0027,\n  \u0027時間\u0027,\n  \u0027到着\u0027,\n  \u0027待ち行列\u0027,\n  \u0027最終的\u0027,\n  \u0027以上\u0027,\n  \u0027待ち時間\u0027,\n  \u0027食べ物\u0027,\n  \u0027例外\u0027,\n  \u0027それ\u0027,\n  \u0027フランス\u0027,\n  \u0027食材\u0027,\n  \u0027はず\u0027,\n  \u0027放し飼い\u0027,\n  \u0027これ\u0027,\n  \u0027食べ物\u0027,\n  \u0027交差\u0027,\n  \u0027こと\u0027,\n  \u0027唯一\u0027,\n  \u0027肯定\u0027,\n  \u0027側面\u0027,\n  \u0027本物\u0027,\n  \u0027経験\u0027,\n  \u0027雰囲気\u0027,\n  \u0027さら\u0027,\n  \u0027表示\u0027],\n [\u0027本当\u0027,\n  \u0027失望\u0027,\n  \u0027観光客\u0027,\n  \u0027食べ物\u0027,\n  \u0027塩辛く\u0027,\n  \u0027レビュー\u0027,\n  \u0027購入\u0027,\n  \u0027レストラン\u0027,\n  \u0027観光客\u0027,\n  \u0027生活\u0027,\n  \u0027レビュー\u0027,\n  \u0027ただ\u0027,\n  \u0027これ\u0027,\n  \u0027悲しい\u0027],\n [\u0027最高\u0027,\n  \u0027ラーメン\u0027,\n  \u0027柔らかい\u0027,\n  \u0027新鮮\u0027,\n  \u0027食材\u0027,\n  \u0027素晴らしい\u0027,\n  \u0027スープ\u0027,\n  \u0027まとも\u0027,\n  \u0027バリエーション\u0027,\n  \u0027スープ\u0027,\n  \u0027もの\u0027,\n  \u0027どちら\u0027,\n  \u0027美味しかっ\u0027,\n  \u0027市場通り\u0027,\n  \u0027よう\u0027,\n  \u0027窮屈\u0027,\n  \u0027不快\u0027],\n [\u0027素晴らしい\u0027,\n  \u0027料理\u0027,\n  \u0027素晴らしい\u0027,\n  \u0027サービス\u0027,\n  \u0027パリのレストラン\u0027,\n  \u0027比較\u0027,\n  \u0027安価\u0027,\n  \u0027パリ\u0027,\n  \u0027とき\u0027,\n  \u0027私のお気に入り\u0027,\n  \u0027レストラン\u0027,\n  \u0027混雑\u0027,\n  \u0027閉店\u0027,\n  \u0027直前\u0027,\n  \u0027おすすめ\u0027],\n [\u0027バケツ\u0027,\n  \u0027リスト\u0027,\n  \u0027価値\u0027,\n  \u0027ラーメン\u0027,\n  \u0027すべて\u0027,\n  \u0027素材\u0027,\n  \u0027組み合わせ\u0027,\n  \u0027香り\u0027,\n  \u0027完璧\u0027,\n  \u0027神体\u0027,\n  \u0027参加\u0027,\n  \u0027よう\u0027,\n  \u0027インテリア\u0027,\n  \u0027私たち\u0027,\n  \u0027時間\u0027,\n  \u0027現実\u0027,\n  \u0027認識\u0027,\n  \u0027明らか\u0027,\n  \u0027追加\u0027,\n  \u0027側面\u0027,\n  \u0027提供\u0027],\n [\u0027すべて\u0027,\n  \u0027レビュアー\u0027,\n  \u0027こと\u0027,\n  \u0027ため\u0027,\n  \u0027約分\u0027,\n  \u0027これ\u0027,\n  \u0027素晴らしい\u0027,\n  \u0027ラーメン\u0027,\n  \u0027最適\u0027,\n  \u0027場所\u0027,\n  \u0027風味\u0027,\n  \u0027豊か\u0027,\n  \u0027ストック\u0027,\n  \u0027レストラン\u0027,\n  \u0027露店\u0027,\n  \u0027よう\u0027,\n  \u0027装飾\u0027,\n  \u0027レストラン\u0027,\n  \u0027魅力\u0027],\n [\u0027開場\u0027,\n  \u0027時間\u0027,\n  \u0027分前\u0027,\n  \u0027私たち\u0027,\n  \u0027私たち\u0027,\n  \u0027いい\u0027,\n  \u0027タイミング\u0027,\n  \u0027早く\u0027,\n  \u0027着席\u0027,\n  \u0027彼ら\u0027,\n  \u0027あなた\u0027,\n  \u0027非常\u0027,\n  \u0027迅速\u0027,\n  \u0027処理\u0027,\n  \u0027暑く\u0027,\n  \u0027おいしい\u0027],\n [\u0027場合\u0027,\n  \u0027素晴らしい\u0027,\n  \u0027もの\u0027,\n  \u0027場合\u0027,\n  \u0027提案\u0027,\n  \u0027noddle\u0027,\n  \u0027注文\u0027,\n  \u0027こと\u0027,\n  \u0027彼ら\u0027,\n  \u0027中人\u0027,\n  \u0027サウンドトラック\u0027,\n  \u0027よう\u0027,\n  \u0027もの\u0027,\n  \u0027再生\u0027,\n  \u0027奇妙\u0027],\n [\u0027オンライン\u0027,\n  \u0027良い\u0027,\n  \u0027レビュー\u0027,\n  \u0027長い\u0027,\n  \u0027こと\u0027,\n  \u0027食べ物\u0027,\n  \u0027大丈夫\u0027,\n  \u0027最高\u0027,\n  \u0027ラーメン\u0027,\n  \u0027最悪\u0027,\n  \u0027ハイライト\u0027,\n  \u0027間違い\u0027,\n  \u0027柚子\u0027,\n  \u0027ソルベ\u0027,\n  \u0027美味しかっ\u0027,\n  \u0027そのため\u0027,\n  \u0027メニュー\u0027,\n  \u0027フランス語\u0027,\n  \u0027ウェイトレス\u0027,\n  \u0027素敵\u0027,\n  \u0027翻訳\u0027,\n  \u0027説明\u0027,\n  \u0027レストラン\u0027,\n  \u0027内装\u0027,\n  \u0027クール\u0027,\n  \u0027良い\u0027,\n  \u0027雰囲気\u0027,\n  \u0027待ち行列\u0027,\n  \u0027準備\u0027,\n  \u0027私たち\u0027,\n  \u0027開店\u0027,\n  \u0027分前\u0027,\n  \u0027そこ\u0027,\n  \u0027そこ\u0027,\n  \u0027私たち\u0027,\n  \u0027最初\u0027],\n [\u0027私たち\u0027,\n  \u0027午後\u0027,\n  \u0027時分\u0027,\n  \u0027午後\u0027,\n  \u0027時分\u0027,\n  \u0027通り\u0027,\n  \u0027時間\u0027,\n  \u0027待ち\u0027,\n  \u0027静か\u0027,\n  \u0027午後\u0027,\n  \u0027食事\u0027,\n  \u0027ラーメン\u0027,\n  \u0027必要\u0027,\n  \u0027予約\u0027,\n  \u0027用意\u0027,\n  \u0027レストラン\u0027,\n  \u0027表示\u0027],\n [\u0027よう\u0027,\n  \u0027こと\u0027,\n  \u0027高品質\u0027,\n  \u0027パリ\u0027,\n  \u0027散歩\u0027,\n  \u0027コダワリ\u0027,\n  \u0027アパート\u0027,\n  \u0027てつ\u0027,\n  \u0027ラーメン\u0027,\n  \u0027注文\u0027,\n  \u0027ポチマロンパイタン\u0027,\n  \u0027しょうゆ\u0027,\n  \u0027シナ\u0027,\n  \u0027ソバ\u0027,\n  \u0027品質\u0027,\n  \u0027私たち\u0027,\n  \u0027もの\u0027,\n  \u0027ベジタリアン\u0027,\n  \u0027スープ\u0027,\n  \u0027豊か\u0027,\n  \u0027風味\u0027,\n  \u0027ユニーク\u0027,\n  \u0027パリ\u0027,\n  \u0027注文\u0027],\n [\u0027ラーメン屋\u0027,\n  \u0027長い間\u0027,\n  \u0027家族\u0027,\n  \u0027通り\u0027,\n  \u0027反対\u0027,\n  \u0027レストラン\u0027,\n  \u0027弁当\u0027,\n  \u0027寿司\u0027,\n  \u0027以前\u0027,\n  \u0027それ\u0027,\n  \u0027理由\u0027,\n  \u0027こだわり\u0027,\n  \u0027美味しい\u0027,\n  \u0027ラーメン\u0027,\n  \u0027提供\u0027,\n  \u0027レストラン\u0027,\n  \u0027最高\u0027,\n  \u0027もの\u0027,\n  \u0027めちゃくちゃ\u0027,\n  \u0027オリジナル\u0027,\n  \u0027ラーメン\u0027,\n  \u0027自慢\u0027,\n  \u0027こと\u0027,\n  \u0027甥っ子\u0027,\n  \u0027名物\u0027,\n  \u0027黒ごま\u0027,\n  \u0027ラーメン\u0027,\n  \u0027美味しい\u0027,\n  \u0027私たち\u0027,\n  \u0027テーブル\u0027,\n  \u0027食事\u0027,\n  \u0027テーブル\u0027,\n  \u0027掛け\u0027,\n  \u0027唯一\u0027,\n  \u0027テーブル\u0027,\n  \u0027スペース\u0027,\n  \u0027共有\u0027,\n  \u0027全体\u0027,\n  \u0027必要\u0027,\n  \u0027ない\u0027,\n  \u0027場合\u0027,\n  \u0027良い\u0027,\n  \u0027場所\u0027,\n  \u0027価格\u0027,\n  \u0027ラーメン\u0027,\n  \u0027平均\u0027,\n  \u0027以上\u0027],\n [\u0027東京\u0027,\n  \u0027小田\u0027,\n  \u0027レストラン\u0027,\n  \u0027全体\u0027,\n  \u0027東京\u0027,\n  \u0027横丁\u0027,\n  \u0027モデル\u0027,\n  \u0027こと\u0027,\n  \u0027私たち\u0027,\n  \u0027両方\u0027,\n  \u0027ごま\u0027,\n  \u0027専門\u0027,\n  \u0027ラーメン\u0027,\n  \u0027シェフ\u0027,\n  \u0027バージョン\u0027,\n  \u0027それ\u0027],\n [\u0027本物\u0027,\n  \u0027体験\u0027,\n  \u0027近い\u0027,\n  \u0027おいしい\u0027,\n  \u0027料理\u0027,\n  \u0027長期滞在\u0027,\n  \u0027快適\u0027,\n  \u0027ありません\u0027,\n  \u0027雰囲気\u0027,\n  \u0027良い\u0027,\n  \u0027長蛇\u0027,\n  \u0027ため\u0027,\n  \u0027開場\u0027,\n  \u0027そこ\u0027,\n  \u0027ベスト\u0027],\n [\u0027午後\u0027,\n  \u0027オルセー美術館\u0027,\n  \u0027リュクサンブール公園\u0027,\n  \u0027途中\u0027,\n  \u0027昼食\u0027,\n  \u0027ため\u0027,\n  \u0027こと\u0027,\n  \u0027骨董品店\u0027,\n  \u0027シャッター\u0027,\n  \u0027通り\u0027,\n  \u0027私たち\u0027,\n  \u0027レストラン\u0027,\n  \u0027心配\u0027,\n  \u0027googleマップ\u0027,\n  \u0027レストラン\u0027,\n  \u0027ところ\u0027,\n  \u0027レストラン\u0027],\n [\u0027ラーメン\u0027,\n  \u0027うまい\u0027,\n  \u0027それ\u0027,\n  \u0027すべて\u0027,\n  \u0027fish\u0027,\n  \u0027彼ら\u0027,\n  \u0027魚のスープ\u0027,\n  \u0027使用\u0027,\n  \u0027素晴らしい\u0027,\n  \u0027内装\u0027,\n  \u0027雰囲気\u0027,\n  \u0027料理\u0027,\n  \u0027魚の\u0027,\n  \u0027風味\u0027,\n  \u0027全体\u0027,\n  \u0027それ\u0027,\n  \u0027素晴らしい\u0027,\n  \u0027経験\u0027,\n  \u0027最後\u0027,\n  \u0027場所\u0027,\n  \u0027大きく\u0027],\n [\u0027そこ\u0027,\n  \u0027何度\u0027,\n  \u0027さまざま\u0027,\n  \u0027種類\u0027,\n  \u0027ラーメン\u0027,\n  \u0027全部好き。\u0027,\n  \u0027場所\u0027,\n  \u0027いい\u0027,\n  \u0027スタッフ\u0027,\n  \u0027振る舞い\u0027,\n  \u0027好き\u0027,\n  \u0027あなた\u0027,\n  \u0027あなた\u0027,\n  \u0027食べ物\u0027,\n  \u0027素早く\u0027,\n  \u0027注文\u0027,\n  \u0027あなた\u0027,\n  \u0027それ\u0027,\n  \u0027最高\u0027,\n  \u0027ラーメン\u0027,\n  \u0027体験\u0027],\n [\u0027マイル\u0027,\n  \u0027ところ\u0027,\n  \u0027行列\u0027,\n  \u0027それ\u0027,\n  \u0027コダワリ\u0027,\n  \u0027ラーメン\u0027,\n  \u0027違い\u0027,\n  \u0027友人\u0027,\n  \u0027場所\u0027,\n  \u0027保証\u0027,\n  \u0027階下\u0027,\n  \u0027スペース\u0027,\n  \u0027非常\u0027,\n  \u0027コンパクト\u0027,\n  \u0027窮屈\u0027],\n [\u0027推奨\u0027, \u0027事項\u0027, \u0027ため\u0027, \u0027今夜\u0027, \u0027ここ\u0027, \u0027食べ物\u0027, \u0027多く\u0027, \u0027ラーメン店\u0027, \u0027良く\u0027, \u0027価値\u0027, \u0027それ\u0027, \u0027表示\u0027],\n [\u0027海外\u0027,\n  \u0027ラーメン\u0027,\n  \u0027経験\u0027,\n  \u0027ラーメン\u0027,\n  \u0027美味しい\u0027,\n  \u0027深み\u0027,\n  \u0027チャーシュー\u0027,\n  \u0027美味しい\u0027,\n  \u0027パリ\u0027,\n  \u0027機会\u0027,\n  \u0027ラーメン\u0027,\n  \u0027好き\u0027,\n  \u0027場合\u0027,\n  \u0027パリ\u0027,\n  \u0027こと\u0027,\n  \u0027お勧め\u0027],\n [\u0027レストラン\u0027,\n  \u0027雰囲気\u0027,\n  \u0027素晴らしく\u0027,\n  \u0027すべて\u0027,\n  \u0027従業員\u0027,\n  \u0027快適\u0027,\n  \u0027唯一\u0027,\n  \u0027問題\u0027,\n  \u0027彼ら\u0027,\n  \u0027ラーメン\u0027,\n  \u0027使用\u0027,\n  \u0027間違い\u0027,\n  \u0027スパゲッティ\u0027,\n  \u0027ラーメン\u0027,\n  \u0027ない\u0027,\n  \u0027こと\u0027,\n  \u0027スープ\u0027,\n  \u0027風味\u0027,\n  \u0027なく\u0027,\n  \u0027チョーク\u0027,\n  \u0027よう\u0027,\n  \u0027本格\u0027,\n  \u0027ラーメン\u0027,\n  \u0027好き\u0027,\n  \u0027ここ\u0027,\n  \u0027あなた\u0027,\n  \u0027ため\u0027,\n  \u0027場所\u0027],\n [\u0027暖かい\u0027,\n  \u0027パリ\u0027,\n  \u0027友人\u0027,\n  \u0027レストラン\u0027,\n  \u0027レストラン\u0027,\n  \u0027提供\u0027,\n  \u0027本物\u0027,\n  \u0027体験\u0027,\n  \u0027ユニーク\u0027,\n  \u0027これ\u0027,\n  \u0027価値\u0027,\n  \u0027時間\u0027,\n  \u0027それ\u0027,\n  \u0027価値\u0027,\n  \u0027私たち\u0027,\n  \u0027グラブ\u0027,\n  \u0027大好き\u0027],\n [\u0027雰囲気\u0027,\n  \u0027素晴らしい\u0027,\n  \u0027料理\u0027,\n  \u0027調味料\u0027,\n  \u0027必要\u0027,\n  \u0027ラーメン\u0027,\n  \u0027当たり障り\u0027,\n  \u0027ない\u0027,\n  \u0027もの\u0027,\n  \u0027いくつか\u0027,\n  \u0027奇妙\u0027,\n  \u0027ため\u0027,\n  \u0027分間\u0027,\n  \u0027待った\u0027,\n  \u0027スープ\u0027,\n  \u0027奇妙\u0027,\n  \u0027本物\u0027,\n  \u0027ラーメン\u0027,\n  \u0027こと\u0027,\n  \u0027もの\u0027,\n  \u0027場所\u0027,\n  \u0027あなた\u0027,\n  \u0027アジア\u0027,\n  \u0027誇大\u0027,\n  \u0027宣伝\u0027,\n  \u0027もの\u0027,\n  \u0027あなた\u0027,\n  \u0027ヨーロッパ人\u0027,\n  \u0027辛い\u0027,\n  \u0027もの\u0027,\n  \u0027味付け\u0027,\n  \u0027もの\u0027,\n  \u0027これ\u0027,\n  \u0027良い\u0027,\n  \u0027経験\u0027],\n [\u0027ここ\u0027,\n  \u0027昼食\u0027,\n  \u0027開店\u0027,\n  \u0027分前\u0027,\n  \u0027ショー\u0027,\n  \u0027ため\u0027,\n  \u0027バー\u0027,\n  \u0027着席\u0027,\n  \u0027とき\u0027,\n  \u0027私たち\u0027,\n  \u0027枝豆\u0027,\n  \u0027キリン\u0027,\n  \u0027ラーメン\u0027,\n  \u0027注意\u0027,\n  \u0027料理人\u0027,\n  \u0027料理人\u0027],\n [\u0027価値\u0027,\n  \u0027土曜\u0027,\n  \u0027時間\u0027,\n  \u0027待ち行列\u0027,\n  \u0027本物\u0027,\n  \u0027雰囲気\u0027,\n  \u0027本国\u0027,\n  \u0027良い\u0027,\n  \u0027ラーメンボウル\u0027,\n  \u0027トッピング\u0027,\n  \u0027いくつか\u0027,\n  \u0027フュージョン\u0027],\n [\u0027レトロ\u0027,\n  \u0027クール\u0027,\n  \u0027ラーメン\u0027,\n  \u0027ジョイント\u0027,\n  \u0027周囲\u0027,\n  \u0027線路\u0027,\n  \u0027録音\u0027,\n  \u0027ヴィンテージ\u0027,\n  \u0027ネオンサイン\u0027,\n  \u0027本格\u0027,\n  \u0027出汁\u0027,\n  \u0027うまい\u0027,\n  \u0027ラーメン\u0027,\n  \u0027こんにゃく\u0027,\n  \u0027ごま\u0027,\n  \u0027スープ\u0027,\n  \u0027ライン\u0027,\n  \u0027期待\u0027],\n [\u0027それ\u0027,\n  \u0027間違い\u0027,\n  \u0027パリ\u0027,\n  \u0027最高\u0027,\n  \u0027ラーメン屋\u0027,\n  \u0027ラーメン\u0027,\n  \u0027絶対\u0027,\n  \u0027素晴らしい\u0027,\n  \u0027場所\u0027,\n  \u0027自体\u0027,\n  \u0027素敵\u0027,\n  \u0027装飾\u0027,\n  \u0027間違い\u0027,\n  \u0027価値\u0027,\n  \u0027スタッフ\u0027,\n  \u0027親切\u0027],\n [\u0027コダワリ\u0027,\n  \u0027横丁\u0027,\n  \u0027これら\u0027,\n  \u0027ラメン\u0027,\n  \u0027間違い\u0027,\n  \u0027東京\u0027,\n  \u0027ストリート\u0027,\n  \u0027フード\u0027,\n  \u0027連想\u0027,\n  \u0027定型\u0027,\n  \u0027雰囲気\u0027,\n  \u0027コンセプト\u0027,\n  \u0027素晴らしい\u0027,\n  \u0027よう\u0027,\n  \u0027センセーション\u0027,\n  \u0027デザート\u0027,\n  \u0027締めくくり\u0027,\n  \u0027どら焼き\u0027,\n  \u0027特筆\u0027,\n  \u0027彼ら\u0027],\n [\u0027ごま\u0027,\n  \u0027ラーメン\u0027,\n  \u0027辛い\u0027,\n  \u0027ラーメン\u0027,\n  \u0027注文\u0027,\n  \u0027どちら\u0027,\n  \u0027よう\u0027,\n  \u0027美味し\u0027,\n  \u0027座席\u0027,\n  \u0027小さく\u0027,\n  \u0027装飾\u0027,\n  \u0027素晴らしい\u0027],\n [\u0027価値\u0027, \u0027完璧\u0027, \u0027在庫\u0027, \u0027典型\u0027, \u0027もの\u0027, \u0027サービス\u0027, \u0027超高速\u0027, \u0027価格\u0027, \u0027非常\u0027, \u0027合理\u0027]]"
          },
          "execution_count": 9
        }
      ]
    },
    {
      "execution_count": 0,
      "cell_type": "code",
      "metadata": {},
      "source": [
        "# max_vocab \u003d 30000 #40000にしても結果は同じだった\n# vocab \u003d list(word2vec_ramen_model.wv.vocab.keys())[:max_vocab]\nvectors \u003d [word2vec_ramen_model.wv[word] for word in wakati_ramen_text]\n\nvocab_df \u003d pd.DataFrame(vectors)\nvocab_df[\u0027words\u0027] \u003d vocab"
      ],
      "outputs": []
    },
    {
      "execution_count": 0,
      "cell_type": "code",
      "metadata": {},
      "source": [
        "# Compute recipe outputs from inputs\n# TODO: Replace this part by your actual code that computes the output, as a Pandas dataframe\n# NB: DSS also supports other kinds of APIs for reading and writing data. Please see doc.\n\ntrip_advisor_vectorized_df \u003d clean_trip_advisor_df # For this sample code, simply copy input to output\n\n\n# Write recipe outputs\ntrip_advisor_vectorized \u003d dataiku.Dataset(\"trip_advisor_vectorized\")\ntrip_advisor_vectorized.write_with_schema(trip_advisor_vectorized_df)"
      ],
      "outputs": []
    }
  ]
}