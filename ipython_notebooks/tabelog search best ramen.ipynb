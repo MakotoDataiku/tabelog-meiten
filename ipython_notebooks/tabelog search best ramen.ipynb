{
  "metadata": {
    "kernelspec": {
      "display_name": "Python (env japan-nlp)",
      "name": "py-dku-venv-japan-nlp",
      "language": "python"
    },
    "language_info": {
      "mimetype": "text/x-python",
      "nbconvert_exporter": "python",
      "version": "3.6.8",
      "name": "python",
      "pygments_lexer": "ipython3",
      "file_extension": ".py",
      "codemirror_mode": {
        "version": 3,
        "name": "ipython"
      }
    },
    "creator": "admin",
    "createdOn": 1622821296658,
    "hide_input": false,
    "customFields": {},
    "tags": [],
    "modifiedBy": "admin"
  },
  "nbformat": 4,
  "nbformat_minor": 1,
  "cells": [
    {
      "execution_count": 57,
      "cell_type": "code",
      "metadata": {},
      "source": [
        "import dataiku\nfrom dataiku import pandasutils as pdu\nimport pandas as pd\nfrom selenium import webdriver\nfrom selenium.webdriver.common.by import By"
      ],
      "outputs": []
    },
    {
      "execution_count": 44,
      "cell_type": "code",
      "metadata": {},
      "source": [
        "PATH \u003d \"/Users/mmiyazaki/chromedriver\"\ndriver \u003d webdriver.Chrome(PATH)\ndriver.implicitly_wait(10) # this lets webdriver wait 10 seconds for the website to load\ndriver.get(\"https://tabelog.com/\")"
      ],
      "outputs": []
    },
    {
      "execution_count": 45,
      "cell_type": "code",
      "metadata": {},
      "source": [
        "inputRestaurant \u003d driver.find_element_by_id(\"sk\")\ninputRestaurant.send_keys(\u0027らぁ麺 鳳仙花\u0027)"
      ],
      "outputs": []
    },
    {
      "execution_count": 46,
      "cell_type": "code",
      "metadata": {},
      "source": [
        "inputArea \u003d driver.find_element_by_id(\"sa\")\ninputArea.send_keys(\u0027東京\u0027)"
      ],
      "outputs": []
    },
    {
      "execution_count": 47,
      "cell_type": "code",
      "metadata": {},
      "source": [
        "driver.find_element_by_id(\u0027js-global-search-btn\u0027).click()"
      ],
      "outputs": []
    },
    {
      "execution_count": 48,
      "cell_type": "code",
      "metadata": {},
      "source": [
        "driver.find_element_by_class_name(\u0027list-rst__rst-name\u0027)"
      ],
      "outputs": [
        {
          "output_type": "execute_result",
          "metadata": {},
          "data": {
            "text/plain": "\u003cselenium.webdriver.remote.webelement.WebElement (session\u003d\"935d55831c226ac24241085ead67a886\", element\u003d\"5766f966-33a7-4b64-800b-30e644f1cc29\")\u003e"
          },
          "execution_count": 48
        }
      ]
    },
    {
      "execution_count": 61,
      "cell_type": "code",
      "metadata": {},
      "source": [
        "list_res \u003d driver.find_elements(By.CLASS_NAME, \u0027list-rst__rst-name-target\u0027)"
      ],
      "outputs": []
    },
    {
      "execution_count": 69,
      "cell_type": "code",
      "metadata": {},
      "source": [
        "link_ramen \u003d list_res[0].get_attribute(\"href\")"
      ],
      "outputs": [
        {
          "output_type": "execute_result",
          "metadata": {},
          "data": {
            "text/plain": "\u0027https://tabelog.com/tokyo/A1304/A130401/13224521/\u0027"
          },
          "execution_count": 69
        }
      ]
    },
    {
      "execution_count": 0,
      "cell_type": "code",
      "metadata": {},
      "source": [
        "# Example: load a DSS dataset as a Pandas dataframe\nmydataset \u003d dataiku.Dataset(\"mydataset\")\ndf \u003d mydataset.get_dataframe()"
      ],
      "outputs": []
    },
    {
      "execution_count": 0,
      "cell_type": "code",
      "metadata": {},
      "source": [
        ""
      ],
      "outputs": []
    }
  ]
}