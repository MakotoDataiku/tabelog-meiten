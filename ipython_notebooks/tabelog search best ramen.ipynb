{
  "metadata": {
    "kernelspec": {
      "display_name": "Python (env japan-nlp)",
      "name": "py-dku-venv-japan-nlp",
      "language": "python"
    },
    "language_info": {
      "mimetype": "text/x-python",
      "nbconvert_exporter": "python",
      "version": "3.6.8",
      "name": "python",
      "pygments_lexer": "ipython3",
      "file_extension": ".py",
      "codemirror_mode": {
        "version": 3,
        "name": "ipython"
      }
    },
    "creator": "admin",
    "createdOn": 1622821296658,
    "hide_input": false,
    "customFields": {},
    "tags": [],
    "modifiedBy": "admin"
  },
  "nbformat": 4,
  "nbformat_minor": 1,
  "cells": [
    {
      "execution_count": 57,
      "cell_type": "code",
      "metadata": {},
      "source": [
        "import dataiku\nfrom dataiku import pandasutils as pdu\nimport pandas as pd\nfrom selenium import webdriver\nfrom selenium.webdriver.common.by import By"
      ],
      "outputs": []
    },
    {
      "execution_count": 44,
      "cell_type": "code",
      "metadata": {},
      "source": [
        "PATH \u003d \"/Users/mmiyazaki/chromedriver\"\ndriver \u003d webdriver.Chrome(PATH)\ndriver.implicitly_wait(10) # this lets webdriver wait 10 seconds for the website to load\ndriver.get(\"https://tabelog.com/\")"
      ],
      "outputs": []
    },
    {
      "execution_count": 45,
      "cell_type": "code",
      "metadata": {},
      "source": [
        "inputRestaurant \u003d driver.find_element_by_id(\"sk\")\ninputRestaurant.send_keys(\u0027らぁ麺 鳳仙花\u0027)"
      ],
      "outputs": []
    },
    {
      "execution_count": 46,
      "cell_type": "code",
      "metadata": {},
      "source": [
        "inputArea \u003d driver.find_element_by_id(\"sa\")\ninputArea.send_keys(\u0027東京\u0027)"
      ],
      "outputs": []
    },
    {
      "execution_count": 47,
      "cell_type": "code",
      "metadata": {},
      "source": [
        "driver.find_element_by_id(\u0027js-global-search-btn\u0027).click()"
      ],
      "outputs": []
    },
    {
      "execution_count": 48,
      "cell_type": "code",
      "metadata": {},
      "source": [
        "driver.find_element_by_class_name(\u0027list-rst__rst-name\u0027)"
      ],
      "outputs": [
        {
          "output_type": "execute_result",
          "metadata": {},
          "data": {
            "text/plain": "\u003cselenium.webdriver.remote.webelement.WebElement (session\u003d\"935d55831c226ac24241085ead67a886\", element\u003d\"5766f966-33a7-4b64-800b-30e644f1cc29\")\u003e"
          },
          "execution_count": 48
        }
      ]
    },
    {
      "execution_count": 56,
      "cell_type": "code",
      "metadata": {},
      "source": [
        "a_tags \u003d driver.find_elements_by_css_selector(\u0027li a\u0027)"
      ],
      "outputs": [
        {
          "output_type": "error",
          "evalue": "\u0027list\u0027 object has no attribute \u0027find_element_by_class_name\u0027",
          "traceback": [
            "\u001b[0;31m---------------------------------------------------------------------------\u001b[0m",
            "\u001b[0;31mAttributeError\u001b[0m                            Traceback (most recent call last)",
            "\u001b[0;32m\u003cipython-input-56-bf502ba6064d\u003e\u001b[0m in \u001b[0;36m\u003cmodule\u003e\u001b[0;34m\u001b[0m\n\u001b[0;32m----\u003e 1\u001b[0;31m \u001b[0ma_tags\u001b[0m \u001b[0;34m\u003d\u001b[0m \u001b[0mdriver\u001b[0m\u001b[0;34m.\u001b[0m\u001b[0mfind_elements_by_css_selector\u001b[0m\u001b[0;34m(\u001b[0m\u001b[0;34m\u0027li a\u0027\u001b[0m\u001b[0;34m)\u001b[0m\u001b[0;34m.\u001b[0m\u001b[0mfind_element_by_class_name\u001b[0m\u001b[0;34m(\u001b[0m\u001b[0;34m\u0027list-rst__rst-name\u0027\u001b[0m\u001b[0;34m)\u001b[0m\u001b[0;34m\u001b[0m\u001b[0;34m\u001b[0m\u001b[0m\n\u001b[0m",
            "\u001b[0;31mAttributeError\u001b[0m: \u0027list\u0027 object has no attribute \u0027find_element_by_class_name\u0027"
          ],
          "ename": "AttributeError"
        }
      ]
    },
    {
      "execution_count": 59,
      "cell_type": "code",
      "metadata": {},
      "source": [
        "driver.find_elements(By.CLASS_NAME, \u0027list-rst__rst-name-target cpy-rst-name\u0027)"
      ],
      "outputs": [
        {
          "output_type": "execute_result",
          "metadata": {},
          "data": {
            "text/plain": "[]"
          },
          "execution_count": 59
        }
      ]
    },
    {
      "execution_count": 55,
      "cell_type": "code",
      "metadata": {},
      "source": [
        "for a in a_tags:\n    h \u003d a.get_attribute(\u0027href\u0027)\n    print(h)"
      ],
      "outputs": [
        {
          "output_type": "stream",
          "name": "stdout",
          "text": "https://ssl.tabelog.com/account/carrier_payment_session/\nhttps://ssl.tabelog.com/account/temp_login_form/\nhttps://tabelog.com/help/beginner/\nhttps://ssl.tabelog.com/account/login/\nhttps://ssl.tabelog.com/yoyaku/tabelog_booking/send_remind/\nhttps://ssl.tabelog.com/account/login/\nhttps://ssl.tabelog.com/account/login/\nhttps://tabelog.com/account/login/\nhttps://tabelog.com/\nhttps://tabelog.com/tokyo/rstLst/?vs\u003d1\u0026sa\u003d%E6%9D%B1%E4%BA%AC\u0026sk\u003d%25E3%2582%2589%25E3%2581%2581%25E9%25BA%25BA%2520%25E9%25B3%25B3%25E4%25BB%2599%25E8%258A%25B1\u0026lid\u003dtop_navi1\u0026vac_net\u003d\u0026svd\u003d20210605\u0026svt\u003d1900\u0026svps\u003d2\u0026hfc\u003d1\u0026sw\u003d%25E3%2582%2589%25E3%2581%2581%25E9%25BA%25BA%2520%25E9%25B3%25B3%25E4%25BB%2599%25E8%258A%25B1#tabs-panel-balloon-pref-area\nhttps://tabelog.com/tokyo/rstLst/?vs\u003d1\u0026sa\u003d%E6%9D%B1%E4%BA%AC\u0026sk\u003d%25E3%2582%2589%25E3%2581%2581%25E9%25BA%25BA%2520%25E9%25B3%25B3%25E4%25BB%2599%25E8%258A%25B1\u0026lid\u003dtop_navi1\u0026vac_net\u003d\u0026svd\u003d20210605\u0026svt\u003d1900\u0026svps\u003d2\u0026hfc\u003d1\u0026sw\u003d%25E3%2582%2589%25E3%2581%2581%25E9%25BA%25BA%2520%25E9%25B3%25B3%25E4%25BB%2599%25E8%258A%25B1#tabs-panel-balloon-pref-city\nhttps://tabelog.com/rstLst/?sw\u003d%E3%82%89%E3%81%81%E9%BA%BA%20%E9%B3%B3%E4%BB%99%E8%8A%B1\u0026sk\u003d%E3%82%89%E3%81%81%E9%BA%BA%20%E9%B3%B3%E4%BB%99%E8%8A%B1\u0026svd\u003d20210605\u0026svt\u003d1900\u0026svps\u003d2\nhttps://tabelog.com/tokyo/A1304/rstLst/?sw\u003d%E3%82%89%E3%81%81%E9%BA%BA%20%E9%B3%B3%E4%BB%99%E8%8A%B1\u0026sk\u003d%E3%82%89%E3%81%81%E9%BA%BA%20%E9%B3%B3%E4%BB%99%E8%8A%B1\u0026svd\u003d20210605\u0026svt\u003d1900\u0026svps\u003d2\nhttps://tabelog.com/tokyo/C13104/rstLst/?sw\u003d%E3%82%89%E3%81%81%E9%BA%BA%20%E9%B3%B3%E4%BB%99%E8%8A%B1\u0026sk\u003d%E3%82%89%E3%81%81%E9%BA%BA%20%E9%B3%B3%E4%BB%99%E8%8A%B1\u0026svd\u003d20210605\u0026svt\u003d1900\u0026svps\u003d2\nhttps://tabelog.com/tokyo/rstLst/ramen/?sw\u003d%E3%82%89%E3%81%81%E9%BA%BA%20%E9%B3%B3%E4%BB%99%E8%8A%B1\u0026sk\u003d%E3%82%89%E3%81%81%E9%BA%BA%20%E9%B3%B3%E4%BB%99%E8%8A%B1\u0026svd\u003d20210605\u0026svt\u003d1900\u0026svps\u003d2\nhttps://tabelog.com/tokyo/rstLst/ramen/?sw\u003d%E3%82%89%E3%81%81%E9%BA%BA%20%E9%B3%B3%E4%BB%99%E8%8A%B1\u0026sk\u003d%E3%82%89%E3%81%81%E9%BA%BA%20%E9%B3%B3%E4%BB%99%E8%8A%B1\u0026svd\u003d20210605\u0026svt\u003d1900\u0026svps\u003d2\nhttps://tabelog.com/tokyo/rstLst/MC11/?sw\u003d%E3%82%89%E3%81%81%E9%BA%BA%20%E9%B3%B3%E4%BB%99%E8%8A%B1\u0026sk\u003d%E3%82%89%E3%81%81%E9%BA%BA%20%E9%B3%B3%E4%BB%99%E8%8A%B1\u0026svd\u003d20210605\u0026svt\u003d1900\u0026svps\u003d2\nhttps://tabelog.com/tokyo/rstLst/lunch/?SrtT\u003drtl\u0026sw\u003d%E3%82%89%E3%81%81%E9%BA%BA%20%E9%B3%B3%E4%BB%99%E8%8A%B1\u0026sk\u003d%E3%82%89%E3%81%81%E9%BA%BA%20%E9%B3%B3%E4%BB%99%E8%8A%B1\u0026RdoCosTp\u003d1\u0026LstCos\u003d1\u0026LstCosT\u003d2\nhttps://tabelog.com/tokyo/A1304/A130401/\nhttps://tabelog.com/tokyo/A1303/A130301/\nhttps://tabelog.com/tokyo/A1305/A130501/\nhttps://tabelog.com/tokyo/A1304/A130401/rstLst/lunch/?RdoCosTp\u003d1\u0026SrtT\u003drtl\nhttps://tabelog.com/tokyo/A1303/A130301/rstLst/lunch/?RdoCosTp\u003d1\u0026SrtT\u003drtl\nhttps://tabelog.com/tokyo/A1305/A130501/rstLst/lunch/?RdoCosTp\u003d1\u0026SrtT\u003drtl\nhttps://tabelog.com/tokyo/A1301/A130101/rstLst/lunch/?RdoCosTp\u003d1\u0026SrtT\u003drtl\nhttps://tabelog.com/tokyo/A1306/A130602/rstLst/lunch/?RdoCosTp\u003d1\u0026SrtT\u003drtl\nhttps://tabelog.com/tokyo/A1311/A131102/rstLst/lunch/?RdoCosTp\u003d1\u0026SrtT\u003drtl\nhttps://tabelog.com/tokyo/A1320/A132001/rstLst/lunch/?RdoCosTp\u003d1\u0026SrtT\u003drtl\nhttps://tabelog.com/tokyo/A1304/A130401/rstLst/ramen/\nhttps://tabelog.com/tokyo/A1311/A131101/R1157/rstLst/lunch/?RdoCosTp\u003d1\u0026SrtT\u003drtl\nhttps://tabelog.com/tokyo/A1304/A130401/rstLst/izakaya/\nhttps://tabelog.com/tokyo/A1305/A130501/rstLst/ramen/\nhttps://tabelog.com/tokyo/A1304/A130401/rstLst/cafe/\nhttps://tabelog.com/tokyo/A1303/A130301/rstLst/ramen/\nhttps://tabelog.com/tokyo/A1303/A130301/rstLst/izakaya/\nhttps://tabelog.com/tokyo/A1303/A130301/rstLst/cafe/\nhttps://tabelog.com/tokyo/A1307/A130701/R10651/rstLst/lunch/?RdoCosTp\u003d1\u0026SrtT\u003drtl\nhttps://tabelog.com/tokyo/A1303/A130302/rstLst/lunch/?RdoCosTp\u003d1\u0026SrtT\u003drtl\nhttps://tabelog.com/rst/rstsearch?area_datatype\u003dRailroadStation\u0026area_id\u003d6586\u0026sa\u003d%E6%9D%B1%E4%BA%AC%E9%A7%85\u0026sk\u003d%E3%82%89%E3%81%81%E9%BA%BA+%E9%B3%B3%E4%BB%99%E8%8A%B1\nhttps://tabelog.com/rst/rstsearch?area_datatype\u003dRailroadStation\u0026area_id\u003d6597\u0026sa\u003d%E6%9D%B1%E4%BA%AC%E3%83%86%E3%83%AC%E3%83%9D%E3%83%BC%E3%83%88%E9%A7%85\u0026sk\u003d%E3%82%89%E3%81%81%E9%BA%BA+%E9%B3%B3%E4%BB%99%E8%8A%B1\nhttps://tabelog.com/rst/rstsearch?area_datatype\u003dRailroadStation\u0026area_id\u003d3940\u0026sa\u003d%E6%9D%B1%E4%BA%AC%E3%83%93%E3%83%83%E3%82%B0%E3%82%B5%E3%82%A4%E3%83%88%E9%A7%85\u0026sk\u003d%E3%82%89%E3%81%81%E9%BA%BA+%E9%B3%B3%E4%BB%99%E8%8A%B1\nhttps://tabelog.com/rst/rstsearch?area_datatype\u003dRailroadStation\u0026area_id\u003d8902\u0026sa\u003d%E6%9D%B1%E4%BA%AC%E5%9B%BD%E9%9A%9B%E3%82%AF%E3%83%AB%E3%83%BC%E3%82%BA%E3%82%BF%E3%83%BC%E3%83%9F%E3%83%8A%E3%83%AB%E9%A7%85\u0026sk\u003d%E3%82%89%E3%81%81%E9%BA%BA+%E9%B3%B3%E4%BB%99%E8%8A%B1\nhttps://tabelog.com/rst/rstsearch?area_datatype\u003dRailroadStation\u0026area_id\u003d6595\u0026sa\u003d%E6%9D%B1%E4%BA%AC%E3%83%87%E3%82%A3%E3%82%BA%E3%83%8B%E3%83%BC%E3%82%B7%E3%83%BC%E3%83%BB%E3%82%B9%E3%83%86%E3%83%BC%E3%82%B7%E3%83%A7%E3%83%B3%E9%A7%85\u0026sk\u003d%E3%82%89%E3%81%81%E9%BA%BA+%E9%B3%B3%E4%BB%99%E8%8A%B1\nhttps://tabelog.com/rstLst/?sw\u003d%E3%82%89%E3%81%81%E9%BA%BA%20%E9%B3%B3%E4%BB%99%E8%8A%B1\u0026sk\u003d%E3%82%89%E3%81%81%E9%BA%BA%20%E9%B3%B3%E4%BB%99%E8%8A%B1\u0026svd\u003d20210605\u0026svt\u003d1900\u0026svps\u003d2\nhttps://tabelog.com/tokyo/rstLst/?sk\u003d%E3%82%89%E3%81%81%E9%BA%BA%20%E9%B3%B3%E4%BB%99%E8%8A%B1\u0026svd\u003d20210605\u0026svt\u003d1900\u0026svps\u003d2\nhttps://tabelog.com/tokyo/rstLst/?sw\u003d%E3%82%89%E3%81%81%E9%BA%BA%20%E9%B3%B3%E4%BB%99%E8%8A%B1\u0026sk\u003d%E3%82%89%E3%81%81%E9%BA%BA%20%E9%B3%B3%E4%BB%99%E8%8A%B1\u0026svd\u003d20210605\u0026svt\u003d1900\u0026svps\u003d2\u0026select_sort_flg\u003d1\nhttps://tabelog.com/tokyo/rstLst/?SrtT\u003drt\u0026sw\u003d%E3%82%89%E3%81%81%E9%BA%BA%20%E9%B3%B3%E4%BB%99%E8%8A%B1\u0026sk\u003d%E3%82%89%E3%81%81%E9%BA%BA%20%E9%B3%B3%E4%BB%99%E8%8A%B1\u0026svd\u003d20210605\u0026svt\u003d1900\u0026svps\u003d2\u0026Srt\u003dD\u0026sort_mode\u003d1\nhttps://tabelog.com/tokyo/rstLst/?SrtT\u003drvcn\u0026sw\u003d%E3%82%89%E3%81%81%E9%BA%BA%20%E9%B3%B3%E4%BB%99%E8%8A%B1\u0026sk\u003d%E3%82%89%E3%81%81%E9%BA%BA%20%E9%B3%B3%E4%BB%99%E8%8A%B1\u0026svd\u003d20210605\u0026svt\u003d1900\u0026svps\u003d2\u0026Srt\u003dD\nhttps://tabelog.com/tokyo/rstLst/?SrtT\u003dnod\u0026sw\u003d%E3%82%89%E3%81%81%E9%BA%BA%20%E9%B3%B3%E4%BB%99%E8%8A%B1\u0026sk\u003d%E3%82%89%E3%81%81%E9%BA%BA%20%E9%B3%B3%E4%BB%99%E8%8A%B1\u0026svd\u003d20210605\u0026svt\u003d1900\u0026svps\u003d2\u0026Srt\u003dD\nhttps://tabelog.com/tokyo/A1304/A130401/13224521/\nhttps://tabelog.com/tokyo/A1304/A130401/13224521/\nhttps://tabelog.com/tokyo/A1304/A130401/13224521/\nhttps://tabelog.com/tokyo/A1304/A130401/13224521/\nhttps://tabelog.com/tokyo/A1304/A130401/13224521/\nhttps://tabelog.com/tokyo/A1304/A130401/13224521/\nhttps://tabelog.com/tokyo/A1304/A130401/13141542/\nhttps://tabelog.com/tokyo/A1304/A130401/13141542/\nhttps://tabelog.com/tokyo/A1304/A130401/13141542/\nhttps://tabelog.com/tokyo/A1319/A131902/13179671/\nhttps://tabelog.com/tokyo/A1319/A131902/13179671/\nhttps://tabelog.com/tokyo/A1319/A131902/13179671/\nhttps://tabelog.com/tokyo/A1309/A130903/13181527/\nhttps://tabelog.com/tokyo/A1309/A130903/13181527/\nhttps://tabelog.com/tokyo/A1309/A130903/13181527/\nhttps://tabelog.com/tokyo/rstLst/?vs\u003d1\u0026sa\u003d%E6%9D%B1%E4%BA%AC\u0026sk\u003d%25E3%2582%2589%25E3%2581%2581%25E9%25BA%25BA%2520%25E9%25B3%25B3%25E4%25BB%2599%25E8%258A%25B1\u0026lid\u003dtop_navi1\u0026vac_net\u003d\u0026svd\u003d20210605\u0026svt\u003d1900\u0026svps\u003d2\u0026hfc\u003d1\u0026sw\u003d%25E3%2582%2589%25E3%2581%2581%25E9%25BA%25BA%2520%25E9%25B3%25B3%25E4%25BB%2599%25E8%258A%25B1#\nhttps://tabelog.com/tokyo/rstLst/?vs\u003d1\u0026sa\u003d%E6%9D%B1%E4%BA%AC\u0026sk\u003d%25E3%2582%2589%25E3%2581%2581%25E9%25BA%25BA%2520%25E9%25B3%25B3%25E4%25BB%2599%25E8%258A%25B1\u0026lid\u003dtop_navi1\u0026vac_net\u003d\u0026svd\u003d20210605\u0026svt\u003d1900\u0026svps\u003d2\u0026hfc\u003d1\u0026sw\u003d%25E3%2582%2589%25E3%2581%2581%25E9%25BA%25BA%2520%25E9%25B3%25B3%25E4%25BB%2599%25E8%258A%25B1#\nhttps://tabelog.com/tokyo/rstLst/?vs\u003d1\u0026sa\u003d%E6%9D%B1%E4%BA%AC\u0026sk\u003d%25E3%2582%2589%25E3%2581%2581%25E9%25BA%25BA%2520%25E9%25B3%25B3%25E4%25BB%2599%25E8%258A%25B1\u0026lid\u003dtop_navi1\u0026vac_net\u003d\u0026svd\u003d20210605\u0026svt\u003d1900\u0026svps\u003d2\u0026hfc\u003d1\u0026sw\u003d%25E3%2582%2589%25E3%2581%2581%25E9%25BA%25BA%2520%25E9%25B3%25B3%25E4%25BB%2599%25E8%258A%25B1#\nhttps://tabelog.com/tokyo/rstLst/?vs\u003d1\u0026sa\u003d%E6%9D%B1%E4%BA%AC\u0026sk\u003d%25E3%2582%2589%25E3%2581%2581%25E9%25BA%25BA%2520%25E9%25B3%25B3%25E4%25BB%2599%25E8%258A%25B1\u0026lid\u003dtop_navi1\u0026vac_net\u003d\u0026svd\u003d20210605\u0026svt\u003d1900\u0026svps\u003d2\u0026hfc\u003d1\u0026sw\u003d%25E3%2582%2589%25E3%2581%2581%25E9%25BA%25BA%2520%25E9%25B3%25B3%25E4%25BB%2599%25E8%258A%25B1#\nhttps://tabelog.com/tokyo/rstLst/?vs\u003d1\u0026sa\u003d%E6%9D%B1%E4%BA%AC\u0026sk\u003d%25E3%2582%2589%25E3%2581%2581%25E9%25BA%25BA%2520%25E9%25B3%25B3%25E4%25BB%2599%25E8%258A%25B1\u0026lid\u003dtop_navi1\u0026vac_net\u003d\u0026svd\u003d20210605\u0026svt\u003d1900\u0026svps\u003d2\u0026hfc\u003d1\u0026sw\u003d%25E3%2582%2589%25E3%2581%2581%25E9%25BA%25BA%2520%25E9%25B3%25B3%25E4%25BB%2599%25E8%258A%25B1#\n"
        },
        {
          "output_type": "stream",
          "name": "stdout",
          "text": "https://tabelog.com/tokyo/rstLst/?vs\u003d1\u0026sa\u003d%E6%9D%B1%E4%BA%AC\u0026sk\u003d%25E3%2582%2589%25E3%2581%2581%25E9%25BA%25BA%2520%25E9%25B3%25B3%25E4%25BB%2599%25E8%258A%25B1\u0026lid\u003dtop_navi1\u0026vac_net\u003d\u0026svd\u003d20210605\u0026svt\u003d1900\u0026svps\u003d2\u0026hfc\u003d1\u0026sw\u003d%25E3%2582%2589%25E3%2581%2581%25E9%25BA%25BA%2520%25E9%25B3%25B3%25E4%25BB%2599%25E8%258A%25B1#\nhttps://tabelog.com/tokyo/rstLst/?vs\u003d1\u0026sa\u003d%E6%9D%B1%E4%BA%AC\u0026sk\u003d%25E3%2582%2589%25E3%2581%2581%25E9%25BA%25BA%2520%25E9%25B3%25B3%25E4%25BB%2599%25E8%258A%25B1\u0026lid\u003dtop_navi1\u0026vac_net\u003d\u0026svd\u003d20210605\u0026svt\u003d1900\u0026svps\u003d2\u0026hfc\u003d1\u0026sw\u003d%25E3%2582%2589%25E3%2581%2581%25E9%25BA%25BA%2520%25E9%25B3%25B3%25E4%25BB%2599%25E8%258A%25B1#\nhttps://tabelog.com/tokyo/rstLst/?vs\u003d1\u0026sa\u003d%E6%9D%B1%E4%BA%AC\u0026sk\u003d%25E3%2582%2589%25E3%2581%2581%25E9%25BA%25BA%2520%25E9%25B3%25B3%25E4%25BB%2599%25E8%258A%25B1\u0026lid\u003dtop_navi1\u0026vac_net\u003d\u0026svd\u003d20210605\u0026svt\u003d1900\u0026svps\u003d2\u0026hfc\u003d1\u0026sw\u003d%25E3%2582%2589%25E3%2581%2581%25E9%25BA%25BA%2520%25E9%25B3%25B3%25E4%25BB%2599%25E8%258A%25B1#\nhttps://tabelog.com/tokyo/rstLst/?vs\u003d1\u0026sa\u003d%E6%9D%B1%E4%BA%AC\u0026sk\u003d%25E3%2582%2589%25E3%2581%2581%25E9%25BA%25BA%2520%25E9%25B3%25B3%25E4%25BB%2599%25E8%258A%25B1\u0026lid\u003dtop_navi1\u0026vac_net\u003d\u0026svd\u003d20210605\u0026svt\u003d1900\u0026svps\u003d2\u0026hfc\u003d1\u0026sw\u003d%25E3%2582%2589%25E3%2581%2581%25E9%25BA%25BA%2520%25E9%25B3%25B3%25E4%25BB%2599%25E8%258A%25B1#\nhttps://tabelog.com/tokyo/rstLst/?vs\u003d1\u0026sa\u003d%E6%9D%B1%E4%BA%AC\u0026sk\u003d%25E3%2582%2589%25E3%2581%2581%25E9%25BA%25BA%2520%25E9%25B3%25B3%25E4%25BB%2599%25E8%258A%25B1\u0026lid\u003dtop_navi1\u0026vac_net\u003d\u0026svd\u003d20210605\u0026svt\u003d1900\u0026svps\u003d2\u0026hfc\u003d1\u0026sw\u003d%25E3%2582%2589%25E3%2581%2581%25E9%25BA%25BA%2520%25E9%25B3%25B3%25E4%25BB%2599%25E8%258A%25B1#\nhttps://tabelog.com/tokyo/rstLst/?vs\u003d1\u0026sa\u003d%E6%9D%B1%E4%BA%AC\u0026sk\u003d%25E3%2582%2589%25E3%2581%2581%25E9%25BA%25BA%2520%25E9%25B3%25B3%25E4%25BB%2599%25E8%258A%25B1\u0026lid\u003dtop_navi1\u0026vac_net\u003d\u0026svd\u003d20210605\u0026svt\u003d1900\u0026svps\u003d2\u0026hfc\u003d1\u0026sw\u003d%25E3%2582%2589%25E3%2581%2581%25E9%25BA%25BA%2520%25E9%25B3%25B3%25E4%25BB%2599%25E8%258A%25B1#\nhttps://tabelog.com/tokyo/rstLst/?vs\u003d1\u0026sa\u003d%E6%9D%B1%E4%BA%AC\u0026sk\u003d%25E3%2582%2589%25E3%2581%2581%25E9%25BA%25BA%2520%25E9%25B3%25B3%25E4%25BB%2599%25E8%258A%25B1\u0026lid\u003dtop_navi1\u0026vac_net\u003d\u0026svd\u003d20210605\u0026svt\u003d1900\u0026svps\u003d2\u0026hfc\u003d1\u0026sw\u003d%25E3%2582%2589%25E3%2581%2581%25E9%25BA%25BA%2520%25E9%25B3%25B3%25E4%25BB%2599%25E8%258A%25B1#\nhttps://tabelog.com/tokyo/rstLst/?vs\u003d1\u0026sa\u003d%E6%9D%B1%E4%BA%AC\u0026sk\u003d%25E3%2582%2589%25E3%2581%2581%25E9%25BA%25BA%2520%25E9%25B3%25B3%25E4%25BB%2599%25E8%258A%25B1\u0026lid\u003dtop_navi1\u0026vac_net\u003d\u0026svd\u003d20210605\u0026svt\u003d1900\u0026svps\u003d2\u0026hfc\u003d1\u0026sw\u003d%25E3%2582%2589%25E3%2581%2581%25E9%25BA%25BA%2520%25E9%25B3%25B3%25E4%25BB%2599%25E8%258A%25B1#\nhttps://tabelog.com/tokyo/rstLst/?vs\u003d1\u0026sa\u003d%E6%9D%B1%E4%BA%AC\u0026sk\u003d%25E3%2582%2589%25E3%2581%2581%25E9%25BA%25BA%2520%25E9%25B3%25B3%25E4%25BB%2599%25E8%258A%25B1\u0026lid\u003dtop_navi1\u0026vac_net\u003d\u0026svd\u003d20210605\u0026svt\u003d1900\u0026svps\u003d2\u0026hfc\u003d1\u0026sw\u003d%25E3%2582%2589%25E3%2581%2581%25E9%25BA%25BA%2520%25E9%25B3%25B3%25E4%25BB%2599%25E8%258A%25B1#\nhttps://tabelog.com/tokyo/A1310/A131003/13054078/\nhttps://tabelog.com/tokyo/A1310/A131003/13054078/\nhttps://tabelog.com/tokyo/A1310/A131003/13054078/\nhttps://tabelog.com/tokyo/A1314/A131402/13257153/\nhttps://tabelog.com/tokyo/A1314/A131402/13257153/\nhttps://tabelog.com/tokyo/A1314/A131402/13257153/\nhttps://tabelog.com/tokyo/A1321/A132104/13055183/\nhttps://tabelog.com/tokyo/A1321/A132104/13055183/\nhttps://tabelog.com/tokyo/A1321/A132104/13055183/\nhttps://tabelog.com/tokyo/A1317/A131702/13236243/\nhttps://tabelog.com/tokyo/A1317/A131702/13236243/\nhttps://tabelog.com/tokyo/A1317/A131702/13236243/\nhttps://tabelog.com/tokyo/A1304/A130401/13236258/\nhttps://tabelog.com/tokyo/A1304/A130401/13236258/\nhttps://tabelog.com/tokyo/A1304/A130401/13236258/\nhttps://tabelog.com/tokyo/A1325/A132503/13254276/\nhttps://tabelog.com/tokyo/A1325/A132503/13254276/\nhttps://tabelog.com/tokyo/A1325/A132503/13254276/\nhttps://tabelog.com/tokyo/A1304/A130401/13226749/\nhttps://tabelog.com/tokyo/A1304/A130401/13226749/\nhttps://tabelog.com/tokyo/A1304/A130401/13226749/\nhttps://tabelog.com/tokyo/A1304/A130401/13225067/\nhttps://tabelog.com/tokyo/A1304/A130401/13225067/\nhttps://tabelog.com/tokyo/A1304/A130401/13225067/\nhttps://tabelog.com/tokyo/A1305/A130501/13226563/\nhttps://tabelog.com/tokyo/A1305/A130501/13226563/\nhttps://tabelog.com/tokyo/A1305/A130501/13226563/\nhttps://tabelog.com/tokyo/A1304/A130401/13241664/\nhttps://tabelog.com/tokyo/A1304/A130401/13241664/\nhttps://tabelog.com/tokyo/A1304/A130401/13241664/\nhttps://tabelog.com/tokyo/A1323/A132305/13246512/\nhttps://tabelog.com/tokyo/A1323/A132305/13246512/\nhttps://tabelog.com/tokyo/A1323/A132305/13246512/\nhttps://tabelog.com/tokyo/A1321/A132102/13218991/\nhttps://tabelog.com/tokyo/A1321/A132102/13218991/\nhttps://tabelog.com/tokyo/A1321/A132102/13218991/\nhttps://tabelog.com/tokyo/A1312/A131201/13208237/\nhttps://tabelog.com/tokyo/A1312/A131201/13208237/\nhttps://tabelog.com/tokyo/A1312/A131201/13208237/\nhttps://tabelog.com/tokyo/A1303/A130302/13234546/\nhttps://tabelog.com/tokyo/A1303/A130302/13234546/\nhttps://tabelog.com/tokyo/A1303/A130302/13234546/\nhttps://tabelog.com/tokyo/A1318/A131813/13230833/\nhttps://tabelog.com/tokyo/A1318/A131813/13230833/\nhttps://tabelog.com/tokyo/A1318/A131813/13230833/\nhttps://tabelog.com/tokyo/A1319/A131907/13178309/\nhttps://tabelog.com/tokyo/A1319/A131907/13178309/\nhttps://tabelog.com/tokyo/A1319/A131907/13178309/\nhttps://tabelog.com/tokyo/rstLst/2/?sw\u003d%E3%82%89%E3%81%81%E9%BA%BA%20%E9%B3%B3%E4%BB%99%E8%8A%B1\u0026sk\u003d%E3%82%89%E3%81%81%E9%BA%BA%20%E9%B3%B3%E4%BB%99%E8%8A%B1\u0026svd\u003d20210605\u0026svt\u003d1900\u0026svps\u003d2\u0026srchTg\u003d2\nhttps://tabelog.com/tokyo/rstLst/2/?sw\u003d%E3%82%89%E3%81%81%E9%BA%BA%20%E9%B3%B3%E4%BB%99%E8%8A%B1\u0026sk\u003d%E3%82%89%E3%81%81%E9%BA%BA%20%E9%B3%B3%E4%BB%99%E8%8A%B1\u0026svd\u003d20210605\u0026svt\u003d1900\u0026svps\u003d2\u0026srchTg\u003d2\nhttps://tabelog.com/matome/\nhttps://magazine.tabelog.com/\nhttps://tabelog.com/rvwrs/rvwr_ranking\nhttp://user-help.tabelog.com/\nhttps://tabelog.com/help/beginner/\nhttps://tabelog.com/help/policy/\nhttps://tabelog.com/help/faq_service/\nhttps://owner.tabelog.com/owner_info/top?lid\u003downerinfo_rstother_footer\nhttp://user-help.tabelog.com/advertisement\nhttps://tabelog.com/support/inquiry?type\u003d17\nhttp://user-help.tabelog.com/review_guide\nhttps://tabelog.com/rst/premium_service_guide?tid\u003dps_footer\nhttps://tabelog.com/free_coupon\nhttp://user-help.tabelog.com/rules\nhttps://corporate.kakaku.com/privacy/\nhttps://kakaku.com/info/recruit/index.html\nhttps://corporate.kakaku.com/\nhttps://tabelog.com/sitemap/tokyo/\nhttps://tabelog.com/keywords/\nhttps://tabelog.com/grouplst/\nhttps://tabelog.com/en/\nhttps://tabelog.com/cn/\nhttps://tabelog.com/tw/\nhttps://tabelog.com/kr/\n"
        }
      ]
    },
    {
      "execution_count": 49,
      "cell_type": "code",
      "metadata": {},
      "source": [
        "driver.find_element_by_link_text(\u0027らぁ麺 鳳仙花\u0027).click()"
      ],
      "outputs": []
    },
    {
      "execution_count": 42,
      "cell_type": "code",
      "metadata": {},
      "source": [
        "link.click()"
      ],
      "outputs": []
    },
    {
      "execution_count": 33,
      "cell_type": "code",
      "metadata": {},
      "source": [
        "driver.find_element_by_class_name(\u0027a.list-rst__rst-name-target cpy-rst-name\u0027)\n"
      ],
      "outputs": [
        {
          "output_type": "error",
          "evalue": "Message: no such element: Unable to locate element: {\"method\":\"css selector\",\"selector\":\".a.list-rst__rst-name-target cpy-rst-name\"}\n  (Session info: chrome\u003d91.0.4472.77)\n",
          "traceback": [
            "\u001b[0;31m---------------------------------------------------------------------------\u001b[0m",
            "\u001b[0;31mNoSuchElementException\u001b[0m                    Traceback (most recent call last)",
            "\u001b[0;32m\u003cipython-input-33-e06877d10513\u003e\u001b[0m in \u001b[0;36m\u003cmodule\u003e\u001b[0;34m\u001b[0m\n\u001b[0;32m----\u003e 1\u001b[0;31m \u001b[0mdriver\u001b[0m\u001b[0;34m.\u001b[0m\u001b[0mfind_element_by_class_name\u001b[0m\u001b[0;34m(\u001b[0m\u001b[0;34m\u0027a.list-rst__rst-name-target cpy-rst-name\u0027\u001b[0m\u001b[0;34m)\u001b[0m\u001b[0;34m\u001b[0m\u001b[0;34m\u001b[0m\u001b[0m\n\u001b[0m",
            "\u001b[0;32m~/dataiku/Design/DATA_DIR/code-envs/python/japan-nlp/lib/python3.6/site-packages/selenium/webdriver/remote/webdriver.py\u001b[0m in \u001b[0;36mfind_element_by_class_name\u001b[0;34m(self, name)\u001b[0m\n\u001b[1;32m    562\u001b[0m             \u001b[0melement\u001b[0m \u001b[0;34m\u003d\u001b[0m \u001b[0mdriver\u001b[0m\u001b[0;34m.\u001b[0m\u001b[0mfind_element_by_class_name\u001b[0m\u001b[0;34m(\u001b[0m\u001b[0;34m\u0027foo\u0027\u001b[0m\u001b[0;34m)\u001b[0m\u001b[0;34m\u001b[0m\u001b[0;34m\u001b[0m\u001b[0m\n\u001b[1;32m    563\u001b[0m         \"\"\"\n\u001b[0;32m--\u003e 564\u001b[0;31m         \u001b[0;32mreturn\u001b[0m \u001b[0mself\u001b[0m\u001b[0;34m.\u001b[0m\u001b[0mfind_element\u001b[0m\u001b[0;34m(\u001b[0m\u001b[0mby\u001b[0m\u001b[0;34m\u003d\u001b[0m\u001b[0mBy\u001b[0m\u001b[0;34m.\u001b[0m\u001b[0mCLASS_NAME\u001b[0m\u001b[0;34m,\u001b[0m \u001b[0mvalue\u001b[0m\u001b[0;34m\u003d\u001b[0m\u001b[0mname\u001b[0m\u001b[0;34m)\u001b[0m\u001b[0;34m\u001b[0m\u001b[0;34m\u001b[0m\u001b[0m\n\u001b[0m\u001b[1;32m    565\u001b[0m \u001b[0;34m\u001b[0m\u001b[0m\n\u001b[1;32m    566\u001b[0m     \u001b[0;32mdef\u001b[0m \u001b[0mfind_elements_by_class_name\u001b[0m\u001b[0;34m(\u001b[0m\u001b[0mself\u001b[0m\u001b[0;34m,\u001b[0m \u001b[0mname\u001b[0m\u001b[0;34m)\u001b[0m\u001b[0;34m:\u001b[0m\u001b[0;34m\u001b[0m\u001b[0;34m\u001b[0m\u001b[0m\n",
            "\u001b[0;32m~/dataiku/Design/DATA_DIR/code-envs/python/japan-nlp/lib/python3.6/site-packages/selenium/webdriver/remote/webdriver.py\u001b[0m in \u001b[0;36mfind_element\u001b[0;34m(self, by, value)\u001b[0m\n\u001b[1;32m    976\u001b[0m         return self.execute(Command.FIND_ELEMENT, {\n\u001b[1;32m    977\u001b[0m             \u001b[0;34m\u0027using\u0027\u001b[0m\u001b[0;34m:\u001b[0m \u001b[0mby\u001b[0m\u001b[0;34m,\u001b[0m\u001b[0;34m\u001b[0m\u001b[0;34m\u001b[0m\u001b[0m\n\u001b[0;32m--\u003e 978\u001b[0;31m             \u0027value\u0027: value})[\u0027value\u0027]\n\u001b[0m\u001b[1;32m    979\u001b[0m \u001b[0;34m\u001b[0m\u001b[0m\n\u001b[1;32m    980\u001b[0m     \u001b[0;32mdef\u001b[0m \u001b[0mfind_elements\u001b[0m\u001b[0;34m(\u001b[0m\u001b[0mself\u001b[0m\u001b[0;34m,\u001b[0m \u001b[0mby\u001b[0m\u001b[0;34m\u003d\u001b[0m\u001b[0mBy\u001b[0m\u001b[0;34m.\u001b[0m\u001b[0mID\u001b[0m\u001b[0;34m,\u001b[0m \u001b[0mvalue\u001b[0m\u001b[0;34m\u003d\u001b[0m\u001b[0;32mNone\u001b[0m\u001b[0;34m)\u001b[0m\u001b[0;34m:\u001b[0m\u001b[0;34m\u001b[0m\u001b[0;34m\u001b[0m\u001b[0m\n",
            "\u001b[0;32m~/dataiku/Design/DATA_DIR/code-envs/python/japan-nlp/lib/python3.6/site-packages/selenium/webdriver/remote/webdriver.py\u001b[0m in \u001b[0;36mexecute\u001b[0;34m(self, driver_command, params)\u001b[0m\n\u001b[1;32m    319\u001b[0m         \u001b[0mresponse\u001b[0m \u001b[0;34m\u003d\u001b[0m \u001b[0mself\u001b[0m\u001b[0;34m.\u001b[0m\u001b[0mcommand_executor\u001b[0m\u001b[0;34m.\u001b[0m\u001b[0mexecute\u001b[0m\u001b[0;34m(\u001b[0m\u001b[0mdriver_command\u001b[0m\u001b[0;34m,\u001b[0m \u001b[0mparams\u001b[0m\u001b[0;34m)\u001b[0m\u001b[0;34m\u001b[0m\u001b[0;34m\u001b[0m\u001b[0m\n\u001b[1;32m    320\u001b[0m         \u001b[0;32mif\u001b[0m \u001b[0mresponse\u001b[0m\u001b[0;34m:\u001b[0m\u001b[0;34m\u001b[0m\u001b[0;34m\u001b[0m\u001b[0m\n\u001b[0;32m--\u003e 321\u001b[0;31m             \u001b[0mself\u001b[0m\u001b[0;34m.\u001b[0m\u001b[0merror_handler\u001b[0m\u001b[0;34m.\u001b[0m\u001b[0mcheck_response\u001b[0m\u001b[0;34m(\u001b[0m\u001b[0mresponse\u001b[0m\u001b[0;34m)\u001b[0m\u001b[0;34m\u001b[0m\u001b[0;34m\u001b[0m\u001b[0m\n\u001b[0m\u001b[1;32m    322\u001b[0m             response[\u0027value\u0027] \u003d self._unwrap_value(\n\u001b[1;32m    323\u001b[0m                 response.get(\u0027value\u0027, None))\n",
            "\u001b[0;32m~/dataiku/Design/DATA_DIR/code-envs/python/japan-nlp/lib/python3.6/site-packages/selenium/webdriver/remote/errorhandler.py\u001b[0m in \u001b[0;36mcheck_response\u001b[0;34m(self, response)\u001b[0m\n\u001b[1;32m    240\u001b[0m                 \u001b[0malert_text\u001b[0m \u001b[0;34m\u003d\u001b[0m \u001b[0mvalue\u001b[0m\u001b[0;34m[\u001b[0m\u001b[0;34m\u0027alert\u0027\u001b[0m\u001b[0;34m]\u001b[0m\u001b[0;34m.\u001b[0m\u001b[0mget\u001b[0m\u001b[0;34m(\u001b[0m\u001b[0;34m\u0027text\u0027\u001b[0m\u001b[0;34m)\u001b[0m\u001b[0;34m\u001b[0m\u001b[0;34m\u001b[0m\u001b[0m\n\u001b[1;32m    241\u001b[0m             \u001b[0;32mraise\u001b[0m \u001b[0mexception_class\u001b[0m\u001b[0;34m(\u001b[0m\u001b[0mmessage\u001b[0m\u001b[0;34m,\u001b[0m \u001b[0mscreen\u001b[0m\u001b[0;34m,\u001b[0m \u001b[0mstacktrace\u001b[0m\u001b[0;34m,\u001b[0m \u001b[0malert_text\u001b[0m\u001b[0;34m)\u001b[0m\u001b[0;34m\u001b[0m\u001b[0;34m\u001b[0m\u001b[0m\n\u001b[0;32m--\u003e 242\u001b[0;31m         \u001b[0;32mraise\u001b[0m \u001b[0mexception_class\u001b[0m\u001b[0;34m(\u001b[0m\u001b[0mmessage\u001b[0m\u001b[0;34m,\u001b[0m \u001b[0mscreen\u001b[0m\u001b[0;34m,\u001b[0m \u001b[0mstacktrace\u001b[0m\u001b[0;34m)\u001b[0m\u001b[0;34m\u001b[0m\u001b[0;34m\u001b[0m\u001b[0m\n\u001b[0m\u001b[1;32m    243\u001b[0m \u001b[0;34m\u001b[0m\u001b[0m\n\u001b[1;32m    244\u001b[0m     \u001b[0;32mdef\u001b[0m \u001b[0m_value_or_default\u001b[0m\u001b[0;34m(\u001b[0m\u001b[0mself\u001b[0m\u001b[0;34m,\u001b[0m \u001b[0mobj\u001b[0m\u001b[0;34m,\u001b[0m \u001b[0mkey\u001b[0m\u001b[0;34m,\u001b[0m \u001b[0mdefault\u001b[0m\u001b[0;34m)\u001b[0m\u001b[0;34m:\u001b[0m\u001b[0;34m\u001b[0m\u001b[0;34m\u001b[0m\u001b[0m\n",
            "\u001b[0;31mNoSuchElementException\u001b[0m: Message: no such element: Unable to locate element: {\"method\":\"css selector\",\"selector\":\".a.list-rst__rst-name-target cpy-rst-name\"}\n  (Session info: chrome\u003d91.0.4472.77)\n"
          ],
          "ename": "NoSuchElementException"
        }
      ]
    },
    {
      "execution_count": 30,
      "cell_type": "code",
      "metadata": {},
      "source": [
        "driver.current_url"
      ],
      "outputs": [
        {
          "output_type": "execute_result",
          "metadata": {},
          "data": {
            "text/plain": "\u0027https://tabelog.com/tokyo/rstLst/?vs\u003d1\u0026sa\u003d%E6%9D%B1%E4%BA%AC\u0026sk\u003d%25E3%2582%2589%25E3%2581%2581%25E9%25BA%25BA%2520%25E9%25B3%25B3%25E4%25BB%2599%25E8%258A%25B1\u0026lid\u003dtop_navi1\u0026vac_net\u003d\u0026svd\u003d20210605\u0026svt\u003d1900\u0026svps\u003d2\u0026hfc\u003d1\u0026sw\u003d%25E3%2582%2589%25E3%2581%2581%25E9%25BA%25BA%2520%25E9%25B3%25B3%25E4%25BB%2599%25E8%258A%25B1\u0027"
          },
          "execution_count": 30
        }
      ]
    },
    {
      "execution_count": 0,
      "cell_type": "code",
      "metadata": {},
      "source": [
        "# Example: load a DSS dataset as a Pandas dataframe\nmydataset \u003d dataiku.Dataset(\"mydataset\")\ndf \u003d mydataset.get_dataframe()"
      ],
      "outputs": []
    },
    {
      "execution_count": 0,
      "cell_type": "code",
      "metadata": {},
      "source": [
        ""
      ],
      "outputs": []
    }
  ]
}