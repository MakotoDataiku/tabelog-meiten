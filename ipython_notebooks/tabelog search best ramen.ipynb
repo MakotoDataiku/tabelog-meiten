{
  "metadata": {
    "kernelspec": {
      "display_name": "Python (env japan-nlp)",
      "name": "py-dku-venv-japan-nlp",
      "language": "python"
    },
    "language_info": {
      "mimetype": "text/x-python",
      "nbconvert_exporter": "python",
      "version": "3.6.8",
      "name": "python",
      "pygments_lexer": "ipython3",
      "file_extension": ".py",
      "codemirror_mode": {
        "version": 3,
        "name": "ipython"
      }
    },
    "creator": "admin",
    "createdOn": 1622821296658,
    "hide_input": false,
    "customFields": {},
    "tags": [],
    "modifiedBy": "admin"
  },
  "nbformat": 4,
  "nbformat_minor": 1,
  "cells": [
    {
      "execution_count": 23,
      "cell_type": "code",
      "metadata": {},
      "source": [
        "import dataiku\nfrom dataiku import pandasutils as pdu\nimport pandas as pd\nfrom selenium import webdriver"
      ],
      "outputs": []
    },
    {
      "execution_count": 24,
      "cell_type": "code",
      "metadata": {},
      "source": [
        "PATH \u003d \"/Users/mmiyazaki/chromedriver\"\ndriver \u003d webdriver.Chrome(PATH)\ndriver.implicitly_wait(10) # this lets webdriver wait 10 seconds for the website to load\ndriver.get(\"https://tabelog.com/\")"
      ],
      "outputs": []
    },
    {
      "execution_count": 25,
      "cell_type": "code",
      "metadata": {},
      "source": [
        "inputRestaurant \u003d driver.find_element_by_id(\"sk\")\ninputRestaurant.send_keys(\u0027らぁ麺 鳳仙花\u0027)"
      ],
      "outputs": []
    },
    {
      "execution_count": 26,
      "cell_type": "code",
      "metadata": {},
      "source": [
        "inputArea \u003d driver.find_element_by_id(\"sa\")\ninputArea.send_keys(\u0027東京\u0027)"
      ],
      "outputs": []
    },
    {
      "execution_count": 27,
      "cell_type": "code",
      "metadata": {},
      "source": [
        "driver.find_element_by_id(\u0027js-global-search-btn\u0027).click()"
      ],
      "outputs": []
    },
    {
      "execution_count": 29,
      "cell_type": "code",
      "metadata": {},
      "source": [
        "driver.find_element_by_class_name(\u0027list-rst__rst-name\u0027)"
      ],
      "outputs": [
        {
          "output_type": "execute_result",
          "metadata": {},
          "data": {
            "text/plain": "\u003cselenium.webdriver.remote.webelement.WebElement (session\u003d\"89012d7d36d2ad48250852d64f6b424a\", element\u003d\"5865d984-7712-4b57-ac9c-3c9feea16234\")\u003e"
          },
          "execution_count": 29
        }
      ]
    },
    {
      "execution_count": 0,
      "cell_type": "code",
      "metadata": {},
      "source": [
        "driver.find_element_by_class_name(\u0027list-rst__rst-name\u0027)\nlist-rst__rst-name-target cpy-rst-name"
      ],
      "outputs": []
    },
    {
      "execution_count": 30,
      "cell_type": "code",
      "metadata": {},
      "source": [
        "driver.current_url"
      ],
      "outputs": [
        {
          "output_type": "execute_result",
          "metadata": {},
          "data": {
            "text/plain": "\u0027https://tabelog.com/tokyo/rstLst/?vs\u003d1\u0026sa\u003d%E6%9D%B1%E4%BA%AC\u0026sk\u003d%25E3%2582%2589%25E3%2581%2581%25E9%25BA%25BA%2520%25E9%25B3%25B3%25E4%25BB%2599%25E8%258A%25B1\u0026lid\u003dtop_navi1\u0026vac_net\u003d\u0026svd\u003d20210605\u0026svt\u003d1900\u0026svps\u003d2\u0026hfc\u003d1\u0026sw\u003d%25E3%2582%2589%25E3%2581%2581%25E9%25BA%25BA%2520%25E9%25B3%25B3%25E4%25BB%2599%25E8%258A%25B1\u0027"
          },
          "execution_count": 30
        }
      ]
    },
    {
      "execution_count": 0,
      "cell_type": "code",
      "metadata": {},
      "source": [
        "# Example: load a DSS dataset as a Pandas dataframe\nmydataset \u003d dataiku.Dataset(\"mydataset\")\ndf \u003d mydataset.get_dataframe()"
      ],
      "outputs": []
    },
    {
      "execution_count": 0,
      "cell_type": "code",
      "metadata": {},
      "source": [
        ""
      ],
      "outputs": []
    }
  ]
}