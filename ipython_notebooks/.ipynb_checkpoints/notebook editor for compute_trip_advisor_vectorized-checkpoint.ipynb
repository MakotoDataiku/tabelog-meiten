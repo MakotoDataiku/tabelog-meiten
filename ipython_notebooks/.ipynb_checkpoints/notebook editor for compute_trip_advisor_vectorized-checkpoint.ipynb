{
  "nbformat": 4,
  "nbformat_minor": 0,
  "metadata": {
    "kernelspec": {
      "display_name": "Python (env japan-nlp)",
      "language": "python",
      "name": "py-dku-venv-japan-nlp"
    },
    "associatedRecipe": "compute_trip_advisor_vectorized",
    "creator": "admin",
    "createdOn": 1622806297805,
    "tags": [
      "recipe-editor"
    ],
    "customFields": {}
  },
  "cells": [
    {
      "cell_type": "code",
      "metadata": {},
      "outputs": [],
      "execution_count": 0,
      "source": [
        "# -*- coding: utf-8 -*-\n",
        "import dataiku\n",
        "import pandas as pd, numpy as np\n",
        "from dataiku import pandasutils as pdu\n",
        "\n",
        "# Read recipe inputs\n",
        "clean_trip_advisor \u003d dataiku.Dataset(\"clean_trip_advisor\")\n",
        "clean_trip_advisor_df \u003d clean_trip_advisor.get_dataframe()\n",
        "word2vec \u003d dataiku.Folder(\"m9JZdV7b\")\n",
        "word2vec_info \u003d word2vec.get_info()\n",
        "\n",
        "\n",
        "# Compute recipe outputs from inputs\n",
        "# TODO: Replace this part by your actual code that computes the output, as a Pandas dataframe\n",
        "# NB: DSS also supports other kinds of APIs for reading and writing data. Please see doc.\n",
        "\n",
        "trip_advisor_vectorized_df \u003d clean_trip_advisor_df # For this sample code, simply copy input to output\n",
        "\n",
        "\n",
        "# Write recipe outputs\n",
        "trip_advisor_vectorized \u003d dataiku.Dataset(\"trip_advisor_vectorized\")\n",
        "trip_advisor_vectorized.write_with_schema(trip_advisor_vectorized_df)"
      ]
    }
  ]
}