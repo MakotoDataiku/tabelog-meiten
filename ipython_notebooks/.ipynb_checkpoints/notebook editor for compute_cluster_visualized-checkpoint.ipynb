{
  "metadata": {
    "kernelspec": {
      "display_name": "Python (env japan-nlp)",
      "name": "py-dku-venv-japan-nlp",
      "language": "python"
    },
    "language_info": {
      "mimetype": "text/x-python",
      "nbconvert_exporter": "python",
      "version": "3.6.8",
      "name": "python",
      "pygments_lexer": "ipython3",
      "file_extension": ".py",
      "codemirror_mode": {
        "version": 3,
        "name": "ipython"
      }
    },
    "tags": [
      "recipe-editor"
    ],
    "associatedRecipe": "compute_cluster_visualized",
    "createdOn": 1622808370326,
    "hide_input": false,
    "modifiedBy": "admin",
    "customFields": {},
    "creator": "admin"
  },
  "nbformat": 4,
  "nbformat_minor": 1,
  "cells": [
    {
      "execution_count": 10,
      "cell_type": "code",
      "metadata": {},
      "source": [
        "# -*- coding: utf-8 -*-\nimport dataiku\nimport pandas as pd, numpy as np\nfrom dataiku import pandasutils as pdu\nimport matplotlib.pyplot as plt"
      ],
      "outputs": []
    },
    {
      "execution_count": 11,
      "cell_type": "code",
      "metadata": {},
      "source": [
        "# Read recipe inputs\nramen_vocab_clustered \u003d dataiku.Dataset(\"ramen_vocab_clustered\")\ndf \u003d ramen_vocab_clustered.get_dataframe()"
      ],
      "outputs": []
    },
    {
      "execution_count": 12,
      "cell_type": "code",
      "metadata": {},
      "source": [
        "df.head()"
      ],
      "outputs": [
        {
          "output_type": "execute_result",
          "metadata": {},
          "data": {
            "text/plain": "     words cluster_labels\n0   mormor      cluster_0\n1  twitter      cluster_0\n2       情報      cluster_0\n3   リニューアル      cluster_0\n4     ラーメン      cluster_2",
            "text/html": "\n            \u003cbutton style\u003d\"display:none\" \n            class\u003d\"btn btn-default ipython-export-btn\" \n            id\u003d\"btn-df-f86ab941-17df-41f9-9a3c-d33cedbdac7f\" \n            onclick\u003d\"_export_df(\u0027f86ab941-17df-41f9-9a3c-d33cedbdac7f\u0027)\"\u003e\n                Export dataframe\n            \u003c/button\u003e\n            \n            \u003cscript\u003e\n                \n                function _check_export_df_possible(dfid,yes_fn,no_fn) {\n                    console.log(\u0027Checking dataframe exportability...\u0027)\n                    if(!IPython || !IPython.notebook || !IPython.notebook.kernel || !IPython.notebook.kernel) {\n                        console.log(\u0027Export is not possible (IPython kernel is not available)\u0027)\n                        if(no_fn) {\n                            no_fn();\n                        }\n                    } else {\n                        var pythonCode \u003d \u0027from dataiku.notebook.export import IPythonExporter;IPythonExporter._check_export_stdout(\"\u0027+dfid+\u0027\")\u0027;\n                        IPython.notebook.kernel.execute(pythonCode,{iopub: {output: function(resp) {\n                            console.info(\"Exportability response\", resp);\n                            var size \u003d /^([0-9]+)x([0-9]+)$/.exec(resp.content.data || resp.content.text)\n                            if(!size) {\n                                console.log(\u0027Export is not possible (dataframe is not in-memory anymore)\u0027)\n                                if(no_fn) {\n                                    no_fn();\n                                }\n                            } else {\n                                console.log(\u0027Export is possible\u0027)\n                                if(yes_fn) {\n                                    yes_fn(1*size[1],1*size[2]);\n                                }\n                            }\n                        }}});\n                    }\n                }\n            \n                function _export_df(dfid) {\n                    \n                    var btn \u003d $(\u0027#btn-df-\u0027+dfid);\n                    var btns \u003d $(\u0027.ipython-export-btn\u0027);\n                    \n                    _check_export_df_possible(dfid,function() {\n                        \n                        window.parent.openExportModalFromIPython(\u0027Pandas dataframe\u0027,function(data) {\n                            btns.prop(\u0027disabled\u0027,true);\n                            btn.text(\u0027Exporting...\u0027);\n                            var command \u003d \u0027from dataiku.notebook.export import IPythonExporter;IPythonExporter._run_export(\"\u0027+dfid+\u0027\",\"\u0027+data.exportId+\u0027\")\u0027;\n                            var callback \u003d {iopub:{output: function(resp) {\n                                console.info(\"CB resp:\", resp);\n                                _check_export_df_possible(dfid,function(rows, cols) {\n                                    $(\u0027#btn-df-\u0027+dfid)\n                                        .css(\u0027display\u0027,\u0027inline-block\u0027)\n                                        .text(\u0027Export this dataframe (\u0027+rows+\u0027 rows, \u0027+cols+\u0027 cols)\u0027)\n                                        .prop(\u0027disabled\u0027,false);\n                                },function() {\n                                    $(\u0027#btn-df-\u0027+dfid).css(\u0027display\u0027,\u0027none\u0027);\n                                });\n                            }}};\n                            IPython.notebook.kernel.execute(command,callback,{silent:false}); // yes, silent now defaults to true. figures.\n                        });\n                    \n                    }, function(){\n                            alert(\u0027Unable to export : the Dataframe object is not loaded in memory\u0027);\n                            btn.css(\u0027display\u0027,\u0027none\u0027);\n                    });\n                    \n                }\n                \n                (function(dfid) {\n                \n                    var retryCount \u003d 10;\n                \n                    function is_valid_websock(s) {\n                        return s \u0026\u0026 s.readyState\u003d\u003d1;\n                    }\n                \n                    function check_conn() {\n                        \n                        if(!IPython || !IPython.notebook) {\n                            // Don\u0027t even try to go further\n                            return;\n                        }\n                        \n                        // Check if IPython is ready\n                        console.info(\"Checking conn ...\")\n                        if(IPython.notebook.kernel\n                        \u0026\u0026 IPython.notebook.kernel\n                        \u0026\u0026 is_valid_websock(IPython.notebook.kernel.ws)\n                        ) {\n                            \n                            _check_export_df_possible(dfid,function(rows, cols) {\n                                $(\u0027#btn-df-\u0027+dfid).css(\u0027display\u0027,\u0027inline-block\u0027);\n                                $(\u0027#btn-df-\u0027+dfid).text(\u0027Export this dataframe (\u0027+rows+\u0027 rows, \u0027+cols+\u0027 cols)\u0027);\n                            });\n                            \n                        } else {\n                            console.info(\"Conditions are not ok\", IPython.notebook.kernel);\n                            \n                            // Retry later\n                            \n                            if(retryCount\u003e0) {\n                                setTimeout(check_conn,500);\n                                retryCount--;\n                            }\n                            \n                        }\n                    };\n                    \n                    setTimeout(check_conn,100);\n                    \n                })(\"f86ab941-17df-41f9-9a3c-d33cedbdac7f\");\n                \n            \u003c/script\u003e\n            \n        \u003cdiv\u003e\n\u003cstyle scoped\u003e\n    .dataframe tbody tr th:only-of-type {\n        vertical-align: middle;\n    }\n\n    .dataframe tbody tr th {\n        vertical-align: top;\n    }\n\n    .dataframe thead th {\n        text-align: right;\n    }\n\u003c/style\u003e\n\u003ctable border\u003d\"1\" class\u003d\"dataframe\"\u003e\n  \u003cthead\u003e\n    \u003ctr style\u003d\"text-align: right;\"\u003e\n      \u003cth\u003e\u003c/th\u003e\n      \u003cth\u003ewords\u003c/th\u003e\n      \u003cth\u003ecluster_labels\u003c/th\u003e\n    \u003c/tr\u003e\n  \u003c/thead\u003e\n  \u003ctbody\u003e\n    \u003ctr\u003e\n      \u003cth\u003e0\u003c/th\u003e\n      \u003ctd\u003emormor\u003c/td\u003e\n      \u003ctd\u003ecluster_0\u003c/td\u003e\n    \u003c/tr\u003e\n    \u003ctr\u003e\n      \u003cth\u003e1\u003c/th\u003e\n      \u003ctd\u003etwitter\u003c/td\u003e\n      \u003ctd\u003ecluster_0\u003c/td\u003e\n    \u003c/tr\u003e\n    \u003ctr\u003e\n      \u003cth\u003e2\u003c/th\u003e\n      \u003ctd\u003e情報\u003c/td\u003e\n      \u003ctd\u003ecluster_0\u003c/td\u003e\n    \u003c/tr\u003e\n    \u003ctr\u003e\n      \u003cth\u003e3\u003c/th\u003e\n      \u003ctd\u003eリニューアル\u003c/td\u003e\n      \u003ctd\u003ecluster_0\u003c/td\u003e\n    \u003c/tr\u003e\n    \u003ctr\u003e\n      \u003cth\u003e4\u003c/th\u003e\n      \u003ctd\u003eラーメン\u003c/td\u003e\n      \u003ctd\u003ecluster_2\u003c/td\u003e\n    \u003c/tr\u003e\n  \u003c/tbody\u003e\n\u003c/table\u003e\n\u003c/div\u003e"
          },
          "execution_count": 12
        }
      ]
    },
    {
      "execution_count": 13,
      "cell_type": "code",
      "metadata": {},
      "source": [
        "for cluster in df[\u0027cluster_labels\u0027].unique():\n    print(cluster)\n    print(df[df[\u0027cluster_labels\u0027]\u003d\u003dcluster].words.values[:100])"
      ],
      "outputs": [
        {
          "output_type": "stream",
          "name": "stdout",
          "text": "cluster_0\n[\u0027mormor\u0027 \u0027twitter\u0027 \u0027情報\u0027 \u0027リニューアル\u0027 \u0027japanesesobanoodles\u0027 \u0027くろ\u0027 \u0027監修\u0027 \u0027拉麺\u0027\n \u0027リスペクト\u0027 \u0027こちら\u0027 \u0027町田\u0027 \u0027以前\u0027 \u0027最近\u0027 \u0027移転\u0027 \u0027進化\u0027 \u0027人気\u0027 \u0027レビュー\u0027 \u0027クラクラ\u0027 \u0027激しい\u0027 \u0027業界\u0027 \u0027継続\u0027\n \u0027間違い\u0027 \u0027レシピ\u0027 \u0027ラーメン店\u0027 \u0027当初\u0027 \u0027ビューアー\u0027 \u0027レポート\u0027 \u0027がそ\u0027 \u0027評価\u0027 \u0027基準\u0027 \u0027追求\u0027 \u0027店名\u0027 \u0027no\u0027\n \u0027パイン\u0027 \u0027姉妹\u0027 \u0027差別化\u0027 \u0027味覚\u0027 \u0027パパパパパイン\u0027 \u0027系列\u0027 \u0027思考\u0027 \u0027有名\u0027 \u0027パイナップル\u0027 \u0027話題\u0027 \u0027異色\u0027 \u0027正当\u0027\n \u0027本気\u0027 \u0027オープン\u0027 \u0027本格\u0027 \u0027ローテーション\u0027 \u0027大好き\u0027 \u0027感想\u0027 \u0027唯一\u0027 \u0027片鱗\u0027 \u0027専門\u0027 \u0027本場\u0027 \u0027橋本\u0027 \u0027学生時代\u0027\n \u0027開発\u0027 \u0027現在\u0027 \u0027発展\u0027 \u0027スタート\u0027 \u0027新た\u0027 \u0027磨き\u0027 \u0027店舗\u0027 \u0027特化\u0027 \u0027製麺\u0027 \u0027店長\u0027 \u0027評判\u0027 \u0027新しい\u0027 \u0027チャレンジ\u0027\n \u0027本物\u0027 \u0027成功\u0027 \u0027はじめ\u0027 \u0027存在\u0027 \u0027認識\u0027 \u0027basso\u0027 \u0027なべ\u0027 \u0027軍配\u0027 \u0027西池袋\u0027 \u0027ドリルマン\u0027 \u0027しな\u0027 \u0027独立\u0027\n \u0027リニューアルオープン\u0027 \u0027aburasso\u0027 \u0027名前\u0027 \u0027ドリル\u0027 \u0027マン\u0027 \u0027中華蕎麦\u0027 \u0027ネーミング\u0027 \u0027東池袋大勝軒\u0027 \u0027記念\u0027 \u0027出身\u0027\n \u0027再現\u0027 \u0027ブラッシュアップ\u0027 \u0027大勝軒\u0027 \u0027原点\u0027 \u0027本店\u0027 \u0027ども\u0027 \u0027記憶\u0027 \u0027いつ\u0027]\ncluster_2\n[\u0027ラーメン\u0027 \u0027限定\u0027 \u0027提供\u0027 \u0027丹念\u0027 \u0027醤油ラーメン\u0027 \u0027おかげ\u0027 \u0027今回\u0027 \u0027入口\u0027 \u0027券売機\u0027 \u0027食券\u0027 \u0027購入\u0027 \u0027一番\u0027 \u0027右上\u0027\n \u0027店員\u0027 \u0027さん\u0027 \u0027好感\u0027 \u0027嬉しい\u0027 \u0027たま\u0027 \u0027ありがたい\u0027 \u0027詳細\u0027 \u0027こと\u0027 \u0027仕事\u0027 \u0027限り\u0027 \u0027滅多\u0027 \u0027食事\u0027 \u0027どこ\u0027 \u0027わけ\u0027\n \u0027ない\u0027 \u0027時間\u0027 \u0027半分\u0027 \u0027着席\u0027 \u0027お客さん\u0027 \u0027経過\u0027 \u0027無い\u0027 \u0027はず\u0027 \u0027塩そ\u0027 \u0027回収\u0027 \u0027選択\u0027 \u0027そば\u0027 \u0027思しき\u0027 \u0027先述\u0027\n \u0027通り\u0027 \u0027以上\u0027 \u0027なかっ\u0027 \u0027久しぶり\u0027 \u0027開店\u0027 \u0027塩ラーメン\u0027 \u0027以外\u0027 \u0027一択\u0027 \u0027皆さん\u0027 \u0027場合\u0027 \u0027結論\u0027 \u0027ところ\u0027 \u0027期待\u0027\n \u0027思いのほか\u0027 \u0027問題\u0027 \u0027丁寧\u0027 \u0027真摯\u0027 \u0027カウンター\u0027 \u0027店内\u0027 \u0027満席\u0027 \u0027タイミング\u0027 \u0027タイル\u0027 \u0027スタイリッシュ\u0027 \u0027足らず\u0027\n \u0027文字\u0027 \u0027ノー\u0027 \u0027匂い\u0027 \u0027特製\u0027 \u0027言葉\u0027 \u0027気分\u0027 \u0027まま\u0027 \u0027先客\u0027 \u0027注文\u0027 \u0027無く\u0027 \u0027店頭\u0027 \u0027写真\u0027 \u0027程度\u0027 \u0027ないと\u0027\n \u0027ドンブリ\u0027 \u0027このは\u0027 \u0027ここ\u0027 \u0027安い\u0027 \u0027登場\u0027 \u0027二郎系\u0027 \u0027自分\u0027 \u0027せいか\u0027 \u0027立て\u0027 \u0027無けれ\u0027 \u0027bar\u0027 \u0027雰囲気\u0027\n \u0027システム\u0027 \u0027レトロ\u0027 \u0027お洒落\u0027 \u0027清潔感\u0027 \u0027ビックリ\u0027 \u0027視線\u0027 \u0027サービス\u0027 \u0027tt\u0027 \u0027一つ\u0027]\ncluster_3\n[\u0027イメージ\u0027 \u0027種類\u0027 \u0027野菜\u0027 \u0027スープ\u0027 \u0027出汁\u0027 \u0027トマト\u0027 \u0027うま味\u0027 \u0027ドライトマト\u0027 \u0027アクセント\u0027 \u0027唯一無二\u0027 \u0027洋風\u0027 \u0027もの\u0027\n \u0027旨味\u0027 \u0027一杯\u0027 \u0027使用\u0027 \u0027黄金\u0027 \u0027ロースト\u0027 \u0027プラス\u0027 \u0027そう\u0027 \u0027中太\u0027 \u0027確か\u0027 \u0027見た目\u0027 \u0027っぽい\u0027 \u0027した\u0027 \u0027派手\u0027\n \u0027旨い\u0027 \u0027タイプ\u0027 \u0027個人的\u0027 \u0027途中\u0027 \u0027よう\u0027 \u0027最後\u0027 \u0027これだけ\u0027 \u0027辛味\u0027 \u0027縮れ麺\u0027 \u0027何れ\u0027 \u0027好み\u0027 \u0027スパイシー\u0027 \u0027タレ\u0027\n \u0027温麺\u0027 \u0027透明\u0027 \u0027鶏肉\u0027 \u0027ベース\u0027 \u0027昆布\u0027 \u0027椎茸\u0027 \u0027乾物\u0027 \u0027複雑\u0027 \u0027変貌\u0027 \u0027どこか\u0027 \u0027エスニック\u0027 \u0027感覚\u0027 \u0027切れ\u0027\n \u0027辛み\u0027 \u0027悪く\u0027 \u0027独特\u0027 \u0027香ばしく\u0027 \u0027変化\u0027 \u0027面白い\u0027 \u0027食感\u0027 \u0027不思議\u0027 \u0027加水\u0027 \u0027想像\u0027 \u0027低め\u0027 \u0027違和感\u0027 \u0027良く\u0027\n \u0027チャーシュー\u0027 \u0027豚ロース\u0027 \u0027出来栄え\u0027 \u0027素晴らしい\u0027 \u0027柔らかく\u0027 \u0027よく\u0027 \u0027美味しい\u0027 \u0027レベル\u0027 \u0027高い\u0027 \u0027ゆえ\u0027 \u0027落ち着き\u0027\n \u0027安定\u0027 \u0027奥行き\u0027 \u0027堪能\u0027 \u0027シンプル\u0027 \u0027良い\u0027 \u0027ホンビノス貝\u0027 \u0027煮干し\u0027 \u0027鶏ガラ\u0027 \u0027ホタテ\u0027 \u0027香味油\u0027 \u0027勝負\u0027 \u0027多層\u0027\n \u0027絶品\u0027 \u0027正直\u0027 \u0027好き\u0027 \u0027風味\u0027 \u0027強い\u0027 \u0027ハマグリ\u0027 \u0027主張\u0027 \u0027弱い\u0027 \u0027調和\u0027 \u0027柔らかい\u0027 \u0027申し分\u0027 \u0027美味し\u0027 \u0027乾燥\u0027]\ncluster_1\n[\u0027左手\u0027 \u0027再訪\u0027 \u0027買い物\u0027 \u0027昼飯\u0027 \u0027機会\u0027 \u0027町田駅\u0027 \u0027仲見世通り\u0027 \u0027昼休み\u0027 \u0027近く\u0027 \u0027ラーメン屋\u0027 \u0027lunch\u0027\n \u0027仲見世商店街\u0027 \u0027訪問\u0027 \u0027金曜\u0027 \u0027時分\u0027 \u0027営業時間\u0027 \u0027飲み会\u0027 \u0027閉店\u0027 \u0027看板\u0027 \u0027久し振り\u0027 \u0027ごちそうさま\u0027 \u0027裏手\u0027 \u0027駐車場\u0027\n \u0027近辺\u0027 \u0027jr\u0027 \u0027ほど近い\u0027 \u0027帰路\u0027 \u0027徒歩\u0027 \u0027外観\u0027 \u0027邪魔\u0027 \u0027リピ\u0027 \u0027伺い\u0027 \u0027過ぎ\u0027 \u0027食べログ\u0027 \u0027検索\u0027 \u0027商店街\u0027\n \u0027用事\u0027 \u0027帰り\u0027 \u0027途中下車\u0027 \u0027昼ご飯\u0027 \u0027裏通り\u0027 \u0027路地\u0027 \u0027界隈\u0027 \u0027何処\u0027 \u0027インドカレー\u0027 \u0027横浜線\u0027 \u0027利用\u0027 \u0027周辺\u0027\n \u0027小田急\u0027 \u0027小田急線\u0027 \u0027街並み\u0027 \u0027地域\u0027 \u0027住宅\u0027 \u0027海老名\u0027 \u0027期間\u0027 \u0027新宿\u0027 \u0027古着\u0027 \u0027アーケード\u0027 \u0027場所\u0027 \u0027町田市\u0027 \u0027お昼\u0027\n \u0027解禁\u0027 \u0027行こう\u0027 \u0027最寄り駅\u0027 \u0027tp\u0027 \u0027東京都町田市\u0027 \u0027分前\u0027 \u0027東京メトロ\u0027 \u0027有楽町線\u0027 \u0027江戸川橋駅\u0027 \u0027出口\u0027 \u0027交差点\u0027\n \u0027暖簾\u0027 \u0027行列\u0027 \u0027blog\u0027 \u0027instagram\u0027 \u0027江戸川橋\u0027 \u0027池袋\u0027 \u0027早稲田通り\u0027 \u0027沿い\u0027 \u0027小春\u0027 \u0027信濃\u0027 \u0027偶然\u0027\n \u0027ランチ\u0027 \u0027空振り\u0027 \u0027週末\u0027 \u0027神楽坂\u0027 \u0027中間\u0027 \u0027食べに\u0027 \u0027会社\u0027 \u0027距離\u0027 \u0027移動\u0027 \u0027うどん屋\u0027 \u0027帰り道\u0027 \u0027わさん\u0027 \u0027有楽町\u0027\n \u0027東西線\u0027 \u0027神楽坂駅\u0027 \u0027リモートワーク\u0027 \u0027快晴\u0027]\ncluster_outliers\n[\u0027水中\u0027 \u0027成都\u0027 \u0027正宗\u0027 \u0027長芋\u0027]\n"
        }
      ]
    },
    {
      "execution_count": 15,
      "cell_type": "code",
      "metadata": {},
      "source": [
        "labels \u003d {\n    \"cluster_0\":\"レビュー\",\n    \"cluster_1\":\"立地・外観\",\n    \"cluster_2\":\"営業形態\",\n    \"cluster_3\":\"味・具材\",\n    #\"cluster_4\":\"交通手段\",\n    #\"cluster_5\":\"営業形態\",\n    #\"cluster_6\":\"具材\",\n    \"cluster_outliers\":\"その他\",\n}"
      ],
      "outputs": []
    },
    {
      "execution_count": 16,
      "cell_type": "code",
      "metadata": {},
      "source": [
        "client \u003d dataiku.api_client()\n\nproject \u003d client.get_project(dataiku.get_custom_variables()[\u0027projectKey\u0027])\nproject_variables \u003d project.get_variables()\nproject_variables[\u0027standard\u0027][\u0027labels\u0027] \u003d labels\nproject_variables \u003d project.set_variables(project_variables)"
      ],
      "outputs": []
    },
    {
      "execution_count": 0,
      "cell_type": "code",
      "metadata": {},
      "source": [
        "# Compute recipe outputs from inputs\n# TODO: Replace this part by your actual code that computes the output, as a Pandas dataframe\n# NB: DSS also supports other kinds of APIs for reading and writing data. Please see doc.\n\ncluster_visualized_df \u003d ramen_vocab_clustered_df # For this sample code, simply copy input to output\n\n\n# Write recipe outputs\ncluster_visualized \u003d dataiku.Dataset(\"cluster_visualized\")\ncluster_visualized.write_with_schema(cluster_visualized_df)"
      ],
      "outputs": []
    }
  ]
}