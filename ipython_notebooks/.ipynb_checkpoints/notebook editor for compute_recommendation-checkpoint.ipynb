{
  "nbformat": 4,
  "nbformat_minor": 0,
  "metadata": {
    "kernelspec": {
      "display_name": "Python (env japan-nlp)",
      "language": "python",
      "name": "py-dku-venv-japan-nlp"
    },
    "associatedRecipe": "compute_recommendation",
    "creator": "admin",
    "createdOn": 1622736611191,
    "tags": [
      "recipe-editor"
    ],
    "customFields": {}
  },
  "cells": [
    {
      "cell_type": "code",
      "metadata": {},
      "outputs": [],
      "execution_count": 0,
      "source": [
        "# -*- coding: utf-8 -*-\n",
        "import dataiku\n",
        "import pandas as pd, numpy as np\n",
        "from dataiku import pandasutils as pdu\n",
        "\n",
        "# Read recipe inputs\n",
        "word2vec \u003d dataiku.Folder(\"m9JZdV7b\")\n",
        "word2vec_info \u003d word2vec.get_info()\n",
        "reviews_TF_IDF \u003d dataiku.Dataset(\"reviews_TF_IDF\")\n",
        "reviews_TF_IDF_df \u003d reviews_TF_IDF.get_dataframe()\n",
        "tripAdvisor_top_TFIDF_words \u003d dataiku.Folder(\"FXMfF0DU\")\n",
        "tripAdvisor_top_TFIDF_words_info \u003d tripAdvisor_top_TFIDF_words.get_info()\n",
        "\n",
        "\n",
        "# Compute recipe outputs from inputs\n",
        "# TODO: Replace this part by your actual code that computes the output, as a Pandas dataframe\n",
        "# NB: DSS also supports other kinds of APIs for reading and writing data. Please see doc.\n",
        "\n",
        "recommendation_df \u003d reviews_TF_IDF_df # For this sample code, simply copy input to output\n",
        "\n",
        "\n",
        "# Write recipe outputs\n",
        "recommendation \u003d dataiku.Dataset(\"recommendation\")\n",
        "recommendation.write_with_schema(recommendation_df)"
      ]
    }
  ]
}