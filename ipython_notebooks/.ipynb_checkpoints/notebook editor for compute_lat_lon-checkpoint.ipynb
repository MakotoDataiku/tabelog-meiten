{
  "nbformat": 4,
  "nbformat_minor": 0,
  "metadata": {
    "kernelspec": {
      "display_name": "Python (env japan-nlp)",
      "language": "python",
      "name": "py-dku-venv-japan-nlp"
    },
    "associatedRecipe": "compute_lat_lon",
    "creator": "admin",
    "createdOn": 1623333726794,
    "tags": [
      "recipe-editor"
    ],
    "customFields": {}
  },
  "cells": [
    {
      "cell_type": "code",
      "metadata": {},
      "outputs": [],
      "execution_count": 0,
      "source": [
        "# -*- coding: utf-8 -*-\n",
        "import dataiku\n",
        "import pandas as pd, numpy as np\n",
        "from dataiku import pandasutils as pdu\n",
        "from get_lat_lon import get_lat_lon_from_address\n",
        "\n",
        "import tqdm\n",
        "import requests\n",
        "from bs4 import BeautifulSoup\n",
        "import time\n",
        "import geocoder"
      ]
    },
    {
      "cell_type": "code",
      "metadata": {},
      "outputs": [],
      "execution_count": 0,
      "source": [
        "# Read recipe inputs\n",
        "raw_ramen \u003d dataiku.Dataset(\"ramen_by_store_name\")\n",
        "df \u003d raw_ramen.get_dataframe(limit\u003d100)"
      ]
    },
    {
      "cell_type": "code",
      "metadata": {},
      "outputs": [],
      "execution_count": 0,
      "source": [
        "df.head()"
      ]
    },
    {
      "cell_type": "code",
      "metadata": {},
      "outputs": [],
      "execution_count": 0,
      "source": [
        "addresses \u003d df[\u0027address_cleaned\u0027].tolist()"
      ]
    },
    {
      "cell_type": "code",
      "metadata": {},
      "outputs": [],
      "execution_count": 0,
      "source": [
        "def geocoding_lat_lon(address):\n",
        "    try:\n",
        "        g \u003d geocoder.mapquest(address, key\u003d\u0027eOUDWog4FKpjWQmPZWRCzhiKr3GW0mEr\u0027)\n",
        "        latitude \u003d g.json[\u0027raw\u0027][\u0027latLng\u0027][\u0027lat\u0027]\n",
        "        longitude \u003d g.json[\u0027raw\u0027][\u0027latLng\u0027][\u0027lng\u0027]\n",
        "        return latitude, longitude\n",
        "    except:\n",
        "        return np.nan, np.nan"
      ]
    },
    {
      "cell_type": "code",
      "metadata": {},
      "outputs": [],
      "execution_count": 0,
      "source": [
        "df[\u0027latitude\u0027], df[\u0027longitude\u0027] \u003d zip(*df[\u0027address_cleaned\u0027].map(geocoding_lat_lon))"
      ]
    },
    {
      "cell_type": "code",
      "metadata": {},
      "outputs": [],
      "execution_count": 0,
      "source": [
        "lat_lon \u003d dataiku.Dataset(\"lat_lon\")\n",
        "lat_lon.write_with_schema(df)"
      ]
    }
  ]
}