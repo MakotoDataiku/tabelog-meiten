{
  "nbformat": 4,
  "nbformat_minor": 0,
  "metadata": {
    "kernelspec": {
      "display_name": "Python (env japan-nlp)",
      "language": "python",
      "name": "py-dku-venv-japan-nlp"
    },
    "associatedRecipe": "compute_lat_lon",
    "creator": "admin",
    "createdOn": 1622813960545,
    "tags": [
      "recipe-editor"
    ],
    "customFields": {}
  },
  "cells": [
    {
      "cell_type": "code",
      "metadata": {},
      "outputs": [],
      "execution_count": 0,
      "source": [
        "# -*- coding: utf-8 -*-\n",
        "import dataiku\n",
        "import pandas as pd, numpy as np\n",
        "from dataiku import pandasutils as pdu\n",
        "from get_lat_lon import get_lat_lon_from_address\n",
        "\n",
        "# Read recipe inputs\n",
        "raw_ramen \u003d dataiku.Dataset(\"raw_ramen\")\n",
        "df \u003d raw_ramen.get_dataframe()\n",
        "\n",
        "\n",
        "\n",
        "# Compute recipe outputs from inputs\n",
        "# TODO: Replace this part by your actual code that computes the output, as a Pandas dataframe\n",
        "# NB: DSS also supports other kinds of APIs for reading and writing data. Please see doc.\n",
        "\n",
        "lat_lon_df \u003d raw_ramen_df # For this sample code, simply copy input to output\n",
        "\n",
        "\n",
        "# Write recipe outputs\n",
        "lat_lon \u003d dataiku.Dataset(\"lat_lon\")\n",
        "lat_lon.write_with_schema(lat_lon_df)"
      ]
    }
  ]
}