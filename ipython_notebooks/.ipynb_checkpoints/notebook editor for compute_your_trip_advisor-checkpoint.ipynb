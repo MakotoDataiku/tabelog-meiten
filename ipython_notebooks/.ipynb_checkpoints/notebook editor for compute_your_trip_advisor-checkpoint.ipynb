{
  "nbformat": 4,
  "nbformat_minor": 0,
  "metadata": {
    "kernelspec": {
      "display_name": "Python (env japan-nlp)",
      "language": "python",
      "name": "py-dku-venv-japan-nlp"
    },
    "associatedRecipe": "compute_your_trip_advisor",
    "creator": "admin",
    "createdOn": 1622722394413,
    "tags": [
      "recipe-editor"
    ],
    "customFields": {}
  },
  "cells": [
    {
      "cell_type": "code",
      "metadata": {},
      "outputs": [],
      "execution_count": 0,
      "source": [
        "# -*- coding: utf-8 -*-\n",
        "import dataiku\n",
        "import pandas as pd, numpy as np\n",
        "from dataiku import pandasutils as pdu\n",
        "\n",
        "\n",
        "\n",
        "# Compute recipe outputs\n",
        "# TODO: Write here your actual code that computes the outputs\n",
        "# NB: DSS supports several kinds of APIs for reading and writing data. Please see doc.\n",
        "\n",
        "your_trip_advisor_df \u003d ... # Compute a Pandas dataframe to write into your_trip_advisor\n",
        "\n",
        "\n",
        "# Write recipe outputs\n",
        "your_trip_advisor \u003d dataiku.Dataset(\"your_trip_advisor\")\n",
        "your_trip_advisor.write_with_schema(your_trip_advisor_df)"
      ]
    }
  ]
}