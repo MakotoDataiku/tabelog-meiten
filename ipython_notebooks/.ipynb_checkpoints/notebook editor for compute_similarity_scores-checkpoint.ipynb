{
  "nbformat": 4,
  "nbformat_minor": 0,
  "metadata": {
    "kernelspec": {
      "display_name": "Python (env japan-nlp)",
      "language": "python",
      "name": "py-dku-venv-japan-nlp"
    },
    "associatedRecipe": "compute_similarity_scores",
    "creator": "admin",
    "createdOn": 1622567195205,
    "tags": [
      "recipe-editor"
    ],
    "customFields": {}
  },
  "cells": [
    {
      "cell_type": "code",
      "metadata": {},
      "outputs": [],
      "execution_count": 0,
      "source": [
        "# -*- coding: utf-8 -*-\n",
        "import dataiku\n",
        "import pandas as pd, numpy as np\n",
        "from dataiku import pandasutils as pdu\n",
        "\n",
        "# Read recipe inputs\n",
        "reviews_TF_IDF \u003d dataiku.Dataset(\"reviews_TF_IDF\")\n",
        "reviews_TF_IDF_df \u003d reviews_TF_IDF.get_dataframe()\n",
        "\n",
        "\n",
        "# Compute recipe outputs from inputs\n",
        "# TODO: Replace this part by your actual code that computes the output, as a Pandas dataframe\n",
        "# NB: DSS also supports other kinds of APIs for reading and writing data. Please see doc.\n",
        "\n",
        "similarity_scores_df \u003d reviews_TF_IDF_df # For this sample code, simply copy input to output\n",
        "\n",
        "\n",
        "# Write recipe outputs\n",
        "similarity_scores \u003d dataiku.Dataset(\"similarity_scores\")\n",
        "similarity_scores.write_with_schema(similarity_scores_df)"
      ]
    }
  ]
}