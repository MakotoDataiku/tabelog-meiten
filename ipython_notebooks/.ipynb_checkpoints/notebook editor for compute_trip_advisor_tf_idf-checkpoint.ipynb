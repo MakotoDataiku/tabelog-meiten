{
  "nbformat": 4,
  "nbformat_minor": 0,
  "metadata": {
    "kernelspec": {
      "display_name": "Python (env japan-nlp)",
      "language": "python",
      "name": "py-dku-venv-japan-nlp"
    },
    "associatedRecipe": "compute_trip_advisor_tf_idf",
    "creator": "admin",
    "createdOn": 1622730181087,
    "tags": [
      "recipe-editor"
    ],
    "customFields": {}
  },
  "cells": [
    {
      "cell_type": "code",
      "metadata": {},
      "outputs": [],
      "execution_count": 0,
      "source": [
        "# -*- coding: utf-8 -*-\n",
        "import dataiku\n",
        "import pandas as pd, numpy as np\n",
        "from dataiku import pandasutils as pdu\n",
        "\n",
        "# Read recipe inputs\n",
        "ramen_dictionary \u003d dataiku.Folder(\"POe5uF4H\")\n",
        "ramen_dictionary_info \u003d ramen_dictionary.get_info()\n",
        "your_trip_advisor \u003d dataiku.Dataset(\"your_trip_advisor\")\n",
        "your_trip_advisor_df \u003d your_trip_advisor.get_dataframe()\n",
        "\n",
        "\n",
        "# Compute recipe outputs from inputs\n",
        "# TODO: Replace this part by your actual code that computes the output, as a Pandas dataframe\n",
        "# NB: DSS also supports other kinds of APIs for reading and writing data. Please see doc.\n",
        "\n",
        "trip_advisor_tf_idf_df \u003d your_trip_advisor_df # For this sample code, simply copy input to output\n",
        "\n",
        "\n",
        "# Write recipe outputs\n",
        "trip_advisor_tf_idf \u003d dataiku.Dataset(\"trip_advisor_tf_idf\")\n",
        "trip_advisor_tf_idf.write_with_schema(trip_advisor_tf_idf_df)"
      ]
    }
  ]
}